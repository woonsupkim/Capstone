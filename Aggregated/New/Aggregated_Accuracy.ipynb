{
  "cells": [
    {
      "cell_type": "markdown",
      "id": "aab17c31",
      "metadata": {
        "id": "aab17c31"
      },
      "source": [
        "# Sentiment Analysis on aggregated data"
      ]
    },
    {
      "cell_type": "code",
      "execution_count": 1,
      "id": "38692d98",
      "metadata": {
        "id": "38692d98"
      },
      "outputs": [],
      "source": [
        "import pandas as pd\n",
        "import numpy as np\n",
        "import seaborn as sns\n",
        "import matplotlib.pyplot as plt\n",
        "\n",
        "import warnings\n",
        "warnings.simplefilter(action='ignore', category=FutureWarning)\n",
        "\n",
        "from IPython.core.interactiveshell import InteractiveShell\n",
        "InteractiveShell.ast_node_interactivity = 'all'\n",
        "\n",
        "pd.set_option('display.max_columns', None) "
      ]
    },
    {
      "cell_type": "code",
      "execution_count": 2,
      "id": "df2bbbdc",
      "metadata": {
        "id": "df2bbbdc"
      },
      "outputs": [],
      "source": [
        "df = pd.read_csv('aggregated.csv', index_col = [0])"
      ]
    },
    {
      "cell_type": "code",
      "execution_count": 37,
      "id": "ba2a78c7",
      "metadata": {
        "id": "ba2a78c7",
        "outputId": "fa94764e-2dac-4f88-c590-92b37fbceaa4"
      },
      "outputs": [
        {
          "name": "stderr",
          "output_type": "stream",
          "text": [
            "Downloading config.json: 100%|██████████| 747/747 [00:00<00:00, 822kB/s]\n",
            "Downloading pytorch_model.bin:  18%|█▊        | 86.4M/476M [02:22<10:40, 638kB/s]"
          ]
        },
        {
          "ename": "KeyboardInterrupt",
          "evalue": "",
          "output_type": "error",
          "traceback": [
            "\u001b[1;31m---------------------------------------------------------------------------\u001b[0m",
            "\u001b[1;31mKeyboardInterrupt\u001b[0m                         Traceback (most recent call last)",
            "\u001b[1;32mc:\\Users\\Woon\\Desktop\\Columbia\\Applied Analytics\\Term3\\Capstone\\Aggregated\\New\\Aggregated_Accuracy.ipynb Cell 4\u001b[0m in \u001b[0;36m<module>\u001b[1;34m\u001b[0m\n\u001b[0;32m      <a href='vscode-notebook-cell:/c%3A/Users/Woon/Desktop/Columbia/Applied%20Analytics/Term3/Capstone/Aggregated/New/Aggregated_Accuracy.ipynb#W3sZmlsZQ%3D%3D?line=0'>1</a>\u001b[0m \u001b[39mfrom\u001b[39;00m \u001b[39mtransformers\u001b[39;00m \u001b[39mimport\u001b[39;00m pipeline\n\u001b[1;32m----> <a href='vscode-notebook-cell:/c%3A/Users/Woon/Desktop/Columbia/Applied%20Analytics/Term3/Capstone/Aggregated/New/Aggregated_Accuracy.ipynb#W3sZmlsZQ%3D%3D?line=1'>2</a>\u001b[0m sentiment_pipeline \u001b[39m=\u001b[39m pipeline(\u001b[39m\"\u001b[39;49m\u001b[39msentiment-analysis\u001b[39;49m\u001b[39m\"\u001b[39;49m, model\u001b[39m=\u001b[39;49m\u001b[39m\"\u001b[39;49m\u001b[39mcardiffnlp/twitter-roberta-base-sentiment\u001b[39;49m\u001b[39m\"\u001b[39;49m)\n",
            "File \u001b[1;32mc:\\Users\\Woon\\AppData\\Local\\Programs\\Python\\Python310\\lib\\site-packages\\transformers\\pipelines\\__init__.py:650\u001b[0m, in \u001b[0;36mpipeline\u001b[1;34m(task, model, config, tokenizer, feature_extractor, framework, revision, use_fast, use_auth_token, device_map, torch_dtype, trust_remote_code, model_kwargs, pipeline_class, **kwargs)\u001b[0m\n\u001b[0;32m    646\u001b[0m \u001b[39m# Infer the framework from the model\u001b[39;00m\n\u001b[0;32m    647\u001b[0m \u001b[39m# Forced if framework already defined, inferred if it's None\u001b[39;00m\n\u001b[0;32m    648\u001b[0m \u001b[39m# Will load the correct model if possible\u001b[39;00m\n\u001b[0;32m    649\u001b[0m model_classes \u001b[39m=\u001b[39m {\u001b[39m\"\u001b[39m\u001b[39mtf\u001b[39m\u001b[39m\"\u001b[39m: targeted_task[\u001b[39m\"\u001b[39m\u001b[39mtf\u001b[39m\u001b[39m\"\u001b[39m], \u001b[39m\"\u001b[39m\u001b[39mpt\u001b[39m\u001b[39m\"\u001b[39m: targeted_task[\u001b[39m\"\u001b[39m\u001b[39mpt\u001b[39m\u001b[39m\"\u001b[39m]}\n\u001b[1;32m--> 650\u001b[0m framework, model \u001b[39m=\u001b[39m infer_framework_load_model(\n\u001b[0;32m    651\u001b[0m     model,\n\u001b[0;32m    652\u001b[0m     model_classes\u001b[39m=\u001b[39mmodel_classes,\n\u001b[0;32m    653\u001b[0m     config\u001b[39m=\u001b[39mconfig,\n\u001b[0;32m    654\u001b[0m     framework\u001b[39m=\u001b[39mframework,\n\u001b[0;32m    655\u001b[0m     task\u001b[39m=\u001b[39mtask,\n\u001b[0;32m    656\u001b[0m     \u001b[39m*\u001b[39m\u001b[39m*\u001b[39mhub_kwargs,\n\u001b[0;32m    657\u001b[0m     \u001b[39m*\u001b[39m\u001b[39m*\u001b[39mmodel_kwargs,\n\u001b[0;32m    658\u001b[0m )\n\u001b[0;32m    660\u001b[0m model_config \u001b[39m=\u001b[39m model\u001b[39m.\u001b[39mconfig\n\u001b[0;32m    662\u001b[0m load_tokenizer \u001b[39m=\u001b[39m \u001b[39mtype\u001b[39m(model_config) \u001b[39min\u001b[39;00m TOKENIZER_MAPPING \u001b[39mor\u001b[39;00m model_config\u001b[39m.\u001b[39mtokenizer_class \u001b[39mis\u001b[39;00m \u001b[39mnot\u001b[39;00m \u001b[39mNone\u001b[39;00m\n",
            "File \u001b[1;32mc:\\Users\\Woon\\AppData\\Local\\Programs\\Python\\Python310\\lib\\site-packages\\transformers\\pipelines\\base.py:257\u001b[0m, in \u001b[0;36minfer_framework_load_model\u001b[1;34m(model, config, model_classes, task, framework, **model_kwargs)\u001b[0m\n\u001b[0;32m    251\u001b[0m     logger\u001b[39m.\u001b[39mwarning(\n\u001b[0;32m    252\u001b[0m         \u001b[39m\"\u001b[39m\u001b[39mModel might be a PyTorch model (ending with `.bin`) but PyTorch is not available. \u001b[39m\u001b[39m\"\u001b[39m\n\u001b[0;32m    253\u001b[0m         \u001b[39m\"\u001b[39m\u001b[39mTrying to load the model with Tensorflow.\u001b[39m\u001b[39m\"\u001b[39m\n\u001b[0;32m    254\u001b[0m     )\n\u001b[0;32m    256\u001b[0m \u001b[39mtry\u001b[39;00m:\n\u001b[1;32m--> 257\u001b[0m     model \u001b[39m=\u001b[39m model_class\u001b[39m.\u001b[39mfrom_pretrained(model, \u001b[39m*\u001b[39m\u001b[39m*\u001b[39mkwargs)\n\u001b[0;32m    258\u001b[0m     \u001b[39mif\u001b[39;00m \u001b[39mhasattr\u001b[39m(model, \u001b[39m\"\u001b[39m\u001b[39meval\u001b[39m\u001b[39m\"\u001b[39m):\n\u001b[0;32m    259\u001b[0m         model \u001b[39m=\u001b[39m model\u001b[39m.\u001b[39meval()\n",
            "File \u001b[1;32mc:\\Users\\Woon\\AppData\\Local\\Programs\\Python\\Python310\\lib\\site-packages\\transformers\\models\\auto\\auto_factory.py:446\u001b[0m, in \u001b[0;36m_BaseAutoModelClass.from_pretrained\u001b[1;34m(cls, pretrained_model_name_or_path, *model_args, **kwargs)\u001b[0m\n\u001b[0;32m    444\u001b[0m \u001b[39melif\u001b[39;00m \u001b[39mtype\u001b[39m(config) \u001b[39min\u001b[39;00m \u001b[39mcls\u001b[39m\u001b[39m.\u001b[39m_model_mapping\u001b[39m.\u001b[39mkeys():\n\u001b[0;32m    445\u001b[0m     model_class \u001b[39m=\u001b[39m _get_model_class(config, \u001b[39mcls\u001b[39m\u001b[39m.\u001b[39m_model_mapping)\n\u001b[1;32m--> 446\u001b[0m     \u001b[39mreturn\u001b[39;00m model_class\u001b[39m.\u001b[39mfrom_pretrained(pretrained_model_name_or_path, \u001b[39m*\u001b[39mmodel_args, config\u001b[39m=\u001b[39mconfig, \u001b[39m*\u001b[39m\u001b[39m*\u001b[39mkwargs)\n\u001b[0;32m    447\u001b[0m \u001b[39mraise\u001b[39;00m \u001b[39mValueError\u001b[39;00m(\n\u001b[0;32m    448\u001b[0m     \u001b[39mf\u001b[39m\u001b[39m\"\u001b[39m\u001b[39mUnrecognized configuration class \u001b[39m\u001b[39m{\u001b[39;00mconfig\u001b[39m.\u001b[39m\u001b[39m__class__\u001b[39m\u001b[39m}\u001b[39;00m\u001b[39m for this kind of AutoModel: \u001b[39m\u001b[39m{\u001b[39;00m\u001b[39mcls\u001b[39m\u001b[39m.\u001b[39m\u001b[39m__name__\u001b[39m\u001b[39m}\u001b[39;00m\u001b[39m.\u001b[39m\u001b[39m\\n\u001b[39;00m\u001b[39m\"\u001b[39m\n\u001b[0;32m    449\u001b[0m     \u001b[39mf\u001b[39m\u001b[39m\"\u001b[39m\u001b[39mModel type should be one of \u001b[39m\u001b[39m{\u001b[39;00m\u001b[39m'\u001b[39m\u001b[39m, \u001b[39m\u001b[39m'\u001b[39m\u001b[39m.\u001b[39mjoin(c\u001b[39m.\u001b[39m\u001b[39m__name__\u001b[39m \u001b[39mfor\u001b[39;00m c \u001b[39min\u001b[39;00m \u001b[39mcls\u001b[39m\u001b[39m.\u001b[39m_model_mapping\u001b[39m.\u001b[39mkeys())\u001b[39m}\u001b[39;00m\u001b[39m.\u001b[39m\u001b[39m\"\u001b[39m\n\u001b[0;32m    450\u001b[0m )\n",
            "File \u001b[1;32mc:\\Users\\Woon\\AppData\\Local\\Programs\\Python\\Python310\\lib\\site-packages\\transformers\\modeling_utils.py:1940\u001b[0m, in \u001b[0;36mPreTrainedModel.from_pretrained\u001b[1;34m(cls, pretrained_model_name_or_path, *model_args, **kwargs)\u001b[0m\n\u001b[0;32m   1930\u001b[0m     archive_file \u001b[39m=\u001b[39m hf_bucket_url(\n\u001b[0;32m   1931\u001b[0m         pretrained_model_name_or_path,\n\u001b[0;32m   1932\u001b[0m         filename\u001b[39m=\u001b[39mfilename,\n\u001b[1;32m   (...)\u001b[0m\n\u001b[0;32m   1935\u001b[0m         subfolder\u001b[39m=\u001b[39msubfolder \u001b[39mif\u001b[39;00m \u001b[39mlen\u001b[39m(subfolder) \u001b[39m>\u001b[39m \u001b[39m0\u001b[39m \u001b[39melse\u001b[39;00m \u001b[39mNone\u001b[39;00m,\n\u001b[0;32m   1936\u001b[0m     )\n\u001b[0;32m   1938\u001b[0m \u001b[39mtry\u001b[39;00m:\n\u001b[0;32m   1939\u001b[0m     \u001b[39m# Load from URL or cache if already cached\u001b[39;00m\n\u001b[1;32m-> 1940\u001b[0m     resolved_archive_file \u001b[39m=\u001b[39m cached_path(\n\u001b[0;32m   1941\u001b[0m         archive_file,\n\u001b[0;32m   1942\u001b[0m         cache_dir\u001b[39m=\u001b[39;49mcache_dir,\n\u001b[0;32m   1943\u001b[0m         force_download\u001b[39m=\u001b[39;49mforce_download,\n\u001b[0;32m   1944\u001b[0m         proxies\u001b[39m=\u001b[39;49mproxies,\n\u001b[0;32m   1945\u001b[0m         resume_download\u001b[39m=\u001b[39;49mresume_download,\n\u001b[0;32m   1946\u001b[0m         local_files_only\u001b[39m=\u001b[39;49mlocal_files_only,\n\u001b[0;32m   1947\u001b[0m         use_auth_token\u001b[39m=\u001b[39;49muse_auth_token,\n\u001b[0;32m   1948\u001b[0m         user_agent\u001b[39m=\u001b[39;49muser_agent,\n\u001b[0;32m   1949\u001b[0m     )\n\u001b[0;32m   1951\u001b[0m \u001b[39mexcept\u001b[39;00m RepositoryNotFoundError:\n\u001b[0;32m   1952\u001b[0m     \u001b[39mraise\u001b[39;00m \u001b[39mEnvironmentError\u001b[39;00m(\n\u001b[0;32m   1953\u001b[0m         \u001b[39mf\u001b[39m\u001b[39m\"\u001b[39m\u001b[39m{\u001b[39;00mpretrained_model_name_or_path\u001b[39m}\u001b[39;00m\u001b[39m is not a local folder and is not a valid model identifier \u001b[39m\u001b[39m\"\u001b[39m\n\u001b[0;32m   1954\u001b[0m         \u001b[39m\"\u001b[39m\u001b[39mlisted on \u001b[39m\u001b[39m'\u001b[39m\u001b[39mhttps://huggingface.co/models\u001b[39m\u001b[39m'\u001b[39m\u001b[39m\\n\u001b[39;00m\u001b[39mIf this is a private repository, make sure to pass a \u001b[39m\u001b[39m\"\u001b[39m\n\u001b[0;32m   1955\u001b[0m         \u001b[39m\"\u001b[39m\u001b[39mtoken having permission to this repo with `use_auth_token` or log in with `huggingface-cli \u001b[39m\u001b[39m\"\u001b[39m\n\u001b[0;32m   1956\u001b[0m         \u001b[39m\"\u001b[39m\u001b[39mlogin` and pass `use_auth_token=True`.\u001b[39m\u001b[39m\"\u001b[39m\n\u001b[0;32m   1957\u001b[0m     )\n",
            "File \u001b[1;32mc:\\Users\\Woon\\AppData\\Local\\Programs\\Python\\Python310\\lib\\site-packages\\transformers\\utils\\hub.py:284\u001b[0m, in \u001b[0;36mcached_path\u001b[1;34m(url_or_filename, cache_dir, force_download, proxies, resume_download, user_agent, extract_compressed_file, force_extract, use_auth_token, local_files_only)\u001b[0m\n\u001b[0;32m    280\u001b[0m     local_files_only \u001b[39m=\u001b[39m \u001b[39mTrue\u001b[39;00m\n\u001b[0;32m    282\u001b[0m \u001b[39mif\u001b[39;00m is_remote_url(url_or_filename):\n\u001b[0;32m    283\u001b[0m     \u001b[39m# URL, so get it from the cache (downloading if necessary)\u001b[39;00m\n\u001b[1;32m--> 284\u001b[0m     output_path \u001b[39m=\u001b[39m get_from_cache(\n\u001b[0;32m    285\u001b[0m         url_or_filename,\n\u001b[0;32m    286\u001b[0m         cache_dir\u001b[39m=\u001b[39;49mcache_dir,\n\u001b[0;32m    287\u001b[0m         force_download\u001b[39m=\u001b[39;49mforce_download,\n\u001b[0;32m    288\u001b[0m         proxies\u001b[39m=\u001b[39;49mproxies,\n\u001b[0;32m    289\u001b[0m         resume_download\u001b[39m=\u001b[39;49mresume_download,\n\u001b[0;32m    290\u001b[0m         user_agent\u001b[39m=\u001b[39;49muser_agent,\n\u001b[0;32m    291\u001b[0m         use_auth_token\u001b[39m=\u001b[39;49muse_auth_token,\n\u001b[0;32m    292\u001b[0m         local_files_only\u001b[39m=\u001b[39;49mlocal_files_only,\n\u001b[0;32m    293\u001b[0m     )\n\u001b[0;32m    294\u001b[0m \u001b[39melif\u001b[39;00m os\u001b[39m.\u001b[39mpath\u001b[39m.\u001b[39mexists(url_or_filename):\n\u001b[0;32m    295\u001b[0m     \u001b[39m# File, and it exists.\u001b[39;00m\n\u001b[0;32m    296\u001b[0m     output_path \u001b[39m=\u001b[39m url_or_filename\n",
            "File \u001b[1;32mc:\\Users\\Woon\\AppData\\Local\\Programs\\Python\\Python310\\lib\\site-packages\\transformers\\utils\\hub.py:604\u001b[0m, in \u001b[0;36mget_from_cache\u001b[1;34m(url, cache_dir, force_download, proxies, etag_timeout, resume_download, user_agent, use_auth_token, local_files_only)\u001b[0m\n\u001b[0;32m    602\u001b[0m     \u001b[39m# The url_to_download might be messy, so we extract the file name from the original url.\u001b[39;00m\n\u001b[0;32m    603\u001b[0m     file_name \u001b[39m=\u001b[39m url\u001b[39m.\u001b[39msplit(\u001b[39m\"\u001b[39m\u001b[39m/\u001b[39m\u001b[39m\"\u001b[39m)[\u001b[39m-\u001b[39m\u001b[39m1\u001b[39m]\n\u001b[1;32m--> 604\u001b[0m     http_get(\n\u001b[0;32m    605\u001b[0m         url_to_download,\n\u001b[0;32m    606\u001b[0m         temp_file,\n\u001b[0;32m    607\u001b[0m         proxies\u001b[39m=\u001b[39;49mproxies,\n\u001b[0;32m    608\u001b[0m         resume_size\u001b[39m=\u001b[39;49mresume_size,\n\u001b[0;32m    609\u001b[0m         headers\u001b[39m=\u001b[39;49mheaders,\n\u001b[0;32m    610\u001b[0m         file_name\u001b[39m=\u001b[39;49mfile_name,\n\u001b[0;32m    611\u001b[0m     )\n\u001b[0;32m    613\u001b[0m logger\u001b[39m.\u001b[39minfo(\u001b[39mf\u001b[39m\u001b[39m\"\u001b[39m\u001b[39mstoring \u001b[39m\u001b[39m{\u001b[39;00murl\u001b[39m}\u001b[39;00m\u001b[39m in cache at \u001b[39m\u001b[39m{\u001b[39;00mcache_path\u001b[39m}\u001b[39;00m\u001b[39m\"\u001b[39m)\n\u001b[0;32m    614\u001b[0m os\u001b[39m.\u001b[39mreplace(temp_file\u001b[39m.\u001b[39mname, cache_path)\n",
            "File \u001b[1;32mc:\\Users\\Woon\\AppData\\Local\\Programs\\Python\\Python310\\lib\\site-packages\\transformers\\utils\\hub.py:453\u001b[0m, in \u001b[0;36mhttp_get\u001b[1;34m(url, temp_file, proxies, resume_size, headers, file_name)\u001b[0m\n\u001b[0;32m    443\u001b[0m \u001b[39m# `tqdm` behavior is determined by `utils.logging.is_progress_bar_enabled()`\u001b[39;00m\n\u001b[0;32m    444\u001b[0m \u001b[39m# and can be set using `utils.logging.enable/disable_progress_bar()`\u001b[39;00m\n\u001b[0;32m    445\u001b[0m progress \u001b[39m=\u001b[39m tqdm(\n\u001b[0;32m    446\u001b[0m     unit\u001b[39m=\u001b[39m\u001b[39m\"\u001b[39m\u001b[39mB\u001b[39m\u001b[39m\"\u001b[39m,\n\u001b[0;32m    447\u001b[0m     unit_scale\u001b[39m=\u001b[39m\u001b[39mTrue\u001b[39;00m,\n\u001b[1;32m   (...)\u001b[0m\n\u001b[0;32m    451\u001b[0m     desc\u001b[39m=\u001b[39m\u001b[39mf\u001b[39m\u001b[39m\"\u001b[39m\u001b[39mDownloading \u001b[39m\u001b[39m{\u001b[39;00mfile_name\u001b[39m}\u001b[39;00m\u001b[39m\"\u001b[39m \u001b[39mif\u001b[39;00m file_name \u001b[39mis\u001b[39;00m \u001b[39mnot\u001b[39;00m \u001b[39mNone\u001b[39;00m \u001b[39melse\u001b[39;00m \u001b[39m\"\u001b[39m\u001b[39mDownloading\u001b[39m\u001b[39m\"\u001b[39m,\n\u001b[0;32m    452\u001b[0m )\n\u001b[1;32m--> 453\u001b[0m \u001b[39mfor\u001b[39;00m chunk \u001b[39min\u001b[39;00m r\u001b[39m.\u001b[39miter_content(chunk_size\u001b[39m=\u001b[39m\u001b[39m1024\u001b[39m):\n\u001b[0;32m    454\u001b[0m     \u001b[39mif\u001b[39;00m chunk:  \u001b[39m# filter out keep-alive new chunks\u001b[39;00m\n\u001b[0;32m    455\u001b[0m         progress\u001b[39m.\u001b[39mupdate(\u001b[39mlen\u001b[39m(chunk))\n",
            "File \u001b[1;32mc:\\Users\\Woon\\AppData\\Local\\Programs\\Python\\Python310\\lib\\site-packages\\requests\\models.py:760\u001b[0m, in \u001b[0;36mResponse.iter_content.<locals>.generate\u001b[1;34m()\u001b[0m\n\u001b[0;32m    758\u001b[0m \u001b[39mif\u001b[39;00m \u001b[39mhasattr\u001b[39m(\u001b[39mself\u001b[39m\u001b[39m.\u001b[39mraw, \u001b[39m'\u001b[39m\u001b[39mstream\u001b[39m\u001b[39m'\u001b[39m):\n\u001b[0;32m    759\u001b[0m     \u001b[39mtry\u001b[39;00m:\n\u001b[1;32m--> 760\u001b[0m         \u001b[39mfor\u001b[39;00m chunk \u001b[39min\u001b[39;00m \u001b[39mself\u001b[39m\u001b[39m.\u001b[39mraw\u001b[39m.\u001b[39mstream(chunk_size, decode_content\u001b[39m=\u001b[39m\u001b[39mTrue\u001b[39;00m):\n\u001b[0;32m    761\u001b[0m             \u001b[39myield\u001b[39;00m chunk\n\u001b[0;32m    762\u001b[0m     \u001b[39mexcept\u001b[39;00m ProtocolError \u001b[39mas\u001b[39;00m e:\n",
            "File \u001b[1;32mc:\\Users\\Woon\\AppData\\Local\\Programs\\Python\\Python310\\lib\\site-packages\\urllib3\\response.py:576\u001b[0m, in \u001b[0;36mHTTPResponse.stream\u001b[1;34m(self, amt, decode_content)\u001b[0m\n\u001b[0;32m    574\u001b[0m \u001b[39melse\u001b[39;00m:\n\u001b[0;32m    575\u001b[0m     \u001b[39mwhile\u001b[39;00m \u001b[39mnot\u001b[39;00m is_fp_closed(\u001b[39mself\u001b[39m\u001b[39m.\u001b[39m_fp):\n\u001b[1;32m--> 576\u001b[0m         data \u001b[39m=\u001b[39m \u001b[39mself\u001b[39;49m\u001b[39m.\u001b[39;49mread(amt\u001b[39m=\u001b[39;49mamt, decode_content\u001b[39m=\u001b[39;49mdecode_content)\n\u001b[0;32m    578\u001b[0m         \u001b[39mif\u001b[39;00m data:\n\u001b[0;32m    579\u001b[0m             \u001b[39myield\u001b[39;00m data\n",
            "File \u001b[1;32mc:\\Users\\Woon\\AppData\\Local\\Programs\\Python\\Python310\\lib\\site-packages\\urllib3\\response.py:519\u001b[0m, in \u001b[0;36mHTTPResponse.read\u001b[1;34m(self, amt, decode_content, cache_content)\u001b[0m\n\u001b[0;32m    517\u001b[0m \u001b[39melse\u001b[39;00m:\n\u001b[0;32m    518\u001b[0m     cache_content \u001b[39m=\u001b[39m \u001b[39mFalse\u001b[39;00m\n\u001b[1;32m--> 519\u001b[0m     data \u001b[39m=\u001b[39m \u001b[39mself\u001b[39;49m\u001b[39m.\u001b[39;49m_fp\u001b[39m.\u001b[39;49mread(amt) \u001b[39mif\u001b[39;00m \u001b[39mnot\u001b[39;00m fp_closed \u001b[39melse\u001b[39;00m \u001b[39mb\u001b[39m\u001b[39m\"\u001b[39m\u001b[39m\"\u001b[39m\n\u001b[0;32m    520\u001b[0m     \u001b[39mif\u001b[39;00m (\n\u001b[0;32m    521\u001b[0m         amt \u001b[39m!=\u001b[39m \u001b[39m0\u001b[39m \u001b[39mand\u001b[39;00m \u001b[39mnot\u001b[39;00m data\n\u001b[0;32m    522\u001b[0m     ):  \u001b[39m# Platform-specific: Buggy versions of Python.\u001b[39;00m\n\u001b[1;32m   (...)\u001b[0m\n\u001b[0;32m    528\u001b[0m         \u001b[39m# not properly close the connection in all cases. There is\u001b[39;00m\n\u001b[0;32m    529\u001b[0m         \u001b[39m# no harm in redundantly calling close.\u001b[39;00m\n\u001b[0;32m    530\u001b[0m         \u001b[39mself\u001b[39m\u001b[39m.\u001b[39m_fp\u001b[39m.\u001b[39mclose()\n",
            "File \u001b[1;32mc:\\Users\\Woon\\AppData\\Local\\Programs\\Python\\Python310\\lib\\http\\client.py:465\u001b[0m, in \u001b[0;36mHTTPResponse.read\u001b[1;34m(self, amt)\u001b[0m\n\u001b[0;32m    462\u001b[0m \u001b[39mif\u001b[39;00m \u001b[39mself\u001b[39m\u001b[39m.\u001b[39mlength \u001b[39mis\u001b[39;00m \u001b[39mnot\u001b[39;00m \u001b[39mNone\u001b[39;00m \u001b[39mand\u001b[39;00m amt \u001b[39m>\u001b[39m \u001b[39mself\u001b[39m\u001b[39m.\u001b[39mlength:\n\u001b[0;32m    463\u001b[0m     \u001b[39m# clip the read to the \"end of response\"\u001b[39;00m\n\u001b[0;32m    464\u001b[0m     amt \u001b[39m=\u001b[39m \u001b[39mself\u001b[39m\u001b[39m.\u001b[39mlength\n\u001b[1;32m--> 465\u001b[0m s \u001b[39m=\u001b[39m \u001b[39mself\u001b[39;49m\u001b[39m.\u001b[39;49mfp\u001b[39m.\u001b[39;49mread(amt)\n\u001b[0;32m    466\u001b[0m \u001b[39mif\u001b[39;00m \u001b[39mnot\u001b[39;00m s \u001b[39mand\u001b[39;00m amt:\n\u001b[0;32m    467\u001b[0m     \u001b[39m# Ideally, we would raise IncompleteRead if the content-length\u001b[39;00m\n\u001b[0;32m    468\u001b[0m     \u001b[39m# wasn't satisfied, but it might break compatibility.\u001b[39;00m\n\u001b[0;32m    469\u001b[0m     \u001b[39mself\u001b[39m\u001b[39m.\u001b[39m_close_conn()\n",
            "File \u001b[1;32mc:\\Users\\Woon\\AppData\\Local\\Programs\\Python\\Python310\\lib\\socket.py:705\u001b[0m, in \u001b[0;36mSocketIO.readinto\u001b[1;34m(self, b)\u001b[0m\n\u001b[0;32m    703\u001b[0m \u001b[39mwhile\u001b[39;00m \u001b[39mTrue\u001b[39;00m:\n\u001b[0;32m    704\u001b[0m     \u001b[39mtry\u001b[39;00m:\n\u001b[1;32m--> 705\u001b[0m         \u001b[39mreturn\u001b[39;00m \u001b[39mself\u001b[39;49m\u001b[39m.\u001b[39;49m_sock\u001b[39m.\u001b[39;49mrecv_into(b)\n\u001b[0;32m    706\u001b[0m     \u001b[39mexcept\u001b[39;00m timeout:\n\u001b[0;32m    707\u001b[0m         \u001b[39mself\u001b[39m\u001b[39m.\u001b[39m_timeout_occurred \u001b[39m=\u001b[39m \u001b[39mTrue\u001b[39;00m\n",
            "File \u001b[1;32mc:\\Users\\Woon\\AppData\\Local\\Programs\\Python\\Python310\\lib\\ssl.py:1273\u001b[0m, in \u001b[0;36mSSLSocket.recv_into\u001b[1;34m(self, buffer, nbytes, flags)\u001b[0m\n\u001b[0;32m   1269\u001b[0m     \u001b[39mif\u001b[39;00m flags \u001b[39m!=\u001b[39m \u001b[39m0\u001b[39m:\n\u001b[0;32m   1270\u001b[0m         \u001b[39mraise\u001b[39;00m \u001b[39mValueError\u001b[39;00m(\n\u001b[0;32m   1271\u001b[0m           \u001b[39m\"\u001b[39m\u001b[39mnon-zero flags not allowed in calls to recv_into() on \u001b[39m\u001b[39m%s\u001b[39;00m\u001b[39m\"\u001b[39m \u001b[39m%\u001b[39m\n\u001b[0;32m   1272\u001b[0m           \u001b[39mself\u001b[39m\u001b[39m.\u001b[39m\u001b[39m__class__\u001b[39m)\n\u001b[1;32m-> 1273\u001b[0m     \u001b[39mreturn\u001b[39;00m \u001b[39mself\u001b[39;49m\u001b[39m.\u001b[39;49mread(nbytes, buffer)\n\u001b[0;32m   1274\u001b[0m \u001b[39melse\u001b[39;00m:\n\u001b[0;32m   1275\u001b[0m     \u001b[39mreturn\u001b[39;00m \u001b[39msuper\u001b[39m()\u001b[39m.\u001b[39mrecv_into(buffer, nbytes, flags)\n",
            "File \u001b[1;32mc:\\Users\\Woon\\AppData\\Local\\Programs\\Python\\Python310\\lib\\ssl.py:1129\u001b[0m, in \u001b[0;36mSSLSocket.read\u001b[1;34m(self, len, buffer)\u001b[0m\n\u001b[0;32m   1127\u001b[0m \u001b[39mtry\u001b[39;00m:\n\u001b[0;32m   1128\u001b[0m     \u001b[39mif\u001b[39;00m buffer \u001b[39mis\u001b[39;00m \u001b[39mnot\u001b[39;00m \u001b[39mNone\u001b[39;00m:\n\u001b[1;32m-> 1129\u001b[0m         \u001b[39mreturn\u001b[39;00m \u001b[39mself\u001b[39;49m\u001b[39m.\u001b[39;49m_sslobj\u001b[39m.\u001b[39;49mread(\u001b[39mlen\u001b[39;49m, buffer)\n\u001b[0;32m   1130\u001b[0m     \u001b[39melse\u001b[39;00m:\n\u001b[0;32m   1131\u001b[0m         \u001b[39mreturn\u001b[39;00m \u001b[39mself\u001b[39m\u001b[39m.\u001b[39m_sslobj\u001b[39m.\u001b[39mread(\u001b[39mlen\u001b[39m)\n",
            "\u001b[1;31mKeyboardInterrupt\u001b[0m: "
          ]
        }
      ],
      "source": [
        "from transformers import pipeline\n",
        "sentiment_pipeline = pipeline(\"sentiment-analysis\", model=\"cardiffnlp/twitter-roberta-base-sentiment-latest\")"
      ]
    },
    {
      "cell_type": "code",
      "execution_count": 4,
      "id": "113ed60d",
      "metadata": {
        "id": "113ed60d",
        "outputId": "0547e11a-d91d-434c-c8ac-33e692984790"
      },
      "outputs": [
        {
          "data": {
            "text/plain": [
              "[{'label': 'positive', 'score': 0.9277957677841187}]"
            ]
          },
          "execution_count": 4,
          "metadata": {},
          "output_type": "execute_result"
        }
      ],
      "source": [
        "#sample sentiment analysis\n",
        "sample_review = list(df['review_text'])[1]\n",
        "result = sentiment_pipeline(sample_review)\n",
        "result"
      ]
    },
    {
      "cell_type": "code",
      "execution_count": 5,
      "id": "8acd7ee4",
      "metadata": {
        "id": "8acd7ee4",
        "outputId": "f9e29c8a-f10a-47f0-c086-498dfc563cad"
      },
      "outputs": [
        {
          "name": "stderr",
          "output_type": "stream",
          "text": [
            "Some weights of the model checkpoint at cardiffnlp/twitter-roberta-base-sentiment-latest were not used when initializing RobertaForSequenceClassification: ['roberta.pooler.dense.bias', 'roberta.pooler.dense.weight']\n",
            "- This IS expected if you are initializing RobertaForSequenceClassification from the checkpoint of a model trained on another task or with another architecture (e.g. initializing a BertForSequenceClassification model from a BertForPreTraining model).\n",
            "- This IS NOT expected if you are initializing RobertaForSequenceClassification from the checkpoint of a model that you expect to be exactly identical (initializing a BertForSequenceClassification model from a BertForSequenceClassification model).\n"
          ]
        },
        {
          "name": "stdout",
          "output_type": "stream",
          "text": [
            "0\n",
            "20\n",
            "40\n",
            "60\n",
            "80\n",
            "100\n",
            "120\n",
            "140\n",
            "160\n",
            "180\n",
            "200\n",
            "220\n",
            "240\n",
            "260\n",
            "280\n",
            "300\n",
            "320\n",
            "340\n",
            "360\n",
            "380\n"
          ]
        }
      ],
      "source": [
        "from transformers import pipeline\n",
        "sentiment_pipeline = pipeline(\"sentiment-analysis\", model=\"cardiffnlp/twitter-roberta-base-sentiment-latest\")\n",
        "\n",
        "sentiment = []\n",
        "index = -1\n",
        "for sentence in df['review_lower']:\n",
        "    index+=1\n",
        "    if(index%20 == 0):\n",
        "        print(index)\n",
        "\n",
        "    result = sentiment_pipeline(sentence[:512])[0]\n",
        "    sentiment.append(result['label'])\n",
        "df['sentiment'] = sentiment"
      ]
    },
    {
      "cell_type": "markdown",
      "id": "352c04de",
      "metadata": {
        "id": "352c04de"
      },
      "source": [
        "# Zero shot classification"
      ]
    },
    {
      "cell_type": "code",
      "execution_count": 6,
      "id": "1d6d865f",
      "metadata": {
        "colab": {
          "base_uri": "https://localhost:8080/",
          "height": 209,
          "referenced_widgets": [
            "276d2f8d73314baca5d404200fd125f7",
            "61bb4e92e84a4bcfa5a5ddde36def65c",
            "f8b28c8c464a46d79903bb67f2ab498a",
            "7fb0fecfb79743f8870ee9d4993d8b48",
            "242616cd85f44500ba3dac92d61b22fb",
            "57591c228cfe4a999170b20311cea6ae",
            "5b309e7007e84efd854da972e7ef9eec",
            "74dafc5e1fa947bf9ce19537caebfc1c",
            "8ff8b27b4db946688bc307b1398f8f21",
            "06c09f76ef26429ea59505e5ae11e732",
            "d89f0bf56d0f4d0aa9bc5ed4b9762cf2",
            "33a62b6b7c134f8ea3b14e74054a1456",
            "793848481bce4eaf87014409a6d4c50b",
            "58dcb1363e6a4e2d94bf91abfebb4d2b",
            "ee3c3d5cfded411c9c1fd2dee27ee1fb",
            "0d3a1f3d5d3d489cb6de313513d410ba",
            "0448e6a62d0b4fb99112b13c931b1731",
            "477c7586b2d84c87aa10695cea2a74d2",
            "227c98f25dca4ff9a9d95251a5032899",
            "a24c793492e545cbb84200c37d6a19df",
            "beb45c4137b54bc883650fb017d2abcf",
            "067d431c2ba8402dafa7ee9d756e727a",
            "6252178a12264995b017c4d0fcc84c9b",
            "dcc54dc6cfa94397af5ef7adebfec62e",
            "55eb3dfcab4741ee818ac7038c98882d",
            "c9bf58aa55e04607befae2ca6996f5b4",
            "2c06f0c58d374b6ea179658778059483",
            "b9f6c97c8ab649a0b096dc3df83a5785",
            "9415984847444e04b10cf04d199959f0",
            "6a86e87d4dbb419e8781597bddd698aa",
            "c13d5cce147a444b97ece62de01d81e9",
            "def1696007554dd3a20c2bf30ad7a428",
            "86470ce7ccf34b788853bafba040c04e",
            "377cc077d2b74dda9691d5f5122068b9",
            "2fcdf9fe4e6d4dbd8fb0150cba4f715e",
            "3468b04e63a94ef1bc4646875fdafeb7",
            "c8d8e45226f34e218183f19d2a5007c5",
            "a7fa176350054ae99af19b6618ec174c",
            "66a3d6726a044296b6df7d76fb88abc8",
            "b3752844b29f490d8a7d6d3659c29890",
            "9284e138fb3b4d3f8694940d4158eed6",
            "6d42d51319484651a8710e7cf82c4609",
            "512dac46fdb347ec99d78dc55a1923e7",
            "ccfd30cf9f254ae4a884893432d7924e",
            "dc7303d59c8549bea3cdd3a0640a90e7",
            "1e96c8f32d65459987f5be646fa18826",
            "cbe2eff861124a3ea978a1306cd50c66",
            "71982c62479c4cfb99c91f2f5f8d3960",
            "775763faff7d4b32bf0583ba93db8d0c",
            "c5c31fcc99424c8297d6afcd1617428f",
            "ce16c0b38168435fac8b5873c4d9b4ac",
            "691647593caa4a6c8c64de40e0979068",
            "96a7c1d46de5440bb6c17b2477b4a54f",
            "86e4202311d74eb292bfbc11c74fc82e",
            "fca498914fb74de1802bf7d235204864",
            "e5bae6e2e6e440299d1376f5fbfe3efe",
            "757bfcd558e7413bb0d6661827844bee",
            "f8ac1ddddc7e4223a87e3e0c63edd6a7",
            "f9534b9cf72540d297466deabfe8bb6a",
            "1ecff6c8691b4db1a0034db2ead123d5",
            "744e92530a5f4a73acf2bbad853c3dc7",
            "c588450b572949989b732e63c72bea55",
            "ac9e1ff148ac491fabd6402018c20ad0",
            "95a0579bcf2746279716ce53368cb8be",
            "83374222177a499b831580db1bfbdd55",
            "f752429d2c404e52be8af8b126488017"
          ]
        },
        "id": "1d6d865f",
        "outputId": "77242b9f-691e-4f31-f48d-e49400277f9d"
      },
      "outputs": [],
      "source": [
        "import transformers\n",
        "from transformers import pipeline\n",
        "classifier  = pipeline(\"zero-shot-classification\",  model = \"facebook/bart-large-mnli\")"
      ]
    },
    {
      "cell_type": "markdown",
      "id": "2edc35a7",
      "metadata": {
        "id": "2edc35a7"
      },
      "source": [
        "# Sample classification"
      ]
    },
    {
      "cell_type": "code",
      "execution_count": 7,
      "id": "61187944",
      "metadata": {
        "id": "61187944",
        "outputId": "b8ec4ac6-f6a0-43ee-de37-e7a89274901a"
      },
      "outputs": [
        {
          "data": {
            "text/plain": [
              "{'sequence': 'The seeds mix is good',\n",
              " 'labels': ['quality', 'satisfaction', 'affordability', 'complaints'],\n",
              " 'scores': [0.9990378618240356,\n",
              "  0.9383894801139832,\n",
              "  0.027669671922922134,\n",
              "  0.0002322024229215458]}"
            ]
          },
          "execution_count": 7,
          "metadata": {},
          "output_type": "execute_result"
        }
      ],
      "source": [
        "sample_review = list(df['review_text'])[1]\n",
        "\n",
        "res = classifier(\n",
        "    sample_review,\n",
        "    candidate_labels = ['affordability', 'quality', 'satisfaction', 'complaints'], \n",
        "    multi_label = True\n",
        ")\n",
        "res"
      ]
    },
    {
      "cell_type": "markdown",
      "id": "7b03bad9",
      "metadata": {
        "id": "7b03bad9"
      },
      "source": [
        "# Insert four labels (cost, efficient, effective, ease of use)"
      ]
    },
    {
      "cell_type": "code",
      "execution_count": 8,
      "id": "669d26ac",
      "metadata": {
        "id": "669d26ac"
      },
      "outputs": [],
      "source": [
        "type = ['cost', 'efficient', 'effective', 'ease of use']"
      ]
    },
    {
      "cell_type": "code",
      "execution_count": 9,
      "id": "f4bac4d0",
      "metadata": {
        "id": "f4bac4d0",
        "outputId": "dfeafeb1-5565-438e-ffb4-883d70306b94"
      },
      "outputs": [
        {
          "name": "stdout",
          "output_type": "stream",
          "text": [
            "0\n"
          ]
        },
        {
          "name": "stderr",
          "output_type": "stream",
          "text": [
            "C:\\Users\\Woon\\AppData\\Local\\Temp\\ipykernel_28716\\576072882.py:20: SettingWithCopyWarning: \n",
            "A value is trying to be set on a copy of a slice from a DataFrame\n",
            "\n",
            "See the caveats in the documentation: https://pandas.pydata.org/pandas-docs/stable/user_guide/indexing.html#returning-a-view-versus-a-copy\n",
            "  df[res['labels'][i]+ '_m'].iloc[j] = res['scores'][i]\n"
          ]
        },
        {
          "name": "stdout",
          "output_type": "stream",
          "text": [
            "20\n",
            "40\n",
            "60\n",
            "80\n",
            "100\n",
            "120\n",
            "140\n",
            "160\n",
            "180\n",
            "200\n",
            "220\n",
            "240\n",
            "260\n",
            "280\n",
            "300\n",
            "320\n",
            "340\n",
            "360\n",
            "380\n"
          ]
        }
      ],
      "source": [
        "#setting empty values for the columns\n",
        "index = -1\n",
        "for label in type:\n",
        "    df[label + '_m'] = -1\n",
        "\n",
        "for j in range(len(df)):\n",
        "    #counter for progress/debugging\n",
        "    index+=1\n",
        "    if(index%20 == 0): \n",
        "        print(index)\n",
        "        \n",
        "    #running the classifier on the column    \n",
        "    res = classifier(\n",
        "        df.iloc[j]['review_lower'],\n",
        "        candidate_labels = type,\n",
        "        multi_label = True\n",
        "    )\n",
        "    #setting the column values according to the output from the classifier (\"_m\" = multiclass)\n",
        "    for i in range(len(res['labels'])):\n",
        "        df[res['labels'][i]+ '_m'].iloc[j] = res['scores'][i]"
      ]
    },
    {
      "cell_type": "markdown",
      "id": "fa9c2134",
      "metadata": {
        "id": "fa9c2134"
      },
      "source": [
        "# Metric and sanity check"
      ]
    },
    {
      "cell_type": "code",
      "execution_count": 10,
      "id": "86c91e46",
      "metadata": {
        "id": "86c91e46",
        "outputId": "710dbbe3-7047-4dc4-ec24-97336e910b60"
      },
      "outputs": [
        {
          "data": {
            "text/plain": [
              "<matplotlib.lines.Line2D at 0x2a9d73eaf20>"
            ]
          },
          "execution_count": 10,
          "metadata": {},
          "output_type": "execute_result"
        },
        {
          "data": {
            "text/plain": [
              "['the seeds mix is good']"
            ]
          },
          "execution_count": 10,
          "metadata": {},
          "output_type": "execute_result"
        },
        {
          "data": {
            "image/png": "[encoded data removed]",
            "text/plain": [
              "<Figure size 432x288 with 1 Axes>"
            ]
          },
          "metadata": {
            "needs_background": "light"
          },
          "output_type": "display_data"
        }
      ],
      "source": [
        "# create a \"max\" column for metric purposes\n",
        "df['max'] = df[['cost_m', 'efficient_m', 'effective_m', 'ease of use_m']].max(axis=1)\n",
        "\n",
        "# append type to max\n",
        "align_list=[]\n",
        "for i in range(len(df)):\n",
        "  for t in type:\n",
        "    if df[t+'_m'].iloc[i] == df['max'].iloc[i]:\n",
        "      align_list.append(t)\n",
        "      \n",
        "df['align_type']=align_list\n",
        "sns.set_style('ticks');\n",
        "fig, ax = plt.subplots();\n",
        "ax = sns.histplot(x = 'max', data = df);\n",
        "plt.axvline(0.7, 0,700, c = 'r', ls = '--');\n",
        "\n",
        "list(df[df['max'] > 0.7]['review_lower'][1:2])"
      ]
    },
    {
      "cell_type": "markdown",
      "id": "57e0248c",
      "metadata": {
        "id": "57e0248c"
      },
      "source": [
        "# How many remained uncategorized"
      ]
    },
    {
      "cell_type": "code",
      "execution_count": 11,
      "id": "7b359bb7",
      "metadata": {
        "id": "7b359bb7",
        "outputId": "79dfd593-d748-4171-9fed-066ac218ae5b"
      },
      "outputs": [
        {
          "data": {
            "text/plain": [
              "53"
            ]
          },
          "execution_count": 11,
          "metadata": {},
          "output_type": "execute_result"
        }
      ],
      "source": [
        "# to see how many uncategorized data remains\n",
        "df_uncat = df[df['cost_m'] < 0.7]\n",
        "df_uncat = df_uncat[df_uncat['efficient_m'] < 0.7]\n",
        "df_uncat = df_uncat[df_uncat['effective_m'] < 0.7]\n",
        "df_uncat = df_uncat[df_uncat['ease of use_m'] < 0.7]\n",
        "len(df_uncat)"
      ]
    },
    {
      "cell_type": "markdown",
      "id": "ab62d037",
      "metadata": {
        "id": "ab62d037"
      },
      "source": [
        "# Heatmap"
      ]
    },
    {
      "cell_type": "code",
      "execution_count": 12,
      "id": "958e0fae",
      "metadata": {
        "id": "958e0fae",
        "outputId": "29b34c34-d764-4f0d-869f-ee9d1ed60819"
      },
      "outputs": [
        {
          "data": {
            "text/plain": [
              "<Figure size 864x360 with 0 Axes>"
            ]
          },
          "execution_count": 12,
          "metadata": {},
          "output_type": "execute_result"
        },
        {
          "data": {
            "text/plain": [
              "[Text(0.5, 17.5, ''), Text(80.5, 0.5, '')]"
            ]
          },
          "execution_count": 12,
          "metadata": {},
          "output_type": "execute_result"
        },
        {
          "data": {
            "text/plain": [
              "[Text(0.5, 17.5, ''), Text(80.5, 0.5, '')]"
            ]
          },
          "execution_count": 12,
          "metadata": {},
          "output_type": "execute_result"
        },
        {
          "data": {
            "text/plain": [
              "[Text(0.5, 17.5, ''), Text(80.5, 0.5, '')]"
            ]
          },
          "execution_count": 12,
          "metadata": {},
          "output_type": "execute_result"
        },
        {
          "data": {
            "image/png": "[encoded data removed]",
            "text/plain": [
              "<Figure size 864x360 with 1 Axes>"
            ]
          },
          "metadata": {
            "needs_background": "light"
          },
          "output_type": "display_data"
        }
      ],
      "source": [
        "table = pd.pivot_table(df, values='max', index=['sentiment'], columns=['align_type'], aggfunc=np.mean,fill_value=0)\n",
        "plt.figure(figsize=(12, 5))\n",
        "sns.set(font_scale=1.4)\n",
        "# Reds\n",
        "data1 = table.copy()\n",
        "data1.loc['Negative'] = float('nan')\n",
        "data1.loc['Neutral'] = float('nan')\n",
        "ax=sns.heatmap(data1, annot=True, cmap=\"Greens\", alpha=0.75,fmt=\".3\",annot_kws={\"fontsize\":15},linewidth=0.1,cbar=False)\n",
        "ax.set(xlabel=\"\", ylabel=\"\")\n",
        "\n",
        "# Blue\n",
        "data2 = table.copy()\n",
        "data2.loc['Negative'] = float('nan')\n",
        "data2.loc['Positive'] = float('nan')\n",
        "ax=sns.heatmap(data2, annot=True, cmap=\"Blues\", alpha=0.75,fmt=\".3\",annot_kws={\"fontsize\":15},linewidth=0.1,cbar=False)\n",
        "ax.set(xlabel=\"\", ylabel=\"\")\n",
        "# Greens\n",
        "data3 = table.copy()\n",
        "data3.loc['Positive'] = float('nan')\n",
        "data3.loc['Neutral'] = float('nan')\n",
        "ax=sns.heatmap(data3, annot=True, cmap=\"Reds\", alpha=0.75,fmt=\".3\",annot_kws={\"fontsize\":15},linewidth=0.1,cbar=False)\n",
        "ax.set(xlabel=\"\", ylabel=\"\")"
      ]
    },
    {
      "cell_type": "markdown",
      "id": "d159caeb",
      "metadata": {
        "id": "d159caeb"
      },
      "source": [
        "# Accuracy evaluation"
      ]
    },
    {
      "cell_type": "code",
      "execution_count": 38,
      "id": "3a7d20f5",
      "metadata": {
        "id": "3a7d20f5"
      },
      "outputs": [],
      "source": [
        "df = pd.read_csv('aggregated_handlabeled.csv', index_col = [0])\n",
        "#replace NaN in label columns with 0\n",
        "columns = ['cost','ease of use', 'effective', 'efficient']\n",
        "\n",
        "for column in columns:\n",
        "    df[column] = df[column].replace(np.nan, int(0))"
      ]
    },
    {
      "cell_type": "code",
      "execution_count": 39,
      "id": "6b1601f4",
      "metadata": {
        "id": "6b1601f4",
        "outputId": "cc214c25-bd0b-43f3-d738-7da5dfee005e"
      },
      "outputs": [
        {
          "name": "stderr",
          "output_type": "stream",
          "text": [
            "Some weights of the model checkpoint at cardiffnlp/twitter-roberta-base-sentiment-latest were not used when initializing RobertaForSequenceClassification: ['roberta.pooler.dense.bias', 'roberta.pooler.dense.weight']\n",
            "- This IS expected if you are initializing RobertaForSequenceClassification from the checkpoint of a model trained on another task or with another architecture (e.g. initializing a BertForSequenceClassification model from a BertForPreTraining model).\n",
            "- This IS NOT expected if you are initializing RobertaForSequenceClassification from the checkpoint of a model that you expect to be exactly identical (initializing a BertForSequenceClassification model from a BertForSequenceClassification model).\n"
          ]
        },
        {
          "name": "stdout",
          "output_type": "stream",
          "text": [
            "0\n",
            "20\n",
            "40\n"
          ]
        },
        {
          "name": "stderr",
          "output_type": "stream",
          "text": [
            "Downloading pytorch_model.bin:  18%|█▊        | 86.4M/476M [02:39<10:39, 638kB/s]"
          ]
        },
        {
          "name": "stdout",
          "output_type": "stream",
          "text": [
            "60\n",
            "80\n"
          ]
        }
      ],
      "source": [
        "# sentiment analysis\n",
        "from transformers import pipeline\n",
        "sentiment_pipeline = pipeline(\"sentiment-analysis\", model=\"cardiffnlp/twitter-roberta-base-sentiment-latest\")\n",
        "\n",
        "sentiment = [None] * len(df)\n",
        "index = -1\n",
        "for sentence in df['review_lower'][0:99]:\n",
        "    index+=1\n",
        "    if(index%20 == 0):\n",
        "        print(index)\n",
        "\n",
        "    result = sentiment_pipeline(sentence[:512])[0]\n",
        "    sentiment[index] = result['label']\n",
        "df['sentiment_m'] = sentiment"
      ]
    },
    {
      "cell_type": "code",
      "execution_count": 40,
      "id": "e1e12eec",
      "metadata": {
        "id": "e1e12eec",
        "outputId": "29b1612b-3b92-43a3-f653-083e961dade0"
      },
      "outputs": [
        {
          "name": "stdout",
          "output_type": "stream",
          "text": [
            "0\n"
          ]
        },
        {
          "name": "stderr",
          "output_type": "stream",
          "text": [
            "C:\\Users\\Woon\\AppData\\Local\\Temp\\ipykernel_28716\\2091210579.py:23: SettingWithCopyWarning: \n",
            "A value is trying to be set on a copy of a slice from a DataFrame\n",
            "\n",
            "See the caveats in the documentation: https://pandas.pydata.org/pandas-docs/stable/user_guide/indexing.html#returning-a-view-versus-a-copy\n",
            "  df[res['labels'][i]+ '_m'].iloc[j] = res['scores'][i]\n"
          ]
        },
        {
          "name": "stdout",
          "output_type": "stream",
          "text": [
            "20\n",
            "40\n",
            "60\n",
            "80\n"
          ]
        }
      ],
      "source": [
        "# zero-shot classifier\n",
        "classifier  = pipeline(\"zero-shot-classification\",  model = \"facebook/bart-large-mnli\")\n",
        "type = ['cost', 'efficient', 'effective', 'ease of use']\n",
        "#setting empty values for the columns\n",
        "index = -1\n",
        "for label in type:\n",
        "    df[label + '_m'] = -1\n",
        "\n",
        "for j in range(99):\n",
        "    #counter for progress/debugging\n",
        "    index+=1\n",
        "    if(index%20 == 0): \n",
        "        print(index)\n",
        "        \n",
        "    #running the classifier on the column    \n",
        "    res = classifier(\n",
        "        df.iloc[j]['review_lower'],\n",
        "        candidate_labels = type,\n",
        "        multi_label = True\n",
        "    )\n",
        "    #setting the column values according to the output from the classifier (\"_m\" = multiclass)\n",
        "    for i in range(len(res['labels'])):\n",
        "        df[res['labels'][i]+ '_m'].iloc[j] = res['scores'][i]"
      ]
    },
    {
      "cell_type": "code",
      "execution_count": 41,
      "id": "25103b8d",
      "metadata": {},
      "outputs": [
        {
          "data": {
            "text/html": [
              "<div>\n",
              "<style scoped>\n",
              "    .dataframe tbody tr th:only-of-type {\n",
              "        vertical-align: middle;\n",
              "    }\n",
              "\n",
              "    .dataframe tbody tr th {\n",
              "        vertical-align: top;\n",
              "    }\n",
              "\n",
              "    .dataframe thead th {\n",
              "        text-align: right;\n",
              "    }\n",
              "</style>\n",
              "<table border=\"1\" class=\"dataframe\">\n",
              "  <thead>\n",
              "    <tr style=\"text-align: right;\">\n",
              "      <th></th>\n",
              "      <th>segment</th>\n",
              "      <th>review_id</th>\n",
              "      <th>product_name</th>\n",
              "      <th>producturl</th>\n",
              "      <th>retailer</th>\n",
              "      <th>brand</th>\n",
              "      <th>retailer_product_id</th>\n",
              "      <th>base_id</th>\n",
              "      <th>variants_flag</th>\n",
              "      <th>review_creation_date</th>\n",
              "      <th>year</th>\n",
              "      <th>month</th>\n",
              "      <th>week</th>\n",
              "      <th>review_title</th>\n",
              "      <th>review_text</th>\n",
              "      <th>review_type</th>\n",
              "      <th>price</th>\n",
              "      <th>rating</th>\n",
              "      <th>images</th>\n",
              "      <th>videos</th>\n",
              "      <th>helpful_votes</th>\n",
              "      <th>promotion_flag</th>\n",
              "      <th>review_lower</th>\n",
              "      <th>date</th>\n",
              "      <th>word_count</th>\n",
              "      <th>sentiment</th>\n",
              "      <th>cost</th>\n",
              "      <th>ease of use</th>\n",
              "      <th>effective</th>\n",
              "      <th>efficient</th>\n",
              "      <th>sentiment_m</th>\n",
              "      <th>cost_m</th>\n",
              "      <th>efficient_m</th>\n",
              "      <th>effective_m</th>\n",
              "      <th>ease of use_m</th>\n",
              "    </tr>\n",
              "  </thead>\n",
              "  <tbody>\n",
              "    <tr>\n",
              "      <th>4883</th>\n",
              "      <td>Garden</td>\n",
              "      <td>55829</td>\n",
              "      <td>AMDRO Ant Block Home Perimeter Ant Bait 24oz</td>\n",
              "      <td>https://www.lowes.com/pd/AMDRO-Ant-Block-24-oz...</td>\n",
              "      <td>Lowes</td>\n",
              "      <td>Amdro</td>\n",
              "      <td>1000044709</td>\n",
              "      <td>1000044709</td>\n",
              "      <td>No</td>\n",
              "      <td>2021-06-03T00:00:00</td>\n",
              "      <td>2021</td>\n",
              "      <td>6</td>\n",
              "      <td>22</td>\n",
              "      <td>Problem solver</td>\n",
              "      <td>Great product. We had huge problem with ants e...</td>\n",
              "      <td>organic reviews</td>\n",
              "      <td>9.47</td>\n",
              "      <td>5</td>\n",
              "      <td>0</td>\n",
              "      <td>0</td>\n",
              "      <td>0</td>\n",
              "      <td>No</td>\n",
              "      <td>great product. we had huge problem with ants e...</td>\n",
              "      <td>6/3/2021</td>\n",
              "      <td>23</td>\n",
              "      <td>positive</td>\n",
              "      <td>0.0</td>\n",
              "      <td>0.0</td>\n",
              "      <td>1.0</td>\n",
              "      <td>1.0</td>\n",
              "      <td>positive</td>\n",
              "      <td>0.498742</td>\n",
              "      <td>0.980484</td>\n",
              "      <td>0.998226</td>\n",
              "      <td>0.773456</td>\n",
              "    </tr>\n",
              "    <tr>\n",
              "      <th>3551</th>\n",
              "      <td>Garden</td>\n",
              "      <td>33176</td>\n",
              "      <td>Pennington Wild Bird Food</td>\n",
              "      <td>http://www.homedepot.com/p/t/312026386</td>\n",
              "      <td>Homedepot</td>\n",
              "      <td>Pennington Bird</td>\n",
              "      <td>312026386</td>\n",
              "      <td>312026384</td>\n",
              "      <td>Yes</td>\n",
              "      <td>2021-06-09T00:00:00</td>\n",
              "      <td>2021</td>\n",
              "      <td>6</td>\n",
              "      <td>23</td>\n",
              "      <td>The seeds mix is good...</td>\n",
              "      <td>The seeds mix is good</td>\n",
              "      <td>organic reviews</td>\n",
              "      <td>12.98</td>\n",
              "      <td>2</td>\n",
              "      <td>0</td>\n",
              "      <td>0</td>\n",
              "      <td>0</td>\n",
              "      <td>No</td>\n",
              "      <td>the seeds mix is good</td>\n",
              "      <td>6/9/2021</td>\n",
              "      <td>5</td>\n",
              "      <td>positive</td>\n",
              "      <td>0.0</td>\n",
              "      <td>0.0</td>\n",
              "      <td>1.0</td>\n",
              "      <td>0.0</td>\n",
              "      <td>positive</td>\n",
              "      <td>0.003480</td>\n",
              "      <td>0.951615</td>\n",
              "      <td>0.997619</td>\n",
              "      <td>0.347957</td>\n",
              "    </tr>\n",
              "    <tr>\n",
              "      <th>2545</th>\n",
              "      <td>Garden</td>\n",
              "      <td>22333</td>\n",
              "      <td>Centipede Seed With Mulch 5lb bag</td>\n",
              "      <td>http://www.homedepot.com/p/t/100598598</td>\n",
              "      <td>Homedepot</td>\n",
              "      <td>Pennington Grass</td>\n",
              "      <td>100598598</td>\n",
              "      <td>100598598</td>\n",
              "      <td>Yes</td>\n",
              "      <td>2021-07-09T00:00:00</td>\n",
              "      <td>2021</td>\n",
              "      <td>7</td>\n",
              "      <td>27</td>\n",
              "      <td>This product was easy spread and have covered ...</td>\n",
              "      <td>This product was easy spread and have covered ...</td>\n",
              "      <td>organic reviews</td>\n",
              "      <td>39.64</td>\n",
              "      <td>5</td>\n",
              "      <td>0</td>\n",
              "      <td>0</td>\n",
              "      <td>0</td>\n",
              "      <td>No</td>\n",
              "      <td>this product was easy spread and have covered ...</td>\n",
              "      <td>7/9/2021</td>\n",
              "      <td>19</td>\n",
              "      <td>positive</td>\n",
              "      <td>0.0</td>\n",
              "      <td>1.0</td>\n",
              "      <td>1.0</td>\n",
              "      <td>1.0</td>\n",
              "      <td>positive</td>\n",
              "      <td>0.375175</td>\n",
              "      <td>0.992700</td>\n",
              "      <td>0.997839</td>\n",
              "      <td>0.993937</td>\n",
              "    </tr>\n",
              "    <tr>\n",
              "      <th>614</th>\n",
              "      <td>Garden</td>\n",
              "      <td>4312</td>\n",
              "      <td>Sevin Lawn Insect Granules 10 lb.</td>\n",
              "      <td>https://www.amazon.com/Sevin-Lawn-Insect-Granu...</td>\n",
              "      <td>Amazon</td>\n",
              "      <td>GardenTech</td>\n",
              "      <td>B000RUAR0G</td>\n",
              "      <td>B000RUAR0G</td>\n",
              "      <td>No</td>\n",
              "      <td>2021-07-03T00:00:00</td>\n",
              "      <td>2021</td>\n",
              "      <td>7</td>\n",
              "      <td>26</td>\n",
              "      <td>Use as directed</td>\n",
              "      <td>When I first purchased this bag, bugs kept eat...</td>\n",
              "      <td>organic reviews</td>\n",
              "      <td>19.00</td>\n",
              "      <td>5</td>\n",
              "      <td>0</td>\n",
              "      <td>0</td>\n",
              "      <td>1</td>\n",
              "      <td>No</td>\n",
              "      <td>when i first purchased this bag, bugs kept eat...</td>\n",
              "      <td>7/3/2021</td>\n",
              "      <td>64</td>\n",
              "      <td>positive</td>\n",
              "      <td>0.0</td>\n",
              "      <td>0.0</td>\n",
              "      <td>1.0</td>\n",
              "      <td>0.0</td>\n",
              "      <td>neutral</td>\n",
              "      <td>0.753738</td>\n",
              "      <td>0.745869</td>\n",
              "      <td>0.986058</td>\n",
              "      <td>0.543351</td>\n",
              "    </tr>\n",
              "    <tr>\n",
              "      <th>19</th>\n",
              "      <td>Garden</td>\n",
              "      <td>244</td>\n",
              "      <td>AMDRO Fire Ant Bait 2lb</td>\n",
              "      <td>https://www.amazon.com/dp/B002FYMTB2</td>\n",
              "      <td>Amazon</td>\n",
              "      <td>Amdro</td>\n",
              "      <td>B002FYMTB2</td>\n",
              "      <td>B002FYMTB2</td>\n",
              "      <td>No</td>\n",
              "      <td>2021-06-13T00:00:00</td>\n",
              "      <td>2021</td>\n",
              "      <td>6</td>\n",
              "      <td>23</td>\n",
              "      <td>Very Effective for Harvester Ants</td>\n",
              "      <td>Actually kills Harvester Ants! We have struggl...</td>\n",
              "      <td>organic reviews</td>\n",
              "      <td>20.59</td>\n",
              "      <td>5</td>\n",
              "      <td>0</td>\n",
              "      <td>0</td>\n",
              "      <td>0</td>\n",
              "      <td>No</td>\n",
              "      <td>actually kills harvester ants! we have struggl...</td>\n",
              "      <td>6/13/2021</td>\n",
              "      <td>37</td>\n",
              "      <td>positive</td>\n",
              "      <td>0.0</td>\n",
              "      <td>0.0</td>\n",
              "      <td>1.0</td>\n",
              "      <td>1.0</td>\n",
              "      <td>negative</td>\n",
              "      <td>0.712010</td>\n",
              "      <td>0.990643</td>\n",
              "      <td>0.999461</td>\n",
              "      <td>0.623998</td>\n",
              "    </tr>\n",
              "    <tr>\n",
              "      <th>...</th>\n",
              "      <td>...</td>\n",
              "      <td>...</td>\n",
              "      <td>...</td>\n",
              "      <td>...</td>\n",
              "      <td>...</td>\n",
              "      <td>...</td>\n",
              "      <td>...</td>\n",
              "      <td>...</td>\n",
              "      <td>...</td>\n",
              "      <td>...</td>\n",
              "      <td>...</td>\n",
              "      <td>...</td>\n",
              "      <td>...</td>\n",
              "      <td>...</td>\n",
              "      <td>...</td>\n",
              "      <td>...</td>\n",
              "      <td>...</td>\n",
              "      <td>...</td>\n",
              "      <td>...</td>\n",
              "      <td>...</td>\n",
              "      <td>...</td>\n",
              "      <td>...</td>\n",
              "      <td>...</td>\n",
              "      <td>...</td>\n",
              "      <td>...</td>\n",
              "      <td>...</td>\n",
              "      <td>...</td>\n",
              "      <td>...</td>\n",
              "      <td>...</td>\n",
              "      <td>...</td>\n",
              "      <td>...</td>\n",
              "      <td>...</td>\n",
              "      <td>...</td>\n",
              "      <td>...</td>\n",
              "      <td>...</td>\n",
              "    </tr>\n",
              "    <tr>\n",
              "      <th>1013</th>\n",
              "      <td>Garden</td>\n",
              "      <td>6333</td>\n",
              "      <td>Lawn Booster Sun &amp; Shade 9.6lb bag</td>\n",
              "      <td>https://www.amazon.com/dp/B084NMGHK7</td>\n",
              "      <td>Amazon</td>\n",
              "      <td>Pennington Grass</td>\n",
              "      <td>B084NMGHK7</td>\n",
              "      <td>B084NMGHK7</td>\n",
              "      <td>No</td>\n",
              "      <td>2021-06-30T00:00:00</td>\n",
              "      <td>2021</td>\n",
              "      <td>6</td>\n",
              "      <td>26</td>\n",
              "      <td>Great</td>\n",
              "      <td>Its is good</td>\n",
              "      <td>organic reviews</td>\n",
              "      <td>15.88</td>\n",
              "      <td>3</td>\n",
              "      <td>0</td>\n",
              "      <td>0</td>\n",
              "      <td>0</td>\n",
              "      <td>No</td>\n",
              "      <td>its is good</td>\n",
              "      <td>6/30/2021</td>\n",
              "      <td>3</td>\n",
              "      <td>NaN</td>\n",
              "      <td>0.0</td>\n",
              "      <td>0.0</td>\n",
              "      <td>0.0</td>\n",
              "      <td>0.0</td>\n",
              "      <td>None</td>\n",
              "      <td>-1.000000</td>\n",
              "      <td>-1.000000</td>\n",
              "      <td>-1.000000</td>\n",
              "      <td>-1.000000</td>\n",
              "    </tr>\n",
              "    <tr>\n",
              "      <th>9851</th>\n",
              "      <td>Garden</td>\n",
              "      <td>70548</td>\n",
              "      <td>Pennington Wild Bird Food Blend Bucket</td>\n",
              "      <td>http://www.homedepot.com/p/312026384</td>\n",
              "      <td>Homedepot</td>\n",
              "      <td>Pennington Bird</td>\n",
              "      <td>312026398</td>\n",
              "      <td>312026384</td>\n",
              "      <td>Yes</td>\n",
              "      <td>2021-12-17T00:00:00</td>\n",
              "      <td>2021</td>\n",
              "      <td>12</td>\n",
              "      <td>50</td>\n",
              "      <td>Poor quality</td>\n",
              "      <td>The variety of seed is pretty poor. Overloaded...</td>\n",
              "      <td>organic reviews</td>\n",
              "      <td>22.98</td>\n",
              "      <td>2</td>\n",
              "      <td>0</td>\n",
              "      <td>0</td>\n",
              "      <td>1</td>\n",
              "      <td>No</td>\n",
              "      <td>the variety of seed is pretty poor. overloaded...</td>\n",
              "      <td>12/17/2021</td>\n",
              "      <td>22</td>\n",
              "      <td>NaN</td>\n",
              "      <td>0.0</td>\n",
              "      <td>0.0</td>\n",
              "      <td>0.0</td>\n",
              "      <td>0.0</td>\n",
              "      <td>None</td>\n",
              "      <td>-1.000000</td>\n",
              "      <td>-1.000000</td>\n",
              "      <td>-1.000000</td>\n",
              "      <td>-1.000000</td>\n",
              "    </tr>\n",
              "    <tr>\n",
              "      <th>23479</th>\n",
              "      <td>Garden</td>\n",
              "      <td>135531</td>\n",
              "      <td>Pennington Smart Patch Bermudagrass Mix, 5 lb Jug</td>\n",
              "      <td>https://www.lowes.com/pd/Pennington-Smart-Patc...</td>\n",
              "      <td>Lowes</td>\n",
              "      <td>Pennington Grass</td>\n",
              "      <td>5005478639</td>\n",
              "      <td>5005478639</td>\n",
              "      <td>No</td>\n",
              "      <td>2022-05-12T00:00:00</td>\n",
              "      <td>2022</td>\n",
              "      <td>5</td>\n",
              "      <td>19</td>\n",
              "      <td>Beautiful Grass</td>\n",
              "      <td>[This review was collected as part of a promot...</td>\n",
              "      <td>syndicated reviews</td>\n",
              "      <td>11.98</td>\n",
              "      <td>5</td>\n",
              "      <td>0</td>\n",
              "      <td>0</td>\n",
              "      <td>0</td>\n",
              "      <td>Yes</td>\n",
              "      <td>[this review was collected as part of a promot...</td>\n",
              "      <td>5/12/2022</td>\n",
              "      <td>49</td>\n",
              "      <td>NaN</td>\n",
              "      <td>0.0</td>\n",
              "      <td>0.0</td>\n",
              "      <td>0.0</td>\n",
              "      <td>0.0</td>\n",
              "      <td>None</td>\n",
              "      <td>-1.000000</td>\n",
              "      <td>-1.000000</td>\n",
              "      <td>-1.000000</td>\n",
              "      <td>-1.000000</td>\n",
              "    </tr>\n",
              "    <tr>\n",
              "      <th>15375</th>\n",
              "      <td>Garden</td>\n",
              "      <td>90659</td>\n",
              "      <td>Pennington Ready-to-Use Hummingbird Food 64oz</td>\n",
              "      <td>https://www.walmart.com//ip/Pennington-Ready-t...</td>\n",
              "      <td>Walmart</td>\n",
              "      <td>Pennington Bird</td>\n",
              "      <td>471014069</td>\n",
              "      <td>471014069</td>\n",
              "      <td>No</td>\n",
              "      <td>2022-04-16T00:00:00</td>\n",
              "      <td>2022</td>\n",
              "      <td>4</td>\n",
              "      <td>15</td>\n",
              "      <td>Easy buy.</td>\n",
              "      <td>I like that I can buy a pre made formula to fe...</td>\n",
              "      <td>organic reviews</td>\n",
              "      <td>5.74</td>\n",
              "      <td>5</td>\n",
              "      <td>0</td>\n",
              "      <td>0</td>\n",
              "      <td>0</td>\n",
              "      <td>No</td>\n",
              "      <td>i like that i can buy a pre made formula to fe...</td>\n",
              "      <td>4/16/2022</td>\n",
              "      <td>77</td>\n",
              "      <td>NaN</td>\n",
              "      <td>0.0</td>\n",
              "      <td>0.0</td>\n",
              "      <td>0.0</td>\n",
              "      <td>0.0</td>\n",
              "      <td>None</td>\n",
              "      <td>-1.000000</td>\n",
              "      <td>-1.000000</td>\n",
              "      <td>-1.000000</td>\n",
              "      <td>-1.000000</td>\n",
              "    </tr>\n",
              "    <tr>\n",
              "      <th>5399</th>\n",
              "      <td>Garden</td>\n",
              "      <td>63432</td>\n",
              "      <td>The Rebels Tall Fescue 7 lb</td>\n",
              "      <td>https://www.lowes.com/pd/Pennington-The-Rebels...</td>\n",
              "      <td>Lowes</td>\n",
              "      <td>Pennington Grass</td>\n",
              "      <td>5001464611</td>\n",
              "      <td>5001464611</td>\n",
              "      <td>Yes</td>\n",
              "      <td>2021-11-07T00:00:00</td>\n",
              "      <td>2021</td>\n",
              "      <td>11</td>\n",
              "      <td>44</td>\n",
              "      <td>The Rebels is the only seed I use.</td>\n",
              "      <td>I live in Fuquay Varina, North Carolina. I pla...</td>\n",
              "      <td>organic reviews</td>\n",
              "      <td>24.48</td>\n",
              "      <td>5</td>\n",
              "      <td>5</td>\n",
              "      <td>0</td>\n",
              "      <td>0</td>\n",
              "      <td>No</td>\n",
              "      <td>i live in fuquay varina, north carolina. i pla...</td>\n",
              "      <td>11/7/2021</td>\n",
              "      <td>71</td>\n",
              "      <td>NaN</td>\n",
              "      <td>0.0</td>\n",
              "      <td>0.0</td>\n",
              "      <td>0.0</td>\n",
              "      <td>0.0</td>\n",
              "      <td>None</td>\n",
              "      <td>-1.000000</td>\n",
              "      <td>-1.000000</td>\n",
              "      <td>-1.000000</td>\n",
              "      <td>-1.000000</td>\n",
              "    </tr>\n",
              "  </tbody>\n",
              "</table>\n",
              "<p>400 rows × 35 columns</p>\n",
              "</div>"
            ],
            "text/plain": [
              "      segment  review_id                                       product_name  \\\n",
              "4883   Garden      55829       AMDRO Ant Block Home Perimeter Ant Bait 24oz   \n",
              "3551   Garden      33176                          Pennington Wild Bird Food   \n",
              "2545   Garden      22333                  Centipede Seed With Mulch 5lb bag   \n",
              "614    Garden       4312                  Sevin Lawn Insect Granules 10 lb.   \n",
              "19     Garden        244                            AMDRO Fire Ant Bait 2lb   \n",
              "...       ...        ...                                                ...   \n",
              "1013   Garden       6333                 Lawn Booster Sun & Shade 9.6lb bag   \n",
              "9851   Garden      70548             Pennington Wild Bird Food Blend Bucket   \n",
              "23479  Garden     135531  Pennington Smart Patch Bermudagrass Mix, 5 lb Jug   \n",
              "15375  Garden      90659      Pennington Ready-to-Use Hummingbird Food 64oz   \n",
              "5399   Garden      63432                        The Rebels Tall Fescue 7 lb   \n",
              "\n",
              "                                              producturl   retailer  \\\n",
              "4883   https://www.lowes.com/pd/AMDRO-Ant-Block-24-oz...      Lowes   \n",
              "3551              http://www.homedepot.com/p/t/312026386  Homedepot   \n",
              "2545              http://www.homedepot.com/p/t/100598598  Homedepot   \n",
              "614    https://www.amazon.com/Sevin-Lawn-Insect-Granu...     Amazon   \n",
              "19                  https://www.amazon.com/dp/B002FYMTB2     Amazon   \n",
              "...                                                  ...        ...   \n",
              "1013                https://www.amazon.com/dp/B084NMGHK7     Amazon   \n",
              "9851                http://www.homedepot.com/p/312026384  Homedepot   \n",
              "23479  https://www.lowes.com/pd/Pennington-Smart-Patc...      Lowes   \n",
              "15375  https://www.walmart.com//ip/Pennington-Ready-t...    Walmart   \n",
              "5399   https://www.lowes.com/pd/Pennington-The-Rebels...      Lowes   \n",
              "\n",
              "                  brand retailer_product_id     base_id variants_flag  \\\n",
              "4883              Amdro          1000044709  1000044709            No   \n",
              "3551    Pennington Bird           312026386   312026384           Yes   \n",
              "2545   Pennington Grass           100598598   100598598           Yes   \n",
              "614          GardenTech          B000RUAR0G  B000RUAR0G            No   \n",
              "19                Amdro          B002FYMTB2  B002FYMTB2            No   \n",
              "...                 ...                 ...         ...           ...   \n",
              "1013   Pennington Grass          B084NMGHK7  B084NMGHK7            No   \n",
              "9851    Pennington Bird           312026398   312026384           Yes   \n",
              "23479  Pennington Grass          5005478639  5005478639            No   \n",
              "15375   Pennington Bird           471014069   471014069            No   \n",
              "5399   Pennington Grass          5001464611  5001464611           Yes   \n",
              "\n",
              "      review_creation_date  year  month  week  \\\n",
              "4883   2021-06-03T00:00:00  2021      6    22   \n",
              "3551   2021-06-09T00:00:00  2021      6    23   \n",
              "2545   2021-07-09T00:00:00  2021      7    27   \n",
              "614    2021-07-03T00:00:00  2021      7    26   \n",
              "19     2021-06-13T00:00:00  2021      6    23   \n",
              "...                    ...   ...    ...   ...   \n",
              "1013   2021-06-30T00:00:00  2021      6    26   \n",
              "9851   2021-12-17T00:00:00  2021     12    50   \n",
              "23479  2022-05-12T00:00:00  2022      5    19   \n",
              "15375  2022-04-16T00:00:00  2022      4    15   \n",
              "5399   2021-11-07T00:00:00  2021     11    44   \n",
              "\n",
              "                                            review_title  \\\n",
              "4883                                      Problem solver   \n",
              "3551                            The seeds mix is good...   \n",
              "2545   This product was easy spread and have covered ...   \n",
              "614                                      Use as directed   \n",
              "19                     Very Effective for Harvester Ants   \n",
              "...                                                  ...   \n",
              "1013                                               Great   \n",
              "9851                                        Poor quality   \n",
              "23479                                    Beautiful Grass   \n",
              "15375                                          Easy buy.   \n",
              "5399                  The Rebels is the only seed I use.   \n",
              "\n",
              "                                             review_text         review_type  \\\n",
              "4883   Great product. We had huge problem with ants e...     organic reviews   \n",
              "3551                               The seeds mix is good     organic reviews   \n",
              "2545   This product was easy spread and have covered ...     organic reviews   \n",
              "614    When I first purchased this bag, bugs kept eat...     organic reviews   \n",
              "19     Actually kills Harvester Ants! We have struggl...     organic reviews   \n",
              "...                                                  ...                 ...   \n",
              "1013                                         Its is good     organic reviews   \n",
              "9851   The variety of seed is pretty poor. Overloaded...     organic reviews   \n",
              "23479  [This review was collected as part of a promot...  syndicated reviews   \n",
              "15375  I like that I can buy a pre made formula to fe...     organic reviews   \n",
              "5399   I live in Fuquay Varina, North Carolina. I pla...     organic reviews   \n",
              "\n",
              "       price  rating  images  videos  helpful_votes promotion_flag  \\\n",
              "4883    9.47       5       0       0              0             No   \n",
              "3551   12.98       2       0       0              0             No   \n",
              "2545   39.64       5       0       0              0             No   \n",
              "614    19.00       5       0       0              1             No   \n",
              "19     20.59       5       0       0              0             No   \n",
              "...      ...     ...     ...     ...            ...            ...   \n",
              "1013   15.88       3       0       0              0             No   \n",
              "9851   22.98       2       0       0              1             No   \n",
              "23479  11.98       5       0       0              0            Yes   \n",
              "15375   5.74       5       0       0              0             No   \n",
              "5399   24.48       5       5       0              0             No   \n",
              "\n",
              "                                            review_lower        date  \\\n",
              "4883   great product. we had huge problem with ants e...    6/3/2021   \n",
              "3551                               the seeds mix is good    6/9/2021   \n",
              "2545   this product was easy spread and have covered ...    7/9/2021   \n",
              "614    when i first purchased this bag, bugs kept eat...    7/3/2021   \n",
              "19     actually kills harvester ants! we have struggl...   6/13/2021   \n",
              "...                                                  ...         ...   \n",
              "1013                                         its is good   6/30/2021   \n",
              "9851   the variety of seed is pretty poor. overloaded...  12/17/2021   \n",
              "23479  [this review was collected as part of a promot...   5/12/2022   \n",
              "15375  i like that i can buy a pre made formula to fe...   4/16/2022   \n",
              "5399   i live in fuquay varina, north carolina. i pla...   11/7/2021   \n",
              "\n",
              "       word_count sentiment  cost  ease of use  effective  efficient  \\\n",
              "4883           23  positive   0.0          0.0        1.0        1.0   \n",
              "3551            5  positive   0.0          0.0        1.0        0.0   \n",
              "2545           19  positive   0.0          1.0        1.0        1.0   \n",
              "614            64  positive   0.0          0.0        1.0        0.0   \n",
              "19             37  positive   0.0          0.0        1.0        1.0   \n",
              "...           ...       ...   ...          ...        ...        ...   \n",
              "1013            3       NaN   0.0          0.0        0.0        0.0   \n",
              "9851           22       NaN   0.0          0.0        0.0        0.0   \n",
              "23479          49       NaN   0.0          0.0        0.0        0.0   \n",
              "15375          77       NaN   0.0          0.0        0.0        0.0   \n",
              "5399           71       NaN   0.0          0.0        0.0        0.0   \n",
              "\n",
              "      sentiment_m    cost_m  efficient_m  effective_m  ease of use_m  \n",
              "4883     positive  0.498742     0.980484     0.998226       0.773456  \n",
              "3551     positive  0.003480     0.951615     0.997619       0.347957  \n",
              "2545     positive  0.375175     0.992700     0.997839       0.993937  \n",
              "614       neutral  0.753738     0.745869     0.986058       0.543351  \n",
              "19       negative  0.712010     0.990643     0.999461       0.623998  \n",
              "...           ...       ...          ...          ...            ...  \n",
              "1013         None -1.000000    -1.000000    -1.000000      -1.000000  \n",
              "9851         None -1.000000    -1.000000    -1.000000      -1.000000  \n",
              "23479        None -1.000000    -1.000000    -1.000000      -1.000000  \n",
              "15375        None -1.000000    -1.000000    -1.000000      -1.000000  \n",
              "5399         None -1.000000    -1.000000    -1.000000      -1.000000  \n",
              "\n",
              "[400 rows x 35 columns]"
            ]
          },
          "execution_count": 41,
          "metadata": {},
          "output_type": "execute_result"
        }
      ],
      "source": [
        "df"
      ]
    },
    {
      "cell_type": "markdown",
      "id": "6d104da8",
      "metadata": {
        "id": "6d104da8"
      },
      "source": [
        "## Evaluate sentiment"
      ]
    },
    {
      "cell_type": "code",
      "execution_count": 42,
      "id": "f06062b5",
      "metadata": {
        "colab": {
          "base_uri": "https://localhost:8080/"
        },
        "id": "f06062b5",
        "outputId": "3fd0a6dc-4382-4b9d-cb59-ec2aff3ca5fb"
      },
      "outputs": [
        {
          "name": "stdout",
          "output_type": "stream",
          "text": [
            "              precision    recall  f1-score   support\n",
            "\n",
            "          -1       0.98      0.99      0.99       324\n",
            "           0       0.33      0.33      0.33        12\n",
            "           1       0.95      0.88      0.91        64\n",
            "\n",
            "    accuracy                           0.95       400\n",
            "   macro avg       0.75      0.73      0.74       400\n",
            "weighted avg       0.95      0.95      0.95       400\n",
            "\n"
          ]
        }
      ],
      "source": [
        "# Evaluate sentiment\n",
        "from sklearn.metrics import classification_report\n",
        "from sklearn.metrics import roc_auc_score\n",
        "def imputation1(list):\n",
        "    i = []\n",
        "    for prediction in list:\n",
        "        if prediction == \"positive\":\n",
        "            i.append(1)\n",
        "        elif prediction == \"neutral\":\n",
        "            i.append(0)\n",
        "        else:\n",
        "            i.append(-1)    \n",
        "    return(i)\n",
        "df['sentiment'] = imputation1(df['sentiment'])\n",
        "df['sentiment_m'] = imputation1(df['sentiment_m'])\n",
        "print(classification_report(df['sentiment'], df['sentiment_m']))"
      ]
    },
    {
      "cell_type": "markdown",
      "id": "e8523dce",
      "metadata": {
        "id": "e8523dce"
      },
      "source": [
        "## Evaluate zero shot"
      ]
    },
    {
      "cell_type": "code",
      "execution_count": 43,
      "id": "3771e86d",
      "metadata": {
        "id": "3771e86d"
      },
      "outputs": [],
      "source": [
        "# Evaluate zero-shot\n",
        "def imputation(list):\n",
        "    i = []\n",
        "    for prediction in list:\n",
        "        if prediction < 0.7:\n",
        "            i.append(0)\n",
        "        else:\n",
        "            i.append(1)\n",
        "    \n",
        "    return(i)\n",
        "df['cost_m'] = imputation(df['cost_m'])\n",
        "df['efficient_m'] = imputation(df['efficient_m'])\n",
        "df['effective_m'] = imputation(df['effective_m'])\n",
        "df['ease of use_m'] = imputation(df['ease of use_m'])"
      ]
    },
    {
      "cell_type": "markdown",
      "id": "2146ed34",
      "metadata": {
        "id": "2146ed34"
      },
      "source": [
        "### 1) cost"
      ]
    },
    {
      "cell_type": "code",
      "execution_count": 44,
      "id": "df4da381",
      "metadata": {
        "id": "df4da381",
        "outputId": "6f4b77a6-5541-48b2-8753-c0ad2aaa5965"
      },
      "outputs": [
        {
          "name": "stdout",
          "output_type": "stream",
          "text": [
            "              precision    recall  f1-score   support\n",
            "\n",
            "         0.0       1.00      0.95      0.97       388\n",
            "         1.0       0.38      0.92      0.54        12\n",
            "\n",
            "    accuracy                           0.95       400\n",
            "   macro avg       0.69      0.94      0.76       400\n",
            "weighted avg       0.98      0.95      0.96       400\n",
            "\n"
          ]
        }
      ],
      "source": [
        "print(classification_report(df['cost'], df['cost_m']))"
      ]
    },
    {
      "cell_type": "code",
      "execution_count": 45,
      "id": "5fa08ca6",
      "metadata": {
        "id": "5fa08ca6",
        "outputId": "b54cb119-3b88-49f6-ba27-90305d113302"
      },
      "outputs": [
        {
          "name": "stdout",
          "output_type": "stream",
          "text": [
            "ROC AUC : 0.9351\n"
          ]
        }
      ],
      "source": [
        "ROC_AUC = roc_auc_score(df['cost'], df['cost_m'])\n",
        "print('ROC AUC : {:.4f}'.format(ROC_AUC))"
      ]
    },
    {
      "cell_type": "markdown",
      "id": "7f5e9623",
      "metadata": {
        "id": "7f5e9623"
      },
      "source": [
        "### 2) efficient"
      ]
    },
    {
      "cell_type": "code",
      "execution_count": 46,
      "id": "a8365a1f",
      "metadata": {
        "id": "a8365a1f",
        "outputId": "765460ab-ada3-4e11-cb5f-ccbec14d56c0"
      },
      "outputs": [
        {
          "name": "stdout",
          "output_type": "stream",
          "text": [
            "              precision    recall  f1-score   support\n",
            "\n",
            "         0.0       0.96      0.89      0.93       363\n",
            "         1.0       0.38      0.65      0.48        37\n",
            "\n",
            "    accuracy                           0.87       400\n",
            "   macro avg       0.67      0.77      0.70       400\n",
            "weighted avg       0.91      0.87      0.88       400\n",
            "\n"
          ]
        }
      ],
      "source": [
        "print(classification_report(df['efficient'], df['efficient_m']))"
      ]
    },
    {
      "cell_type": "code",
      "execution_count": 47,
      "id": "4a730497",
      "metadata": {
        "id": "4a730497",
        "outputId": "5516c04f-5921-4b61-8479-c78532557081"
      },
      "outputs": [
        {
          "name": "stdout",
          "output_type": "stream",
          "text": [
            "ROC AUC : 0.7706\n"
          ]
        }
      ],
      "source": [
        "ROC_AUC = roc_auc_score(df['efficient'], df['efficient_m'])\n",
        "print('ROC AUC : {:.4f}'.format(ROC_AUC))"
      ]
    },
    {
      "cell_type": "markdown",
      "id": "1657ca46",
      "metadata": {
        "id": "1657ca46"
      },
      "source": [
        "### 3) effective"
      ]
    },
    {
      "cell_type": "code",
      "execution_count": 48,
      "id": "6645a483",
      "metadata": {
        "id": "6645a483",
        "outputId": "94c1027e-9bec-46f9-8d82-438b67cf9610"
      },
      "outputs": [
        {
          "name": "stdout",
          "output_type": "stream",
          "text": [
            "              precision    recall  f1-score   support\n",
            "\n",
            "         0.0       0.92      0.99      0.96       306\n",
            "         1.0       0.97      0.73      0.84        94\n",
            "\n",
            "    accuracy                           0.93       400\n",
            "   macro avg       0.95      0.86      0.90       400\n",
            "weighted avg       0.94      0.93      0.93       400\n",
            "\n"
          ]
        }
      ],
      "source": [
        "print(classification_report(df['effective'], df['effective_m']))"
      ]
    },
    {
      "cell_type": "code",
      "execution_count": 49,
      "id": "474b0c3f",
      "metadata": {
        "id": "474b0c3f",
        "outputId": "d2181cc8-7386-4bf5-af56-3478741657cc"
      },
      "outputs": [
        {
          "name": "stdout",
          "output_type": "stream",
          "text": [
            "ROC AUC : 0.8638\n"
          ]
        }
      ],
      "source": [
        "ROC_AUC = roc_auc_score(df['effective'], df['effective_m'])\n",
        "print('ROC AUC : {:.4f}'.format(ROC_AUC))"
      ]
    },
    {
      "cell_type": "markdown",
      "id": "b47d17ad",
      "metadata": {
        "id": "b47d17ad"
      },
      "source": [
        "### 4) ease of use"
      ]
    },
    {
      "cell_type": "code",
      "execution_count": 50,
      "id": "67838b99",
      "metadata": {
        "id": "67838b99",
        "outputId": "ca4faf82-f529-41e2-924d-06b9bd08bd64"
      },
      "outputs": [
        {
          "name": "stdout",
          "output_type": "stream",
          "text": [
            "              precision    recall  f1-score   support\n",
            "\n",
            "         0.0       0.99      0.93      0.96       381\n",
            "         1.0       0.34      0.74      0.47        19\n",
            "\n",
            "    accuracy                           0.92       400\n",
            "   macro avg       0.66      0.83      0.71       400\n",
            "weighted avg       0.96      0.92      0.93       400\n",
            "\n"
          ]
        }
      ],
      "source": [
        "print(classification_report(df['ease of use'], df['ease of use_m']))"
      ]
    },
    {
      "cell_type": "code",
      "execution_count": 51,
      "id": "63ede02e",
      "metadata": {
        "id": "63ede02e",
        "outputId": "bdceb5c1-4dbf-4308-9883-dd09c26b6701"
      },
      "outputs": [
        {
          "name": "stdout",
          "output_type": "stream",
          "text": [
            "ROC AUC : 0.8330\n"
          ]
        }
      ],
      "source": [
        "ROC_AUC = roc_auc_score(df['ease of use'], df['ease of use_m'])\n",
        "print('ROC AUC : {:.4f}'.format(ROC_AUC))"
      ]
    },
    {
      "cell_type": "markdown",
      "id": "47364dae",
      "metadata": {
        "id": "47364dae"
      },
      "source": [
        "## Compare zero-shot against a Naive classifier"
      ]
    },
    {
      "cell_type": "code",
      "execution_count": 52,
      "id": "7eabf21e",
      "metadata": {
        "id": "7eabf21e"
      },
      "outputs": [],
      "source": [
        "def naive(list):\n",
        "    avg  = np.mean(list)\n",
        "\n",
        "    if avg >= 0.5:\n",
        "        i = 1\n",
        "    else:\n",
        "        i = 0\n",
        "\n",
        "    return([i] * len(list))\n",
        "df['naive_cost'] = naive(df['cost'])\n",
        "df['naive_efficient'] = naive(df['efficient'])\n",
        "df['naive_effective'] = naive(df['effective'])\n",
        "df['naive_easeofuse'] = naive(df['ease of use'])"
      ]
    },
    {
      "cell_type": "code",
      "execution_count": 53,
      "id": "141957b5",
      "metadata": {
        "id": "141957b5",
        "outputId": "f48584ac-75d6-48dd-dd21-d19a6c05f642"
      },
      "outputs": [
        {
          "name": "stdout",
          "output_type": "stream",
          "text": [
            "              precision    recall  f1-score   support\n",
            "\n",
            "         0.0       0.97      1.00      0.98       388\n",
            "         1.0       0.00      0.00      0.00        12\n",
            "\n",
            "    accuracy                           0.97       400\n",
            "   macro avg       0.48      0.50      0.49       400\n",
            "weighted avg       0.94      0.97      0.96       400\n",
            "\n"
          ]
        },
        {
          "name": "stderr",
          "output_type": "stream",
          "text": [
            "c:\\Users\\Woon\\AppData\\Local\\Programs\\Python\\Python310\\lib\\site-packages\\sklearn\\metrics\\_classification.py:1327: UndefinedMetricWarning: Precision and F-score are ill-defined and being set to 0.0 in labels with no predicted samples. Use `zero_division` parameter to control this behavior.\n",
            "  _warn_prf(average, modifier, msg_start, len(result))\n",
            "c:\\Users\\Woon\\AppData\\Local\\Programs\\Python\\Python310\\lib\\site-packages\\sklearn\\metrics\\_classification.py:1327: UndefinedMetricWarning: Precision and F-score are ill-defined and being set to 0.0 in labels with no predicted samples. Use `zero_division` parameter to control this behavior.\n",
            "  _warn_prf(average, modifier, msg_start, len(result))\n",
            "c:\\Users\\Woon\\AppData\\Local\\Programs\\Python\\Python310\\lib\\site-packages\\sklearn\\metrics\\_classification.py:1327: UndefinedMetricWarning: Precision and F-score are ill-defined and being set to 0.0 in labels with no predicted samples. Use `zero_division` parameter to control this behavior.\n",
            "  _warn_prf(average, modifier, msg_start, len(result))\n"
          ]
        }
      ],
      "source": [
        "# cost\n",
        "print(classification_report(df['cost'], df['naive_cost']))"
      ]
    },
    {
      "cell_type": "code",
      "execution_count": 54,
      "id": "c447c3eb",
      "metadata": {
        "id": "c447c3eb",
        "outputId": "1e616b48-0e62-4049-efe1-4ee9dd4093ac"
      },
      "outputs": [
        {
          "name": "stdout",
          "output_type": "stream",
          "text": [
            "              precision    recall  f1-score   support\n",
            "\n",
            "         0.0       0.91      1.00      0.95       363\n",
            "         1.0       0.00      0.00      0.00        37\n",
            "\n",
            "    accuracy                           0.91       400\n",
            "   macro avg       0.45      0.50      0.48       400\n",
            "weighted avg       0.82      0.91      0.86       400\n",
            "\n"
          ]
        },
        {
          "name": "stderr",
          "output_type": "stream",
          "text": [
            "c:\\Users\\Woon\\AppData\\Local\\Programs\\Python\\Python310\\lib\\site-packages\\sklearn\\metrics\\_classification.py:1327: UndefinedMetricWarning: Precision and F-score are ill-defined and being set to 0.0 in labels with no predicted samples. Use `zero_division` parameter to control this behavior.\n",
            "  _warn_prf(average, modifier, msg_start, len(result))\n",
            "c:\\Users\\Woon\\AppData\\Local\\Programs\\Python\\Python310\\lib\\site-packages\\sklearn\\metrics\\_classification.py:1327: UndefinedMetricWarning: Precision and F-score are ill-defined and being set to 0.0 in labels with no predicted samples. Use `zero_division` parameter to control this behavior.\n",
            "  _warn_prf(average, modifier, msg_start, len(result))\n",
            "c:\\Users\\Woon\\AppData\\Local\\Programs\\Python\\Python310\\lib\\site-packages\\sklearn\\metrics\\_classification.py:1327: UndefinedMetricWarning: Precision and F-score are ill-defined and being set to 0.0 in labels with no predicted samples. Use `zero_division` parameter to control this behavior.\n",
            "  _warn_prf(average, modifier, msg_start, len(result))\n"
          ]
        }
      ],
      "source": [
        "# efficient\n",
        "print(classification_report(df['efficient'], df['naive_efficient']))"
      ]
    },
    {
      "cell_type": "code",
      "execution_count": 55,
      "id": "918768f8",
      "metadata": {
        "id": "918768f8",
        "outputId": "abe36870-09a6-4c22-f2ef-61b2bea9eedb"
      },
      "outputs": [
        {
          "name": "stdout",
          "output_type": "stream",
          "text": [
            "              precision    recall  f1-score   support\n",
            "\n",
            "         0.0       0.77      1.00      0.87       306\n",
            "         1.0       0.00      0.00      0.00        94\n",
            "\n",
            "    accuracy                           0.77       400\n",
            "   macro avg       0.38      0.50      0.43       400\n",
            "weighted avg       0.59      0.77      0.66       400\n",
            "\n"
          ]
        },
        {
          "name": "stderr",
          "output_type": "stream",
          "text": [
            "c:\\Users\\Woon\\AppData\\Local\\Programs\\Python\\Python310\\lib\\site-packages\\sklearn\\metrics\\_classification.py:1327: UndefinedMetricWarning: Precision and F-score are ill-defined and being set to 0.0 in labels with no predicted samples. Use `zero_division` parameter to control this behavior.\n",
            "  _warn_prf(average, modifier, msg_start, len(result))\n",
            "c:\\Users\\Woon\\AppData\\Local\\Programs\\Python\\Python310\\lib\\site-packages\\sklearn\\metrics\\_classification.py:1327: UndefinedMetricWarning: Precision and F-score are ill-defined and being set to 0.0 in labels with no predicted samples. Use `zero_division` parameter to control this behavior.\n",
            "  _warn_prf(average, modifier, msg_start, len(result))\n",
            "c:\\Users\\Woon\\AppData\\Local\\Programs\\Python\\Python310\\lib\\site-packages\\sklearn\\metrics\\_classification.py:1327: UndefinedMetricWarning: Precision and F-score are ill-defined and being set to 0.0 in labels with no predicted samples. Use `zero_division` parameter to control this behavior.\n",
            "  _warn_prf(average, modifier, msg_start, len(result))\n"
          ]
        }
      ],
      "source": [
        "# effective\n",
        "print(classification_report(df['effective'], df['naive_effective']))"
      ]
    },
    {
      "cell_type": "code",
      "execution_count": 56,
      "id": "f4ee6d6f",
      "metadata": {
        "id": "f4ee6d6f",
        "outputId": "4c80dde4-8c92-4f50-c37e-4fa11bdb55ed"
      },
      "outputs": [
        {
          "name": "stdout",
          "output_type": "stream",
          "text": [
            "              precision    recall  f1-score   support\n",
            "\n",
            "         0.0       0.95      1.00      0.98       381\n",
            "         1.0       0.00      0.00      0.00        19\n",
            "\n",
            "    accuracy                           0.95       400\n",
            "   macro avg       0.48      0.50      0.49       400\n",
            "weighted avg       0.91      0.95      0.93       400\n",
            "\n"
          ]
        },
        {
          "name": "stderr",
          "output_type": "stream",
          "text": [
            "c:\\Users\\Woon\\AppData\\Local\\Programs\\Python\\Python310\\lib\\site-packages\\sklearn\\metrics\\_classification.py:1327: UndefinedMetricWarning: Precision and F-score are ill-defined and being set to 0.0 in labels with no predicted samples. Use `zero_division` parameter to control this behavior.\n",
            "  _warn_prf(average, modifier, msg_start, len(result))\n",
            "c:\\Users\\Woon\\AppData\\Local\\Programs\\Python\\Python310\\lib\\site-packages\\sklearn\\metrics\\_classification.py:1327: UndefinedMetricWarning: Precision and F-score are ill-defined and being set to 0.0 in labels with no predicted samples. Use `zero_division` parameter to control this behavior.\n",
            "  _warn_prf(average, modifier, msg_start, len(result))\n",
            "c:\\Users\\Woon\\AppData\\Local\\Programs\\Python\\Python310\\lib\\site-packages\\sklearn\\metrics\\_classification.py:1327: UndefinedMetricWarning: Precision and F-score are ill-defined and being set to 0.0 in labels with no predicted samples. Use `zero_division` parameter to control this behavior.\n",
            "  _warn_prf(average, modifier, msg_start, len(result))\n"
          ]
        }
      ],
      "source": [
        "# ease of use\n",
        "print(classification_report(df['ease of use'], df['naive_easeofuse']))"
      ]
    },
    {
      "cell_type": "code",
      "execution_count": 57,
      "id": "8c97ab99",
      "metadata": {
        "id": "8c97ab99"
      },
      "outputs": [],
      "source": [
        "df.to_csv('aggregated_evaluation.csv')"
      ]
    },
    {
      "cell_type": "markdown",
      "id": "71153cbd",
      "metadata": {
        "id": "71153cbd"
      },
      "source": [
        "# Visualization"
      ]
    },
    {
      "cell_type": "code",
      "execution_count": 58,
      "id": "d57b9a9d",
      "metadata": {
        "colab": {
          "base_uri": "https://localhost:8080/"
        },
        "id": "d57b9a9d",
        "outputId": "996f965c-a2fd-4204-accb-3ac353f63145"
      },
      "outputs": [],
      "source": [
        "report_sentiment = classification_report(df['sentiment'], df['sentiment_m'], output_dict=True)\n",
        "\n",
        "def accuracy(type):\n",
        "  report = classification_report(df[type], df[type+'_m'], output_dict=True)\n",
        "  return (type, report['accuracy'])\n",
        "\n",
        "def accuracy_matrix(type):\n",
        "  report = classification_report(df[type], df[type+'_m'], output_dict=True)\n",
        "  data= np.ones((100, 100))\n",
        "  data[0:int(report_sentiment['accuracy']*100),0:int(report['accuracy']*100)] = 0.0 \n",
        "  return data"
      ]
    },
    {
      "cell_type": "code",
      "execution_count": 59,
      "id": "da8b8de6",
      "metadata": {
        "id": "da8b8de6"
      },
      "outputs": [],
      "source": [
        "%matplotlib inline\n",
        "%config InlineBackend.figure_format='retina'\n",
        "import numpy as np\n",
        "from matplotlib import pyplot as plt\n",
        "import matplotlib\n",
        "import matplotlib.ticker as mticker  \n",
        "import matplotlib.patches as mpatches"
      ]
    },
    {
      "cell_type": "code",
      "execution_count": 62,
      "id": "964b864a",
      "metadata": {
        "colab": {
          "base_uri": "https://localhost:8080/",
          "height": 721
        },
        "id": "964b864a",
        "outputId": "e86d8c9e-b582-4784-c932-fe2148a4f0ce"
      },
      "outputs": [
        {
          "data": {
            "text/plain": [
              "Text(0.5, 0, 'cost accuracy')"
            ]
          },
          "execution_count": 62,
          "metadata": {},
          "output_type": "execute_result"
        },
        {
          "data": {
            "text/plain": [
              "Text(0, 0.5, 'sentiment accuracy')"
            ]
          },
          "execution_count": 62,
          "metadata": {},
          "output_type": "execute_result"
        },
        {
          "data": {
            "text/plain": [
              "Text(0, 0.5, 'sentiment accuracy')"
            ]
          },
          "execution_count": 62,
          "metadata": {},
          "output_type": "execute_result"
        },
        {
          "data": {
            "text/plain": [
              "Text(0.5, 0, 'ease of use accuracy')"
            ]
          },
          "execution_count": 62,
          "metadata": {},
          "output_type": "execute_result"
        },
        {
          "data": {
            "text/plain": [
              "Text(0.5, 0, 'effectiveness accuracy')"
            ]
          },
          "execution_count": 62,
          "metadata": {},
          "output_type": "execute_result"
        },
        {
          "data": {
            "text/plain": [
              "Text(0.5, 0, 'efficiency accuracy')"
            ]
          },
          "execution_count": 62,
          "metadata": {},
          "output_type": "execute_result"
        },
        {
          "data": {
            "text/plain": [
              "Text(40, 45, 'Accuracy: 90.96%')"
            ]
          },
          "execution_count": 62,
          "metadata": {},
          "output_type": "execute_result"
        },
        {
          "data": {
            "text/plain": [
              "Text(40, 45, 'Accuracy: 87.86%')"
            ]
          },
          "execution_count": 62,
          "metadata": {},
          "output_type": "execute_result"
        },
        {
          "data": {
            "text/plain": [
              "Text(40, 45, 'Accuracy: 89.05%')"
            ]
          },
          "execution_count": 62,
          "metadata": {},
          "output_type": "execute_result"
        },
        {
          "data": {
            "text/plain": [
              "Text(40, 45, 'Accuracy: 83.08%')"
            ]
          },
          "execution_count": 62,
          "metadata": {},
          "output_type": "execute_result"
        },
        {
          "data": {
            "text/plain": [
              "[]"
            ]
          },
          "execution_count": 62,
          "metadata": {},
          "output_type": "execute_result"
        },
        {
          "data": {
            "text/plain": [
              "[]"
            ]
          },
          "execution_count": 62,
          "metadata": {},
          "output_type": "execute_result"
        },
        {
          "data": {
            "text/plain": [
              "[]"
            ]
          },
          "execution_count": 62,
          "metadata": {},
          "output_type": "execute_result"
        },
        {
          "data": {
            "text/plain": [
              "[]"
            ]
          },
          "execution_count": 62,
          "metadata": {},
          "output_type": "execute_result"
        },
        {
          "data": {
            "text/plain": [
              "[]"
            ]
          },
          "execution_count": 62,
          "metadata": {},
          "output_type": "execute_result"
        },
        {
          "data": {
            "text/plain": [
              "[]"
            ]
          },
          "execution_count": 62,
          "metadata": {},
          "output_type": "execute_result"
        },
        {
          "data": {
            "text/plain": [
              "[]"
            ]
          },
          "execution_count": 62,
          "metadata": {},
          "output_type": "execute_result"
        },
        {
          "data": {
            "text/plain": [
              "[]"
            ]
          },
          "execution_count": 62,
          "metadata": {},
          "output_type": "execute_result"
        },
        {
          "data": {
            "text/plain": [
              "<matplotlib.legend.Legend at 0x2aa503d5750>"
            ]
          },
          "execution_count": 62,
          "metadata": {},
          "output_type": "execute_result"
        },
        {
          "data": {
            "image/png": "[encoded data removed]",
            "text/plain": [
              "<Figure size 720x720 with 4 Axes>"
            ]
          },
          "metadata": {
            "image/png": {
              "height": 656,
              "width": 653
            }
          },
          "output_type": "display_data"
        }
      ],
      "source": [
        "#fig, ax = plt.subplots()\n",
        "fig, ((ax1, ax2), (ax3, ax4)) = plt.subplots(2, 2, sharex=True, sharey=True)\n",
        "\n",
        "fig.set_figheight(10)\n",
        "fig.set_figwidth(10)\n",
        "\n",
        "img1 = ax1.imshow(accuracy_matrix('cost'),cmap='coolwarm',origin='lower')\n",
        "img2 = ax2.imshow(accuracy_matrix('ease of use'),cmap='coolwarm',origin='lower')\n",
        "img3 = ax3.imshow(accuracy_matrix('effective'),cmap='coolwarm',origin='lower')\n",
        "img4 = ax4.imshow(accuracy_matrix('efficient'),cmap='coolwarm',origin='lower')\n",
        "\n",
        "img1=plt.gca().xaxis.set_major_formatter(mticker.PercentFormatter())\n",
        "img1=plt.gca().yaxis.set_major_formatter(mticker.PercentFormatter())\n",
        "\n",
        "ax1.set_xlabel('cost accuracy')\n",
        "ax1.set_ylabel('sentiment accuracy')\n",
        "ax3.set_ylabel('sentiment accuracy')\n",
        "ax2.set_xlabel('ease of use accuracy')\n",
        "ax3.set_xlabel('effectiveness accuracy')\n",
        "ax4.set_xlabel('efficiency accuracy')\n",
        "\n",
        "ax1.text(40, 45, 'Accuracy: '+ str(round(report_sentiment['accuracy']*accuracy('cost')[1]*100,2))+'%', fontsize=13, c='white',ha='center')\n",
        "ax2.text(40, 45, 'Accuracy: '+ str(round(report_sentiment['accuracy']*accuracy('ease of use')[1]*100,2))+'%', fontsize=13, c='white',ha='center')\n",
        "ax3.text(40, 45, 'Accuracy: '+ str(round(report_sentiment['accuracy']*accuracy('effective')[1]*100,2))+'%', fontsize=13, c='white',ha='center')\n",
        "ax4.text(40, 45, 'Accuracy: '+ str(round(report_sentiment['accuracy']*accuracy('efficient')[1]*100,2))+'%', fontsize=13, c='white',ha='center')\n",
        "\n",
        "ax1.set_xticks([])\n",
        "ax1.set_yticks([])\n",
        "ax2.set_xticks([])\n",
        "ax2.set_yticks([])\n",
        "ax3.set_xticks([])\n",
        "ax3.set_yticks([])\n",
        "ax4.set_xticks([])\n",
        "ax4.set_yticks([])\n",
        "\n",
        "blue_patch = mpatches.Patch(color='blue', label='Accurate')\n",
        "red_patch = mpatches.Patch(color='red', label='Inaccurate')\n",
        "fig.legend(handles=[blue_patch, red_patch],loc='upper right',fontsize='x-large')"
      ]
    },
    {
      "cell_type": "code",
      "execution_count": null,
      "id": "oDTucNrvAKfa",
      "metadata": {
        "id": "oDTucNrvAKfa"
      },
      "outputs": [],
      "source": []
    },
    {
      "cell_type": "code",
      "execution_count": null,
      "id": "08de881b",
      "metadata": {},
      "outputs": [],
      "source": []
    }
  ],
  "metadata": {
    "colab": {
      "provenance": []
    },
    "kernelspec": {
      "display_name": "Python 3.10.1 64-bit",
      "language": "python",
      "name": "python3"
    },
    "language_info": {
      "codemirror_mode": {
        "name": "ipython",
        "version": 3
      },
      "file_extension": ".py",
      "mimetype": "text/x-python",
      "name": "python",
      "nbconvert_exporter": "python",
      "pygments_lexer": "ipython3",
      "version": "3.10.1"
    },
    "vscode": {
      "interpreter": {
        "hash": "998c911629ba937bcf1bf80465453e12e8c5c2c818cb936f93ef7cf495a937a9"
      }
    },
    "widgets": {
      "application/vnd.jupyter.widget-state+json": {
        "0448e6a62d0b4fb99112b13c931b1731": {
          "model_module": "@jupyter-widgets/base",
          "model_module_version": "1.2.0",
          "model_name": "LayoutModel",
          "state": {
            "_model_module": "@jupyter-widgets/base",
            "_model_module_version": "1.2.0",
            "_model_name": "LayoutModel",
            "_view_count": null,
            "_view_module": "@jupyter-widgets/base",
            "_view_module_version": "1.2.0",
            "_view_name": "LayoutView",
            "align_content": null,
            "align_items": null,
            "align_self": null,
            "border": null,
            "bottom": null,
            "display": null,
            "flex": null,
            "flex_flow": null,
            "grid_area": null,
            "grid_auto_columns": null,
            "grid_auto_flow": null,
            "grid_auto_rows": null,
            "grid_column": null,
            "grid_gap": null,
            "grid_row": null,
            "grid_template_areas": null,
            "grid_template_columns": null,
            "grid_template_rows": null,
            "height": null,
            "justify_content": null,
            "justify_items": null,
            "left": null,
            "margin": null,
            "max_height": null,
            "max_width": null,
            "min_height": null,
            "min_width": null,
            "object_fit": null,
            "object_position": null,
            "order": null,
            "overflow": null,
            "overflow_x": null,
            "overflow_y": null,
            "padding": null,
            "right": null,
            "top": null,
            "visibility": null,
            "width": null
          }
        },
        "067d431c2ba8402dafa7ee9d756e727a": {
          "model_module": "@jupyter-widgets/controls",
          "model_module_version": "1.5.0",
          "model_name": "DescriptionStyleModel",
          "state": {
            "_model_module": "@jupyter-widgets/controls",
            "_model_module_version": "1.5.0",
            "_model_name": "DescriptionStyleModel",
            "_view_count": null,
            "_view_module": "@jupyter-widgets/base",
            "_view_module_version": "1.2.0",
            "_view_name": "StyleView",
            "description_width": ""
          }
        },
        "06c09f76ef26429ea59505e5ae11e732": {
          "model_module": "@jupyter-widgets/base",
          "model_module_version": "1.2.0",
          "model_name": "LayoutModel",
          "state": {
            "_model_module": "@jupyter-widgets/base",
            "_model_module_version": "1.2.0",
            "_model_name": "LayoutModel",
            "_view_count": null,
            "_view_module": "@jupyter-widgets/base",
            "_view_module_version": "1.2.0",
            "_view_name": "LayoutView",
            "align_content": null,
            "align_items": null,
            "align_self": null,
            "border": null,
            "bottom": null,
            "display": null,
            "flex": null,
            "flex_flow": null,
            "grid_area": null,
            "grid_auto_columns": null,
            "grid_auto_flow": null,
            "grid_auto_rows": null,
            "grid_column": null,
            "grid_gap": null,
            "grid_row": null,
            "grid_template_areas": null,
            "grid_template_columns": null,
            "grid_template_rows": null,
            "height": null,
            "justify_content": null,
            "justify_items": null,
            "left": null,
            "margin": null,
            "max_height": null,
            "max_width": null,
            "min_height": null,
            "min_width": null,
            "object_fit": null,
            "object_position": null,
            "order": null,
            "overflow": null,
            "overflow_x": null,
            "overflow_y": null,
            "padding": null,
            "right": null,
            "top": null,
            "visibility": null,
            "width": null
          }
        },
        "0d3a1f3d5d3d489cb6de313513d410ba": {
          "model_module": "@jupyter-widgets/base",
          "model_module_version": "1.2.0",
          "model_name": "LayoutModel",
          "state": {
            "_model_module": "@jupyter-widgets/base",
            "_model_module_version": "1.2.0",
            "_model_name": "LayoutModel",
            "_view_count": null,
            "_view_module": "@jupyter-widgets/base",
            "_view_module_version": "1.2.0",
            "_view_name": "LayoutView",
            "align_content": null,
            "align_items": null,
            "align_self": null,
            "border": null,
            "bottom": null,
            "display": null,
            "flex": null,
            "flex_flow": null,
            "grid_area": null,
            "grid_auto_columns": null,
            "grid_auto_flow": null,
            "grid_auto_rows": null,
            "grid_column": null,
            "grid_gap": null,
            "grid_row": null,
            "grid_template_areas": null,
            "grid_template_columns": null,
            "grid_template_rows": null,
            "height": null,
            "justify_content": null,
            "justify_items": null,
            "left": null,
            "margin": null,
            "max_height": null,
            "max_width": null,
            "min_height": null,
            "min_width": null,
            "object_fit": null,
            "object_position": null,
            "order": null,
            "overflow": null,
            "overflow_x": null,
            "overflow_y": null,
            "padding": null,
            "right": null,
            "top": null,
            "visibility": null,
            "width": null
          }
        },
        "1e96c8f32d65459987f5be646fa18826": {
          "model_module": "@jupyter-widgets/controls",
          "model_module_version": "1.5.0",
          "model_name": "HTMLModel",
          "state": {
            "_dom_classes": [],
            "_model_module": "@jupyter-widgets/controls",
            "_model_module_version": "1.5.0",
            "_model_name": "HTMLModel",
            "_view_count": null,
            "_view_module": "@jupyter-widgets/controls",
            "_view_module_version": "1.5.0",
            "_view_name": "HTMLView",
            "description": "",
            "description_tooltip": null,
            "layout": "IPY_MODEL_c5c31fcc99424c8297d6afcd1617428f",
            "placeholder": "​",
            "style": "IPY_MODEL_ce16c0b38168435fac8b5873c4d9b4ac",
            "value": "Downloading: 100%"
          }
        },
        "1ecff6c8691b4db1a0034db2ead123d5": {
          "model_module": "@jupyter-widgets/base",
          "model_module_version": "1.2.0",
          "model_name": "LayoutModel",
          "state": {
            "_model_module": "@jupyter-widgets/base",
            "_model_module_version": "1.2.0",
            "_model_name": "LayoutModel",
            "_view_count": null,
            "_view_module": "@jupyter-widgets/base",
            "_view_module_version": "1.2.0",
            "_view_name": "LayoutView",
            "align_content": null,
            "align_items": null,
            "align_self": null,
            "border": null,
            "bottom": null,
            "display": null,
            "flex": null,
            "flex_flow": null,
            "grid_area": null,
            "grid_auto_columns": null,
            "grid_auto_flow": null,
            "grid_auto_rows": null,
            "grid_column": null,
            "grid_gap": null,
            "grid_row": null,
            "grid_template_areas": null,
            "grid_template_columns": null,
            "grid_template_rows": null,
            "height": null,
            "justify_content": null,
            "justify_items": null,
            "left": null,
            "margin": null,
            "max_height": null,
            "max_width": null,
            "min_height": null,
            "min_width": null,
            "object_fit": null,
            "object_position": null,
            "order": null,
            "overflow": null,
            "overflow_x": null,
            "overflow_y": null,
            "padding": null,
            "right": null,
            "top": null,
            "visibility": null,
            "width": null
          }
        },
        "227c98f25dca4ff9a9d95251a5032899": {
          "model_module": "@jupyter-widgets/base",
          "model_module_version": "1.2.0",
          "model_name": "LayoutModel",
          "state": {
            "_model_module": "@jupyter-widgets/base",
            "_model_module_version": "1.2.0",
            "_model_name": "LayoutModel",
            "_view_count": null,
            "_view_module": "@jupyter-widgets/base",
            "_view_module_version": "1.2.0",
            "_view_name": "LayoutView",
            "align_content": null,
            "align_items": null,
            "align_self": null,
            "border": null,
            "bottom": null,
            "display": null,
            "flex": null,
            "flex_flow": null,
            "grid_area": null,
            "grid_auto_columns": null,
            "grid_auto_flow": null,
            "grid_auto_rows": null,
            "grid_column": null,
            "grid_gap": null,
            "grid_row": null,
            "grid_template_areas": null,
            "grid_template_columns": null,
            "grid_template_rows": null,
            "height": null,
            "justify_content": null,
            "justify_items": null,
            "left": null,
            "margin": null,
            "max_height": null,
            "max_width": null,
            "min_height": null,
            "min_width": null,
            "object_fit": null,
            "object_position": null,
            "order": null,
            "overflow": null,
            "overflow_x": null,
            "overflow_y": null,
            "padding": null,
            "right": null,
            "top": null,
            "visibility": null,
            "width": null
          }
        },
        "242616cd85f44500ba3dac92d61b22fb": {
          "model_module": "@jupyter-widgets/base",
          "model_module_version": "1.2.0",
          "model_name": "LayoutModel",
          "state": {
            "_model_module": "@jupyter-widgets/base",
            "_model_module_version": "1.2.0",
            "_model_name": "LayoutModel",
            "_view_count": null,
            "_view_module": "@jupyter-widgets/base",
            "_view_module_version": "1.2.0",
            "_view_name": "LayoutView",
            "align_content": null,
            "align_items": null,
            "align_self": null,
            "border": null,
            "bottom": null,
            "display": null,
            "flex": null,
            "flex_flow": null,
            "grid_area": null,
            "grid_auto_columns": null,
            "grid_auto_flow": null,
            "grid_auto_rows": null,
            "grid_column": null,
            "grid_gap": null,
            "grid_row": null,
            "grid_template_areas": null,
            "grid_template_columns": null,
            "grid_template_rows": null,
            "height": null,
            "justify_content": null,
            "justify_items": null,
            "left": null,
            "margin": null,
            "max_height": null,
            "max_width": null,
            "min_height": null,
            "min_width": null,
            "object_fit": null,
            "object_position": null,
            "order": null,
            "overflow": null,
            "overflow_x": null,
            "overflow_y": null,
            "padding": null,
            "right": null,
            "top": null,
            "visibility": null,
            "width": null
          }
        },
        "276d2f8d73314baca5d404200fd125f7": {
          "model_module": "@jupyter-widgets/controls",
          "model_module_version": "1.5.0",
          "model_name": "HBoxModel",
          "state": {
            "_dom_classes": [],
            "_model_module": "@jupyter-widgets/controls",
            "_model_module_version": "1.5.0",
            "_model_name": "HBoxModel",
            "_view_count": null,
            "_view_module": "@jupyter-widgets/controls",
            "_view_module_version": "1.5.0",
            "_view_name": "HBoxView",
            "box_style": "",
            "children": [
              "IPY_MODEL_61bb4e92e84a4bcfa5a5ddde36def65c",
              "IPY_MODEL_f8b28c8c464a46d79903bb67f2ab498a",
              "IPY_MODEL_7fb0fecfb79743f8870ee9d4993d8b48"
            ],
            "layout": "IPY_MODEL_242616cd85f44500ba3dac92d61b22fb"
          }
        },
        "2c06f0c58d374b6ea179658778059483": {
          "model_module": "@jupyter-widgets/base",
          "model_module_version": "1.2.0",
          "model_name": "LayoutModel",
          "state": {
            "_model_module": "@jupyter-widgets/base",
            "_model_module_version": "1.2.0",
            "_model_name": "LayoutModel",
            "_view_count": null,
            "_view_module": "@jupyter-widgets/base",
            "_view_module_version": "1.2.0",
            "_view_name": "LayoutView",
            "align_content": null,
            "align_items": null,
            "align_self": null,
            "border": null,
            "bottom": null,
            "display": null,
            "flex": null,
            "flex_flow": null,
            "grid_area": null,
            "grid_auto_columns": null,
            "grid_auto_flow": null,
            "grid_auto_rows": null,
            "grid_column": null,
            "grid_gap": null,
            "grid_row": null,
            "grid_template_areas": null,
            "grid_template_columns": null,
            "grid_template_rows": null,
            "height": null,
            "justify_content": null,
            "justify_items": null,
            "left": null,
            "margin": null,
            "max_height": null,
            "max_width": null,
            "min_height": null,
            "min_width": null,
            "object_fit": null,
            "object_position": null,
            "order": null,
            "overflow": null,
            "overflow_x": null,
            "overflow_y": null,
            "padding": null,
            "right": null,
            "top": null,
            "visibility": null,
            "width": null
          }
        },
        "2fcdf9fe4e6d4dbd8fb0150cba4f715e": {
          "model_module": "@jupyter-widgets/controls",
          "model_module_version": "1.5.0",
          "model_name": "HTMLModel",
          "state": {
            "_dom_classes": [],
            "_model_module": "@jupyter-widgets/controls",
            "_model_module_version": "1.5.0",
            "_model_name": "HTMLModel",
            "_view_count": null,
            "_view_module": "@jupyter-widgets/controls",
            "_view_module_version": "1.5.0",
            "_view_name": "HTMLView",
            "description": "",
            "description_tooltip": null,
            "layout": "IPY_MODEL_66a3d6726a044296b6df7d76fb88abc8",
            "placeholder": "​",
            "style": "IPY_MODEL_b3752844b29f490d8a7d6d3659c29890",
            "value": "Downloading: 100%"
          }
        },
        "33a62b6b7c134f8ea3b14e74054a1456": {
          "model_module": "@jupyter-widgets/controls",
          "model_module_version": "1.5.0",
          "model_name": "HBoxModel",
          "state": {
            "_dom_classes": [],
            "_model_module": "@jupyter-widgets/controls",
            "_model_module_version": "1.5.0",
            "_model_name": "HBoxModel",
            "_view_count": null,
            "_view_module": "@jupyter-widgets/controls",
            "_view_module_version": "1.5.0",
            "_view_name": "HBoxView",
            "box_style": "",
            "children": [
              "IPY_MODEL_793848481bce4eaf87014409a6d4c50b",
              "IPY_MODEL_58dcb1363e6a4e2d94bf91abfebb4d2b",
              "IPY_MODEL_ee3c3d5cfded411c9c1fd2dee27ee1fb"
            ],
            "layout": "IPY_MODEL_0d3a1f3d5d3d489cb6de313513d410ba"
          }
        },
        "3468b04e63a94ef1bc4646875fdafeb7": {
          "model_module": "@jupyter-widgets/controls",
          "model_module_version": "1.5.0",
          "model_name": "FloatProgressModel",
          "state": {
            "_dom_classes": [],
            "_model_module": "@jupyter-widgets/controls",
            "_model_module_version": "1.5.0",
            "_model_name": "FloatProgressModel",
            "_view_count": null,
            "_view_module": "@jupyter-widgets/controls",
            "_view_module_version": "1.5.0",
            "_view_name": "ProgressView",
            "bar_style": "success",
            "description": "",
            "description_tooltip": null,
            "layout": "IPY_MODEL_9284e138fb3b4d3f8694940d4158eed6",
            "max": 898822,
            "min": 0,
            "orientation": "horizontal",
            "style": "IPY_MODEL_6d42d51319484651a8710e7cf82c4609",
            "value": 898822
          }
        },
        "377cc077d2b74dda9691d5f5122068b9": {
          "model_module": "@jupyter-widgets/controls",
          "model_module_version": "1.5.0",
          "model_name": "HBoxModel",
          "state": {
            "_dom_classes": [],
            "_model_module": "@jupyter-widgets/controls",
            "_model_module_version": "1.5.0",
            "_model_name": "HBoxModel",
            "_view_count": null,
            "_view_module": "@jupyter-widgets/controls",
            "_view_module_version": "1.5.0",
            "_view_name": "HBoxView",
            "box_style": "",
            "children": [
              "IPY_MODEL_2fcdf9fe4e6d4dbd8fb0150cba4f715e",
              "IPY_MODEL_3468b04e63a94ef1bc4646875fdafeb7",
              "IPY_MODEL_c8d8e45226f34e218183f19d2a5007c5"
            ],
            "layout": "IPY_MODEL_a7fa176350054ae99af19b6618ec174c"
          }
        },
        "477c7586b2d84c87aa10695cea2a74d2": {
          "model_module": "@jupyter-widgets/controls",
          "model_module_version": "1.5.0",
          "model_name": "DescriptionStyleModel",
          "state": {
            "_model_module": "@jupyter-widgets/controls",
            "_model_module_version": "1.5.0",
            "_model_name": "DescriptionStyleModel",
            "_view_count": null,
            "_view_module": "@jupyter-widgets/base",
            "_view_module_version": "1.2.0",
            "_view_name": "StyleView",
            "description_width": ""
          }
        },
        "512dac46fdb347ec99d78dc55a1923e7": {
          "model_module": "@jupyter-widgets/base",
          "model_module_version": "1.2.0",
          "model_name": "LayoutModel",
          "state": {
            "_model_module": "@jupyter-widgets/base",
            "_model_module_version": "1.2.0",
            "_model_name": "LayoutModel",
            "_view_count": null,
            "_view_module": "@jupyter-widgets/base",
            "_view_module_version": "1.2.0",
            "_view_name": "LayoutView",
            "align_content": null,
            "align_items": null,
            "align_self": null,
            "border": null,
            "bottom": null,
            "display": null,
            "flex": null,
            "flex_flow": null,
            "grid_area": null,
            "grid_auto_columns": null,
            "grid_auto_flow": null,
            "grid_auto_rows": null,
            "grid_column": null,
            "grid_gap": null,
            "grid_row": null,
            "grid_template_areas": null,
            "grid_template_columns": null,
            "grid_template_rows": null,
            "height": null,
            "justify_content": null,
            "justify_items": null,
            "left": null,
            "margin": null,
            "max_height": null,
            "max_width": null,
            "min_height": null,
            "min_width": null,
            "object_fit": null,
            "object_position": null,
            "order": null,
            "overflow": null,
            "overflow_x": null,
            "overflow_y": null,
            "padding": null,
            "right": null,
            "top": null,
            "visibility": null,
            "width": null
          }
        },
        "55eb3dfcab4741ee818ac7038c98882d": {
          "model_module": "@jupyter-widgets/controls",
          "model_module_version": "1.5.0",
          "model_name": "FloatProgressModel",
          "state": {
            "_dom_classes": [],
            "_model_module": "@jupyter-widgets/controls",
            "_model_module_version": "1.5.0",
            "_model_name": "FloatProgressModel",
            "_view_count": null,
            "_view_module": "@jupyter-widgets/controls",
            "_view_module_version": "1.5.0",
            "_view_name": "ProgressView",
            "bar_style": "success",
            "description": "",
            "description_tooltip": null,
            "layout": "IPY_MODEL_6a86e87d4dbb419e8781597bddd698aa",
            "max": 26,
            "min": 0,
            "orientation": "horizontal",
            "style": "IPY_MODEL_c13d5cce147a444b97ece62de01d81e9",
            "value": 26
          }
        },
        "57591c228cfe4a999170b20311cea6ae": {
          "model_module": "@jupyter-widgets/base",
          "model_module_version": "1.2.0",
          "model_name": "LayoutModel",
          "state": {
            "_model_module": "@jupyter-widgets/base",
            "_model_module_version": "1.2.0",
            "_model_name": "LayoutModel",
            "_view_count": null,
            "_view_module": "@jupyter-widgets/base",
            "_view_module_version": "1.2.0",
            "_view_name": "LayoutView",
            "align_content": null,
            "align_items": null,
            "align_self": null,
            "border": null,
            "bottom": null,
            "display": null,
            "flex": null,
            "flex_flow": null,
            "grid_area": null,
            "grid_auto_columns": null,
            "grid_auto_flow": null,
            "grid_auto_rows": null,
            "grid_column": null,
            "grid_gap": null,
            "grid_row": null,
            "grid_template_areas": null,
            "grid_template_columns": null,
            "grid_template_rows": null,
            "height": null,
            "justify_content": null,
            "justify_items": null,
            "left": null,
            "margin": null,
            "max_height": null,
            "max_width": null,
            "min_height": null,
            "min_width": null,
            "object_fit": null,
            "object_position": null,
            "order": null,
            "overflow": null,
            "overflow_x": null,
            "overflow_y": null,
            "padding": null,
            "right": null,
            "top": null,
            "visibility": null,
            "width": null
          }
        },
        "58dcb1363e6a4e2d94bf91abfebb4d2b": {
          "model_module": "@jupyter-widgets/controls",
          "model_module_version": "1.5.0",
          "model_name": "FloatProgressModel",
          "state": {
            "_dom_classes": [],
            "_model_module": "@jupyter-widgets/controls",
            "_model_module_version": "1.5.0",
            "_model_name": "FloatProgressModel",
            "_view_count": null,
            "_view_module": "@jupyter-widgets/controls",
            "_view_module_version": "1.5.0",
            "_view_name": "ProgressView",
            "bar_style": "success",
            "description": "",
            "description_tooltip": null,
            "layout": "IPY_MODEL_227c98f25dca4ff9a9d95251a5032899",
            "max": 1629486723,
            "min": 0,
            "orientation": "horizontal",
            "style": "IPY_MODEL_a24c793492e545cbb84200c37d6a19df",
            "value": 1629486723
          }
        },
        "5b309e7007e84efd854da972e7ef9eec": {
          "model_module": "@jupyter-widgets/controls",
          "model_module_version": "1.5.0",
          "model_name": "DescriptionStyleModel",
          "state": {
            "_model_module": "@jupyter-widgets/controls",
            "_model_module_version": "1.5.0",
            "_model_name": "DescriptionStyleModel",
            "_view_count": null,
            "_view_module": "@jupyter-widgets/base",
            "_view_module_version": "1.2.0",
            "_view_name": "StyleView",
            "description_width": ""
          }
        },
        "61bb4e92e84a4bcfa5a5ddde36def65c": {
          "model_module": "@jupyter-widgets/controls",
          "model_module_version": "1.5.0",
          "model_name": "HTMLModel",
          "state": {
            "_dom_classes": [],
            "_model_module": "@jupyter-widgets/controls",
            "_model_module_version": "1.5.0",
            "_model_name": "HTMLModel",
            "_view_count": null,
            "_view_module": "@jupyter-widgets/controls",
            "_view_module_version": "1.5.0",
            "_view_name": "HTMLView",
            "description": "",
            "description_tooltip": null,
            "layout": "IPY_MODEL_57591c228cfe4a999170b20311cea6ae",
            "placeholder": "​",
            "style": "IPY_MODEL_5b309e7007e84efd854da972e7ef9eec",
            "value": "Downloading: 100%"
          }
        },
        "6252178a12264995b017c4d0fcc84c9b": {
          "model_module": "@jupyter-widgets/controls",
          "model_module_version": "1.5.0",
          "model_name": "HBoxModel",
          "state": {
            "_dom_classes": [],
            "_model_module": "@jupyter-widgets/controls",
            "_model_module_version": "1.5.0",
            "_model_name": "HBoxModel",
            "_view_count": null,
            "_view_module": "@jupyter-widgets/controls",
            "_view_module_version": "1.5.0",
            "_view_name": "HBoxView",
            "box_style": "",
            "children": [
              "IPY_MODEL_dcc54dc6cfa94397af5ef7adebfec62e",
              "IPY_MODEL_55eb3dfcab4741ee818ac7038c98882d",
              "IPY_MODEL_c9bf58aa55e04607befae2ca6996f5b4"
            ],
            "layout": "IPY_MODEL_2c06f0c58d374b6ea179658778059483"
          }
        },
        "66a3d6726a044296b6df7d76fb88abc8": {
          "model_module": "@jupyter-widgets/base",
          "model_module_version": "1.2.0",
          "model_name": "LayoutModel",
          "state": {
            "_model_module": "@jupyter-widgets/base",
            "_model_module_version": "1.2.0",
            "_model_name": "LayoutModel",
            "_view_count": null,
            "_view_module": "@jupyter-widgets/base",
            "_view_module_version": "1.2.0",
            "_view_name": "LayoutView",
            "align_content": null,
            "align_items": null,
            "align_self": null,
            "border": null,
            "bottom": null,
            "display": null,
            "flex": null,
            "flex_flow": null,
            "grid_area": null,
            "grid_auto_columns": null,
            "grid_auto_flow": null,
            "grid_auto_rows": null,
            "grid_column": null,
            "grid_gap": null,
            "grid_row": null,
            "grid_template_areas": null,
            "grid_template_columns": null,
            "grid_template_rows": null,
            "height": null,
            "justify_content": null,
            "justify_items": null,
            "left": null,
            "margin": null,
            "max_height": null,
            "max_width": null,
            "min_height": null,
            "min_width": null,
            "object_fit": null,
            "object_position": null,
            "order": null,
            "overflow": null,
            "overflow_x": null,
            "overflow_y": null,
            "padding": null,
            "right": null,
            "top": null,
            "visibility": null,
            "width": null
          }
        },
        "691647593caa4a6c8c64de40e0979068": {
          "model_module": "@jupyter-widgets/base",
          "model_module_version": "1.2.0",
          "model_name": "LayoutModel",
          "state": {
            "_model_module": "@jupyter-widgets/base",
            "_model_module_version": "1.2.0",
            "_model_name": "LayoutModel",
            "_view_count": null,
            "_view_module": "@jupyter-widgets/base",
            "_view_module_version": "1.2.0",
            "_view_name": "LayoutView",
            "align_content": null,
            "align_items": null,
            "align_self": null,
            "border": null,
            "bottom": null,
            "display": null,
            "flex": null,
            "flex_flow": null,
            "grid_area": null,
            "grid_auto_columns": null,
            "grid_auto_flow": null,
            "grid_auto_rows": null,
            "grid_column": null,
            "grid_gap": null,
            "grid_row": null,
            "grid_template_areas": null,
            "grid_template_columns": null,
            "grid_template_rows": null,
            "height": null,
            "justify_content": null,
            "justify_items": null,
            "left": null,
            "margin": null,
            "max_height": null,
            "max_width": null,
            "min_height": null,
            "min_width": null,
            "object_fit": null,
            "object_position": null,
            "order": null,
            "overflow": null,
            "overflow_x": null,
            "overflow_y": null,
            "padding": null,
            "right": null,
            "top": null,
            "visibility": null,
            "width": null
          }
        },
        "6a86e87d4dbb419e8781597bddd698aa": {
          "model_module": "@jupyter-widgets/base",
          "model_module_version": "1.2.0",
          "model_name": "LayoutModel",
          "state": {
            "_model_module": "@jupyter-widgets/base",
            "_model_module_version": "1.2.0",
            "_model_name": "LayoutModel",
            "_view_count": null,
            "_view_module": "@jupyter-widgets/base",
            "_view_module_version": "1.2.0",
            "_view_name": "LayoutView",
            "align_content": null,
            "align_items": null,
            "align_self": null,
            "border": null,
            "bottom": null,
            "display": null,
            "flex": null,
            "flex_flow": null,
            "grid_area": null,
            "grid_auto_columns": null,
            "grid_auto_flow": null,
            "grid_auto_rows": null,
            "grid_column": null,
            "grid_gap": null,
            "grid_row": null,
            "grid_template_areas": null,
            "grid_template_columns": null,
            "grid_template_rows": null,
            "height": null,
            "justify_content": null,
            "justify_items": null,
            "left": null,
            "margin": null,
            "max_height": null,
            "max_width": null,
            "min_height": null,
            "min_width": null,
            "object_fit": null,
            "object_position": null,
            "order": null,
            "overflow": null,
            "overflow_x": null,
            "overflow_y": null,
            "padding": null,
            "right": null,
            "top": null,
            "visibility": null,
            "width": null
          }
        },
        "6d42d51319484651a8710e7cf82c4609": {
          "model_module": "@jupyter-widgets/controls",
          "model_module_version": "1.5.0",
          "model_name": "ProgressStyleModel",
          "state": {
            "_model_module": "@jupyter-widgets/controls",
            "_model_module_version": "1.5.0",
            "_model_name": "ProgressStyleModel",
            "_view_count": null,
            "_view_module": "@jupyter-widgets/base",
            "_view_module_version": "1.2.0",
            "_view_name": "StyleView",
            "bar_color": null,
            "description_width": ""
          }
        },
        "71982c62479c4cfb99c91f2f5f8d3960": {
          "model_module": "@jupyter-widgets/controls",
          "model_module_version": "1.5.0",
          "model_name": "HTMLModel",
          "state": {
            "_dom_classes": [],
            "_model_module": "@jupyter-widgets/controls",
            "_model_module_version": "1.5.0",
            "_model_name": "HTMLModel",
            "_view_count": null,
            "_view_module": "@jupyter-widgets/controls",
            "_view_module_version": "1.5.0",
            "_view_name": "HTMLView",
            "description": "",
            "description_tooltip": null,
            "layout": "IPY_MODEL_86e4202311d74eb292bfbc11c74fc82e",
            "placeholder": "​",
            "style": "IPY_MODEL_fca498914fb74de1802bf7d235204864",
            "value": " 456k/456k [00:00&lt;00:00, 1.85MB/s]"
          }
        },
        "744e92530a5f4a73acf2bbad853c3dc7": {
          "model_module": "@jupyter-widgets/base",
          "model_module_version": "1.2.0",
          "model_name": "LayoutModel",
          "state": {
            "_model_module": "@jupyter-widgets/base",
            "_model_module_version": "1.2.0",
            "_model_name": "LayoutModel",
            "_view_count": null,
            "_view_module": "@jupyter-widgets/base",
            "_view_module_version": "1.2.0",
            "_view_name": "LayoutView",
            "align_content": null,
            "align_items": null,
            "align_self": null,
            "border": null,
            "bottom": null,
            "display": null,
            "flex": null,
            "flex_flow": null,
            "grid_area": null,
            "grid_auto_columns": null,
            "grid_auto_flow": null,
            "grid_auto_rows": null,
            "grid_column": null,
            "grid_gap": null,
            "grid_row": null,
            "grid_template_areas": null,
            "grid_template_columns": null,
            "grid_template_rows": null,
            "height": null,
            "justify_content": null,
            "justify_items": null,
            "left": null,
            "margin": null,
            "max_height": null,
            "max_width": null,
            "min_height": null,
            "min_width": null,
            "object_fit": null,
            "object_position": null,
            "order": null,
            "overflow": null,
            "overflow_x": null,
            "overflow_y": null,
            "padding": null,
            "right": null,
            "top": null,
            "visibility": null,
            "width": null
          }
        },
        "74dafc5e1fa947bf9ce19537caebfc1c": {
          "model_module": "@jupyter-widgets/base",
          "model_module_version": "1.2.0",
          "model_name": "LayoutModel",
          "state": {
            "_model_module": "@jupyter-widgets/base",
            "_model_module_version": "1.2.0",
            "_model_name": "LayoutModel",
            "_view_count": null,
            "_view_module": "@jupyter-widgets/base",
            "_view_module_version": "1.2.0",
            "_view_name": "LayoutView",
            "align_content": null,
            "align_items": null,
            "align_self": null,
            "border": null,
            "bottom": null,
            "display": null,
            "flex": null,
            "flex_flow": null,
            "grid_area": null,
            "grid_auto_columns": null,
            "grid_auto_flow": null,
            "grid_auto_rows": null,
            "grid_column": null,
            "grid_gap": null,
            "grid_row": null,
            "grid_template_areas": null,
            "grid_template_columns": null,
            "grid_template_rows": null,
            "height": null,
            "justify_content": null,
            "justify_items": null,
            "left": null,
            "margin": null,
            "max_height": null,
            "max_width": null,
            "min_height": null,
            "min_width": null,
            "object_fit": null,
            "object_position": null,
            "order": null,
            "overflow": null,
            "overflow_x": null,
            "overflow_y": null,
            "padding": null,
            "right": null,
            "top": null,
            "visibility": null,
            "width": null
          }
        },
        "757bfcd558e7413bb0d6661827844bee": {
          "model_module": "@jupyter-widgets/controls",
          "model_module_version": "1.5.0",
          "model_name": "HTMLModel",
          "state": {
            "_dom_classes": [],
            "_model_module": "@jupyter-widgets/controls",
            "_model_module_version": "1.5.0",
            "_model_name": "HTMLModel",
            "_view_count": null,
            "_view_module": "@jupyter-widgets/controls",
            "_view_module_version": "1.5.0",
            "_view_name": "HTMLView",
            "description": "",
            "description_tooltip": null,
            "layout": "IPY_MODEL_744e92530a5f4a73acf2bbad853c3dc7",
            "placeholder": "​",
            "style": "IPY_MODEL_c588450b572949989b732e63c72bea55",
            "value": "Downloading: 100%"
          }
        },
        "775763faff7d4b32bf0583ba93db8d0c": {
          "model_module": "@jupyter-widgets/base",
          "model_module_version": "1.2.0",
          "model_name": "LayoutModel",
          "state": {
            "_model_module": "@jupyter-widgets/base",
            "_model_module_version": "1.2.0",
            "_model_name": "LayoutModel",
            "_view_count": null,
            "_view_module": "@jupyter-widgets/base",
            "_view_module_version": "1.2.0",
            "_view_name": "LayoutView",
            "align_content": null,
            "align_items": null,
            "align_self": null,
            "border": null,
            "bottom": null,
            "display": null,
            "flex": null,
            "flex_flow": null,
            "grid_area": null,
            "grid_auto_columns": null,
            "grid_auto_flow": null,
            "grid_auto_rows": null,
            "grid_column": null,
            "grid_gap": null,
            "grid_row": null,
            "grid_template_areas": null,
            "grid_template_columns": null,
            "grid_template_rows": null,
            "height": null,
            "justify_content": null,
            "justify_items": null,
            "left": null,
            "margin": null,
            "max_height": null,
            "max_width": null,
            "min_height": null,
            "min_width": null,
            "object_fit": null,
            "object_position": null,
            "order": null,
            "overflow": null,
            "overflow_x": null,
            "overflow_y": null,
            "padding": null,
            "right": null,
            "top": null,
            "visibility": null,
            "width": null
          }
        },
        "793848481bce4eaf87014409a6d4c50b": {
          "model_module": "@jupyter-widgets/controls",
          "model_module_version": "1.5.0",
          "model_name": "HTMLModel",
          "state": {
            "_dom_classes": [],
            "_model_module": "@jupyter-widgets/controls",
            "_model_module_version": "1.5.0",
            "_model_name": "HTMLModel",
            "_view_count": null,
            "_view_module": "@jupyter-widgets/controls",
            "_view_module_version": "1.5.0",
            "_view_name": "HTMLView",
            "description": "",
            "description_tooltip": null,
            "layout": "IPY_MODEL_0448e6a62d0b4fb99112b13c931b1731",
            "placeholder": "​",
            "style": "IPY_MODEL_477c7586b2d84c87aa10695cea2a74d2",
            "value": "Downloading: 100%"
          }
        },
        "7fb0fecfb79743f8870ee9d4993d8b48": {
          "model_module": "@jupyter-widgets/controls",
          "model_module_version": "1.5.0",
          "model_name": "HTMLModel",
          "state": {
            "_dom_classes": [],
            "_model_module": "@jupyter-widgets/controls",
            "_model_module_version": "1.5.0",
            "_model_name": "HTMLModel",
            "_view_count": null,
            "_view_module": "@jupyter-widgets/controls",
            "_view_module_version": "1.5.0",
            "_view_name": "HTMLView",
            "description": "",
            "description_tooltip": null,
            "layout": "IPY_MODEL_06c09f76ef26429ea59505e5ae11e732",
            "placeholder": "​",
            "style": "IPY_MODEL_d89f0bf56d0f4d0aa9bc5ed4b9762cf2",
            "value": " 1.15k/1.15k [00:00&lt;00:00, 8.02kB/s]"
          }
        },
        "83374222177a499b831580db1bfbdd55": {
          "model_module": "@jupyter-widgets/base",
          "model_module_version": "1.2.0",
          "model_name": "LayoutModel",
          "state": {
            "_model_module": "@jupyter-widgets/base",
            "_model_module_version": "1.2.0",
            "_model_name": "LayoutModel",
            "_view_count": null,
            "_view_module": "@jupyter-widgets/base",
            "_view_module_version": "1.2.0",
            "_view_name": "LayoutView",
            "align_content": null,
            "align_items": null,
            "align_self": null,
            "border": null,
            "bottom": null,
            "display": null,
            "flex": null,
            "flex_flow": null,
            "grid_area": null,
            "grid_auto_columns": null,
            "grid_auto_flow": null,
            "grid_auto_rows": null,
            "grid_column": null,
            "grid_gap": null,
            "grid_row": null,
            "grid_template_areas": null,
            "grid_template_columns": null,
            "grid_template_rows": null,
            "height": null,
            "justify_content": null,
            "justify_items": null,
            "left": null,
            "margin": null,
            "max_height": null,
            "max_width": null,
            "min_height": null,
            "min_width": null,
            "object_fit": null,
            "object_position": null,
            "order": null,
            "overflow": null,
            "overflow_x": null,
            "overflow_y": null,
            "padding": null,
            "right": null,
            "top": null,
            "visibility": null,
            "width": null
          }
        },
        "86470ce7ccf34b788853bafba040c04e": {
          "model_module": "@jupyter-widgets/controls",
          "model_module_version": "1.5.0",
          "model_name": "DescriptionStyleModel",
          "state": {
            "_model_module": "@jupyter-widgets/controls",
            "_model_module_version": "1.5.0",
            "_model_name": "DescriptionStyleModel",
            "_view_count": null,
            "_view_module": "@jupyter-widgets/base",
            "_view_module_version": "1.2.0",
            "_view_name": "StyleView",
            "description_width": ""
          }
        },
        "86e4202311d74eb292bfbc11c74fc82e": {
          "model_module": "@jupyter-widgets/base",
          "model_module_version": "1.2.0",
          "model_name": "LayoutModel",
          "state": {
            "_model_module": "@jupyter-widgets/base",
            "_model_module_version": "1.2.0",
            "_model_name": "LayoutModel",
            "_view_count": null,
            "_view_module": "@jupyter-widgets/base",
            "_view_module_version": "1.2.0",
            "_view_name": "LayoutView",
            "align_content": null,
            "align_items": null,
            "align_self": null,
            "border": null,
            "bottom": null,
            "display": null,
            "flex": null,
            "flex_flow": null,
            "grid_area": null,
            "grid_auto_columns": null,
            "grid_auto_flow": null,
            "grid_auto_rows": null,
            "grid_column": null,
            "grid_gap": null,
            "grid_row": null,
            "grid_template_areas": null,
            "grid_template_columns": null,
            "grid_template_rows": null,
            "height": null,
            "justify_content": null,
            "justify_items": null,
            "left": null,
            "margin": null,
            "max_height": null,
            "max_width": null,
            "min_height": null,
            "min_width": null,
            "object_fit": null,
            "object_position": null,
            "order": null,
            "overflow": null,
            "overflow_x": null,
            "overflow_y": null,
            "padding": null,
            "right": null,
            "top": null,
            "visibility": null,
            "width": null
          }
        },
        "8ff8b27b4db946688bc307b1398f8f21": {
          "model_module": "@jupyter-widgets/controls",
          "model_module_version": "1.5.0",
          "model_name": "ProgressStyleModel",
          "state": {
            "_model_module": "@jupyter-widgets/controls",
            "_model_module_version": "1.5.0",
            "_model_name": "ProgressStyleModel",
            "_view_count": null,
            "_view_module": "@jupyter-widgets/base",
            "_view_module_version": "1.2.0",
            "_view_name": "StyleView",
            "bar_color": null,
            "description_width": ""
          }
        },
        "9284e138fb3b4d3f8694940d4158eed6": {
          "model_module": "@jupyter-widgets/base",
          "model_module_version": "1.2.0",
          "model_name": "LayoutModel",
          "state": {
            "_model_module": "@jupyter-widgets/base",
            "_model_module_version": "1.2.0",
            "_model_name": "LayoutModel",
            "_view_count": null,
            "_view_module": "@jupyter-widgets/base",
            "_view_module_version": "1.2.0",
            "_view_name": "LayoutView",
            "align_content": null,
            "align_items": null,
            "align_self": null,
            "border": null,
            "bottom": null,
            "display": null,
            "flex": null,
            "flex_flow": null,
            "grid_area": null,
            "grid_auto_columns": null,
            "grid_auto_flow": null,
            "grid_auto_rows": null,
            "grid_column": null,
            "grid_gap": null,
            "grid_row": null,
            "grid_template_areas": null,
            "grid_template_columns": null,
            "grid_template_rows": null,
            "height": null,
            "justify_content": null,
            "justify_items": null,
            "left": null,
            "margin": null,
            "max_height": null,
            "max_width": null,
            "min_height": null,
            "min_width": null,
            "object_fit": null,
            "object_position": null,
            "order": null,
            "overflow": null,
            "overflow_x": null,
            "overflow_y": null,
            "padding": null,
            "right": null,
            "top": null,
            "visibility": null,
            "width": null
          }
        },
        "9415984847444e04b10cf04d199959f0": {
          "model_module": "@jupyter-widgets/controls",
          "model_module_version": "1.5.0",
          "model_name": "DescriptionStyleModel",
          "state": {
            "_model_module": "@jupyter-widgets/controls",
            "_model_module_version": "1.5.0",
            "_model_name": "DescriptionStyleModel",
            "_view_count": null,
            "_view_module": "@jupyter-widgets/base",
            "_view_module_version": "1.2.0",
            "_view_name": "StyleView",
            "description_width": ""
          }
        },
        "95a0579bcf2746279716ce53368cb8be": {
          "model_module": "@jupyter-widgets/controls",
          "model_module_version": "1.5.0",
          "model_name": "ProgressStyleModel",
          "state": {
            "_model_module": "@jupyter-widgets/controls",
            "_model_module_version": "1.5.0",
            "_model_name": "ProgressStyleModel",
            "_view_count": null,
            "_view_module": "@jupyter-widgets/base",
            "_view_module_version": "1.2.0",
            "_view_name": "StyleView",
            "bar_color": null,
            "description_width": ""
          }
        },
        "96a7c1d46de5440bb6c17b2477b4a54f": {
          "model_module": "@jupyter-widgets/controls",
          "model_module_version": "1.5.0",
          "model_name": "ProgressStyleModel",
          "state": {
            "_model_module": "@jupyter-widgets/controls",
            "_model_module_version": "1.5.0",
            "_model_name": "ProgressStyleModel",
            "_view_count": null,
            "_view_module": "@jupyter-widgets/base",
            "_view_module_version": "1.2.0",
            "_view_name": "StyleView",
            "bar_color": null,
            "description_width": ""
          }
        },
        "a24c793492e545cbb84200c37d6a19df": {
          "model_module": "@jupyter-widgets/controls",
          "model_module_version": "1.5.0",
          "model_name": "ProgressStyleModel",
          "state": {
            "_model_module": "@jupyter-widgets/controls",
            "_model_module_version": "1.5.0",
            "_model_name": "ProgressStyleModel",
            "_view_count": null,
            "_view_module": "@jupyter-widgets/base",
            "_view_module_version": "1.2.0",
            "_view_name": "StyleView",
            "bar_color": null,
            "description_width": ""
          }
        },
        "a7fa176350054ae99af19b6618ec174c": {
          "model_module": "@jupyter-widgets/base",
          "model_module_version": "1.2.0",
          "model_name": "LayoutModel",
          "state": {
            "_model_module": "@jupyter-widgets/base",
            "_model_module_version": "1.2.0",
            "_model_name": "LayoutModel",
            "_view_count": null,
            "_view_module": "@jupyter-widgets/base",
            "_view_module_version": "1.2.0",
            "_view_name": "LayoutView",
            "align_content": null,
            "align_items": null,
            "align_self": null,
            "border": null,
            "bottom": null,
            "display": null,
            "flex": null,
            "flex_flow": null,
            "grid_area": null,
            "grid_auto_columns": null,
            "grid_auto_flow": null,
            "grid_auto_rows": null,
            "grid_column": null,
            "grid_gap": null,
            "grid_row": null,
            "grid_template_areas": null,
            "grid_template_columns": null,
            "grid_template_rows": null,
            "height": null,
            "justify_content": null,
            "justify_items": null,
            "left": null,
            "margin": null,
            "max_height": null,
            "max_width": null,
            "min_height": null,
            "min_width": null,
            "object_fit": null,
            "object_position": null,
            "order": null,
            "overflow": null,
            "overflow_x": null,
            "overflow_y": null,
            "padding": null,
            "right": null,
            "top": null,
            "visibility": null,
            "width": null
          }
        },
        "ac9e1ff148ac491fabd6402018c20ad0": {
          "model_module": "@jupyter-widgets/base",
          "model_module_version": "1.2.0",
          "model_name": "LayoutModel",
          "state": {
            "_model_module": "@jupyter-widgets/base",
            "_model_module_version": "1.2.0",
            "_model_name": "LayoutModel",
            "_view_count": null,
            "_view_module": "@jupyter-widgets/base",
            "_view_module_version": "1.2.0",
            "_view_name": "LayoutView",
            "align_content": null,
            "align_items": null,
            "align_self": null,
            "border": null,
            "bottom": null,
            "display": null,
            "flex": null,
            "flex_flow": null,
            "grid_area": null,
            "grid_auto_columns": null,
            "grid_auto_flow": null,
            "grid_auto_rows": null,
            "grid_column": null,
            "grid_gap": null,
            "grid_row": null,
            "grid_template_areas": null,
            "grid_template_columns": null,
            "grid_template_rows": null,
            "height": null,
            "justify_content": null,
            "justify_items": null,
            "left": null,
            "margin": null,
            "max_height": null,
            "max_width": null,
            "min_height": null,
            "min_width": null,
            "object_fit": null,
            "object_position": null,
            "order": null,
            "overflow": null,
            "overflow_x": null,
            "overflow_y": null,
            "padding": null,
            "right": null,
            "top": null,
            "visibility": null,
            "width": null
          }
        },
        "b3752844b29f490d8a7d6d3659c29890": {
          "model_module": "@jupyter-widgets/controls",
          "model_module_version": "1.5.0",
          "model_name": "DescriptionStyleModel",
          "state": {
            "_model_module": "@jupyter-widgets/controls",
            "_model_module_version": "1.5.0",
            "_model_name": "DescriptionStyleModel",
            "_view_count": null,
            "_view_module": "@jupyter-widgets/base",
            "_view_module_version": "1.2.0",
            "_view_name": "StyleView",
            "description_width": ""
          }
        },
        "b9f6c97c8ab649a0b096dc3df83a5785": {
          "model_module": "@jupyter-widgets/base",
          "model_module_version": "1.2.0",
          "model_name": "LayoutModel",
          "state": {
            "_model_module": "@jupyter-widgets/base",
            "_model_module_version": "1.2.0",
            "_model_name": "LayoutModel",
            "_view_count": null,
            "_view_module": "@jupyter-widgets/base",
            "_view_module_version": "1.2.0",
            "_view_name": "LayoutView",
            "align_content": null,
            "align_items": null,
            "align_self": null,
            "border": null,
            "bottom": null,
            "display": null,
            "flex": null,
            "flex_flow": null,
            "grid_area": null,
            "grid_auto_columns": null,
            "grid_auto_flow": null,
            "grid_auto_rows": null,
            "grid_column": null,
            "grid_gap": null,
            "grid_row": null,
            "grid_template_areas": null,
            "grid_template_columns": null,
            "grid_template_rows": null,
            "height": null,
            "justify_content": null,
            "justify_items": null,
            "left": null,
            "margin": null,
            "max_height": null,
            "max_width": null,
            "min_height": null,
            "min_width": null,
            "object_fit": null,
            "object_position": null,
            "order": null,
            "overflow": null,
            "overflow_x": null,
            "overflow_y": null,
            "padding": null,
            "right": null,
            "top": null,
            "visibility": null,
            "width": null
          }
        },
        "beb45c4137b54bc883650fb017d2abcf": {
          "model_module": "@jupyter-widgets/base",
          "model_module_version": "1.2.0",
          "model_name": "LayoutModel",
          "state": {
            "_model_module": "@jupyter-widgets/base",
            "_model_module_version": "1.2.0",
            "_model_name": "LayoutModel",
            "_view_count": null,
            "_view_module": "@jupyter-widgets/base",
            "_view_module_version": "1.2.0",
            "_view_name": "LayoutView",
            "align_content": null,
            "align_items": null,
            "align_self": null,
            "border": null,
            "bottom": null,
            "display": null,
            "flex": null,
            "flex_flow": null,
            "grid_area": null,
            "grid_auto_columns": null,
            "grid_auto_flow": null,
            "grid_auto_rows": null,
            "grid_column": null,
            "grid_gap": null,
            "grid_row": null,
            "grid_template_areas": null,
            "grid_template_columns": null,
            "grid_template_rows": null,
            "height": null,
            "justify_content": null,
            "justify_items": null,
            "left": null,
            "margin": null,
            "max_height": null,
            "max_width": null,
            "min_height": null,
            "min_width": null,
            "object_fit": null,
            "object_position": null,
            "order": null,
            "overflow": null,
            "overflow_x": null,
            "overflow_y": null,
            "padding": null,
            "right": null,
            "top": null,
            "visibility": null,
            "width": null
          }
        },
        "c13d5cce147a444b97ece62de01d81e9": {
          "model_module": "@jupyter-widgets/controls",
          "model_module_version": "1.5.0",
          "model_name": "ProgressStyleModel",
          "state": {
            "_model_module": "@jupyter-widgets/controls",
            "_model_module_version": "1.5.0",
            "_model_name": "ProgressStyleModel",
            "_view_count": null,
            "_view_module": "@jupyter-widgets/base",
            "_view_module_version": "1.2.0",
            "_view_name": "StyleView",
            "bar_color": null,
            "description_width": ""
          }
        },
        "c588450b572949989b732e63c72bea55": {
          "model_module": "@jupyter-widgets/controls",
          "model_module_version": "1.5.0",
          "model_name": "DescriptionStyleModel",
          "state": {
            "_model_module": "@jupyter-widgets/controls",
            "_model_module_version": "1.5.0",
            "_model_name": "DescriptionStyleModel",
            "_view_count": null,
            "_view_module": "@jupyter-widgets/base",
            "_view_module_version": "1.2.0",
            "_view_name": "StyleView",
            "description_width": ""
          }
        },
        "c5c31fcc99424c8297d6afcd1617428f": {
          "model_module": "@jupyter-widgets/base",
          "model_module_version": "1.2.0",
          "model_name": "LayoutModel",
          "state": {
            "_model_module": "@jupyter-widgets/base",
            "_model_module_version": "1.2.0",
            "_model_name": "LayoutModel",
            "_view_count": null,
            "_view_module": "@jupyter-widgets/base",
            "_view_module_version": "1.2.0",
            "_view_name": "LayoutView",
            "align_content": null,
            "align_items": null,
            "align_self": null,
            "border": null,
            "bottom": null,
            "display": null,
            "flex": null,
            "flex_flow": null,
            "grid_area": null,
            "grid_auto_columns": null,
            "grid_auto_flow": null,
            "grid_auto_rows": null,
            "grid_column": null,
            "grid_gap": null,
            "grid_row": null,
            "grid_template_areas": null,
            "grid_template_columns": null,
            "grid_template_rows": null,
            "height": null,
            "justify_content": null,
            "justify_items": null,
            "left": null,
            "margin": null,
            "max_height": null,
            "max_width": null,
            "min_height": null,
            "min_width": null,
            "object_fit": null,
            "object_position": null,
            "order": null,
            "overflow": null,
            "overflow_x": null,
            "overflow_y": null,
            "padding": null,
            "right": null,
            "top": null,
            "visibility": null,
            "width": null
          }
        },
        "c8d8e45226f34e218183f19d2a5007c5": {
          "model_module": "@jupyter-widgets/controls",
          "model_module_version": "1.5.0",
          "model_name": "HTMLModel",
          "state": {
            "_dom_classes": [],
            "_model_module": "@jupyter-widgets/controls",
            "_model_module_version": "1.5.0",
            "_model_name": "HTMLModel",
            "_view_count": null,
            "_view_module": "@jupyter-widgets/controls",
            "_view_module_version": "1.5.0",
            "_view_name": "HTMLView",
            "description": "",
            "description_tooltip": null,
            "layout": "IPY_MODEL_512dac46fdb347ec99d78dc55a1923e7",
            "placeholder": "​",
            "style": "IPY_MODEL_ccfd30cf9f254ae4a884893432d7924e",
            "value": " 899k/899k [00:00&lt;00:00, 1.55MB/s]"
          }
        },
        "c9bf58aa55e04607befae2ca6996f5b4": {
          "model_module": "@jupyter-widgets/controls",
          "model_module_version": "1.5.0",
          "model_name": "HTMLModel",
          "state": {
            "_dom_classes": [],
            "_model_module": "@jupyter-widgets/controls",
            "_model_module_version": "1.5.0",
            "_model_name": "HTMLModel",
            "_view_count": null,
            "_view_module": "@jupyter-widgets/controls",
            "_view_module_version": "1.5.0",
            "_view_name": "HTMLView",
            "description": "",
            "description_tooltip": null,
            "layout": "IPY_MODEL_def1696007554dd3a20c2bf30ad7a428",
            "placeholder": "​",
            "style": "IPY_MODEL_86470ce7ccf34b788853bafba040c04e",
            "value": " 26.0/26.0 [00:00&lt;00:00, 431B/s]"
          }
        },
        "cbe2eff861124a3ea978a1306cd50c66": {
          "model_module": "@jupyter-widgets/controls",
          "model_module_version": "1.5.0",
          "model_name": "FloatProgressModel",
          "state": {
            "_dom_classes": [],
            "_model_module": "@jupyter-widgets/controls",
            "_model_module_version": "1.5.0",
            "_model_name": "FloatProgressModel",
            "_view_count": null,
            "_view_module": "@jupyter-widgets/controls",
            "_view_module_version": "1.5.0",
            "_view_name": "ProgressView",
            "bar_style": "success",
            "description": "",
            "description_tooltip": null,
            "layout": "IPY_MODEL_691647593caa4a6c8c64de40e0979068",
            "max": 456318,
            "min": 0,
            "orientation": "horizontal",
            "style": "IPY_MODEL_96a7c1d46de5440bb6c17b2477b4a54f",
            "value": 456318
          }
        },
        "ccfd30cf9f254ae4a884893432d7924e": {
          "model_module": "@jupyter-widgets/controls",
          "model_module_version": "1.5.0",
          "model_name": "DescriptionStyleModel",
          "state": {
            "_model_module": "@jupyter-widgets/controls",
            "_model_module_version": "1.5.0",
            "_model_name": "DescriptionStyleModel",
            "_view_count": null,
            "_view_module": "@jupyter-widgets/base",
            "_view_module_version": "1.2.0",
            "_view_name": "StyleView",
            "description_width": ""
          }
        },
        "ce16c0b38168435fac8b5873c4d9b4ac": {
          "model_module": "@jupyter-widgets/controls",
          "model_module_version": "1.5.0",
          "model_name": "DescriptionStyleModel",
          "state": {
            "_model_module": "@jupyter-widgets/controls",
            "_model_module_version": "1.5.0",
            "_model_name": "DescriptionStyleModel",
            "_view_count": null,
            "_view_module": "@jupyter-widgets/base",
            "_view_module_version": "1.2.0",
            "_view_name": "StyleView",
            "description_width": ""
          }
        },
        "d89f0bf56d0f4d0aa9bc5ed4b9762cf2": {
          "model_module": "@jupyter-widgets/controls",
          "model_module_version": "1.5.0",
          "model_name": "DescriptionStyleModel",
          "state": {
            "_model_module": "@jupyter-widgets/controls",
            "_model_module_version": "1.5.0",
            "_model_name": "DescriptionStyleModel",
            "_view_count": null,
            "_view_module": "@jupyter-widgets/base",
            "_view_module_version": "1.2.0",
            "_view_name": "StyleView",
            "description_width": ""
          }
        },
        "dc7303d59c8549bea3cdd3a0640a90e7": {
          "model_module": "@jupyter-widgets/controls",
          "model_module_version": "1.5.0",
          "model_name": "HBoxModel",
          "state": {
            "_dom_classes": [],
            "_model_module": "@jupyter-widgets/controls",
            "_model_module_version": "1.5.0",
            "_model_name": "HBoxModel",
            "_view_count": null,
            "_view_module": "@jupyter-widgets/controls",
            "_view_module_version": "1.5.0",
            "_view_name": "HBoxView",
            "box_style": "",
            "children": [
              "IPY_MODEL_1e96c8f32d65459987f5be646fa18826",
              "IPY_MODEL_cbe2eff861124a3ea978a1306cd50c66",
              "IPY_MODEL_71982c62479c4cfb99c91f2f5f8d3960"
            ],
            "layout": "IPY_MODEL_775763faff7d4b32bf0583ba93db8d0c"
          }
        },
        "dcc54dc6cfa94397af5ef7adebfec62e": {
          "model_module": "@jupyter-widgets/controls",
          "model_module_version": "1.5.0",
          "model_name": "HTMLModel",
          "state": {
            "_dom_classes": [],
            "_model_module": "@jupyter-widgets/controls",
            "_model_module_version": "1.5.0",
            "_model_name": "HTMLModel",
            "_view_count": null,
            "_view_module": "@jupyter-widgets/controls",
            "_view_module_version": "1.5.0",
            "_view_name": "HTMLView",
            "description": "",
            "description_tooltip": null,
            "layout": "IPY_MODEL_b9f6c97c8ab649a0b096dc3df83a5785",
            "placeholder": "​",
            "style": "IPY_MODEL_9415984847444e04b10cf04d199959f0",
            "value": "Downloading: 100%"
          }
        },
        "def1696007554dd3a20c2bf30ad7a428": {
          "model_module": "@jupyter-widgets/base",
          "model_module_version": "1.2.0",
          "model_name": "LayoutModel",
          "state": {
            "_model_module": "@jupyter-widgets/base",
            "_model_module_version": "1.2.0",
            "_model_name": "LayoutModel",
            "_view_count": null,
            "_view_module": "@jupyter-widgets/base",
            "_view_module_version": "1.2.0",
            "_view_name": "LayoutView",
            "align_content": null,
            "align_items": null,
            "align_self": null,
            "border": null,
            "bottom": null,
            "display": null,
            "flex": null,
            "flex_flow": null,
            "grid_area": null,
            "grid_auto_columns": null,
            "grid_auto_flow": null,
            "grid_auto_rows": null,
            "grid_column": null,
            "grid_gap": null,
            "grid_row": null,
            "grid_template_areas": null,
            "grid_template_columns": null,
            "grid_template_rows": null,
            "height": null,
            "justify_content": null,
            "justify_items": null,
            "left": null,
            "margin": null,
            "max_height": null,
            "max_width": null,
            "min_height": null,
            "min_width": null,
            "object_fit": null,
            "object_position": null,
            "order": null,
            "overflow": null,
            "overflow_x": null,
            "overflow_y": null,
            "padding": null,
            "right": null,
            "top": null,
            "visibility": null,
            "width": null
          }
        },
        "e5bae6e2e6e440299d1376f5fbfe3efe": {
          "model_module": "@jupyter-widgets/controls",
          "model_module_version": "1.5.0",
          "model_name": "HBoxModel",
          "state": {
            "_dom_classes": [],
            "_model_module": "@jupyter-widgets/controls",
            "_model_module_version": "1.5.0",
            "_model_name": "HBoxModel",
            "_view_count": null,
            "_view_module": "@jupyter-widgets/controls",
            "_view_module_version": "1.5.0",
            "_view_name": "HBoxView",
            "box_style": "",
            "children": [
              "IPY_MODEL_757bfcd558e7413bb0d6661827844bee",
              "IPY_MODEL_f8ac1ddddc7e4223a87e3e0c63edd6a7",
              "IPY_MODEL_f9534b9cf72540d297466deabfe8bb6a"
            ],
            "layout": "IPY_MODEL_1ecff6c8691b4db1a0034db2ead123d5"
          }
        },
        "ee3c3d5cfded411c9c1fd2dee27ee1fb": {
          "model_module": "@jupyter-widgets/controls",
          "model_module_version": "1.5.0",
          "model_name": "HTMLModel",
          "state": {
            "_dom_classes": [],
            "_model_module": "@jupyter-widgets/controls",
            "_model_module_version": "1.5.0",
            "_model_name": "HTMLModel",
            "_view_count": null,
            "_view_module": "@jupyter-widgets/controls",
            "_view_module_version": "1.5.0",
            "_view_name": "HTMLView",
            "description": "",
            "description_tooltip": null,
            "layout": "IPY_MODEL_beb45c4137b54bc883650fb017d2abcf",
            "placeholder": "​",
            "style": "IPY_MODEL_067d431c2ba8402dafa7ee9d756e727a",
            "value": " 1.63G/1.63G [00:49&lt;00:00, 32.3MB/s]"
          }
        },
        "f752429d2c404e52be8af8b126488017": {
          "model_module": "@jupyter-widgets/controls",
          "model_module_version": "1.5.0",
          "model_name": "DescriptionStyleModel",
          "state": {
            "_model_module": "@jupyter-widgets/controls",
            "_model_module_version": "1.5.0",
            "_model_name": "DescriptionStyleModel",
            "_view_count": null,
            "_view_module": "@jupyter-widgets/base",
            "_view_module_version": "1.2.0",
            "_view_name": "StyleView",
            "description_width": ""
          }
        },
        "f8ac1ddddc7e4223a87e3e0c63edd6a7": {
          "model_module": "@jupyter-widgets/controls",
          "model_module_version": "1.5.0",
          "model_name": "FloatProgressModel",
          "state": {
            "_dom_classes": [],
            "_model_module": "@jupyter-widgets/controls",
            "_model_module_version": "1.5.0",
            "_model_name": "FloatProgressModel",
            "_view_count": null,
            "_view_module": "@jupyter-widgets/controls",
            "_view_module_version": "1.5.0",
            "_view_name": "ProgressView",
            "bar_style": "success",
            "description": "",
            "description_tooltip": null,
            "layout": "IPY_MODEL_ac9e1ff148ac491fabd6402018c20ad0",
            "max": 1355863,
            "min": 0,
            "orientation": "horizontal",
            "style": "IPY_MODEL_95a0579bcf2746279716ce53368cb8be",
            "value": 1355863
          }
        },
        "f8b28c8c464a46d79903bb67f2ab498a": {
          "model_module": "@jupyter-widgets/controls",
          "model_module_version": "1.5.0",
          "model_name": "FloatProgressModel",
          "state": {
            "_dom_classes": [],
            "_model_module": "@jupyter-widgets/controls",
            "_model_module_version": "1.5.0",
            "_model_name": "FloatProgressModel",
            "_view_count": null,
            "_view_module": "@jupyter-widgets/controls",
            "_view_module_version": "1.5.0",
            "_view_name": "ProgressView",
            "bar_style": "success",
            "description": "",
            "description_tooltip": null,
            "layout": "IPY_MODEL_74dafc5e1fa947bf9ce19537caebfc1c",
            "max": 1154,
            "min": 0,
            "orientation": "horizontal",
            "style": "IPY_MODEL_8ff8b27b4db946688bc307b1398f8f21",
            "value": 1154
          }
        },
        "f9534b9cf72540d297466deabfe8bb6a": {
          "model_module": "@jupyter-widgets/controls",
          "model_module_version": "1.5.0",
          "model_name": "HTMLModel",
          "state": {
            "_dom_classes": [],
            "_model_module": "@jupyter-widgets/controls",
            "_model_module_version": "1.5.0",
            "_model_name": "HTMLModel",
            "_view_count": null,
            "_view_module": "@jupyter-widgets/controls",
            "_view_module_version": "1.5.0",
            "_view_name": "HTMLView",
            "description": "",
            "description_tooltip": null,
            "layout": "IPY_MODEL_83374222177a499b831580db1bfbdd55",
            "placeholder": "​",
            "style": "IPY_MODEL_f752429d2c404e52be8af8b126488017",
            "value": " 1.36M/1.36M [00:00&lt;00:00, 1.49MB/s]"
          }
        },
        "fca498914fb74de1802bf7d235204864": {
          "model_module": "@jupyter-widgets/controls",
          "model_module_version": "1.5.0",
          "model_name": "DescriptionStyleModel",
          "state": {
            "_model_module": "@jupyter-widgets/controls",
            "_model_module_version": "1.5.0",
            "_model_name": "DescriptionStyleModel",
            "_view_count": null,
            "_view_module": "@jupyter-widgets/base",
            "_view_module_version": "1.2.0",
            "_view_name": "StyleView",
            "description_width": ""
          }
        }
      }
    }
  },
  "nbformat": 4,
  "nbformat_minor": 5
}
