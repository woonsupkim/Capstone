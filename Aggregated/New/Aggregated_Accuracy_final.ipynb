{
  "cells": [
    {
      "cell_type": "markdown",
      "id": "aab17c31",
      "metadata": {
        "id": "aab17c31"
      },
      "source": [
        "# Sentiment Analysis on aggregated data"
      ]
    },
    {
      "cell_type": "code",
      "execution_count": null,
      "id": "38692d98",
      "metadata": {
        "id": "38692d98"
      },
      "outputs": [],
      "source": [
        "import pandas as pd\n",
        "import numpy as np\n",
        "import seaborn as sns\n",
        "import matplotlib.pyplot as plt\n",
        "\n",
        "import warnings\n",
        "warnings.simplefilter(action='ignore', category=FutureWarning)\n",
        "\n",
        "from IPython.core.interactiveshell import InteractiveShell\n",
        "InteractiveShell.ast_node_interactivity = 'all'\n",
        "\n",
        "pd.set_option('display.max_columns', None) "
      ]
    },
    {
      "cell_type": "code",
      "execution_count": null,
      "id": "df2bbbdc",
      "metadata": {
        "id": "df2bbbdc"
      },
      "outputs": [],
      "source": [
        "df = pd.read_csv('aggregated.csv', index_col = [0])"
      ]
    },
    {
      "cell_type": "code",
      "execution_count": null,
      "id": "ba2a78c7",
      "metadata": {
        "id": "ba2a78c7",
        "outputId": "fa94764e-2dac-4f88-c590-92b37fbceaa4"
      },
      "outputs": [
        {
          "name": "stderr",
          "output_type": "stream",
          "text": [
            "Some weights of the model checkpoint at cardiffnlp/twitter-roberta-base-sentiment-latest were not used when initializing RobertaForSequenceClassification: ['roberta.pooler.dense.weight', 'roberta.pooler.dense.bias']\n",
            "- This IS expected if you are initializing RobertaForSequenceClassification from the checkpoint of a model trained on another task or with another architecture (e.g. initializing a BertForSequenceClassification model from a BertForPreTraining model).\n",
            "- This IS NOT expected if you are initializing RobertaForSequenceClassification from the checkpoint of a model that you expect to be exactly identical (initializing a BertForSequenceClassification model from a BertForSequenceClassification model).\n"
          ]
        }
      ],
      "source": [
        "from transformers import pipeline\n",
        "sentiment_pipeline = pipeline(\"sentiment-analysis\", model=\"cardiffnlp/twitter-roberta-base-sentiment-latest\")"
      ]
    },
    {
      "cell_type": "code",
      "execution_count": null,
      "id": "113ed60d",
      "metadata": {
        "id": "113ed60d",
        "outputId": "0547e11a-d91d-434c-c8ac-33e692984790"
      },
      "outputs": [
        {
          "data": {
            "text/plain": [
              "[{'label': 'Positive', 'score': 0.9277957677841187}]"
            ]
          },
          "execution_count": 4,
          "metadata": {},
          "output_type": "execute_result"
        }
      ],
      "source": [
        "#sample sentiment analysis\n",
        "sample_review = list(df['review_text'])[1]\n",
        "result = sentiment_pipeline(sample_review)\n",
        "result"
      ]
    },
    {
      "cell_type": "code",
      "execution_count": null,
      "id": "8acd7ee4",
      "metadata": {
        "id": "8acd7ee4",
        "outputId": "f9e29c8a-f10a-47f0-c086-498dfc563cad"
      },
      "outputs": [
        {
          "name": "stderr",
          "output_type": "stream",
          "text": [
            "Some weights of the model checkpoint at cardiffnlp/twitter-roberta-base-sentiment-latest were not used when initializing RobertaForSequenceClassification: ['roberta.pooler.dense.weight', 'roberta.pooler.dense.bias']\n",
            "- This IS expected if you are initializing RobertaForSequenceClassification from the checkpoint of a model trained on another task or with another architecture (e.g. initializing a BertForSequenceClassification model from a BertForPreTraining model).\n",
            "- This IS NOT expected if you are initializing RobertaForSequenceClassification from the checkpoint of a model that you expect to be exactly identical (initializing a BertForSequenceClassification model from a BertForSequenceClassification model).\n"
          ]
        },
        {
          "name": "stdout",
          "output_type": "stream",
          "text": [
            "0\n",
            "20\n",
            "40\n",
            "60\n",
            "80\n",
            "100\n",
            "120\n",
            "140\n",
            "160\n",
            "180\n",
            "200\n",
            "220\n",
            "240\n",
            "260\n",
            "280\n",
            "300\n",
            "320\n",
            "340\n",
            "360\n",
            "380\n"
          ]
        }
      ],
      "source": [
        "from transformers import pipeline\n",
        "sentiment_pipeline = pipeline(\"sentiment-analysis\", model=\"cardiffnlp/twitter-roberta-base-sentiment-latest\")\n",
        "\n",
        "sentiment = []\n",
        "index = -1\n",
        "for sentence in df['review_lower']:\n",
        "    index+=1\n",
        "    if(index%20 == 0):\n",
        "        print(index)\n",
        "\n",
        "    result = sentiment_pipeline(sentence[:512])[0]\n",
        "    sentiment.append(result['label'])\n",
        "df['sentiment'] = sentiment"
      ]
    },
    {
      "cell_type": "markdown",
      "id": "352c04de",
      "metadata": {
        "id": "352c04de"
      },
      "source": [
        "# Zero shot classification"
      ]
    },
    {
      "cell_type": "code",
      "execution_count": 2,
      "id": "1d6d865f",
      "metadata": {
        "colab": {
          "base_uri": "https://localhost:8080/",
          "height": 209,
          "referenced_widgets": [
            "804a8961f80e44ee8a6b820019bae42b",
            "3c7e196262b24e9db18f95c5061067f9",
            "e3842c0ea1b948a396a8c682ad44a6d1",
            "d5216f6b77f842f4a270b9fc69b3ce2a",
            "a946cdc0aa7f4388a2b885f7c48c8e01",
            "1ecf071afe9048aa99864c8d1bd17ef1",
            "c9f3e73376324d138b1c9cb95ee05341",
            "0038d34edd7f464e9ac78018fc1a0a7f",
            "aec599497e894bb2846850944a7d4397",
            "1ad79ae1bd4d4c6fbe236b18429c1caa",
            "8f9fc9df5de94158ab96eaf465b2ca76",
            "414f2051de8f4c93b95c454793332d56",
            "49bf2f8236ff49059d2919760b3ff45e",
            "497cafc296da481dad689210e727e4f1",
            "61476660386a41caa50a8e9f602ab0c6",
            "b37db1e619954d6ab356f66c7082b47a",
            "cab2b702ff7d444881b1e9ab6892ef44",
            "14916e6c1dc34a81bce929fd88ca5eae",
            "820ec6eeb44e4193bc0f7b2e4b9bbc17",
            "12f26db4823c4eb2b607ce92469a43b2",
            "8e904439d72a4ff69736294afea8065c",
            "d680fa5d56e44cf5a384d9864d6f64ac",
            "95fae214d6cb4e3b84a4d5c6a84a2de3",
            "f17585cc35a84338b3a99ec7495619ff",
            "2a0c480838fb4082b19ec5ccb68aaa07",
            "98dd649c002542f0baff2a7bafd6498c",
            "306ff4f76ecd4c4e9e159d8d205c906e",
            "1ca6fa1f915a4ed1a3255568d3bd6cca",
            "1e4ecf63ca494e1480e613e3717bc10e",
            "4ae8f98f61e943a7b69965513f6b59bc",
            "0bff3a7f1c044416b63a7a0e49843439",
            "1355a9c9a3d64576aca16e20b640523f",
            "3e6efdffc61340fe9ab2f1cdc2de77e2",
            "a7816a55f67b46a9ac86c9adfeca6dd0",
            "ea8c52c2cfd644aa836b5cd781a3a280",
            "abbbc496579449d58d93fdb96a9b2ca2",
            "90d7aafee6574385b28e8668548f6eab",
            "edc9fb6ce649414d8eebf10e2d153ab2",
            "06187c4e3b954ee6ae35949fdb31ffd3",
            "4eaf07aae0ab4cefbe621633e2acb36c",
            "03cb6411bdee411993a5bacb580f4097",
            "c6b83c7d67ff41ea99057476b9526686",
            "5420ad6c980c4b52aa4f226511a7bfd3",
            "3b2cbe690e344b539951ae213551323b",
            "55233c840b244244b469d4429f813a84",
            "689339e9bbcb4729b8e09c8dbc83d9fa",
            "8c29e6c2a5904bc194b6a67e2c77f5d3",
            "3aee645454f54f5d9f221975c30953f4",
            "c733d8c4a30d4ce7ba44d6ee90218609",
            "f0c4fdc233b743f997c2129fe28f7f6c",
            "7ac3817635f94d6eb16255feac735a88",
            "7f9fc4ce753742caad359b7e3b3a5910",
            "a67c1cce483542539509cc21ebc953ae",
            "f18ccafa8b4f4f38882bb746364016ff",
            "f60c1ae18a024323a47a264cdc7d141a",
            "b98f9946ffd541a2b2f6a92328e39d3a",
            "4413a33d213c40a794c35ad97401f63c",
            "747aaeb17198461393ad23e9b4d8f476",
            "5fcd51747cbe4281bd129d7e2458b577",
            "c403a60bbcf24dc9af30cb5324e062a8",
            "1baf228aa0d846339a72d45d627f12e6",
            "3c4f2e4f43344d6486e52329bda0212a",
            "1f5a9db87716435590b675bf550c4a3c",
            "3e0c621272ef4ad7b6850ceccf801c51",
            "22ec095326bd48bca3f48546b8396e27",
            "0dea2327f48946f980565c5196ef2c78"
          ]
        },
        "id": "1d6d865f",
        "outputId": "e84dee16-914d-4ebe-cd44-2df7dcc183a8"
      },
      "outputs": [
        {
          "output_type": "display_data",
          "data": {
            "text/plain": [
              "Downloading:   0%|          | 0.00/1.15k [00:00<?, ?B/s]"
            ],
            "application/vnd.jupyter.widget-view+json": {
              "version_major": 2,
              "version_minor": 0,
              "model_id": "804a8961f80e44ee8a6b820019bae42b"
            }
          },
          "metadata": {}
        },
        {
          "output_type": "display_data",
          "data": {
            "text/plain": [
              "Downloading:   0%|          | 0.00/1.63G [00:00<?, ?B/s]"
            ],
            "application/vnd.jupyter.widget-view+json": {
              "version_major": 2,
              "version_minor": 0,
              "model_id": "414f2051de8f4c93b95c454793332d56"
            }
          },
          "metadata": {}
        },
        {
          "output_type": "display_data",
          "data": {
            "text/plain": [
              "Downloading:   0%|          | 0.00/26.0 [00:00<?, ?B/s]"
            ],
            "application/vnd.jupyter.widget-view+json": {
              "version_major": 2,
              "version_minor": 0,
              "model_id": "95fae214d6cb4e3b84a4d5c6a84a2de3"
            }
          },
          "metadata": {}
        },
        {
          "output_type": "display_data",
          "data": {
            "text/plain": [
              "Downloading:   0%|          | 0.00/899k [00:00<?, ?B/s]"
            ],
            "application/vnd.jupyter.widget-view+json": {
              "version_major": 2,
              "version_minor": 0,
              "model_id": "a7816a55f67b46a9ac86c9adfeca6dd0"
            }
          },
          "metadata": {}
        },
        {
          "output_type": "display_data",
          "data": {
            "text/plain": [
              "Downloading:   0%|          | 0.00/456k [00:00<?, ?B/s]"
            ],
            "application/vnd.jupyter.widget-view+json": {
              "version_major": 2,
              "version_minor": 0,
              "model_id": "55233c840b244244b469d4429f813a84"
            }
          },
          "metadata": {}
        },
        {
          "output_type": "display_data",
          "data": {
            "text/plain": [
              "Downloading:   0%|          | 0.00/1.36M [00:00<?, ?B/s]"
            ],
            "application/vnd.jupyter.widget-view+json": {
              "version_major": 2,
              "version_minor": 0,
              "model_id": "b98f9946ffd541a2b2f6a92328e39d3a"
            }
          },
          "metadata": {}
        }
      ],
      "source": [
        "import transformers\n",
        "from transformers import pipeline\n",
        "classifier  = pipeline(\"zero-shot-classification\",  model = \"facebook/bart-large-mnli\")"
      ]
    },
    {
      "cell_type": "markdown",
      "id": "2edc35a7",
      "metadata": {
        "id": "2edc35a7"
      },
      "source": [
        "# Sample classification"
      ]
    },
    {
      "cell_type": "code",
      "execution_count": null,
      "id": "61187944",
      "metadata": {
        "id": "61187944",
        "outputId": "b8ec4ac6-f6a0-43ee-de37-e7a89274901a"
      },
      "outputs": [
        {
          "data": {
            "text/plain": [
              "{'sequence': 'The seeds mix is good',\n",
              " 'labels': ['quality', 'satisfaction', 'affordability', 'complaints'],\n",
              " 'scores': [0.9990378618240356,\n",
              "  0.9383894205093384,\n",
              "  0.0276698749512434,\n",
              "  0.00023220224829856306]}"
            ]
          },
          "execution_count": 7,
          "metadata": {},
          "output_type": "execute_result"
        }
      ],
      "source": [
        "sample_review = list(df['review_text'])[1]\n",
        "\n",
        "res = classifier(\n",
        "    sample_review,\n",
        "    candidate_labels = ['affordability', 'quality', 'satisfaction', 'complaints'], \n",
        "    multi_label = True\n",
        ")\n",
        "res"
      ]
    },
    {
      "cell_type": "markdown",
      "id": "7b03bad9",
      "metadata": {
        "id": "7b03bad9"
      },
      "source": [
        "# Insert four labels (cost, efficient, effective, ease of use)"
      ]
    },
    {
      "cell_type": "code",
      "execution_count": null,
      "id": "669d26ac",
      "metadata": {
        "id": "669d26ac"
      },
      "outputs": [],
      "source": [
        "type = ['cost', 'efficient', 'effective', 'ease of use']"
      ]
    },
    {
      "cell_type": "code",
      "execution_count": null,
      "id": "f4bac4d0",
      "metadata": {
        "id": "f4bac4d0",
        "outputId": "dfeafeb1-5565-438e-ffb4-883d70306b94"
      },
      "outputs": [
        {
          "name": "stdout",
          "output_type": "stream",
          "text": [
            "0\n"
          ]
        },
        {
          "name": "stderr",
          "output_type": "stream",
          "text": [
            "C:\\Users\\WJ.DESKTOP-VH0S9RM\\AppData\\Local\\Temp\\ipykernel_10780\\576072882.py:20: SettingWithCopyWarning: \n",
            "A value is trying to be set on a copy of a slice from a DataFrame\n",
            "\n",
            "See the caveats in the documentation: https://pandas.pydata.org/pandas-docs/stable/user_guide/indexing.html#returning-a-view-versus-a-copy\n",
            "  df[res['labels'][i]+ '_m'].iloc[j] = res['scores'][i]\n"
          ]
        },
        {
          "name": "stdout",
          "output_type": "stream",
          "text": [
            "20\n",
            "40\n",
            "60\n",
            "80\n",
            "100\n",
            "120\n",
            "140\n",
            "160\n",
            "180\n",
            "200\n",
            "220\n",
            "240\n",
            "260\n",
            "280\n",
            "300\n",
            "320\n",
            "340\n",
            "360\n",
            "380\n"
          ]
        }
      ],
      "source": [
        "#setting empty values for the columns\n",
        "index = -1\n",
        "for label in type:\n",
        "    df[label + '_m'] = -1\n",
        "\n",
        "for j in range(len(df)):\n",
        "    #counter for progress/debugging\n",
        "    index+=1\n",
        "    if(index%20 == 0): \n",
        "        print(index)\n",
        "        \n",
        "    #running the classifier on the column    \n",
        "    res = classifier(\n",
        "        df.iloc[j]['review_lower'],\n",
        "        candidate_labels = type,\n",
        "        multi_label = True\n",
        "    )\n",
        "    #setting the column values according to the output from the classifier (\"_m\" = multiclass)\n",
        "    for i in range(len(res['labels'])):\n",
        "        df[res['labels'][i]+ '_m'].iloc[j] = res['scores'][i]"
      ]
    },
    {
      "cell_type": "markdown",
      "id": "fa9c2134",
      "metadata": {
        "id": "fa9c2134"
      },
      "source": [
        "# Metric and sanity check"
      ]
    },
    {
      "cell_type": "code",
      "execution_count": null,
      "id": "86c91e46",
      "metadata": {
        "id": "86c91e46",
        "outputId": "710dbbe3-7047-4dc4-ec24-97336e910b60"
      },
      "outputs": [
        {
          "data": {
            "text/plain": [
              "<matplotlib.lines.Line2D at 0x1a05014c460>"
            ]
          },
          "execution_count": 10,
          "metadata": {},
          "output_type": "execute_result"
        },
        {
          "data": {
            "text/plain": [
              "['the seeds mix is good']"
            ]
          },
          "execution_count": 10,
          "metadata": {},
          "output_type": "execute_result"
        },
        {
          "data": {
            "image/png": "[encoded data removed]",
            "text/plain": [
              "<Figure size 640x480 with 1 Axes>"
            ]
          },
          "metadata": {},
          "output_type": "display_data"
        }
      ],
      "source": [
        "# create a \"max\" column for metric purposes\n",
        "df['max'] = df[['cost_m', 'efficient_m', 'effective_m', 'ease of use_m']].max(axis=1)\n",
        "\n",
        "# append type to max\n",
        "align_list=[]\n",
        "for i in range(len(df)):\n",
        "  for t in type:\n",
        "    if df[t+'_m'].iloc[i] == df['max'].iloc[i]:\n",
        "      align_list.append(t)\n",
        "      \n",
        "df['align_type']=align_list\n",
        "sns.set_style('ticks');\n",
        "fig, ax = plt.subplots();\n",
        "ax = sns.histplot(x = 'max', data = df);\n",
        "plt.axvline(0.7, 0,700, c = 'r', ls = '--');\n",
        "\n",
        "list(df[df['max'] > 0.7]['review_lower'][1:2])"
      ]
    },
    {
      "cell_type": "markdown",
      "id": "57e0248c",
      "metadata": {
        "id": "57e0248c"
      },
      "source": [
        "# How many remained uncategorized"
      ]
    },
    {
      "cell_type": "code",
      "execution_count": null,
      "id": "7b359bb7",
      "metadata": {
        "id": "7b359bb7",
        "outputId": "79dfd593-d748-4171-9fed-066ac218ae5b"
      },
      "outputs": [
        {
          "data": {
            "text/plain": [
              "53"
            ]
          },
          "execution_count": 11,
          "metadata": {},
          "output_type": "execute_result"
        }
      ],
      "source": [
        "# to see how many uncategorized data remains\n",
        "df_uncat = df[df['cost_m'] < 0.7]\n",
        "df_uncat = df_uncat[df_uncat['efficient_m'] < 0.7]\n",
        "df_uncat = df_uncat[df_uncat['effective_m'] < 0.7]\n",
        "df_uncat = df_uncat[df_uncat['ease of use_m'] < 0.7]\n",
        "len(df_uncat)"
      ]
    },
    {
      "cell_type": "markdown",
      "id": "ab62d037",
      "metadata": {
        "id": "ab62d037"
      },
      "source": [
        "# Heatmap"
      ]
    },
    {
      "cell_type": "code",
      "execution_count": null,
      "id": "958e0fae",
      "metadata": {
        "id": "958e0fae",
        "outputId": "29b34c34-d764-4f0d-869f-ee9d1ed60819"
      },
      "outputs": [
        {
          "data": {
            "text/plain": [
              "<Figure size 1200x500 with 0 Axes>"
            ]
          },
          "execution_count": 12,
          "metadata": {},
          "output_type": "execute_result"
        },
        {
          "data": {
            "text/plain": [
              "[Text(0.5, 17.249999999999993, ''), Text(112.24999999999999, 0.5, '')]"
            ]
          },
          "execution_count": 12,
          "metadata": {},
          "output_type": "execute_result"
        },
        {
          "data": {
            "text/plain": [
              "[Text(0.5, 17.249999999999993, ''), Text(112.24999999999999, 0.5, '')]"
            ]
          },
          "execution_count": 12,
          "metadata": {},
          "output_type": "execute_result"
        },
        {
          "data": {
            "text/plain": [
              "[Text(0.5, 17.249999999999993, ''), Text(112.24999999999999, 0.5, '')]"
            ]
          },
          "execution_count": 12,
          "metadata": {},
          "output_type": "execute_result"
        },
        {
          "data": {
            "image/png": "[encoded data removed]",
            "text/plain": [
              "<Figure size 1200x500 with 1 Axes>"
            ]
          },
          "metadata": {},
          "output_type": "display_data"
        }
      ],
      "source": [
        "table = pd.pivot_table(df, values='max', index=['sentiment'], columns=['align_type'], aggfunc=np.mean,fill_value=0)\n",
        "plt.figure(figsize=(12, 5))\n",
        "sns.set(font_scale=1.4)\n",
        "# Reds\n",
        "data1 = table.copy()\n",
        "data1.loc['Negative'] = float('nan')\n",
        "data1.loc['Neutral'] = float('nan')\n",
        "ax=sns.heatmap(data1, annot=True, cmap=\"Greens\", alpha=0.75,fmt=\".3\",annot_kws={\"fontsize\":15},linewidth=0.1,cbar=False)\n",
        "ax.set(xlabel=\"\", ylabel=\"\")\n",
        "\n",
        "# Blue\n",
        "data2 = table.copy()\n",
        "data2.loc['Negative'] = float('nan')\n",
        "data2.loc['Positive'] = float('nan')\n",
        "ax=sns.heatmap(data2, annot=True, cmap=\"Blues\", alpha=0.75,fmt=\".3\",annot_kws={\"fontsize\":15},linewidth=0.1,cbar=False)\n",
        "ax.set(xlabel=\"\", ylabel=\"\")\n",
        "# Greens\n",
        "data3 = table.copy()\n",
        "data3.loc['Positive'] = float('nan')\n",
        "data3.loc['Neutral'] = float('nan')\n",
        "ax=sns.heatmap(data3, annot=True, cmap=\"Reds\", alpha=0.75,fmt=\".3\",annot_kws={\"fontsize\":15},linewidth=0.1,cbar=False)\n",
        "ax.set(xlabel=\"\", ylabel=\"\")"
      ]
    },
    {
      "cell_type": "markdown",
      "id": "d159caeb",
      "metadata": {
        "id": "d159caeb"
      },
      "source": [
        "# Accuracy evaluation"
      ]
    },
    {
      "cell_type": "code",
      "execution_count": null,
      "id": "3a7d20f5",
      "metadata": {
        "id": "3a7d20f5"
      },
      "outputs": [],
      "source": [
        "df = pd.read_csv('aggregated_handlabeled.csv', index_col = [0])\n",
        "#replace NaN in label columns with 0\n",
        "columns = ['cost','ease of use', 'effective', 'efficient']\n",
        "\n",
        "for column in columns:\n",
        "    df[column] = df[column].replace(np.nan, int(0))"
      ]
    },
    {
      "cell_type": "code",
      "execution_count": null,
      "id": "6b1601f4",
      "metadata": {
        "id": "6b1601f4",
        "outputId": "cc214c25-bd0b-43f3-d738-7da5dfee005e"
      },
      "outputs": [
        {
          "name": "stderr",
          "output_type": "stream",
          "text": [
            "Some weights of the model checkpoint at cardiffnlp/twitter-roberta-base-sentiment-latest were not used when initializing RobertaForSequenceClassification: ['roberta.pooler.dense.weight', 'roberta.pooler.dense.bias']\n",
            "- This IS expected if you are initializing RobertaForSequenceClassification from the checkpoint of a model trained on another task or with another architecture (e.g. initializing a BertForSequenceClassification model from a BertForPreTraining model).\n",
            "- This IS NOT expected if you are initializing RobertaForSequenceClassification from the checkpoint of a model that you expect to be exactly identical (initializing a BertForSequenceClassification model from a BertForSequenceClassification model).\n"
          ]
        },
        {
          "name": "stdout",
          "output_type": "stream",
          "text": [
            "0\n",
            "20\n",
            "40\n",
            "60\n",
            "80\n"
          ]
        }
      ],
      "source": [
        "# sentiment analysis\n",
        "from transformers import pipeline\n",
        "sentiment_pipeline = pipeline(\"sentiment-analysis\", model=\"cardiffnlp/twitter-roberta-base-sentiment-latest\")\n",
        "\n",
        "sentiment = [None] * len(df)\n",
        "index = -1\n",
        "for sentence in df['review_lower'][0:99]:\n",
        "    index+=1\n",
        "    if(index%20 == 0):\n",
        "        print(index)\n",
        "\n",
        "    result = sentiment_pipeline(sentence[:512])[0]\n",
        "    sentiment[index] = result['label']\n",
        "df['sentiment_m'] = sentiment"
      ]
    },
    {
      "cell_type": "code",
      "execution_count": null,
      "id": "e1e12eec",
      "metadata": {
        "id": "e1e12eec",
        "outputId": "29b1612b-3b92-43a3-f653-083e961dade0"
      },
      "outputs": [
        {
          "name": "stdout",
          "output_type": "stream",
          "text": [
            "0\n"
          ]
        },
        {
          "name": "stderr",
          "output_type": "stream",
          "text": [
            "C:\\Users\\WJ.DESKTOP-VH0S9RM\\AppData\\Local\\Temp\\ipykernel_10780\\2091210579.py:23: SettingWithCopyWarning: \n",
            "A value is trying to be set on a copy of a slice from a DataFrame\n",
            "\n",
            "See the caveats in the documentation: https://pandas.pydata.org/pandas-docs/stable/user_guide/indexing.html#returning-a-view-versus-a-copy\n",
            "  df[res['labels'][i]+ '_m'].iloc[j] = res['scores'][i]\n"
          ]
        },
        {
          "name": "stdout",
          "output_type": "stream",
          "text": [
            "20\n",
            "40\n",
            "60\n",
            "80\n"
          ]
        }
      ],
      "source": [
        "# zero-shot classifier\n",
        "classifier  = pipeline(\"zero-shot-classification\",  model = \"facebook/bart-large-mnli\")\n",
        "type = ['cost', 'efficient', 'effective', 'ease of use']\n",
        "#setting empty values for the columns\n",
        "index = -1\n",
        "for label in type:\n",
        "    df[label + '_m'] = -1\n",
        "\n",
        "for j in range(99):\n",
        "    #counter for progress/debugging\n",
        "    index+=1\n",
        "    if(index%20 == 0): \n",
        "        print(index)\n",
        "        \n",
        "    #running the classifier on the column    \n",
        "    res = classifier(\n",
        "        df.iloc[j]['review_lower'],\n",
        "        candidate_labels = type,\n",
        "        multi_label = True\n",
        "    )\n",
        "    #setting the column values according to the output from the classifier (\"_m\" = multiclass)\n",
        "    for i in range(len(res['labels'])):\n",
        "        df[res['labels'][i]+ '_m'].iloc[j] = res['scores'][i]"
      ]
    },
    {
      "cell_type": "markdown",
      "id": "6d104da8",
      "metadata": {
        "id": "6d104da8"
      },
      "source": [
        "## Evaluate sentiment"
      ]
    },
    {
      "cell_type": "code",
      "execution_count": 7,
      "id": "f06062b5",
      "metadata": {
        "colab": {
          "base_uri": "https://localhost:8080/"
        },
        "id": "f06062b5",
        "outputId": "1f28b8ff-41a3-4604-c821-7a0e90ce0c0e"
      },
      "outputs": [
        {
          "output_type": "stream",
          "name": "stdout",
          "text": [
            "              precision    recall  f1-score   support\n",
            "\n",
            "          -1       1.00      1.00      1.00       400\n",
            "\n",
            "    accuracy                           1.00       400\n",
            "   macro avg       1.00      1.00      1.00       400\n",
            "weighted avg       1.00      1.00      1.00       400\n",
            "\n"
          ]
        }
      ],
      "source": [
        "# Evaluate sentiment\n",
        "from sklearn.metrics import classification_report\n",
        "from sklearn.metrics import roc_auc_score\n",
        "def imputation1(list):\n",
        "    i = []\n",
        "    for prediction in list:\n",
        "        if prediction == \"Positive\":\n",
        "            i.append(1)\n",
        "        elif prediction == \"Neutral\":\n",
        "            i.append(0)\n",
        "        else:\n",
        "            i.append(-1)    \n",
        "    return(i)\n",
        "df['sentiment'] = imputation1(df['sentiment'])\n",
        "df['sentiment_m'] = imputation1(df['sentiment_m'])\n",
        "print(classification_report(df['sentiment'], df['sentiment_m']))"
      ]
    },
    {
      "cell_type": "markdown",
      "id": "e8523dce",
      "metadata": {
        "id": "e8523dce"
      },
      "source": [
        "## Evaluate zero shot"
      ]
    },
    {
      "cell_type": "code",
      "execution_count": 5,
      "id": "3771e86d",
      "metadata": {
        "id": "3771e86d"
      },
      "outputs": [],
      "source": [
        "# Evaluate zero-shot\n",
        "def imputation(list):\n",
        "    i = []\n",
        "    for prediction in list:\n",
        "        if prediction < 0.7:\n",
        "            i.append(0)\n",
        "        else:\n",
        "            i.append(1)\n",
        "    \n",
        "    return(i)\n",
        "df['cost_m'] = imputation(df['cost_m'])\n",
        "df['efficient_m'] = imputation(df['efficient_m'])\n",
        "df['effective_m'] = imputation(df['effective_m'])\n",
        "df['ease of use_m'] = imputation(df['ease of use_m'])"
      ]
    },
    {
      "cell_type": "markdown",
      "id": "2146ed34",
      "metadata": {
        "id": "2146ed34"
      },
      "source": [
        "### 1) cost"
      ]
    },
    {
      "cell_type": "code",
      "execution_count": 8,
      "id": "df4da381",
      "metadata": {
        "id": "df4da381",
        "outputId": "b5056c5b-92e1-4fe0-9333-13e731a9f890",
        "colab": {
          "base_uri": "https://localhost:8080/"
        }
      },
      "outputs": [
        {
          "output_type": "stream",
          "name": "stdout",
          "text": [
            "              precision    recall  f1-score   support\n",
            "\n",
            "         0.0       1.00      0.95      0.97       388\n",
            "         1.0       0.38      0.92      0.54        12\n",
            "\n",
            "    accuracy                           0.95       400\n",
            "   macro avg       0.69      0.94      0.76       400\n",
            "weighted avg       0.98      0.95      0.96       400\n",
            "\n"
          ]
        }
      ],
      "source": [
        "print(classification_report(df['cost'], df['cost_m']))"
      ]
    },
    {
      "cell_type": "code",
      "execution_count": null,
      "id": "5fa08ca6",
      "metadata": {
        "id": "5fa08ca6",
        "outputId": "b54cb119-3b88-49f6-ba27-90305d113302"
      },
      "outputs": [
        {
          "name": "stdout",
          "output_type": "stream",
          "text": [
            "ROC AUC : 0.9351\n"
          ]
        }
      ],
      "source": [
        "ROC_AUC = roc_auc_score(df['cost'], df['cost_m'])\n",
        "print('ROC AUC : {:.4f}'.format(ROC_AUC))"
      ]
    },
    {
      "cell_type": "markdown",
      "id": "7f5e9623",
      "metadata": {
        "id": "7f5e9623"
      },
      "source": [
        "### 2) efficient"
      ]
    },
    {
      "cell_type": "code",
      "execution_count": null,
      "id": "a8365a1f",
      "metadata": {
        "id": "a8365a1f",
        "outputId": "765460ab-ada3-4e11-cb5f-ccbec14d56c0"
      },
      "outputs": [
        {
          "name": "stdout",
          "output_type": "stream",
          "text": [
            "              precision    recall  f1-score   support\n",
            "\n",
            "         0.0       0.96      0.89      0.93       363\n",
            "         1.0       0.38      0.65      0.48        37\n",
            "\n",
            "    accuracy                           0.87       400\n",
            "   macro avg       0.67      0.77      0.70       400\n",
            "weighted avg       0.91      0.87      0.88       400\n",
            "\n"
          ]
        }
      ],
      "source": [
        "print(classification_report(df['efficient'], df['efficient_m']))"
      ]
    },
    {
      "cell_type": "code",
      "execution_count": null,
      "id": "4a730497",
      "metadata": {
        "id": "4a730497",
        "outputId": "5516c04f-5921-4b61-8479-c78532557081"
      },
      "outputs": [
        {
          "name": "stdout",
          "output_type": "stream",
          "text": [
            "ROC AUC : 0.7706\n"
          ]
        }
      ],
      "source": [
        "ROC_AUC = roc_auc_score(df['efficient'], df['efficient_m'])\n",
        "print('ROC AUC : {:.4f}'.format(ROC_AUC))"
      ]
    },
    {
      "cell_type": "markdown",
      "id": "1657ca46",
      "metadata": {
        "id": "1657ca46"
      },
      "source": [
        "### 3) effective"
      ]
    },
    {
      "cell_type": "code",
      "execution_count": null,
      "id": "6645a483",
      "metadata": {
        "id": "6645a483",
        "outputId": "94c1027e-9bec-46f9-8d82-438b67cf9610"
      },
      "outputs": [
        {
          "name": "stdout",
          "output_type": "stream",
          "text": [
            "              precision    recall  f1-score   support\n",
            "\n",
            "         0.0       0.92      0.99      0.96       306\n",
            "         1.0       0.97      0.73      0.84        94\n",
            "\n",
            "    accuracy                           0.93       400\n",
            "   macro avg       0.95      0.86      0.90       400\n",
            "weighted avg       0.94      0.93      0.93       400\n",
            "\n"
          ]
        }
      ],
      "source": [
        "print(classification_report(df['effective'], df['effective_m']))"
      ]
    },
    {
      "cell_type": "code",
      "execution_count": null,
      "id": "474b0c3f",
      "metadata": {
        "id": "474b0c3f",
        "outputId": "d2181cc8-7386-4bf5-af56-3478741657cc"
      },
      "outputs": [
        {
          "name": "stdout",
          "output_type": "stream",
          "text": [
            "ROC AUC : 0.8638\n"
          ]
        }
      ],
      "source": [
        "ROC_AUC = roc_auc_score(df['effective'], df['effective_m'])\n",
        "print('ROC AUC : {:.4f}'.format(ROC_AUC))"
      ]
    },
    {
      "cell_type": "markdown",
      "id": "b47d17ad",
      "metadata": {
        "id": "b47d17ad"
      },
      "source": [
        "### 4) ease of use"
      ]
    },
    {
      "cell_type": "code",
      "execution_count": null,
      "id": "67838b99",
      "metadata": {
        "id": "67838b99",
        "outputId": "ca4faf82-f529-41e2-924d-06b9bd08bd64"
      },
      "outputs": [
        {
          "name": "stdout",
          "output_type": "stream",
          "text": [
            "              precision    recall  f1-score   support\n",
            "\n",
            "         0.0       0.99      0.93      0.96       381\n",
            "         1.0       0.34      0.74      0.47        19\n",
            "\n",
            "    accuracy                           0.92       400\n",
            "   macro avg       0.66      0.83      0.71       400\n",
            "weighted avg       0.96      0.92      0.93       400\n",
            "\n"
          ]
        }
      ],
      "source": [
        "print(classification_report(df['ease of use'], df['ease of use_m']))"
      ]
    },
    {
      "cell_type": "code",
      "execution_count": null,
      "id": "63ede02e",
      "metadata": {
        "id": "63ede02e",
        "outputId": "bdceb5c1-4dbf-4308-9883-dd09c26b6701"
      },
      "outputs": [
        {
          "name": "stdout",
          "output_type": "stream",
          "text": [
            "ROC AUC : 0.8330\n"
          ]
        }
      ],
      "source": [
        "ROC_AUC = roc_auc_score(df['ease of use'], df['ease of use_m'])\n",
        "print('ROC AUC : {:.4f}'.format(ROC_AUC))"
      ]
    },
    {
      "cell_type": "markdown",
      "id": "47364dae",
      "metadata": {
        "id": "47364dae"
      },
      "source": [
        "## Compare zero-shot against a Naive classifier"
      ]
    },
    {
      "cell_type": "code",
      "execution_count": null,
      "id": "7eabf21e",
      "metadata": {
        "id": "7eabf21e"
      },
      "outputs": [],
      "source": [
        "def naive(list):\n",
        "    avg  = np.mean(list)\n",
        "\n",
        "    if avg >= 0.5:\n",
        "        i = 1\n",
        "    else:\n",
        "        i = 0\n",
        "\n",
        "    return([i] * len(list))\n",
        "df['naive_cost'] = naive(df['cost'])\n",
        "df['naive_efficient'] = naive(df['efficient'])\n",
        "df['naive_effective'] = naive(df['effective'])\n",
        "df['naive_easeofuse'] = naive(df['ease of use'])"
      ]
    },
    {
      "cell_type": "code",
      "execution_count": null,
      "id": "141957b5",
      "metadata": {
        "id": "141957b5",
        "outputId": "f48584ac-75d6-48dd-dd21-d19a6c05f642"
      },
      "outputs": [
        {
          "name": "stdout",
          "output_type": "stream",
          "text": [
            "              precision    recall  f1-score   support\n",
            "\n",
            "         0.0       0.97      1.00      0.98       388\n",
            "         1.0       0.00      0.00      0.00        12\n",
            "\n",
            "    accuracy                           0.97       400\n",
            "   macro avg       0.48      0.50      0.49       400\n",
            "weighted avg       0.94      0.97      0.96       400\n",
            "\n"
          ]
        },
        {
          "name": "stderr",
          "output_type": "stream",
          "text": [
            "C:\\ProgramData\\Anaconda3\\lib\\site-packages\\sklearn\\metrics\\_classification.py:1318: UndefinedMetricWarning: Precision and F-score are ill-defined and being set to 0.0 in labels with no predicted samples. Use `zero_division` parameter to control this behavior.\n",
            "  _warn_prf(average, modifier, msg_start, len(result))\n",
            "C:\\ProgramData\\Anaconda3\\lib\\site-packages\\sklearn\\metrics\\_classification.py:1318: UndefinedMetricWarning: Precision and F-score are ill-defined and being set to 0.0 in labels with no predicted samples. Use `zero_division` parameter to control this behavior.\n",
            "  _warn_prf(average, modifier, msg_start, len(result))\n",
            "C:\\ProgramData\\Anaconda3\\lib\\site-packages\\sklearn\\metrics\\_classification.py:1318: UndefinedMetricWarning: Precision and F-score are ill-defined and being set to 0.0 in labels with no predicted samples. Use `zero_division` parameter to control this behavior.\n",
            "  _warn_prf(average, modifier, msg_start, len(result))\n"
          ]
        }
      ],
      "source": [
        "# cost\n",
        "print(classification_report(df['cost'], df['naive_cost']))"
      ]
    },
    {
      "cell_type": "code",
      "execution_count": null,
      "id": "c447c3eb",
      "metadata": {
        "id": "c447c3eb",
        "outputId": "1e616b48-0e62-4049-efe1-4ee9dd4093ac"
      },
      "outputs": [
        {
          "name": "stdout",
          "output_type": "stream",
          "text": [
            "              precision    recall  f1-score   support\n",
            "\n",
            "         0.0       0.91      1.00      0.95       363\n",
            "         1.0       0.00      0.00      0.00        37\n",
            "\n",
            "    accuracy                           0.91       400\n",
            "   macro avg       0.45      0.50      0.48       400\n",
            "weighted avg       0.82      0.91      0.86       400\n",
            "\n"
          ]
        },
        {
          "name": "stderr",
          "output_type": "stream",
          "text": [
            "C:\\ProgramData\\Anaconda3\\lib\\site-packages\\sklearn\\metrics\\_classification.py:1318: UndefinedMetricWarning: Precision and F-score are ill-defined and being set to 0.0 in labels with no predicted samples. Use `zero_division` parameter to control this behavior.\n",
            "  _warn_prf(average, modifier, msg_start, len(result))\n",
            "C:\\ProgramData\\Anaconda3\\lib\\site-packages\\sklearn\\metrics\\_classification.py:1318: UndefinedMetricWarning: Precision and F-score are ill-defined and being set to 0.0 in labels with no predicted samples. Use `zero_division` parameter to control this behavior.\n",
            "  _warn_prf(average, modifier, msg_start, len(result))\n",
            "C:\\ProgramData\\Anaconda3\\lib\\site-packages\\sklearn\\metrics\\_classification.py:1318: UndefinedMetricWarning: Precision and F-score are ill-defined and being set to 0.0 in labels with no predicted samples. Use `zero_division` parameter to control this behavior.\n",
            "  _warn_prf(average, modifier, msg_start, len(result))\n"
          ]
        }
      ],
      "source": [
        "# efficient\n",
        "print(classification_report(df['efficient'], df['naive_efficient']))"
      ]
    },
    {
      "cell_type": "code",
      "execution_count": null,
      "id": "918768f8",
      "metadata": {
        "id": "918768f8",
        "outputId": "abe36870-09a6-4c22-f2ef-61b2bea9eedb"
      },
      "outputs": [
        {
          "name": "stdout",
          "output_type": "stream",
          "text": [
            "              precision    recall  f1-score   support\n",
            "\n",
            "         0.0       0.77      1.00      0.87       306\n",
            "         1.0       0.00      0.00      0.00        94\n",
            "\n",
            "    accuracy                           0.77       400\n",
            "   macro avg       0.38      0.50      0.43       400\n",
            "weighted avg       0.59      0.77      0.66       400\n",
            "\n"
          ]
        },
        {
          "name": "stderr",
          "output_type": "stream",
          "text": [
            "C:\\ProgramData\\Anaconda3\\lib\\site-packages\\sklearn\\metrics\\_classification.py:1318: UndefinedMetricWarning: Precision and F-score are ill-defined and being set to 0.0 in labels with no predicted samples. Use `zero_division` parameter to control this behavior.\n",
            "  _warn_prf(average, modifier, msg_start, len(result))\n",
            "C:\\ProgramData\\Anaconda3\\lib\\site-packages\\sklearn\\metrics\\_classification.py:1318: UndefinedMetricWarning: Precision and F-score are ill-defined and being set to 0.0 in labels with no predicted samples. Use `zero_division` parameter to control this behavior.\n",
            "  _warn_prf(average, modifier, msg_start, len(result))\n",
            "C:\\ProgramData\\Anaconda3\\lib\\site-packages\\sklearn\\metrics\\_classification.py:1318: UndefinedMetricWarning: Precision and F-score are ill-defined and being set to 0.0 in labels with no predicted samples. Use `zero_division` parameter to control this behavior.\n",
            "  _warn_prf(average, modifier, msg_start, len(result))\n"
          ]
        }
      ],
      "source": [
        "# effective\n",
        "print(classification_report(df['effective'], df['naive_effective']))"
      ]
    },
    {
      "cell_type": "code",
      "execution_count": null,
      "id": "f4ee6d6f",
      "metadata": {
        "id": "f4ee6d6f",
        "outputId": "4c80dde4-8c92-4f50-c37e-4fa11bdb55ed"
      },
      "outputs": [
        {
          "name": "stdout",
          "output_type": "stream",
          "text": [
            "              precision    recall  f1-score   support\n",
            "\n",
            "         0.0       0.95      1.00      0.98       381\n",
            "         1.0       0.00      0.00      0.00        19\n",
            "\n",
            "    accuracy                           0.95       400\n",
            "   macro avg       0.48      0.50      0.49       400\n",
            "weighted avg       0.91      0.95      0.93       400\n",
            "\n"
          ]
        },
        {
          "name": "stderr",
          "output_type": "stream",
          "text": [
            "C:\\ProgramData\\Anaconda3\\lib\\site-packages\\sklearn\\metrics\\_classification.py:1318: UndefinedMetricWarning: Precision and F-score are ill-defined and being set to 0.0 in labels with no predicted samples. Use `zero_division` parameter to control this behavior.\n",
            "  _warn_prf(average, modifier, msg_start, len(result))\n",
            "C:\\ProgramData\\Anaconda3\\lib\\site-packages\\sklearn\\metrics\\_classification.py:1318: UndefinedMetricWarning: Precision and F-score are ill-defined and being set to 0.0 in labels with no predicted samples. Use `zero_division` parameter to control this behavior.\n",
            "  _warn_prf(average, modifier, msg_start, len(result))\n",
            "C:\\ProgramData\\Anaconda3\\lib\\site-packages\\sklearn\\metrics\\_classification.py:1318: UndefinedMetricWarning: Precision and F-score are ill-defined and being set to 0.0 in labels with no predicted samples. Use `zero_division` parameter to control this behavior.\n",
            "  _warn_prf(average, modifier, msg_start, len(result))\n"
          ]
        }
      ],
      "source": [
        "# ease of use\n",
        "print(classification_report(df['ease of use'], df['naive_easeofuse']))"
      ]
    },
    {
      "cell_type": "code",
      "execution_count": null,
      "id": "8c97ab99",
      "metadata": {
        "id": "8c97ab99"
      },
      "outputs": [],
      "source": [
        "df.to_csv('aggregated_evaluation.csv')"
      ]
    },
    {
      "cell_type": "code",
      "source": [
        "#import pandas as pd\n",
        "#df=pd.read_csv('aggregated_evaluation.csv')"
      ],
      "metadata": {
        "id": "6LA-KCjaZUzG"
      },
      "id": "6LA-KCjaZUzG",
      "execution_count": 33,
      "outputs": []
    },
    {
      "cell_type": "code",
      "source": [
        "#!pip install transformers"
      ],
      "metadata": {
        "id": "EoIxFwmvYvRJ"
      },
      "id": "EoIxFwmvYvRJ",
      "execution_count": 41,
      "outputs": []
    },
    {
      "cell_type": "markdown",
      "id": "71153cbd",
      "metadata": {
        "id": "71153cbd"
      },
      "source": [
        "# Visualization"
      ]
    },
    {
      "cell_type": "code",
      "execution_count": 38,
      "id": "d57b9a9d",
      "metadata": {
        "colab": {
          "base_uri": "https://localhost:8080/"
        },
        "id": "d57b9a9d",
        "outputId": "4e059d00-dae3-4e4f-92d0-3be87cd108ac"
      },
      "outputs": [
        {
          "output_type": "stream",
          "name": "stderr",
          "text": [
            "/usr/local/lib/python3.8/dist-packages/sklearn/metrics/_classification.py:1318: UndefinedMetricWarning: Recall and F-score are ill-defined and being set to 0.0 in labels with no true samples. Use `zero_division` parameter to control this behavior.\n",
            "  _warn_prf(average, modifier, msg_start, len(result))\n",
            "/usr/local/lib/python3.8/dist-packages/sklearn/metrics/_classification.py:1318: UndefinedMetricWarning: Recall and F-score are ill-defined and being set to 0.0 in labels with no true samples. Use `zero_division` parameter to control this behavior.\n",
            "  _warn_prf(average, modifier, msg_start, len(result))\n",
            "/usr/local/lib/python3.8/dist-packages/sklearn/metrics/_classification.py:1318: UndefinedMetricWarning: Recall and F-score are ill-defined and being set to 0.0 in labels with no true samples. Use `zero_division` parameter to control this behavior.\n",
            "  _warn_prf(average, modifier, msg_start, len(result))\n"
          ]
        }
      ],
      "source": [
        "report_sentiment = classification_report(df['sentiment'], df['sentiment_m'], output_dict=True)\n",
        "\n",
        "def accuracy(type):\n",
        "  report = classification_report(df[type], df[type+'_m'], output_dict=True)\n",
        "  return (type, report['1.0']['recall'])\n",
        "\n",
        "def accuracy_matrix(type):\n",
        "  report = classification_report(df[type], df[type+'_m'], output_dict=True)\n",
        "  data= np.ones((100, 100))\n",
        "  data[0:int(report_sentiment['accuracy']*100),0:int(report['1.0']['recall']*100)] = 0.0 \n",
        "  return data"
      ]
    },
    {
      "cell_type": "code",
      "execution_count": 11,
      "id": "da8b8de6",
      "metadata": {
        "id": "da8b8de6"
      },
      "outputs": [],
      "source": [
        "%matplotlib inline\n",
        "%config InlineBackend.figure_format='retina'\n",
        "import numpy as np\n",
        "from matplotlib import pyplot as plt\n",
        "import matplotlib\n",
        "import matplotlib.ticker as mticker  \n",
        "import matplotlib.patches as mpatches"
      ]
    },
    {
      "cell_type": "code",
      "execution_count": 40,
      "id": "964b864a",
      "metadata": {
        "colab": {
          "base_uri": "https://localhost:8080/",
          "height": 685
        },
        "id": "964b864a",
        "outputId": "93814811-16ee-4a6d-e6f7-3c8322246cf0"
      },
      "outputs": [
        {
          "output_type": "execute_result",
          "data": {
            "text/plain": [
              "<matplotlib.legend.Legend at 0x7f1219743df0>"
            ]
          },
          "metadata": {},
          "execution_count": 40
        },
        {
          "output_type": "display_data",
          "data": {
            "text/plain": [
              "<Figure size 720x720 with 4 Axes>"
            ],
            "image/png": "[encoded data removed]"
          },
          "metadata": {
            "image/png": {
              "width": 647,
              "height": 650
            }
          }
        }
      ],
      "source": [
        "#fig, ax = plt.subplots()\n",
        "fig, ((ax1, ax2), (ax3, ax4)) = plt.subplots(2, 2, sharex=True, sharey=True)\n",
        "\n",
        "fig.set_figheight(10)\n",
        "fig.set_figwidth(10)\n",
        "\n",
        "img1 = ax1.imshow(accuracy_matrix('cost'),cmap='coolwarm',origin='lower')\n",
        "img2 = ax2.imshow(accuracy_matrix('ease of use'),cmap='coolwarm',origin='lower')\n",
        "img3 = ax3.imshow(accuracy_matrix('effective'),cmap='coolwarm',origin='lower')\n",
        "img4 = ax4.imshow(accuracy_matrix('efficient'),cmap='coolwarm',origin='lower')\n",
        "\n",
        "img1=plt.gca().xaxis.set_major_formatter(mticker.PercentFormatter())\n",
        "img1=plt.gca().yaxis.set_major_formatter(mticker.PercentFormatter())\n",
        "\n",
        "ax1.set_xlabel('cost accuracy')\n",
        "ax1.set_ylabel('sentiment accuracy')\n",
        "ax3.set_ylabel('sentiment accuracy')\n",
        "ax2.set_xlabel('ease of use accuracy')\n",
        "ax3.set_xlabel('effectiveness accuracy')\n",
        "ax4.set_xlabel('efficiency accuracy')\n",
        "\n",
        "ax1.text(40, 45, 'Accuracy: '+ str(round(report_sentiment['accuracy']*accuracy('cost')[1]*100,2))+'%', fontsize=13, c='white',ha='center')\n",
        "ax2.text(40, 45, 'Accuracy: '+ str(round(report_sentiment['accuracy']*accuracy('ease of use')[1]*100,2))+'%', fontsize=13, c='white',ha='center')\n",
        "ax3.text(40, 45, 'Accuracy: '+ str(round(report_sentiment['accuracy']*accuracy('effective')[1]*100,2))+'%', fontsize=13, c='white',ha='center')\n",
        "ax4.text(40, 45, 'Accuracy: '+ str(round(report_sentiment['accuracy']*accuracy('efficient')[1]*100,2))+'%', fontsize=13, c='white',ha='center')\n",
        "\n",
        "ax1.set_xticks([])\n",
        "ax1.set_yticks([])\n",
        "ax2.set_xticks([])\n",
        "ax2.set_yticks([])\n",
        "ax3.set_xticks([])\n",
        "ax3.set_yticks([])\n",
        "ax4.set_xticks([])\n",
        "ax4.set_yticks([])\n",
        "\n",
        "blue_patch = mpatches.Patch(color='blue', label='Accurate')\n",
        "red_patch = mpatches.Patch(color='red', label='Inaccurate')\n",
        "fig.legend(handles=[blue_patch, red_patch],loc='upper right',fontsize='x-large')"
      ]
    },
    {
      "cell_type": "code",
      "source": [],
      "metadata": {
        "id": "oDTucNrvAKfa"
      },
      "id": "oDTucNrvAKfa",
      "execution_count": 40,
      "outputs": []
    },
    {
      "cell_type": "code",
      "source": [],
      "metadata": {
        "id": "T9Y-D688cCv3"
      },
      "id": "T9Y-D688cCv3",
      "execution_count": null,
      "outputs": []
    }
  ],
  "metadata": {
    "kernelspec": {
      "display_name": "Python 3.10.1 64-bit",
      "language": "python",
      "name": "python3"
    },
    "language_info": {
      "codemirror_mode": {
        "name": "ipython",
        "version": 3
      },
      "file_extension": ".py",
      "mimetype": "text/x-python",
      "name": "python",
      "nbconvert_exporter": "python",
      "pygments_lexer": "ipython3",
      "version": "3.10.1"
    },
    "vscode": {
      "interpreter": {
        "hash": "998c911629ba937bcf1bf80465453e12e8c5c2c818cb936f93ef7cf495a937a9"
      }
    },
    "colab": {
      "provenance": []
    },
    "widgets": {
      "application/vnd.jupyter.widget-state+json": {
        "804a8961f80e44ee8a6b820019bae42b": {
          "model_module": "@jupyter-widgets/controls",
          "model_name": "HBoxModel",
          "model_module_version": "1.5.0",
          "state": {
            "_dom_classes": [],
            "_model_module": "@jupyter-widgets/controls",
            "_model_module_version": "1.5.0",
            "_model_name": "HBoxModel",
            "_view_count": null,
            "_view_module": "@jupyter-widgets/controls",
            "_view_module_version": "1.5.0",
            "_view_name": "HBoxView",
            "box_style": "",
            "children": [
              "IPY_MODEL_3c7e196262b24e9db18f95c5061067f9",
              "IPY_MODEL_e3842c0ea1b948a396a8c682ad44a6d1",
              "IPY_MODEL_d5216f6b77f842f4a270b9fc69b3ce2a"
            ],
            "layout": "IPY_MODEL_a946cdc0aa7f4388a2b885f7c48c8e01"
          }
        },
        "3c7e196262b24e9db18f95c5061067f9": {
          "model_module": "@jupyter-widgets/controls",
          "model_name": "HTMLModel",
          "model_module_version": "1.5.0",
          "state": {
            "_dom_classes": [],
            "_model_module": "@jupyter-widgets/controls",
            "_model_module_version": "1.5.0",
            "_model_name": "HTMLModel",
            "_view_count": null,
            "_view_module": "@jupyter-widgets/controls",
            "_view_module_version": "1.5.0",
            "_view_name": "HTMLView",
            "description": "",
            "description_tooltip": null,
            "layout": "IPY_MODEL_1ecf071afe9048aa99864c8d1bd17ef1",
            "placeholder": "​",
            "style": "IPY_MODEL_c9f3e73376324d138b1c9cb95ee05341",
            "value": "Downloading: 100%"
          }
        },
        "e3842c0ea1b948a396a8c682ad44a6d1": {
          "model_module": "@jupyter-widgets/controls",
          "model_name": "FloatProgressModel",
          "model_module_version": "1.5.0",
          "state": {
            "_dom_classes": [],
            "_model_module": "@jupyter-widgets/controls",
            "_model_module_version": "1.5.0",
            "_model_name": "FloatProgressModel",
            "_view_count": null,
            "_view_module": "@jupyter-widgets/controls",
            "_view_module_version": "1.5.0",
            "_view_name": "ProgressView",
            "bar_style": "success",
            "description": "",
            "description_tooltip": null,
            "layout": "IPY_MODEL_0038d34edd7f464e9ac78018fc1a0a7f",
            "max": 1154,
            "min": 0,
            "orientation": "horizontal",
            "style": "IPY_MODEL_aec599497e894bb2846850944a7d4397",
            "value": 1154
          }
        },
        "d5216f6b77f842f4a270b9fc69b3ce2a": {
          "model_module": "@jupyter-widgets/controls",
          "model_name": "HTMLModel",
          "model_module_version": "1.5.0",
          "state": {
            "_dom_classes": [],
            "_model_module": "@jupyter-widgets/controls",
            "_model_module_version": "1.5.0",
            "_model_name": "HTMLModel",
            "_view_count": null,
            "_view_module": "@jupyter-widgets/controls",
            "_view_module_version": "1.5.0",
            "_view_name": "HTMLView",
            "description": "",
            "description_tooltip": null,
            "layout": "IPY_MODEL_1ad79ae1bd4d4c6fbe236b18429c1caa",
            "placeholder": "​",
            "style": "IPY_MODEL_8f9fc9df5de94158ab96eaf465b2ca76",
            "value": " 1.15k/1.15k [00:00&lt;00:00, 15.8kB/s]"
          }
        },
        "a946cdc0aa7f4388a2b885f7c48c8e01": {
          "model_module": "@jupyter-widgets/base",
          "model_name": "LayoutModel",
          "model_module_version": "1.2.0",
          "state": {
            "_model_module": "@jupyter-widgets/base",
            "_model_module_version": "1.2.0",
            "_model_name": "LayoutModel",
            "_view_count": null,
            "_view_module": "@jupyter-widgets/base",
            "_view_module_version": "1.2.0",
            "_view_name": "LayoutView",
            "align_content": null,
            "align_items": null,
            "align_self": null,
            "border": null,
            "bottom": null,
            "display": null,
            "flex": null,
            "flex_flow": null,
            "grid_area": null,
            "grid_auto_columns": null,
            "grid_auto_flow": null,
            "grid_auto_rows": null,
            "grid_column": null,
            "grid_gap": null,
            "grid_row": null,
            "grid_template_areas": null,
            "grid_template_columns": null,
            "grid_template_rows": null,
            "height": null,
            "justify_content": null,
            "justify_items": null,
            "left": null,
            "margin": null,
            "max_height": null,
            "max_width": null,
            "min_height": null,
            "min_width": null,
            "object_fit": null,
            "object_position": null,
            "order": null,
            "overflow": null,
            "overflow_x": null,
            "overflow_y": null,
            "padding": null,
            "right": null,
            "top": null,
            "visibility": null,
            "width": null
          }
        },
        "1ecf071afe9048aa99864c8d1bd17ef1": {
          "model_module": "@jupyter-widgets/base",
          "model_name": "LayoutModel",
          "model_module_version": "1.2.0",
          "state": {
            "_model_module": "@jupyter-widgets/base",
            "_model_module_version": "1.2.0",
            "_model_name": "LayoutModel",
            "_view_count": null,
            "_view_module": "@jupyter-widgets/base",
            "_view_module_version": "1.2.0",
            "_view_name": "LayoutView",
            "align_content": null,
            "align_items": null,
            "align_self": null,
            "border": null,
            "bottom": null,
            "display": null,
            "flex": null,
            "flex_flow": null,
            "grid_area": null,
            "grid_auto_columns": null,
            "grid_auto_flow": null,
            "grid_auto_rows": null,
            "grid_column": null,
            "grid_gap": null,
            "grid_row": null,
            "grid_template_areas": null,
            "grid_template_columns": null,
            "grid_template_rows": null,
            "height": null,
            "justify_content": null,
            "justify_items": null,
            "left": null,
            "margin": null,
            "max_height": null,
            "max_width": null,
            "min_height": null,
            "min_width": null,
            "object_fit": null,
            "object_position": null,
            "order": null,
            "overflow": null,
            "overflow_x": null,
            "overflow_y": null,
            "padding": null,
            "right": null,
            "top": null,
            "visibility": null,
            "width": null
          }
        },
        "c9f3e73376324d138b1c9cb95ee05341": {
          "model_module": "@jupyter-widgets/controls",
          "model_name": "DescriptionStyleModel",
          "model_module_version": "1.5.0",
          "state": {
            "_model_module": "@jupyter-widgets/controls",
            "_model_module_version": "1.5.0",
            "_model_name": "DescriptionStyleModel",
            "_view_count": null,
            "_view_module": "@jupyter-widgets/base",
            "_view_module_version": "1.2.0",
            "_view_name": "StyleView",
            "description_width": ""
          }
        },
        "0038d34edd7f464e9ac78018fc1a0a7f": {
          "model_module": "@jupyter-widgets/base",
          "model_name": "LayoutModel",
          "model_module_version": "1.2.0",
          "state": {
            "_model_module": "@jupyter-widgets/base",
            "_model_module_version": "1.2.0",
            "_model_name": "LayoutModel",
            "_view_count": null,
            "_view_module": "@jupyter-widgets/base",
            "_view_module_version": "1.2.0",
            "_view_name": "LayoutView",
            "align_content": null,
            "align_items": null,
            "align_self": null,
            "border": null,
            "bottom": null,
            "display": null,
            "flex": null,
            "flex_flow": null,
            "grid_area": null,
            "grid_auto_columns": null,
            "grid_auto_flow": null,
            "grid_auto_rows": null,
            "grid_column": null,
            "grid_gap": null,
            "grid_row": null,
            "grid_template_areas": null,
            "grid_template_columns": null,
            "grid_template_rows": null,
            "height": null,
            "justify_content": null,
            "justify_items": null,
            "left": null,
            "margin": null,
            "max_height": null,
            "max_width": null,
            "min_height": null,
            "min_width": null,
            "object_fit": null,
            "object_position": null,
            "order": null,
            "overflow": null,
            "overflow_x": null,
            "overflow_y": null,
            "padding": null,
            "right": null,
            "top": null,
            "visibility": null,
            "width": null
          }
        },
        "aec599497e894bb2846850944a7d4397": {
          "model_module": "@jupyter-widgets/controls",
          "model_name": "ProgressStyleModel",
          "model_module_version": "1.5.0",
          "state": {
            "_model_module": "@jupyter-widgets/controls",
            "_model_module_version": "1.5.0",
            "_model_name": "ProgressStyleModel",
            "_view_count": null,
            "_view_module": "@jupyter-widgets/base",
            "_view_module_version": "1.2.0",
            "_view_name": "StyleView",
            "bar_color": null,
            "description_width": ""
          }
        },
        "1ad79ae1bd4d4c6fbe236b18429c1caa": {
          "model_module": "@jupyter-widgets/base",
          "model_name": "LayoutModel",
          "model_module_version": "1.2.0",
          "state": {
            "_model_module": "@jupyter-widgets/base",
            "_model_module_version": "1.2.0",
            "_model_name": "LayoutModel",
            "_view_count": null,
            "_view_module": "@jupyter-widgets/base",
            "_view_module_version": "1.2.0",
            "_view_name": "LayoutView",
            "align_content": null,
            "align_items": null,
            "align_self": null,
            "border": null,
            "bottom": null,
            "display": null,
            "flex": null,
            "flex_flow": null,
            "grid_area": null,
            "grid_auto_columns": null,
            "grid_auto_flow": null,
            "grid_auto_rows": null,
            "grid_column": null,
            "grid_gap": null,
            "grid_row": null,
            "grid_template_areas": null,
            "grid_template_columns": null,
            "grid_template_rows": null,
            "height": null,
            "justify_content": null,
            "justify_items": null,
            "left": null,
            "margin": null,
            "max_height": null,
            "max_width": null,
            "min_height": null,
            "min_width": null,
            "object_fit": null,
            "object_position": null,
            "order": null,
            "overflow": null,
            "overflow_x": null,
            "overflow_y": null,
            "padding": null,
            "right": null,
            "top": null,
            "visibility": null,
            "width": null
          }
        },
        "8f9fc9df5de94158ab96eaf465b2ca76": {
          "model_module": "@jupyter-widgets/controls",
          "model_name": "DescriptionStyleModel",
          "model_module_version": "1.5.0",
          "state": {
            "_model_module": "@jupyter-widgets/controls",
            "_model_module_version": "1.5.0",
            "_model_name": "DescriptionStyleModel",
            "_view_count": null,
            "_view_module": "@jupyter-widgets/base",
            "_view_module_version": "1.2.0",
            "_view_name": "StyleView",
            "description_width": ""
          }
        },
        "414f2051de8f4c93b95c454793332d56": {
          "model_module": "@jupyter-widgets/controls",
          "model_name": "HBoxModel",
          "model_module_version": "1.5.0",
          "state": {
            "_dom_classes": [],
            "_model_module": "@jupyter-widgets/controls",
            "_model_module_version": "1.5.0",
            "_model_name": "HBoxModel",
            "_view_count": null,
            "_view_module": "@jupyter-widgets/controls",
            "_view_module_version": "1.5.0",
            "_view_name": "HBoxView",
            "box_style": "",
            "children": [
              "IPY_MODEL_49bf2f8236ff49059d2919760b3ff45e",
              "IPY_MODEL_497cafc296da481dad689210e727e4f1",
              "IPY_MODEL_61476660386a41caa50a8e9f602ab0c6"
            ],
            "layout": "IPY_MODEL_b37db1e619954d6ab356f66c7082b47a"
          }
        },
        "49bf2f8236ff49059d2919760b3ff45e": {
          "model_module": "@jupyter-widgets/controls",
          "model_name": "HTMLModel",
          "model_module_version": "1.5.0",
          "state": {
            "_dom_classes": [],
            "_model_module": "@jupyter-widgets/controls",
            "_model_module_version": "1.5.0",
            "_model_name": "HTMLModel",
            "_view_count": null,
            "_view_module": "@jupyter-widgets/controls",
            "_view_module_version": "1.5.0",
            "_view_name": "HTMLView",
            "description": "",
            "description_tooltip": null,
            "layout": "IPY_MODEL_cab2b702ff7d444881b1e9ab6892ef44",
            "placeholder": "​",
            "style": "IPY_MODEL_14916e6c1dc34a81bce929fd88ca5eae",
            "value": "Downloading: 100%"
          }
        },
        "497cafc296da481dad689210e727e4f1": {
          "model_module": "@jupyter-widgets/controls",
          "model_name": "FloatProgressModel",
          "model_module_version": "1.5.0",
          "state": {
            "_dom_classes": [],
            "_model_module": "@jupyter-widgets/controls",
            "_model_module_version": "1.5.0",
            "_model_name": "FloatProgressModel",
            "_view_count": null,
            "_view_module": "@jupyter-widgets/controls",
            "_view_module_version": "1.5.0",
            "_view_name": "ProgressView",
            "bar_style": "success",
            "description": "",
            "description_tooltip": null,
            "layout": "IPY_MODEL_820ec6eeb44e4193bc0f7b2e4b9bbc17",
            "max": 1629486723,
            "min": 0,
            "orientation": "horizontal",
            "style": "IPY_MODEL_12f26db4823c4eb2b607ce92469a43b2",
            "value": 1629486723
          }
        },
        "61476660386a41caa50a8e9f602ab0c6": {
          "model_module": "@jupyter-widgets/controls",
          "model_name": "HTMLModel",
          "model_module_version": "1.5.0",
          "state": {
            "_dom_classes": [],
            "_model_module": "@jupyter-widgets/controls",
            "_model_module_version": "1.5.0",
            "_model_name": "HTMLModel",
            "_view_count": null,
            "_view_module": "@jupyter-widgets/controls",
            "_view_module_version": "1.5.0",
            "_view_name": "HTMLView",
            "description": "",
            "description_tooltip": null,
            "layout": "IPY_MODEL_8e904439d72a4ff69736294afea8065c",
            "placeholder": "​",
            "style": "IPY_MODEL_d680fa5d56e44cf5a384d9864d6f64ac",
            "value": " 1.63G/1.63G [01:00&lt;00:00, 25.9MB/s]"
          }
        },
        "b37db1e619954d6ab356f66c7082b47a": {
          "model_module": "@jupyter-widgets/base",
          "model_name": "LayoutModel",
          "model_module_version": "1.2.0",
          "state": {
            "_model_module": "@jupyter-widgets/base",
            "_model_module_version": "1.2.0",
            "_model_name": "LayoutModel",
            "_view_count": null,
            "_view_module": "@jupyter-widgets/base",
            "_view_module_version": "1.2.0",
            "_view_name": "LayoutView",
            "align_content": null,
            "align_items": null,
            "align_self": null,
            "border": null,
            "bottom": null,
            "display": null,
            "flex": null,
            "flex_flow": null,
            "grid_area": null,
            "grid_auto_columns": null,
            "grid_auto_flow": null,
            "grid_auto_rows": null,
            "grid_column": null,
            "grid_gap": null,
            "grid_row": null,
            "grid_template_areas": null,
            "grid_template_columns": null,
            "grid_template_rows": null,
            "height": null,
            "justify_content": null,
            "justify_items": null,
            "left": null,
            "margin": null,
            "max_height": null,
            "max_width": null,
            "min_height": null,
            "min_width": null,
            "object_fit": null,
            "object_position": null,
            "order": null,
            "overflow": null,
            "overflow_x": null,
            "overflow_y": null,
            "padding": null,
            "right": null,
            "top": null,
            "visibility": null,
            "width": null
          }
        },
        "cab2b702ff7d444881b1e9ab6892ef44": {
          "model_module": "@jupyter-widgets/base",
          "model_name": "LayoutModel",
          "model_module_version": "1.2.0",
          "state": {
            "_model_module": "@jupyter-widgets/base",
            "_model_module_version": "1.2.0",
            "_model_name": "LayoutModel",
            "_view_count": null,
            "_view_module": "@jupyter-widgets/base",
            "_view_module_version": "1.2.0",
            "_view_name": "LayoutView",
            "align_content": null,
            "align_items": null,
            "align_self": null,
            "border": null,
            "bottom": null,
            "display": null,
            "flex": null,
            "flex_flow": null,
            "grid_area": null,
            "grid_auto_columns": null,
            "grid_auto_flow": null,
            "grid_auto_rows": null,
            "grid_column": null,
            "grid_gap": null,
            "grid_row": null,
            "grid_template_areas": null,
            "grid_template_columns": null,
            "grid_template_rows": null,
            "height": null,
            "justify_content": null,
            "justify_items": null,
            "left": null,
            "margin": null,
            "max_height": null,
            "max_width": null,
            "min_height": null,
            "min_width": null,
            "object_fit": null,
            "object_position": null,
            "order": null,
            "overflow": null,
            "overflow_x": null,
            "overflow_y": null,
            "padding": null,
            "right": null,
            "top": null,
            "visibility": null,
            "width": null
          }
        },
        "14916e6c1dc34a81bce929fd88ca5eae": {
          "model_module": "@jupyter-widgets/controls",
          "model_name": "DescriptionStyleModel",
          "model_module_version": "1.5.0",
          "state": {
            "_model_module": "@jupyter-widgets/controls",
            "_model_module_version": "1.5.0",
            "_model_name": "DescriptionStyleModel",
            "_view_count": null,
            "_view_module": "@jupyter-widgets/base",
            "_view_module_version": "1.2.0",
            "_view_name": "StyleView",
            "description_width": ""
          }
        },
        "820ec6eeb44e4193bc0f7b2e4b9bbc17": {
          "model_module": "@jupyter-widgets/base",
          "model_name": "LayoutModel",
          "model_module_version": "1.2.0",
          "state": {
            "_model_module": "@jupyter-widgets/base",
            "_model_module_version": "1.2.0",
            "_model_name": "LayoutModel",
            "_view_count": null,
            "_view_module": "@jupyter-widgets/base",
            "_view_module_version": "1.2.0",
            "_view_name": "LayoutView",
            "align_content": null,
            "align_items": null,
            "align_self": null,
            "border": null,
            "bottom": null,
            "display": null,
            "flex": null,
            "flex_flow": null,
            "grid_area": null,
            "grid_auto_columns": null,
            "grid_auto_flow": null,
            "grid_auto_rows": null,
            "grid_column": null,
            "grid_gap": null,
            "grid_row": null,
            "grid_template_areas": null,
            "grid_template_columns": null,
            "grid_template_rows": null,
            "height": null,
            "justify_content": null,
            "justify_items": null,
            "left": null,
            "margin": null,
            "max_height": null,
            "max_width": null,
            "min_height": null,
            "min_width": null,
            "object_fit": null,
            "object_position": null,
            "order": null,
            "overflow": null,
            "overflow_x": null,
            "overflow_y": null,
            "padding": null,
            "right": null,
            "top": null,
            "visibility": null,
            "width": null
          }
        },
        "12f26db4823c4eb2b607ce92469a43b2": {
          "model_module": "@jupyter-widgets/controls",
          "model_name": "ProgressStyleModel",
          "model_module_version": "1.5.0",
          "state": {
            "_model_module": "@jupyter-widgets/controls",
            "_model_module_version": "1.5.0",
            "_model_name": "ProgressStyleModel",
            "_view_count": null,
            "_view_module": "@jupyter-widgets/base",
            "_view_module_version": "1.2.0",
            "_view_name": "StyleView",
            "bar_color": null,
            "description_width": ""
          }
        },
        "8e904439d72a4ff69736294afea8065c": {
          "model_module": "@jupyter-widgets/base",
          "model_name": "LayoutModel",
          "model_module_version": "1.2.0",
          "state": {
            "_model_module": "@jupyter-widgets/base",
            "_model_module_version": "1.2.0",
            "_model_name": "LayoutModel",
            "_view_count": null,
            "_view_module": "@jupyter-widgets/base",
            "_view_module_version": "1.2.0",
            "_view_name": "LayoutView",
            "align_content": null,
            "align_items": null,
            "align_self": null,
            "border": null,
            "bottom": null,
            "display": null,
            "flex": null,
            "flex_flow": null,
            "grid_area": null,
            "grid_auto_columns": null,
            "grid_auto_flow": null,
            "grid_auto_rows": null,
            "grid_column": null,
            "grid_gap": null,
            "grid_row": null,
            "grid_template_areas": null,
            "grid_template_columns": null,
            "grid_template_rows": null,
            "height": null,
            "justify_content": null,
            "justify_items": null,
            "left": null,
            "margin": null,
            "max_height": null,
            "max_width": null,
            "min_height": null,
            "min_width": null,
            "object_fit": null,
            "object_position": null,
            "order": null,
            "overflow": null,
            "overflow_x": null,
            "overflow_y": null,
            "padding": null,
            "right": null,
            "top": null,
            "visibility": null,
            "width": null
          }
        },
        "d680fa5d56e44cf5a384d9864d6f64ac": {
          "model_module": "@jupyter-widgets/controls",
          "model_name": "DescriptionStyleModel",
          "model_module_version": "1.5.0",
          "state": {
            "_model_module": "@jupyter-widgets/controls",
            "_model_module_version": "1.5.0",
            "_model_name": "DescriptionStyleModel",
            "_view_count": null,
            "_view_module": "@jupyter-widgets/base",
            "_view_module_version": "1.2.0",
            "_view_name": "StyleView",
            "description_width": ""
          }
        },
        "95fae214d6cb4e3b84a4d5c6a84a2de3": {
          "model_module": "@jupyter-widgets/controls",
          "model_name": "HBoxModel",
          "model_module_version": "1.5.0",
          "state": {
            "_dom_classes": [],
            "_model_module": "@jupyter-widgets/controls",
            "_model_module_version": "1.5.0",
            "_model_name": "HBoxModel",
            "_view_count": null,
            "_view_module": "@jupyter-widgets/controls",
            "_view_module_version": "1.5.0",
            "_view_name": "HBoxView",
            "box_style": "",
            "children": [
              "IPY_MODEL_f17585cc35a84338b3a99ec7495619ff",
              "IPY_MODEL_2a0c480838fb4082b19ec5ccb68aaa07",
              "IPY_MODEL_98dd649c002542f0baff2a7bafd6498c"
            ],
            "layout": "IPY_MODEL_306ff4f76ecd4c4e9e159d8d205c906e"
          }
        },
        "f17585cc35a84338b3a99ec7495619ff": {
          "model_module": "@jupyter-widgets/controls",
          "model_name": "HTMLModel",
          "model_module_version": "1.5.0",
          "state": {
            "_dom_classes": [],
            "_model_module": "@jupyter-widgets/controls",
            "_model_module_version": "1.5.0",
            "_model_name": "HTMLModel",
            "_view_count": null,
            "_view_module": "@jupyter-widgets/controls",
            "_view_module_version": "1.5.0",
            "_view_name": "HTMLView",
            "description": "",
            "description_tooltip": null,
            "layout": "IPY_MODEL_1ca6fa1f915a4ed1a3255568d3bd6cca",
            "placeholder": "​",
            "style": "IPY_MODEL_1e4ecf63ca494e1480e613e3717bc10e",
            "value": "Downloading: 100%"
          }
        },
        "2a0c480838fb4082b19ec5ccb68aaa07": {
          "model_module": "@jupyter-widgets/controls",
          "model_name": "FloatProgressModel",
          "model_module_version": "1.5.0",
          "state": {
            "_dom_classes": [],
            "_model_module": "@jupyter-widgets/controls",
            "_model_module_version": "1.5.0",
            "_model_name": "FloatProgressModel",
            "_view_count": null,
            "_view_module": "@jupyter-widgets/controls",
            "_view_module_version": "1.5.0",
            "_view_name": "ProgressView",
            "bar_style": "success",
            "description": "",
            "description_tooltip": null,
            "layout": "IPY_MODEL_4ae8f98f61e943a7b69965513f6b59bc",
            "max": 26,
            "min": 0,
            "orientation": "horizontal",
            "style": "IPY_MODEL_0bff3a7f1c044416b63a7a0e49843439",
            "value": 26
          }
        },
        "98dd649c002542f0baff2a7bafd6498c": {
          "model_module": "@jupyter-widgets/controls",
          "model_name": "HTMLModel",
          "model_module_version": "1.5.0",
          "state": {
            "_dom_classes": [],
            "_model_module": "@jupyter-widgets/controls",
            "_model_module_version": "1.5.0",
            "_model_name": "HTMLModel",
            "_view_count": null,
            "_view_module": "@jupyter-widgets/controls",
            "_view_module_version": "1.5.0",
            "_view_name": "HTMLView",
            "description": "",
            "description_tooltip": null,
            "layout": "IPY_MODEL_1355a9c9a3d64576aca16e20b640523f",
            "placeholder": "​",
            "style": "IPY_MODEL_3e6efdffc61340fe9ab2f1cdc2de77e2",
            "value": " 26.0/26.0 [00:00&lt;00:00, 579B/s]"
          }
        },
        "306ff4f76ecd4c4e9e159d8d205c906e": {
          "model_module": "@jupyter-widgets/base",
          "model_name": "LayoutModel",
          "model_module_version": "1.2.0",
          "state": {
            "_model_module": "@jupyter-widgets/base",
            "_model_module_version": "1.2.0",
            "_model_name": "LayoutModel",
            "_view_count": null,
            "_view_module": "@jupyter-widgets/base",
            "_view_module_version": "1.2.0",
            "_view_name": "LayoutView",
            "align_content": null,
            "align_items": null,
            "align_self": null,
            "border": null,
            "bottom": null,
            "display": null,
            "flex": null,
            "flex_flow": null,
            "grid_area": null,
            "grid_auto_columns": null,
            "grid_auto_flow": null,
            "grid_auto_rows": null,
            "grid_column": null,
            "grid_gap": null,
            "grid_row": null,
            "grid_template_areas": null,
            "grid_template_columns": null,
            "grid_template_rows": null,
            "height": null,
            "justify_content": null,
            "justify_items": null,
            "left": null,
            "margin": null,
            "max_height": null,
            "max_width": null,
            "min_height": null,
            "min_width": null,
            "object_fit": null,
            "object_position": null,
            "order": null,
            "overflow": null,
            "overflow_x": null,
            "overflow_y": null,
            "padding": null,
            "right": null,
            "top": null,
            "visibility": null,
            "width": null
          }
        },
        "1ca6fa1f915a4ed1a3255568d3bd6cca": {
          "model_module": "@jupyter-widgets/base",
          "model_name": "LayoutModel",
          "model_module_version": "1.2.0",
          "state": {
            "_model_module": "@jupyter-widgets/base",
            "_model_module_version": "1.2.0",
            "_model_name": "LayoutModel",
            "_view_count": null,
            "_view_module": "@jupyter-widgets/base",
            "_view_module_version": "1.2.0",
            "_view_name": "LayoutView",
            "align_content": null,
            "align_items": null,
            "align_self": null,
            "border": null,
            "bottom": null,
            "display": null,
            "flex": null,
            "flex_flow": null,
            "grid_area": null,
            "grid_auto_columns": null,
            "grid_auto_flow": null,
            "grid_auto_rows": null,
            "grid_column": null,
            "grid_gap": null,
            "grid_row": null,
            "grid_template_areas": null,
            "grid_template_columns": null,
            "grid_template_rows": null,
            "height": null,
            "justify_content": null,
            "justify_items": null,
            "left": null,
            "margin": null,
            "max_height": null,
            "max_width": null,
            "min_height": null,
            "min_width": null,
            "object_fit": null,
            "object_position": null,
            "order": null,
            "overflow": null,
            "overflow_x": null,
            "overflow_y": null,
            "padding": null,
            "right": null,
            "top": null,
            "visibility": null,
            "width": null
          }
        },
        "1e4ecf63ca494e1480e613e3717bc10e": {
          "model_module": "@jupyter-widgets/controls",
          "model_name": "DescriptionStyleModel",
          "model_module_version": "1.5.0",
          "state": {
            "_model_module": "@jupyter-widgets/controls",
            "_model_module_version": "1.5.0",
            "_model_name": "DescriptionStyleModel",
            "_view_count": null,
            "_view_module": "@jupyter-widgets/base",
            "_view_module_version": "1.2.0",
            "_view_name": "StyleView",
            "description_width": ""
          }
        },
        "4ae8f98f61e943a7b69965513f6b59bc": {
          "model_module": "@jupyter-widgets/base",
          "model_name": "LayoutModel",
          "model_module_version": "1.2.0",
          "state": {
            "_model_module": "@jupyter-widgets/base",
            "_model_module_version": "1.2.0",
            "_model_name": "LayoutModel",
            "_view_count": null,
            "_view_module": "@jupyter-widgets/base",
            "_view_module_version": "1.2.0",
            "_view_name": "LayoutView",
            "align_content": null,
            "align_items": null,
            "align_self": null,
            "border": null,
            "bottom": null,
            "display": null,
            "flex": null,
            "flex_flow": null,
            "grid_area": null,
            "grid_auto_columns": null,
            "grid_auto_flow": null,
            "grid_auto_rows": null,
            "grid_column": null,
            "grid_gap": null,
            "grid_row": null,
            "grid_template_areas": null,
            "grid_template_columns": null,
            "grid_template_rows": null,
            "height": null,
            "justify_content": null,
            "justify_items": null,
            "left": null,
            "margin": null,
            "max_height": null,
            "max_width": null,
            "min_height": null,
            "min_width": null,
            "object_fit": null,
            "object_position": null,
            "order": null,
            "overflow": null,
            "overflow_x": null,
            "overflow_y": null,
            "padding": null,
            "right": null,
            "top": null,
            "visibility": null,
            "width": null
          }
        },
        "0bff3a7f1c044416b63a7a0e49843439": {
          "model_module": "@jupyter-widgets/controls",
          "model_name": "ProgressStyleModel",
          "model_module_version": "1.5.0",
          "state": {
            "_model_module": "@jupyter-widgets/controls",
            "_model_module_version": "1.5.0",
            "_model_name": "ProgressStyleModel",
            "_view_count": null,
            "_view_module": "@jupyter-widgets/base",
            "_view_module_version": "1.2.0",
            "_view_name": "StyleView",
            "bar_color": null,
            "description_width": ""
          }
        },
        "1355a9c9a3d64576aca16e20b640523f": {
          "model_module": "@jupyter-widgets/base",
          "model_name": "LayoutModel",
          "model_module_version": "1.2.0",
          "state": {
            "_model_module": "@jupyter-widgets/base",
            "_model_module_version": "1.2.0",
            "_model_name": "LayoutModel",
            "_view_count": null,
            "_view_module": "@jupyter-widgets/base",
            "_view_module_version": "1.2.0",
            "_view_name": "LayoutView",
            "align_content": null,
            "align_items": null,
            "align_self": null,
            "border": null,
            "bottom": null,
            "display": null,
            "flex": null,
            "flex_flow": null,
            "grid_area": null,
            "grid_auto_columns": null,
            "grid_auto_flow": null,
            "grid_auto_rows": null,
            "grid_column": null,
            "grid_gap": null,
            "grid_row": null,
            "grid_template_areas": null,
            "grid_template_columns": null,
            "grid_template_rows": null,
            "height": null,
            "justify_content": null,
            "justify_items": null,
            "left": null,
            "margin": null,
            "max_height": null,
            "max_width": null,
            "min_height": null,
            "min_width": null,
            "object_fit": null,
            "object_position": null,
            "order": null,
            "overflow": null,
            "overflow_x": null,
            "overflow_y": null,
            "padding": null,
            "right": null,
            "top": null,
            "visibility": null,
            "width": null
          }
        },
        "3e6efdffc61340fe9ab2f1cdc2de77e2": {
          "model_module": "@jupyter-widgets/controls",
          "model_name": "DescriptionStyleModel",
          "model_module_version": "1.5.0",
          "state": {
            "_model_module": "@jupyter-widgets/controls",
            "_model_module_version": "1.5.0",
            "_model_name": "DescriptionStyleModel",
            "_view_count": null,
            "_view_module": "@jupyter-widgets/base",
            "_view_module_version": "1.2.0",
            "_view_name": "StyleView",
            "description_width": ""
          }
        },
        "a7816a55f67b46a9ac86c9adfeca6dd0": {
          "model_module": "@jupyter-widgets/controls",
          "model_name": "HBoxModel",
          "model_module_version": "1.5.0",
          "state": {
            "_dom_classes": [],
            "_model_module": "@jupyter-widgets/controls",
            "_model_module_version": "1.5.0",
            "_model_name": "HBoxModel",
            "_view_count": null,
            "_view_module": "@jupyter-widgets/controls",
            "_view_module_version": "1.5.0",
            "_view_name": "HBoxView",
            "box_style": "",
            "children": [
              "IPY_MODEL_ea8c52c2cfd644aa836b5cd781a3a280",
              "IPY_MODEL_abbbc496579449d58d93fdb96a9b2ca2",
              "IPY_MODEL_90d7aafee6574385b28e8668548f6eab"
            ],
            "layout": "IPY_MODEL_edc9fb6ce649414d8eebf10e2d153ab2"
          }
        },
        "ea8c52c2cfd644aa836b5cd781a3a280": {
          "model_module": "@jupyter-widgets/controls",
          "model_name": "HTMLModel",
          "model_module_version": "1.5.0",
          "state": {
            "_dom_classes": [],
            "_model_module": "@jupyter-widgets/controls",
            "_model_module_version": "1.5.0",
            "_model_name": "HTMLModel",
            "_view_count": null,
            "_view_module": "@jupyter-widgets/controls",
            "_view_module_version": "1.5.0",
            "_view_name": "HTMLView",
            "description": "",
            "description_tooltip": null,
            "layout": "IPY_MODEL_06187c4e3b954ee6ae35949fdb31ffd3",
            "placeholder": "​",
            "style": "IPY_MODEL_4eaf07aae0ab4cefbe621633e2acb36c",
            "value": "Downloading: 100%"
          }
        },
        "abbbc496579449d58d93fdb96a9b2ca2": {
          "model_module": "@jupyter-widgets/controls",
          "model_name": "FloatProgressModel",
          "model_module_version": "1.5.0",
          "state": {
            "_dom_classes": [],
            "_model_module": "@jupyter-widgets/controls",
            "_model_module_version": "1.5.0",
            "_model_name": "FloatProgressModel",
            "_view_count": null,
            "_view_module": "@jupyter-widgets/controls",
            "_view_module_version": "1.5.0",
            "_view_name": "ProgressView",
            "bar_style": "success",
            "description": "",
            "description_tooltip": null,
            "layout": "IPY_MODEL_03cb6411bdee411993a5bacb580f4097",
            "max": 898822,
            "min": 0,
            "orientation": "horizontal",
            "style": "IPY_MODEL_c6b83c7d67ff41ea99057476b9526686",
            "value": 898822
          }
        },
        "90d7aafee6574385b28e8668548f6eab": {
          "model_module": "@jupyter-widgets/controls",
          "model_name": "HTMLModel",
          "model_module_version": "1.5.0",
          "state": {
            "_dom_classes": [],
            "_model_module": "@jupyter-widgets/controls",
            "_model_module_version": "1.5.0",
            "_model_name": "HTMLModel",
            "_view_count": null,
            "_view_module": "@jupyter-widgets/controls",
            "_view_module_version": "1.5.0",
            "_view_name": "HTMLView",
            "description": "",
            "description_tooltip": null,
            "layout": "IPY_MODEL_5420ad6c980c4b52aa4f226511a7bfd3",
            "placeholder": "​",
            "style": "IPY_MODEL_3b2cbe690e344b539951ae213551323b",
            "value": " 899k/899k [00:00&lt;00:00, 1.64MB/s]"
          }
        },
        "edc9fb6ce649414d8eebf10e2d153ab2": {
          "model_module": "@jupyter-widgets/base",
          "model_name": "LayoutModel",
          "model_module_version": "1.2.0",
          "state": {
            "_model_module": "@jupyter-widgets/base",
            "_model_module_version": "1.2.0",
            "_model_name": "LayoutModel",
            "_view_count": null,
            "_view_module": "@jupyter-widgets/base",
            "_view_module_version": "1.2.0",
            "_view_name": "LayoutView",
            "align_content": null,
            "align_items": null,
            "align_self": null,
            "border": null,
            "bottom": null,
            "display": null,
            "flex": null,
            "flex_flow": null,
            "grid_area": null,
            "grid_auto_columns": null,
            "grid_auto_flow": null,
            "grid_auto_rows": null,
            "grid_column": null,
            "grid_gap": null,
            "grid_row": null,
            "grid_template_areas": null,
            "grid_template_columns": null,
            "grid_template_rows": null,
            "height": null,
            "justify_content": null,
            "justify_items": null,
            "left": null,
            "margin": null,
            "max_height": null,
            "max_width": null,
            "min_height": null,
            "min_width": null,
            "object_fit": null,
            "object_position": null,
            "order": null,
            "overflow": null,
            "overflow_x": null,
            "overflow_y": null,
            "padding": null,
            "right": null,
            "top": null,
            "visibility": null,
            "width": null
          }
        },
        "06187c4e3b954ee6ae35949fdb31ffd3": {
          "model_module": "@jupyter-widgets/base",
          "model_name": "LayoutModel",
          "model_module_version": "1.2.0",
          "state": {
            "_model_module": "@jupyter-widgets/base",
            "_model_module_version": "1.2.0",
            "_model_name": "LayoutModel",
            "_view_count": null,
            "_view_module": "@jupyter-widgets/base",
            "_view_module_version": "1.2.0",
            "_view_name": "LayoutView",
            "align_content": null,
            "align_items": null,
            "align_self": null,
            "border": null,
            "bottom": null,
            "display": null,
            "flex": null,
            "flex_flow": null,
            "grid_area": null,
            "grid_auto_columns": null,
            "grid_auto_flow": null,
            "grid_auto_rows": null,
            "grid_column": null,
            "grid_gap": null,
            "grid_row": null,
            "grid_template_areas": null,
            "grid_template_columns": null,
            "grid_template_rows": null,
            "height": null,
            "justify_content": null,
            "justify_items": null,
            "left": null,
            "margin": null,
            "max_height": null,
            "max_width": null,
            "min_height": null,
            "min_width": null,
            "object_fit": null,
            "object_position": null,
            "order": null,
            "overflow": null,
            "overflow_x": null,
            "overflow_y": null,
            "padding": null,
            "right": null,
            "top": null,
            "visibility": null,
            "width": null
          }
        },
        "4eaf07aae0ab4cefbe621633e2acb36c": {
          "model_module": "@jupyter-widgets/controls",
          "model_name": "DescriptionStyleModel",
          "model_module_version": "1.5.0",
          "state": {
            "_model_module": "@jupyter-widgets/controls",
            "_model_module_version": "1.5.0",
            "_model_name": "DescriptionStyleModel",
            "_view_count": null,
            "_view_module": "@jupyter-widgets/base",
            "_view_module_version": "1.2.0",
            "_view_name": "StyleView",
            "description_width": ""
          }
        },
        "03cb6411bdee411993a5bacb580f4097": {
          "model_module": "@jupyter-widgets/base",
          "model_name": "LayoutModel",
          "model_module_version": "1.2.0",
          "state": {
            "_model_module": "@jupyter-widgets/base",
            "_model_module_version": "1.2.0",
            "_model_name": "LayoutModel",
            "_view_count": null,
            "_view_module": "@jupyter-widgets/base",
            "_view_module_version": "1.2.0",
            "_view_name": "LayoutView",
            "align_content": null,
            "align_items": null,
            "align_self": null,
            "border": null,
            "bottom": null,
            "display": null,
            "flex": null,
            "flex_flow": null,
            "grid_area": null,
            "grid_auto_columns": null,
            "grid_auto_flow": null,
            "grid_auto_rows": null,
            "grid_column": null,
            "grid_gap": null,
            "grid_row": null,
            "grid_template_areas": null,
            "grid_template_columns": null,
            "grid_template_rows": null,
            "height": null,
            "justify_content": null,
            "justify_items": null,
            "left": null,
            "margin": null,
            "max_height": null,
            "max_width": null,
            "min_height": null,
            "min_width": null,
            "object_fit": null,
            "object_position": null,
            "order": null,
            "overflow": null,
            "overflow_x": null,
            "overflow_y": null,
            "padding": null,
            "right": null,
            "top": null,
            "visibility": null,
            "width": null
          }
        },
        "c6b83c7d67ff41ea99057476b9526686": {
          "model_module": "@jupyter-widgets/controls",
          "model_name": "ProgressStyleModel",
          "model_module_version": "1.5.0",
          "state": {
            "_model_module": "@jupyter-widgets/controls",
            "_model_module_version": "1.5.0",
            "_model_name": "ProgressStyleModel",
            "_view_count": null,
            "_view_module": "@jupyter-widgets/base",
            "_view_module_version": "1.2.0",
            "_view_name": "StyleView",
            "bar_color": null,
            "description_width": ""
          }
        },
        "5420ad6c980c4b52aa4f226511a7bfd3": {
          "model_module": "@jupyter-widgets/base",
          "model_name": "LayoutModel",
          "model_module_version": "1.2.0",
          "state": {
            "_model_module": "@jupyter-widgets/base",
            "_model_module_version": "1.2.0",
            "_model_name": "LayoutModel",
            "_view_count": null,
            "_view_module": "@jupyter-widgets/base",
            "_view_module_version": "1.2.0",
            "_view_name": "LayoutView",
            "align_content": null,
            "align_items": null,
            "align_self": null,
            "border": null,
            "bottom": null,
            "display": null,
            "flex": null,
            "flex_flow": null,
            "grid_area": null,
            "grid_auto_columns": null,
            "grid_auto_flow": null,
            "grid_auto_rows": null,
            "grid_column": null,
            "grid_gap": null,
            "grid_row": null,
            "grid_template_areas": null,
            "grid_template_columns": null,
            "grid_template_rows": null,
            "height": null,
            "justify_content": null,
            "justify_items": null,
            "left": null,
            "margin": null,
            "max_height": null,
            "max_width": null,
            "min_height": null,
            "min_width": null,
            "object_fit": null,
            "object_position": null,
            "order": null,
            "overflow": null,
            "overflow_x": null,
            "overflow_y": null,
            "padding": null,
            "right": null,
            "top": null,
            "visibility": null,
            "width": null
          }
        },
        "3b2cbe690e344b539951ae213551323b": {
          "model_module": "@jupyter-widgets/controls",
          "model_name": "DescriptionStyleModel",
          "model_module_version": "1.5.0",
          "state": {
            "_model_module": "@jupyter-widgets/controls",
            "_model_module_version": "1.5.0",
            "_model_name": "DescriptionStyleModel",
            "_view_count": null,
            "_view_module": "@jupyter-widgets/base",
            "_view_module_version": "1.2.0",
            "_view_name": "StyleView",
            "description_width": ""
          }
        },
        "55233c840b244244b469d4429f813a84": {
          "model_module": "@jupyter-widgets/controls",
          "model_name": "HBoxModel",
          "model_module_version": "1.5.0",
          "state": {
            "_dom_classes": [],
            "_model_module": "@jupyter-widgets/controls",
            "_model_module_version": "1.5.0",
            "_model_name": "HBoxModel",
            "_view_count": null,
            "_view_module": "@jupyter-widgets/controls",
            "_view_module_version": "1.5.0",
            "_view_name": "HBoxView",
            "box_style": "",
            "children": [
              "IPY_MODEL_689339e9bbcb4729b8e09c8dbc83d9fa",
              "IPY_MODEL_8c29e6c2a5904bc194b6a67e2c77f5d3",
              "IPY_MODEL_3aee645454f54f5d9f221975c30953f4"
            ],
            "layout": "IPY_MODEL_c733d8c4a30d4ce7ba44d6ee90218609"
          }
        },
        "689339e9bbcb4729b8e09c8dbc83d9fa": {
          "model_module": "@jupyter-widgets/controls",
          "model_name": "HTMLModel",
          "model_module_version": "1.5.0",
          "state": {
            "_dom_classes": [],
            "_model_module": "@jupyter-widgets/controls",
            "_model_module_version": "1.5.0",
            "_model_name": "HTMLModel",
            "_view_count": null,
            "_view_module": "@jupyter-widgets/controls",
            "_view_module_version": "1.5.0",
            "_view_name": "HTMLView",
            "description": "",
            "description_tooltip": null,
            "layout": "IPY_MODEL_f0c4fdc233b743f997c2129fe28f7f6c",
            "placeholder": "​",
            "style": "IPY_MODEL_7ac3817635f94d6eb16255feac735a88",
            "value": "Downloading: 100%"
          }
        },
        "8c29e6c2a5904bc194b6a67e2c77f5d3": {
          "model_module": "@jupyter-widgets/controls",
          "model_name": "FloatProgressModel",
          "model_module_version": "1.5.0",
          "state": {
            "_dom_classes": [],
            "_model_module": "@jupyter-widgets/controls",
            "_model_module_version": "1.5.0",
            "_model_name": "FloatProgressModel",
            "_view_count": null,
            "_view_module": "@jupyter-widgets/controls",
            "_view_module_version": "1.5.0",
            "_view_name": "ProgressView",
            "bar_style": "success",
            "description": "",
            "description_tooltip": null,
            "layout": "IPY_MODEL_7f9fc4ce753742caad359b7e3b3a5910",
            "max": 456318,
            "min": 0,
            "orientation": "horizontal",
            "style": "IPY_MODEL_a67c1cce483542539509cc21ebc953ae",
            "value": 456318
          }
        },
        "3aee645454f54f5d9f221975c30953f4": {
          "model_module": "@jupyter-widgets/controls",
          "model_name": "HTMLModel",
          "model_module_version": "1.5.0",
          "state": {
            "_dom_classes": [],
            "_model_module": "@jupyter-widgets/controls",
            "_model_module_version": "1.5.0",
            "_model_name": "HTMLModel",
            "_view_count": null,
            "_view_module": "@jupyter-widgets/controls",
            "_view_module_version": "1.5.0",
            "_view_name": "HTMLView",
            "description": "",
            "description_tooltip": null,
            "layout": "IPY_MODEL_f18ccafa8b4f4f38882bb746364016ff",
            "placeholder": "​",
            "style": "IPY_MODEL_f60c1ae18a024323a47a264cdc7d141a",
            "value": " 456k/456k [00:00&lt;00:00, 1.05MB/s]"
          }
        },
        "c733d8c4a30d4ce7ba44d6ee90218609": {
          "model_module": "@jupyter-widgets/base",
          "model_name": "LayoutModel",
          "model_module_version": "1.2.0",
          "state": {
            "_model_module": "@jupyter-widgets/base",
            "_model_module_version": "1.2.0",
            "_model_name": "LayoutModel",
            "_view_count": null,
            "_view_module": "@jupyter-widgets/base",
            "_view_module_version": "1.2.0",
            "_view_name": "LayoutView",
            "align_content": null,
            "align_items": null,
            "align_self": null,
            "border": null,
            "bottom": null,
            "display": null,
            "flex": null,
            "flex_flow": null,
            "grid_area": null,
            "grid_auto_columns": null,
            "grid_auto_flow": null,
            "grid_auto_rows": null,
            "grid_column": null,
            "grid_gap": null,
            "grid_row": null,
            "grid_template_areas": null,
            "grid_template_columns": null,
            "grid_template_rows": null,
            "height": null,
            "justify_content": null,
            "justify_items": null,
            "left": null,
            "margin": null,
            "max_height": null,
            "max_width": null,
            "min_height": null,
            "min_width": null,
            "object_fit": null,
            "object_position": null,
            "order": null,
            "overflow": null,
            "overflow_x": null,
            "overflow_y": null,
            "padding": null,
            "right": null,
            "top": null,
            "visibility": null,
            "width": null
          }
        },
        "f0c4fdc233b743f997c2129fe28f7f6c": {
          "model_module": "@jupyter-widgets/base",
          "model_name": "LayoutModel",
          "model_module_version": "1.2.0",
          "state": {
            "_model_module": "@jupyter-widgets/base",
            "_model_module_version": "1.2.0",
            "_model_name": "LayoutModel",
            "_view_count": null,
            "_view_module": "@jupyter-widgets/base",
            "_view_module_version": "1.2.0",
            "_view_name": "LayoutView",
            "align_content": null,
            "align_items": null,
            "align_self": null,
            "border": null,
            "bottom": null,
            "display": null,
            "flex": null,
            "flex_flow": null,
            "grid_area": null,
            "grid_auto_columns": null,
            "grid_auto_flow": null,
            "grid_auto_rows": null,
            "grid_column": null,
            "grid_gap": null,
            "grid_row": null,
            "grid_template_areas": null,
            "grid_template_columns": null,
            "grid_template_rows": null,
            "height": null,
            "justify_content": null,
            "justify_items": null,
            "left": null,
            "margin": null,
            "max_height": null,
            "max_width": null,
            "min_height": null,
            "min_width": null,
            "object_fit": null,
            "object_position": null,
            "order": null,
            "overflow": null,
            "overflow_x": null,
            "overflow_y": null,
            "padding": null,
            "right": null,
            "top": null,
            "visibility": null,
            "width": null
          }
        },
        "7ac3817635f94d6eb16255feac735a88": {
          "model_module": "@jupyter-widgets/controls",
          "model_name": "DescriptionStyleModel",
          "model_module_version": "1.5.0",
          "state": {
            "_model_module": "@jupyter-widgets/controls",
            "_model_module_version": "1.5.0",
            "_model_name": "DescriptionStyleModel",
            "_view_count": null,
            "_view_module": "@jupyter-widgets/base",
            "_view_module_version": "1.2.0",
            "_view_name": "StyleView",
            "description_width": ""
          }
        },
        "7f9fc4ce753742caad359b7e3b3a5910": {
          "model_module": "@jupyter-widgets/base",
          "model_name": "LayoutModel",
          "model_module_version": "1.2.0",
          "state": {
            "_model_module": "@jupyter-widgets/base",
            "_model_module_version": "1.2.0",
            "_model_name": "LayoutModel",
            "_view_count": null,
            "_view_module": "@jupyter-widgets/base",
            "_view_module_version": "1.2.0",
            "_view_name": "LayoutView",
            "align_content": null,
            "align_items": null,
            "align_self": null,
            "border": null,
            "bottom": null,
            "display": null,
            "flex": null,
            "flex_flow": null,
            "grid_area": null,
            "grid_auto_columns": null,
            "grid_auto_flow": null,
            "grid_auto_rows": null,
            "grid_column": null,
            "grid_gap": null,
            "grid_row": null,
            "grid_template_areas": null,
            "grid_template_columns": null,
            "grid_template_rows": null,
            "height": null,
            "justify_content": null,
            "justify_items": null,
            "left": null,
            "margin": null,
            "max_height": null,
            "max_width": null,
            "min_height": null,
            "min_width": null,
            "object_fit": null,
            "object_position": null,
            "order": null,
            "overflow": null,
            "overflow_x": null,
            "overflow_y": null,
            "padding": null,
            "right": null,
            "top": null,
            "visibility": null,
            "width": null
          }
        },
        "a67c1cce483542539509cc21ebc953ae": {
          "model_module": "@jupyter-widgets/controls",
          "model_name": "ProgressStyleModel",
          "model_module_version": "1.5.0",
          "state": {
            "_model_module": "@jupyter-widgets/controls",
            "_model_module_version": "1.5.0",
            "_model_name": "ProgressStyleModel",
            "_view_count": null,
            "_view_module": "@jupyter-widgets/base",
            "_view_module_version": "1.2.0",
            "_view_name": "StyleView",
            "bar_color": null,
            "description_width": ""
          }
        },
        "f18ccafa8b4f4f38882bb746364016ff": {
          "model_module": "@jupyter-widgets/base",
          "model_name": "LayoutModel",
          "model_module_version": "1.2.0",
          "state": {
            "_model_module": "@jupyter-widgets/base",
            "_model_module_version": "1.2.0",
            "_model_name": "LayoutModel",
            "_view_count": null,
            "_view_module": "@jupyter-widgets/base",
            "_view_module_version": "1.2.0",
            "_view_name": "LayoutView",
            "align_content": null,
            "align_items": null,
            "align_self": null,
            "border": null,
            "bottom": null,
            "display": null,
            "flex": null,
            "flex_flow": null,
            "grid_area": null,
            "grid_auto_columns": null,
            "grid_auto_flow": null,
            "grid_auto_rows": null,
            "grid_column": null,
            "grid_gap": null,
            "grid_row": null,
            "grid_template_areas": null,
            "grid_template_columns": null,
            "grid_template_rows": null,
            "height": null,
            "justify_content": null,
            "justify_items": null,
            "left": null,
            "margin": null,
            "max_height": null,
            "max_width": null,
            "min_height": null,
            "min_width": null,
            "object_fit": null,
            "object_position": null,
            "order": null,
            "overflow": null,
            "overflow_x": null,
            "overflow_y": null,
            "padding": null,
            "right": null,
            "top": null,
            "visibility": null,
            "width": null
          }
        },
        "f60c1ae18a024323a47a264cdc7d141a": {
          "model_module": "@jupyter-widgets/controls",
          "model_name": "DescriptionStyleModel",
          "model_module_version": "1.5.0",
          "state": {
            "_model_module": "@jupyter-widgets/controls",
            "_model_module_version": "1.5.0",
            "_model_name": "DescriptionStyleModel",
            "_view_count": null,
            "_view_module": "@jupyter-widgets/base",
            "_view_module_version": "1.2.0",
            "_view_name": "StyleView",
            "description_width": ""
          }
        },
        "b98f9946ffd541a2b2f6a92328e39d3a": {
          "model_module": "@jupyter-widgets/controls",
          "model_name": "HBoxModel",
          "model_module_version": "1.5.0",
          "state": {
            "_dom_classes": [],
            "_model_module": "@jupyter-widgets/controls",
            "_model_module_version": "1.5.0",
            "_model_name": "HBoxModel",
            "_view_count": null,
            "_view_module": "@jupyter-widgets/controls",
            "_view_module_version": "1.5.0",
            "_view_name": "HBoxView",
            "box_style": "",
            "children": [
              "IPY_MODEL_4413a33d213c40a794c35ad97401f63c",
              "IPY_MODEL_747aaeb17198461393ad23e9b4d8f476",
              "IPY_MODEL_5fcd51747cbe4281bd129d7e2458b577"
            ],
            "layout": "IPY_MODEL_c403a60bbcf24dc9af30cb5324e062a8"
          }
        },
        "4413a33d213c40a794c35ad97401f63c": {
          "model_module": "@jupyter-widgets/controls",
          "model_name": "HTMLModel",
          "model_module_version": "1.5.0",
          "state": {
            "_dom_classes": [],
            "_model_module": "@jupyter-widgets/controls",
            "_model_module_version": "1.5.0",
            "_model_name": "HTMLModel",
            "_view_count": null,
            "_view_module": "@jupyter-widgets/controls",
            "_view_module_version": "1.5.0",
            "_view_name": "HTMLView",
            "description": "",
            "description_tooltip": null,
            "layout": "IPY_MODEL_1baf228aa0d846339a72d45d627f12e6",
            "placeholder": "​",
            "style": "IPY_MODEL_3c4f2e4f43344d6486e52329bda0212a",
            "value": "Downloading: 100%"
          }
        },
        "747aaeb17198461393ad23e9b4d8f476": {
          "model_module": "@jupyter-widgets/controls",
          "model_name": "FloatProgressModel",
          "model_module_version": "1.5.0",
          "state": {
            "_dom_classes": [],
            "_model_module": "@jupyter-widgets/controls",
            "_model_module_version": "1.5.0",
            "_model_name": "FloatProgressModel",
            "_view_count": null,
            "_view_module": "@jupyter-widgets/controls",
            "_view_module_version": "1.5.0",
            "_view_name": "ProgressView",
            "bar_style": "success",
            "description": "",
            "description_tooltip": null,
            "layout": "IPY_MODEL_1f5a9db87716435590b675bf550c4a3c",
            "max": 1355863,
            "min": 0,
            "orientation": "horizontal",
            "style": "IPY_MODEL_3e0c621272ef4ad7b6850ceccf801c51",
            "value": 1355863
          }
        },
        "5fcd51747cbe4281bd129d7e2458b577": {
          "model_module": "@jupyter-widgets/controls",
          "model_name": "HTMLModel",
          "model_module_version": "1.5.0",
          "state": {
            "_dom_classes": [],
            "_model_module": "@jupyter-widgets/controls",
            "_model_module_version": "1.5.0",
            "_model_name": "HTMLModel",
            "_view_count": null,
            "_view_module": "@jupyter-widgets/controls",
            "_view_module_version": "1.5.0",
            "_view_name": "HTMLView",
            "description": "",
            "description_tooltip": null,
            "layout": "IPY_MODEL_22ec095326bd48bca3f48546b8396e27",
            "placeholder": "​",
            "style": "IPY_MODEL_0dea2327f48946f980565c5196ef2c78",
            "value": " 1.36M/1.36M [00:00&lt;00:00, 1.49MB/s]"
          }
        },
        "c403a60bbcf24dc9af30cb5324e062a8": {
          "model_module": "@jupyter-widgets/base",
          "model_name": "LayoutModel",
          "model_module_version": "1.2.0",
          "state": {
            "_model_module": "@jupyter-widgets/base",
            "_model_module_version": "1.2.0",
            "_model_name": "LayoutModel",
            "_view_count": null,
            "_view_module": "@jupyter-widgets/base",
            "_view_module_version": "1.2.0",
            "_view_name": "LayoutView",
            "align_content": null,
            "align_items": null,
            "align_self": null,
            "border": null,
            "bottom": null,
            "display": null,
            "flex": null,
            "flex_flow": null,
            "grid_area": null,
            "grid_auto_columns": null,
            "grid_auto_flow": null,
            "grid_auto_rows": null,
            "grid_column": null,
            "grid_gap": null,
            "grid_row": null,
            "grid_template_areas": null,
            "grid_template_columns": null,
            "grid_template_rows": null,
            "height": null,
            "justify_content": null,
            "justify_items": null,
            "left": null,
            "margin": null,
            "max_height": null,
            "max_width": null,
            "min_height": null,
            "min_width": null,
            "object_fit": null,
            "object_position": null,
            "order": null,
            "overflow": null,
            "overflow_x": null,
            "overflow_y": null,
            "padding": null,
            "right": null,
            "top": null,
            "visibility": null,
            "width": null
          }
        },
        "1baf228aa0d846339a72d45d627f12e6": {
          "model_module": "@jupyter-widgets/base",
          "model_name": "LayoutModel",
          "model_module_version": "1.2.0",
          "state": {
            "_model_module": "@jupyter-widgets/base",
            "_model_module_version": "1.2.0",
            "_model_name": "LayoutModel",
            "_view_count": null,
            "_view_module": "@jupyter-widgets/base",
            "_view_module_version": "1.2.0",
            "_view_name": "LayoutView",
            "align_content": null,
            "align_items": null,
            "align_self": null,
            "border": null,
            "bottom": null,
            "display": null,
            "flex": null,
            "flex_flow": null,
            "grid_area": null,
            "grid_auto_columns": null,
            "grid_auto_flow": null,
            "grid_auto_rows": null,
            "grid_column": null,
            "grid_gap": null,
            "grid_row": null,
            "grid_template_areas": null,
            "grid_template_columns": null,
            "grid_template_rows": null,
            "height": null,
            "justify_content": null,
            "justify_items": null,
            "left": null,
            "margin": null,
            "max_height": null,
            "max_width": null,
            "min_height": null,
            "min_width": null,
            "object_fit": null,
            "object_position": null,
            "order": null,
            "overflow": null,
            "overflow_x": null,
            "overflow_y": null,
            "padding": null,
            "right": null,
            "top": null,
            "visibility": null,
            "width": null
          }
        },
        "3c4f2e4f43344d6486e52329bda0212a": {
          "model_module": "@jupyter-widgets/controls",
          "model_name": "DescriptionStyleModel",
          "model_module_version": "1.5.0",
          "state": {
            "_model_module": "@jupyter-widgets/controls",
            "_model_module_version": "1.5.0",
            "_model_name": "DescriptionStyleModel",
            "_view_count": null,
            "_view_module": "@jupyter-widgets/base",
            "_view_module_version": "1.2.0",
            "_view_name": "StyleView",
            "description_width": ""
          }
        },
        "1f5a9db87716435590b675bf550c4a3c": {
          "model_module": "@jupyter-widgets/base",
          "model_name": "LayoutModel",
          "model_module_version": "1.2.0",
          "state": {
            "_model_module": "@jupyter-widgets/base",
            "_model_module_version": "1.2.0",
            "_model_name": "LayoutModel",
            "_view_count": null,
            "_view_module": "@jupyter-widgets/base",
            "_view_module_version": "1.2.0",
            "_view_name": "LayoutView",
            "align_content": null,
            "align_items": null,
            "align_self": null,
            "border": null,
            "bottom": null,
            "display": null,
            "flex": null,
            "flex_flow": null,
            "grid_area": null,
            "grid_auto_columns": null,
            "grid_auto_flow": null,
            "grid_auto_rows": null,
            "grid_column": null,
            "grid_gap": null,
            "grid_row": null,
            "grid_template_areas": null,
            "grid_template_columns": null,
            "grid_template_rows": null,
            "height": null,
            "justify_content": null,
            "justify_items": null,
            "left": null,
            "margin": null,
            "max_height": null,
            "max_width": null,
            "min_height": null,
            "min_width": null,
            "object_fit": null,
            "object_position": null,
            "order": null,
            "overflow": null,
            "overflow_x": null,
            "overflow_y": null,
            "padding": null,
            "right": null,
            "top": null,
            "visibility": null,
            "width": null
          }
        },
        "3e0c621272ef4ad7b6850ceccf801c51": {
          "model_module": "@jupyter-widgets/controls",
          "model_name": "ProgressStyleModel",
          "model_module_version": "1.5.0",
          "state": {
            "_model_module": "@jupyter-widgets/controls",
            "_model_module_version": "1.5.0",
            "_model_name": "ProgressStyleModel",
            "_view_count": null,
            "_view_module": "@jupyter-widgets/base",
            "_view_module_version": "1.2.0",
            "_view_name": "StyleView",
            "bar_color": null,
            "description_width": ""
          }
        },
        "22ec095326bd48bca3f48546b8396e27": {
          "model_module": "@jupyter-widgets/base",
          "model_name": "LayoutModel",
          "model_module_version": "1.2.0",
          "state": {
            "_model_module": "@jupyter-widgets/base",
            "_model_module_version": "1.2.0",
            "_model_name": "LayoutModel",
            "_view_count": null,
            "_view_module": "@jupyter-widgets/base",
            "_view_module_version": "1.2.0",
            "_view_name": "LayoutView",
            "align_content": null,
            "align_items": null,
            "align_self": null,
            "border": null,
            "bottom": null,
            "display": null,
            "flex": null,
            "flex_flow": null,
            "grid_area": null,
            "grid_auto_columns": null,
            "grid_auto_flow": null,
            "grid_auto_rows": null,
            "grid_column": null,
            "grid_gap": null,
            "grid_row": null,
            "grid_template_areas": null,
            "grid_template_columns": null,
            "grid_template_rows": null,
            "height": null,
            "justify_content": null,
            "justify_items": null,
            "left": null,
            "margin": null,
            "max_height": null,
            "max_width": null,
            "min_height": null,
            "min_width": null,
            "object_fit": null,
            "object_position": null,
            "order": null,
            "overflow": null,
            "overflow_x": null,
            "overflow_y": null,
            "padding": null,
            "right": null,
            "top": null,
            "visibility": null,
            "width": null
          }
        },
        "0dea2327f48946f980565c5196ef2c78": {
          "model_module": "@jupyter-widgets/controls",
          "model_name": "DescriptionStyleModel",
          "model_module_version": "1.5.0",
          "state": {
            "_model_module": "@jupyter-widgets/controls",
            "_model_module_version": "1.5.0",
            "_model_name": "DescriptionStyleModel",
            "_view_count": null,
            "_view_module": "@jupyter-widgets/base",
            "_view_module_version": "1.2.0",
            "_view_name": "StyleView",
            "description_width": ""
          }
        }
      }
    }
  },
  "nbformat": 4,
  "nbformat_minor": 5
}