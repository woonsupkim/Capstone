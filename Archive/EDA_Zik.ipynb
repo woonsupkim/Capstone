{
 "cells": [
  {
   "cell_type": "code",
   "execution_count": 1,
   "metadata": {
    "id": "lNpu0oSgZS14"
   },
   "outputs": [],
   "source": [
    "import pandas as pd\n",
    "import matplotlib.pyplot as plt"
   ]
  },
  {
   "cell_type": "code",
   "execution_count": 4,
   "metadata": {
    "id": "tRE5k2PL4-_E"
   },
   "outputs": [],
   "source": [
    "df = pd.read_json('gardenData.json')"
   ]
  },
  {
   "cell_type": "code",
   "execution_count": 5,
   "metadata": {
    "colab": {
     "base_uri": "https://localhost:8080/",
     "height": 577
    },
    "id": "2g7qANMB6tf5",
    "outputId": "e37cfe42-54b8-4a90-9513-cdf12f60cc74"
   },
   "outputs": [
    {
     "data": {
      "text/plain": [
       "Index(['segment', 'review_id', 'product_name', 'producturl', 'retailer',\n",
       "       'brand', 'retailer_product_id', 'base_id', 'variants_flag',\n",
       "       'review_creation_date', 'year', 'month', 'week', 'review_title',\n",
       "       'review_text', 'review_type', 'price', 'rating', 'images', 'videos',\n",
       "       'helpful_votes', 'promotion_flag'],\n",
       "      dtype='object')"
      ]
     },
     "execution_count": 5,
     "metadata": {},
     "output_type": "execute_result"
    }
   ],
   "source": [
    "df.columns"
   ]
  },
  {
   "cell_type": "code",
   "execution_count": 6,
   "metadata": {
    "colab": {
     "base_uri": "https://localhost:8080/",
     "height": 300
    },
    "id": "mtK-NHqJ7-os",
    "outputId": "32a6ee6a-ccf5-40ad-9176-3c25f29bae3d"
   },
   "outputs": [
    {
     "data": {
      "text/html": [
       "<div>\n",
       "<style scoped>\n",
       "    .dataframe tbody tr th:only-of-type {\n",
       "        vertical-align: middle;\n",
       "    }\n",
       "\n",
       "    .dataframe tbody tr th {\n",
       "        vertical-align: top;\n",
       "    }\n",
       "\n",
       "    .dataframe thead th {\n",
       "        text-align: right;\n",
       "    }\n",
       "</style>\n",
       "<table border=\"1\" class=\"dataframe\">\n",
       "  <thead>\n",
       "    <tr style=\"text-align: right;\">\n",
       "      <th></th>\n",
       "      <th>review_id</th>\n",
       "      <th>year</th>\n",
       "      <th>month</th>\n",
       "      <th>week</th>\n",
       "      <th>price</th>\n",
       "      <th>rating</th>\n",
       "      <th>images</th>\n",
       "      <th>videos</th>\n",
       "      <th>helpful_votes</th>\n",
       "    </tr>\n",
       "  </thead>\n",
       "  <tbody>\n",
       "    <tr>\n",
       "      <th>count</th>\n",
       "      <td>28786.000000</td>\n",
       "      <td>28786.000000</td>\n",
       "      <td>28786.000000</td>\n",
       "      <td>28786.000000</td>\n",
       "      <td>28786.000000</td>\n",
       "      <td>28786.000000</td>\n",
       "      <td>28786.000000</td>\n",
       "      <td>28786.000000</td>\n",
       "      <td>28786.000000</td>\n",
       "    </tr>\n",
       "    <tr>\n",
       "      <th>mean</th>\n",
       "      <td>91151.690266</td>\n",
       "      <td>2021.638401</td>\n",
       "      <td>5.975822</td>\n",
       "      <td>23.997499</td>\n",
       "      <td>18.384348</td>\n",
       "      <td>3.990412</td>\n",
       "      <td>0.224171</td>\n",
       "      <td>0.000139</td>\n",
       "      <td>0.033905</td>\n",
       "    </tr>\n",
       "    <tr>\n",
       "      <th>std</th>\n",
       "      <td>42310.545841</td>\n",
       "      <td>0.480472</td>\n",
       "      <td>2.573628</td>\n",
       "      <td>11.214584</td>\n",
       "      <td>14.722421</td>\n",
       "      <td>1.468035</td>\n",
       "      <td>0.824845</td>\n",
       "      <td>0.011787</td>\n",
       "      <td>0.255352</td>\n",
       "    </tr>\n",
       "    <tr>\n",
       "      <th>min</th>\n",
       "      <td>3.000000</td>\n",
       "      <td>2021.000000</td>\n",
       "      <td>1.000000</td>\n",
       "      <td>1.000000</td>\n",
       "      <td>0.000000</td>\n",
       "      <td>1.000000</td>\n",
       "      <td>0.000000</td>\n",
       "      <td>0.000000</td>\n",
       "      <td>0.000000</td>\n",
       "    </tr>\n",
       "    <tr>\n",
       "      <th>25%</th>\n",
       "      <td>67056.250000</td>\n",
       "      <td>2021.000000</td>\n",
       "      <td>4.000000</td>\n",
       "      <td>17.000000</td>\n",
       "      <td>10.320000</td>\n",
       "      <td>3.000000</td>\n",
       "      <td>0.000000</td>\n",
       "      <td>0.000000</td>\n",
       "      <td>0.000000</td>\n",
       "    </tr>\n",
       "    <tr>\n",
       "      <th>50%</th>\n",
       "      <td>80196.500000</td>\n",
       "      <td>2022.000000</td>\n",
       "      <td>6.000000</td>\n",
       "      <td>22.000000</td>\n",
       "      <td>15.420000</td>\n",
       "      <td>5.000000</td>\n",
       "      <td>0.000000</td>\n",
       "      <td>0.000000</td>\n",
       "      <td>0.000000</td>\n",
       "    </tr>\n",
       "    <tr>\n",
       "      <th>75%</th>\n",
       "      <td>133440.750000</td>\n",
       "      <td>2022.000000</td>\n",
       "      <td>7.000000</td>\n",
       "      <td>28.000000</td>\n",
       "      <td>21.990000</td>\n",
       "      <td>5.000000</td>\n",
       "      <td>0.000000</td>\n",
       "      <td>0.000000</td>\n",
       "      <td>0.000000</td>\n",
       "    </tr>\n",
       "    <tr>\n",
       "      <th>max</th>\n",
       "      <td>150698.000000</td>\n",
       "      <td>2022.000000</td>\n",
       "      <td>12.000000</td>\n",
       "      <td>52.000000</td>\n",
       "      <td>148.930000</td>\n",
       "      <td>5.000000</td>\n",
       "      <td>8.000000</td>\n",
       "      <td>1.000000</td>\n",
       "      <td>13.000000</td>\n",
       "    </tr>\n",
       "  </tbody>\n",
       "</table>\n",
       "</div>"
      ],
      "text/plain": [
       "           review_id          year         month          week         price  \\\n",
       "count   28786.000000  28786.000000  28786.000000  28786.000000  28786.000000   \n",
       "mean    91151.690266   2021.638401      5.975822     23.997499     18.384348   \n",
       "std     42310.545841      0.480472      2.573628     11.214584     14.722421   \n",
       "min         3.000000   2021.000000      1.000000      1.000000      0.000000   \n",
       "25%     67056.250000   2021.000000      4.000000     17.000000     10.320000   \n",
       "50%     80196.500000   2022.000000      6.000000     22.000000     15.420000   \n",
       "75%    133440.750000   2022.000000      7.000000     28.000000     21.990000   \n",
       "max    150698.000000   2022.000000     12.000000     52.000000    148.930000   \n",
       "\n",
       "             rating        images        videos  helpful_votes  \n",
       "count  28786.000000  28786.000000  28786.000000   28786.000000  \n",
       "mean       3.990412      0.224171      0.000139       0.033905  \n",
       "std        1.468035      0.824845      0.011787       0.255352  \n",
       "min        1.000000      0.000000      0.000000       0.000000  \n",
       "25%        3.000000      0.000000      0.000000       0.000000  \n",
       "50%        5.000000      0.000000      0.000000       0.000000  \n",
       "75%        5.000000      0.000000      0.000000       0.000000  \n",
       "max        5.000000      8.000000      1.000000      13.000000  "
      ]
     },
     "execution_count": 6,
     "metadata": {},
     "output_type": "execute_result"
    }
   ],
   "source": [
    "df.describe()"
   ]
  },
  {
   "cell_type": "code",
   "execution_count": 7,
   "metadata": {
    "colab": {
     "base_uri": "https://localhost:8080/"
    },
    "id": "Xyfs9pRbc2P4",
    "outputId": "f0f487ca-3db0-4d30-ab87-c04d3149bd6d"
   },
   "outputs": [
    {
     "data": {
      "text/plain": [
       "{'Organic Reviews',\n",
       " 'Organic reviews',\n",
       " 'Syndicated Reviews',\n",
       " 'Syndicated reviews'}"
      ]
     },
     "execution_count": 7,
     "metadata": {},
     "output_type": "execute_result"
    }
   ],
   "source": [
    "# The values under review_types are not organized --- need to capitalize the R\n",
    "set(df.review_type)"
   ]
  },
  {
   "cell_type": "code",
   "execution_count": 8,
   "metadata": {
    "colab": {
     "base_uri": "https://localhost:8080/",
     "height": 334
    },
    "id": "wrVKGylYiZPE",
    "outputId": "8b771bfb-ed07-40a0-a741-ad82a5458868"
   },
   "outputs": [
    {
     "data": {
      "text/plain": [
       "(array([19575.,     0.,     0.,     0.,     0.,     0.,     0.,     0.,\n",
       "            0.,  9211.]),\n",
       " array([0. , 0.1, 0.2, 0.3, 0.4, 0.5, 0.6, 0.7, 0.8, 0.9, 1. ]),\n",
       " <BarContainer object of 10 artists>)"
      ]
     },
     "execution_count": 8,
     "metadata": {},
     "output_type": "execute_result"
    },
    {
     "data": {
      "image/png": "[encoded data removed]",
      "text/plain": [
       "<Figure size 432x288 with 1 Axes>"
      ]
     },
     "metadata": {
      "needs_background": "light"
     },
     "output_type": "display_data"
    }
   ],
   "source": [
    "# about 60% of the reviews are organic --- how did we distinguish organic reviews from the Syndicated ones?\n",
    "df.review_type = df.review_type.replace('Organic reviews','Organic Reviews')\n",
    "df.review_type = df.review_type.replace('Syndicated reviews','Syndicated Reviews')\n",
    "plt.hist(df.review_type)"
   ]
  },
  {
   "cell_type": "code",
   "execution_count": 9,
   "metadata": {
    "colab": {
     "base_uri": "https://localhost:8080/",
     "height": 334
    },
    "id": "_Rk8lOatdmQi",
    "outputId": "1817ab02-e778-45a8-9784-f14fef8091d7"
   },
   "outputs": [
    {
     "data": {
      "text/plain": [
       "(array([ 2538.,     0.,     0., 16332.,     0.,     0.,  4856.,     0.,\n",
       "            0.,  5060.]),\n",
       " array([0. , 0.3, 0.6, 0.9, 1.2, 1.5, 1.8, 2.1, 2.4, 2.7, 3. ]),\n",
       " <BarContainer object of 10 artists>)"
      ]
     },
     "execution_count": 9,
     "metadata": {},
     "output_type": "execute_result"
    },
    {
     "data": {
      "image/png": "[encoded data removed]",
      "text/plain": [
       "<Figure size 432x288 with 1 Axes>"
      ]
     },
     "metadata": {
      "needs_background": "light"
     },
     "output_type": "display_data"
    }
   ],
   "source": [
    "# It seems like our main retailer is Homedepot with more than half of the comments coming from it.\n",
    "import matplotlib.pyplot as plt\n",
    "plt.hist(df['retailer'])"
   ]
  },
  {
   "cell_type": "code",
   "execution_count": null,
   "metadata": {
    "colab": {
     "base_uri": "https://localhost:8080/",
     "height": 187
    },
    "id": "6-osFgBufpl7",
    "outputId": "fd377adf-cf86-4515-aabd-018413632611"
   },
   "outputs": [
    {
     "ename": "NameError",
     "evalue": "ignored",
     "output_type": "error",
     "traceback": [
      "\u001b[0;31m---------------------------------------------------------------------------\u001b[0m",
      "\u001b[0;31mNameError\u001b[0m                                 Traceback (most recent call last)",
      "\u001b[0;32m<ipython-input-1-41325133ee12>\u001b[0m in \u001b[0;36m<module>\u001b[0;34m\u001b[0m\n\u001b[1;32m      1\u001b[0m \u001b[0;31m# The review amount over the time period\u001b[0m\u001b[0;34m\u001b[0m\u001b[0;34m\u001b[0m\u001b[0;34m\u001b[0m\u001b[0m\n\u001b[0;32m----> 2\u001b[0;31m \u001b[0mdf\u001b[0m\u001b[0;34m.\u001b[0m\u001b[0mgroupby\u001b[0m\u001b[0;34m(\u001b[0m\u001b[0mreview_creation_date\u001b[0m\u001b[0;34m)\u001b[0m\u001b[0;34m\u001b[0m\u001b[0;34m\u001b[0m\u001b[0m\n\u001b[0m",
      "\u001b[0;31mNameError\u001b[0m: name 'df' is not defined"
     ]
    }
   ],
   "source": [
    "# The review amount over the time period\n",
    "df.groupby(review_creation_date)"
   ]
  },
  {
   "cell_type": "code",
   "execution_count": null,
   "metadata": {
    "colab": {
     "base_uri": "https://localhost:8080/",
     "height": 35
    },
    "id": "tfNhJiTugbi5",
    "outputId": "96955500-e076-4192-ca7c-ec38c5746352"
   },
   "outputs": [
    {
     "data": {
      "application/vnd.google.colaboratory.intrinsic+json": {
       "type": "string"
      },
      "text/plain": [
       "'Good Job'"
      ]
     },
     "execution_count": 33,
     "metadata": {},
     "output_type": "execute_result"
    }
   ],
   "source": [
    "'good job'.title()"
   ]
  },
  {
   "cell_type": "code",
   "execution_count": null,
   "metadata": {
    "colab": {
     "base_uri": "https://localhost:8080/"
    },
    "id": "mT9FRbN9ZS18",
    "outputId": "9c347a55-2eb9-44a5-b0d7-b9ea008f4194"
   },
   "outputs": [
    {
     "data": {
      "text/plain": [
       "['good fish',\n",
       " 'however, I should have done a price comparison before buying. This product sells for less than half at the local store. Im sure its a wonderful product for plants and grass. Ill be buying this at the local Home Depot/Lowes.',\n",
       " 'had some evergreen bushes and Cyprus trees that were browning, using the Ironite did the trick',\n",
       " 'Followed the instructions and the ants actually took the bait initially but when I checked the hill again I could see the ants carrying the bait out of the hole.',\n",
       " 'Granules are easy to spread over ant mounds and works in a couple of days',\n",
       " 'I had fire ants ignoring and walking around Terro liquid bait. Dumped some of this beside the Terro and they went for it. It took 2 days, but no more ants!',\n",
       " 'This works great for the ants',\n",
       " 'Works as advertised! I sprinkle on any ant mounds in my yard and by the next day they have ceased!',\n",
       " 'Ive used a variety of brands and products to kill ants, but still have NOT found one that really works. This product falls into that category.Youre supposed to sprinkle this one out onto the ground without water, then the ants are supposed to grab the granules thinking its food, and take it inside the tunnels and nest. Then die from it. But, Ive watched the ants grab the granules and disperse it away from their hole. They obviously do not think its food to eat.So the ants win again!',\n",
       " 'I needed this for a nest of fire ants. Fortunately, they had not spread to the entire yard yet. This was easy, needed no water application like most granules. It did take two treatments (4 oz each, so one container was enough for two). It did the trick, they are gone!']"
      ]
     },
     "execution_count": 14,
     "metadata": {},
     "output_type": "execute_result"
    }
   ],
   "source": [
    "list(df['review_text'])[:10]"
   ]
  },
  {
   "cell_type": "code",
   "execution_count": null,
   "metadata": {
    "id": "1aAQu0c2ZS19",
    "outputId": "602f314f-b42c-4ecb-c5b5-e3d53aec651a"
   },
   "outputs": [
    {
     "data": {
      "text/plain": [
       "False"
      ]
     },
     "execution_count": 14,
     "metadata": {},
     "output_type": "execute_result"
    }
   ],
   "source": [
    "all(df['retailer'] == 'Amazon')"
   ]
  },
  {
   "cell_type": "code",
   "execution_count": null,
   "metadata": {
    "id": "_taWx4qkZS19",
    "outputId": "7d4a70d7-bf84-4c6d-fe88-4b5f68f96e0c"
   },
   "outputs": [
    {
     "data": {
      "text/html": [
       "<div>\n",
       "<style scoped>\n",
       "    .dataframe tbody tr th:only-of-type {\n",
       "        vertical-align: middle;\n",
       "    }\n",
       "\n",
       "    .dataframe tbody tr th {\n",
       "        vertical-align: top;\n",
       "    }\n",
       "\n",
       "    .dataframe thead th {\n",
       "        text-align: right;\n",
       "    }\n",
       "</style>\n",
       "<table border=\"1\" class=\"dataframe\">\n",
       "  <thead>\n",
       "    <tr style=\"text-align: right;\">\n",
       "      <th></th>\n",
       "      <th>segment</th>\n",
       "      <th>review_id</th>\n",
       "      <th>product_name</th>\n",
       "      <th>producturl</th>\n",
       "      <th>retailer</th>\n",
       "      <th>brand</th>\n",
       "      <th>retailer_product_id</th>\n",
       "      <th>base_id</th>\n",
       "      <th>variants_flag</th>\n",
       "      <th>review_creation_date</th>\n",
       "      <th>...</th>\n",
       "      <th>week</th>\n",
       "      <th>review_title</th>\n",
       "      <th>review_text</th>\n",
       "      <th>review_type</th>\n",
       "      <th>price</th>\n",
       "      <th>rating</th>\n",
       "      <th>images</th>\n",
       "      <th>videos</th>\n",
       "      <th>helpful_votes</th>\n",
       "      <th>promotion_flag</th>\n",
       "    </tr>\n",
       "  </thead>\n",
       "  <tbody>\n",
       "    <tr>\n",
       "      <th>1298</th>\n",
       "      <td>Garden</td>\n",
       "      <td>6779</td>\n",
       "      <td>Pennington Nut and Fruit Treat Bell</td>\n",
       "      <td>http://www.homedepot.com/p/t/204721094</td>\n",
       "      <td>Homedepot</td>\n",
       "      <td>Pennington Bird</td>\n",
       "      <td>204721094</td>\n",
       "      <td>204721094</td>\n",
       "      <td>No</td>\n",
       "      <td>2021-06-03T00:00:00</td>\n",
       "      <td>...</td>\n",
       "      <td>22</td>\n",
       "      <td>Order was ready and staff very friendly and re...</td>\n",
       "      <td>Order was ready and staff very friendly and re...</td>\n",
       "      <td>Organic Reviews</td>\n",
       "      <td>0.00</td>\n",
       "      <td>5</td>\n",
       "      <td>0</td>\n",
       "      <td>0</td>\n",
       "      <td>0</td>\n",
       "      <td>No</td>\n",
       "    </tr>\n",
       "    <tr>\n",
       "      <th>1299</th>\n",
       "      <td>Garden</td>\n",
       "      <td>6783</td>\n",
       "      <td>Pennington Nut and Fruit Treat Bell</td>\n",
       "      <td>http://www.homedepot.com/p/t/204721094</td>\n",
       "      <td>Homedepot</td>\n",
       "      <td>Pennington Bird</td>\n",
       "      <td>204721094</td>\n",
       "      <td>204721094</td>\n",
       "      <td>No</td>\n",
       "      <td>2021-06-24T00:00:00</td>\n",
       "      <td>...</td>\n",
       "      <td>25</td>\n",
       "      <td>PENNINGTON FRUIT &amp; NUT TREAT BELL has nutritio...</td>\n",
       "      <td>PENNINGTON FRUIT &amp; NUT TREAT BELL has nutritio...</td>\n",
       "      <td>Organic Reviews</td>\n",
       "      <td>0.00</td>\n",
       "      <td>5</td>\n",
       "      <td>0</td>\n",
       "      <td>0</td>\n",
       "      <td>0</td>\n",
       "      <td>No</td>\n",
       "    </tr>\n",
       "    <tr>\n",
       "      <th>1300</th>\n",
       "      <td>Garden</td>\n",
       "      <td>6789</td>\n",
       "      <td>Pennington Nut and Fruit Treat Bell</td>\n",
       "      <td>http://www.homedepot.com/p/t/204721094</td>\n",
       "      <td>Homedepot</td>\n",
       "      <td>Pennington Bird</td>\n",
       "      <td>204721094</td>\n",
       "      <td>204721094</td>\n",
       "      <td>No</td>\n",
       "      <td>2021-07-28T00:00:00</td>\n",
       "      <td>...</td>\n",
       "      <td>30</td>\n",
       "      <td>All the birds love it! Woodpeckers, blue jays,...</td>\n",
       "      <td>All the birds love it! Woodpeckers, blue jays,...</td>\n",
       "      <td>Organic Reviews</td>\n",
       "      <td>0.00</td>\n",
       "      <td>5</td>\n",
       "      <td>0</td>\n",
       "      <td>0</td>\n",
       "      <td>0</td>\n",
       "      <td>No</td>\n",
       "    </tr>\n",
       "    <tr>\n",
       "      <th>1301</th>\n",
       "      <td>Garden</td>\n",
       "      <td>6795</td>\n",
       "      <td>Pennington Nut and Fruit Treat Bell</td>\n",
       "      <td>http://www.homedepot.com/p/t/204721094</td>\n",
       "      <td>Homedepot</td>\n",
       "      <td>Pennington Bird</td>\n",
       "      <td>204721094</td>\n",
       "      <td>204721094</td>\n",
       "      <td>No</td>\n",
       "      <td>2021-07-23T00:00:00</td>\n",
       "      <td>...</td>\n",
       "      <td>29</td>\n",
       "      <td>Our birds love them!!!...</td>\n",
       "      <td>Our birds love them!!!</td>\n",
       "      <td>Organic Reviews</td>\n",
       "      <td>0.00</td>\n",
       "      <td>5</td>\n",
       "      <td>1</td>\n",
       "      <td>0</td>\n",
       "      <td>0</td>\n",
       "      <td>No</td>\n",
       "    </tr>\n",
       "    <tr>\n",
       "      <th>1302</th>\n",
       "      <td>Garden</td>\n",
       "      <td>6799</td>\n",
       "      <td>Pennington Nut and Fruit Treat Bell</td>\n",
       "      <td>http://www.homedepot.com/p/t/204721094</td>\n",
       "      <td>Homedepot</td>\n",
       "      <td>Pennington Bird</td>\n",
       "      <td>204721094</td>\n",
       "      <td>204721094</td>\n",
       "      <td>No</td>\n",
       "      <td>2021-07-16T00:00:00</td>\n",
       "      <td>...</td>\n",
       "      <td>28</td>\n",
       "      <td>Really easy to use. Squirrels love it...</td>\n",
       "      <td>Really easy to use. Squirrels love it</td>\n",
       "      <td>Organic Reviews</td>\n",
       "      <td>0.00</td>\n",
       "      <td>5</td>\n",
       "      <td>0</td>\n",
       "      <td>0</td>\n",
       "      <td>0</td>\n",
       "      <td>No</td>\n",
       "    </tr>\n",
       "    <tr>\n",
       "      <th>...</th>\n",
       "      <td>...</td>\n",
       "      <td>...</td>\n",
       "      <td>...</td>\n",
       "      <td>...</td>\n",
       "      <td>...</td>\n",
       "      <td>...</td>\n",
       "      <td>...</td>\n",
       "      <td>...</td>\n",
       "      <td>...</td>\n",
       "      <td>...</td>\n",
       "      <td>...</td>\n",
       "      <td>...</td>\n",
       "      <td>...</td>\n",
       "      <td>...</td>\n",
       "      <td>...</td>\n",
       "      <td>...</td>\n",
       "      <td>...</td>\n",
       "      <td>...</td>\n",
       "      <td>...</td>\n",
       "      <td>...</td>\n",
       "      <td>...</td>\n",
       "    </tr>\n",
       "    <tr>\n",
       "      <th>28781</th>\n",
       "      <td>Garden</td>\n",
       "      <td>150694</td>\n",
       "      <td>Pennington Smart Patch Dense Shade Mix, 12 lb</td>\n",
       "      <td>https://www.walmart.com//ip/Pennington-Smart-P...</td>\n",
       "      <td>Walmart</td>\n",
       "      <td>Pennington Grass</td>\n",
       "      <td>658916879</td>\n",
       "      <td>658916879</td>\n",
       "      <td>Yes</td>\n",
       "      <td>2022-05-22T00:00:00</td>\n",
       "      <td>...</td>\n",
       "      <td>20</td>\n",
       "      <td>Perfect all in one</td>\n",
       "      <td>I received product reimbursement in exchange f...</td>\n",
       "      <td>Organic reviews</td>\n",
       "      <td>29.98</td>\n",
       "      <td>5</td>\n",
       "      <td>0</td>\n",
       "      <td>0</td>\n",
       "      <td>0</td>\n",
       "      <td>No</td>\n",
       "    </tr>\n",
       "    <tr>\n",
       "      <th>28782</th>\n",
       "      <td>Garden</td>\n",
       "      <td>150695</td>\n",
       "      <td>Pennington Smart Patch Dense Shade Mix, 12 lb</td>\n",
       "      <td>https://www.walmart.com//ip/Pennington-Smart-P...</td>\n",
       "      <td>Walmart</td>\n",
       "      <td>Pennington Grass</td>\n",
       "      <td>658916879</td>\n",
       "      <td>658916879</td>\n",
       "      <td>Yes</td>\n",
       "      <td>2022-05-24T00:00:00</td>\n",
       "      <td>...</td>\n",
       "      <td>21</td>\n",
       "      <td>Stays Put</td>\n",
       "      <td>I received product reimbursement in exchange f...</td>\n",
       "      <td>Organic reviews</td>\n",
       "      <td>29.98</td>\n",
       "      <td>5</td>\n",
       "      <td>0</td>\n",
       "      <td>0</td>\n",
       "      <td>0</td>\n",
       "      <td>No</td>\n",
       "    </tr>\n",
       "    <tr>\n",
       "      <th>28783</th>\n",
       "      <td>Garden</td>\n",
       "      <td>150696</td>\n",
       "      <td>Pennington Smart Patch Dense Shade Mix, 12 lb</td>\n",
       "      <td>https://www.walmart.com//ip/Pennington-Smart-P...</td>\n",
       "      <td>Walmart</td>\n",
       "      <td>Pennington Grass</td>\n",
       "      <td>658916879</td>\n",
       "      <td>658916879</td>\n",
       "      <td>Yes</td>\n",
       "      <td>2022-05-29T00:00:00</td>\n",
       "      <td>...</td>\n",
       "      <td>21</td>\n",
       "      <td>Still a Wait</td>\n",
       "      <td>I received product reimbursement in exchange f...</td>\n",
       "      <td>Organic reviews</td>\n",
       "      <td>29.98</td>\n",
       "      <td>5</td>\n",
       "      <td>0</td>\n",
       "      <td>0</td>\n",
       "      <td>0</td>\n",
       "      <td>No</td>\n",
       "    </tr>\n",
       "    <tr>\n",
       "      <th>28784</th>\n",
       "      <td>Garden</td>\n",
       "      <td>150697</td>\n",
       "      <td>Pennington Smart Patch Dense Shade Mix, 12 lb</td>\n",
       "      <td>https://www.walmart.com//ip/Pennington-Smart-P...</td>\n",
       "      <td>Walmart</td>\n",
       "      <td>Pennington Grass</td>\n",
       "      <td>658916879</td>\n",
       "      <td>658916879</td>\n",
       "      <td>Yes</td>\n",
       "      <td>2022-05-27T00:00:00</td>\n",
       "      <td>...</td>\n",
       "      <td>21</td>\n",
       "      <td>Works quick</td>\n",
       "      <td>I received product reimbursement in exchange f...</td>\n",
       "      <td>Organic reviews</td>\n",
       "      <td>29.98</td>\n",
       "      <td>5</td>\n",
       "      <td>0</td>\n",
       "      <td>0</td>\n",
       "      <td>0</td>\n",
       "      <td>No</td>\n",
       "    </tr>\n",
       "    <tr>\n",
       "      <th>28785</th>\n",
       "      <td>Garden</td>\n",
       "      <td>150698</td>\n",
       "      <td>Pennington Smart Patch Dense Shade Mix, 12 lb</td>\n",
       "      <td>https://www.walmart.com//ip/Pennington-Smart-P...</td>\n",
       "      <td>Walmart</td>\n",
       "      <td>Pennington Grass</td>\n",
       "      <td>658916879</td>\n",
       "      <td>658916879</td>\n",
       "      <td>Yes</td>\n",
       "      <td>2022-05-23T00:00:00</td>\n",
       "      <td>...</td>\n",
       "      <td>21</td>\n",
       "      <td>Love the mulching additive!</td>\n",
       "      <td>I received product reimbursement in exchange f...</td>\n",
       "      <td>Organic reviews</td>\n",
       "      <td>29.98</td>\n",
       "      <td>4</td>\n",
       "      <td>0</td>\n",
       "      <td>0</td>\n",
       "      <td>0</td>\n",
       "      <td>No</td>\n",
       "    </tr>\n",
       "  </tbody>\n",
       "</table>\n",
       "<p>26248 rows × 22 columns</p>\n",
       "</div>"
      ],
      "text/plain": [
       "      segment  review_id                                   product_name  \\\n",
       "1298   Garden       6779            Pennington Nut and Fruit Treat Bell   \n",
       "1299   Garden       6783            Pennington Nut and Fruit Treat Bell   \n",
       "1300   Garden       6789            Pennington Nut and Fruit Treat Bell   \n",
       "1301   Garden       6795            Pennington Nut and Fruit Treat Bell   \n",
       "1302   Garden       6799            Pennington Nut and Fruit Treat Bell   \n",
       "...       ...        ...                                            ...   \n",
       "28781  Garden     150694  Pennington Smart Patch Dense Shade Mix, 12 lb   \n",
       "28782  Garden     150695  Pennington Smart Patch Dense Shade Mix, 12 lb   \n",
       "28783  Garden     150696  Pennington Smart Patch Dense Shade Mix, 12 lb   \n",
       "28784  Garden     150697  Pennington Smart Patch Dense Shade Mix, 12 lb   \n",
       "28785  Garden     150698  Pennington Smart Patch Dense Shade Mix, 12 lb   \n",
       "\n",
       "                                              producturl   retailer  \\\n",
       "1298              http://www.homedepot.com/p/t/204721094  Homedepot   \n",
       "1299              http://www.homedepot.com/p/t/204721094  Homedepot   \n",
       "1300              http://www.homedepot.com/p/t/204721094  Homedepot   \n",
       "1301              http://www.homedepot.com/p/t/204721094  Homedepot   \n",
       "1302              http://www.homedepot.com/p/t/204721094  Homedepot   \n",
       "...                                                  ...        ...   \n",
       "28781  https://www.walmart.com//ip/Pennington-Smart-P...    Walmart   \n",
       "28782  https://www.walmart.com//ip/Pennington-Smart-P...    Walmart   \n",
       "28783  https://www.walmart.com//ip/Pennington-Smart-P...    Walmart   \n",
       "28784  https://www.walmart.com//ip/Pennington-Smart-P...    Walmart   \n",
       "28785  https://www.walmart.com//ip/Pennington-Smart-P...    Walmart   \n",
       "\n",
       "                  brand retailer_product_id    base_id variants_flag  \\\n",
       "1298    Pennington Bird           204721094  204721094            No   \n",
       "1299    Pennington Bird           204721094  204721094            No   \n",
       "1300    Pennington Bird           204721094  204721094            No   \n",
       "1301    Pennington Bird           204721094  204721094            No   \n",
       "1302    Pennington Bird           204721094  204721094            No   \n",
       "...                 ...                 ...        ...           ...   \n",
       "28781  Pennington Grass           658916879  658916879           Yes   \n",
       "28782  Pennington Grass           658916879  658916879           Yes   \n",
       "28783  Pennington Grass           658916879  658916879           Yes   \n",
       "28784  Pennington Grass           658916879  658916879           Yes   \n",
       "28785  Pennington Grass           658916879  658916879           Yes   \n",
       "\n",
       "      review_creation_date  ...  week  \\\n",
       "1298   2021-06-03T00:00:00  ...    22   \n",
       "1299   2021-06-24T00:00:00  ...    25   \n",
       "1300   2021-07-28T00:00:00  ...    30   \n",
       "1301   2021-07-23T00:00:00  ...    29   \n",
       "1302   2021-07-16T00:00:00  ...    28   \n",
       "...                    ...  ...   ...   \n",
       "28781  2022-05-22T00:00:00  ...    20   \n",
       "28782  2022-05-24T00:00:00  ...    21   \n",
       "28783  2022-05-29T00:00:00  ...    21   \n",
       "28784  2022-05-27T00:00:00  ...    21   \n",
       "28785  2022-05-23T00:00:00  ...    21   \n",
       "\n",
       "                                            review_title  \\\n",
       "1298   Order was ready and staff very friendly and re...   \n",
       "1299   PENNINGTON FRUIT & NUT TREAT BELL has nutritio...   \n",
       "1300   All the birds love it! Woodpeckers, blue jays,...   \n",
       "1301                           Our birds love them!!!...   \n",
       "1302            Really easy to use. Squirrels love it...   \n",
       "...                                                  ...   \n",
       "28781                                 Perfect all in one   \n",
       "28782                                          Stays Put   \n",
       "28783                                       Still a Wait   \n",
       "28784                                        Works quick   \n",
       "28785                        Love the mulching additive!   \n",
       "\n",
       "                                             review_text      review_type  \\\n",
       "1298   Order was ready and staff very friendly and re...  Organic Reviews   \n",
       "1299   PENNINGTON FRUIT & NUT TREAT BELL has nutritio...  Organic Reviews   \n",
       "1300   All the birds love it! Woodpeckers, blue jays,...  Organic Reviews   \n",
       "1301                              Our birds love them!!!  Organic Reviews   \n",
       "1302               Really easy to use. Squirrels love it  Organic Reviews   \n",
       "...                                                  ...              ...   \n",
       "28781  I received product reimbursement in exchange f...  Organic reviews   \n",
       "28782  I received product reimbursement in exchange f...  Organic reviews   \n",
       "28783  I received product reimbursement in exchange f...  Organic reviews   \n",
       "28784  I received product reimbursement in exchange f...  Organic reviews   \n",
       "28785  I received product reimbursement in exchange f...  Organic reviews   \n",
       "\n",
       "       price rating  images  videos  helpful_votes  promotion_flag  \n",
       "1298    0.00      5       0       0              0              No  \n",
       "1299    0.00      5       0       0              0              No  \n",
       "1300    0.00      5       0       0              0              No  \n",
       "1301    0.00      5       1       0              0              No  \n",
       "1302    0.00      5       0       0              0              No  \n",
       "...      ...    ...     ...     ...            ...             ...  \n",
       "28781  29.98      5       0       0              0              No  \n",
       "28782  29.98      5       0       0              0              No  \n",
       "28783  29.98      5       0       0              0              No  \n",
       "28784  29.98      5       0       0              0              No  \n",
       "28785  29.98      4       0       0              0              No  \n",
       "\n",
       "[26248 rows x 22 columns]"
      ]
     },
     "execution_count": 15,
     "metadata": {},
     "output_type": "execute_result"
    }
   ],
   "source": [
    "df[ df['retailer'] != 'Amazon']"
   ]
  },
  {
   "cell_type": "code",
   "execution_count": null,
   "metadata": {
    "id": "AWxHwgD1ZS1-",
    "outputId": "292fbbe7-3c36-4ffd-a1f3-e5803b8b9125"
   },
   "outputs": [
    {
     "data": {
      "text/plain": [
       "array(['Amazon', 'Homedepot', 'Lowes', 'Walmart'], dtype=object)"
      ]
     },
     "execution_count": 16,
     "metadata": {},
     "output_type": "execute_result"
    }
   ],
   "source": [
    "df['retailer'].unique()"
   ]
  },
  {
   "cell_type": "code",
   "execution_count": null,
   "metadata": {
    "id": "aVUDUzt-ZS1-",
    "outputId": "1e69a49e-8fb7-495d-a753-976eb13242eb"
   },
   "outputs": [
    {
     "data": {
      "text/plain": [
       "Counter({'Amazon': 2538, 'Homedepot': 16332, 'Lowes': 4856, 'Walmart': 5060})"
      ]
     },
     "execution_count": 17,
     "metadata": {},
     "output_type": "execute_result"
    }
   ],
   "source": [
    "from collections import Counter\n",
    "Counter(df['retailer'])"
   ]
  },
  {
   "cell_type": "code",
   "execution_count": null,
   "metadata": {
    "colab": {
     "base_uri": "https://localhost:8080/",
     "height": 166
    },
    "id": "Pq8zxD-iZS1_",
    "outputId": "0cea181a-bceb-45b7-acae-6141e822c08b"
   },
   "outputs": [
    {
     "ename": "NameError",
     "evalue": "ignored",
     "output_type": "error",
     "traceback": [
      "\u001b[0;31m---------------------------------------------------------------------------\u001b[0m",
      "\u001b[0;31mNameError\u001b[0m                                 Traceback (most recent call last)",
      "\u001b[0;32m<ipython-input-1-c42a15b2c7cf>\u001b[0m in \u001b[0;36m<module>\u001b[0;34m\u001b[0m\n\u001b[0;32m----> 1\u001b[0;31m \u001b[0mdf\u001b[0m\u001b[0;34m.\u001b[0m\u001b[0mhead\u001b[0m\u001b[0;34m(\u001b[0m\u001b[0;34m)\u001b[0m\u001b[0;34m\u001b[0m\u001b[0;34m\u001b[0m\u001b[0m\n\u001b[0m",
      "\u001b[0;31mNameError\u001b[0m: name 'df' is not defined"
     ]
    }
   ],
   "source": []
  }
 ],
 "metadata": {
  "colab": {
   "collapsed_sections": [],
   "provenance": []
  },
  "kernelspec": {
   "display_name": "Python 3 (ipykernel)",
   "language": "python",
   "name": "python3"
  },
  "language_info": {
   "codemirror_mode": {
    "name": "ipython",
    "version": 3
   },
   "file_extension": ".py",
   "mimetype": "text/x-python",
   "name": "python",
   "nbconvert_exporter": "python",
   "pygments_lexer": "ipython3",
   "version": "3.9.7"
  }
 },
 "nbformat": 4,
 "nbformat_minor": 1
}
