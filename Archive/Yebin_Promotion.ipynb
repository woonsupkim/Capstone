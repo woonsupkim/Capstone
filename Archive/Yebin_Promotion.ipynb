{
 "cells": [
  {
   "cell_type": "markdown",
   "id": "1a899d41-4a52-48d4-acf6-29b1b2e6fd53",
   "metadata": {},
   "source": [
    "### Initial Exploration on Promotion"
   ]
  },
  {
   "cell_type": "code",
   "execution_count": 1,
   "id": "7271a380-159c-41cd-ab59-2744abcb4216",
   "metadata": {},
   "outputs": [],
   "source": [
    "import pandas as pd"
   ]
  },
  {
   "cell_type": "code",
   "execution_count": 2,
   "id": "925f7f2b-4b97-4991-b9af-064caf6d0fc0",
   "metadata": {},
   "outputs": [],
   "source": [
    "#import data\n",
    "df = pd.read_json(\"./gardenData.json\")"
   ]
  },
  {
   "cell_type": "code",
   "execution_count": 3,
   "id": "7685ccb4-8c87-46be-9e4e-ebbb02e96856",
   "metadata": {},
   "outputs": [
    {
     "name": "stdout",
     "output_type": "stream",
     "text": [
      "<class 'pandas.core.frame.DataFrame'>\n",
      "RangeIndex: 28786 entries, 0 to 28785\n",
      "Data columns (total 22 columns):\n",
      " #   Column                Non-Null Count  Dtype  \n",
      "---  ------                --------------  -----  \n",
      " 0   segment               28786 non-null  object \n",
      " 1   review_id             28786 non-null  int64  \n",
      " 2   product_name          28786 non-null  object \n",
      " 3   producturl            28786 non-null  object \n",
      " 4   retailer              28786 non-null  object \n",
      " 5   brand                 28786 non-null  object \n",
      " 6   retailer_product_id   28786 non-null  object \n",
      " 7   base_id               28786 non-null  object \n",
      " 8   variants_flag         28786 non-null  object \n",
      " 9   review_creation_date  28786 non-null  object \n",
      " 10  year                  28786 non-null  int64  \n",
      " 11  month                 28786 non-null  int64  \n",
      " 12  week                  28786 non-null  int64  \n",
      " 13  review_title          27939 non-null  object \n",
      " 14  review_text           28786 non-null  object \n",
      " 15  review_type           28786 non-null  object \n",
      " 16  price                 28786 non-null  float64\n",
      " 17  rating                28786 non-null  int64  \n",
      " 18  images                28786 non-null  int64  \n",
      " 19  videos                28786 non-null  int64  \n",
      " 20  helpful_votes         28786 non-null  int64  \n",
      " 21  promotion_flag        28786 non-null  object \n",
      "dtypes: float64(1), int64(8), object(13)\n",
      "memory usage: 4.8+ MB\n"
     ]
    }
   ],
   "source": [
    "df.info()"
   ]
  },
  {
   "cell_type": "code",
   "execution_count": 4,
   "id": "a542430e-cf28-4e84-b264-20830f45e6b1",
   "metadata": {},
   "outputs": [
    {
     "data": {
      "text/plain": [
       "segment                   0\n",
       "review_id                 0\n",
       "product_name              0\n",
       "producturl                0\n",
       "retailer                  0\n",
       "brand                     0\n",
       "retailer_product_id       0\n",
       "base_id                   0\n",
       "variants_flag             0\n",
       "review_creation_date      0\n",
       "year                      0\n",
       "month                     0\n",
       "week                      0\n",
       "review_title            847\n",
       "review_text               0\n",
       "review_type               0\n",
       "price                     0\n",
       "rating                    0\n",
       "images                    0\n",
       "videos                    0\n",
       "helpful_votes             0\n",
       "promotion_flag            0\n",
       "dtype: int64"
      ]
     },
     "execution_count": 4,
     "metadata": {},
     "output_type": "execute_result"
    }
   ],
   "source": [
    "#check missing values (not a critical issue)\n",
    "df.isnull().sum()"
   ]
  },
  {
   "cell_type": "code",
   "execution_count": 5,
   "id": "0ab88ca3-dc0b-44da-81b6-903492d717ca",
   "metadata": {},
   "outputs": [
    {
     "data": {
      "text/plain": [
       "28786"
      ]
     },
     "execution_count": 5,
     "metadata": {},
     "output_type": "execute_result"
    }
   ],
   "source": [
    "# Total number of rows = reviews\n",
    "len(df)"
   ]
  },
  {
   "cell_type": "code",
   "execution_count": 6,
   "id": "2cdc95f4-c685-4eb9-9ec0-11a73f7df332",
   "metadata": {},
   "outputs": [
    {
     "data": {
      "text/plain": [
       "22"
      ]
     },
     "execution_count": 6,
     "metadata": {},
     "output_type": "execute_result"
    }
   ],
   "source": [
    "# Total number of columns = variables\n",
    "len(df.columns)"
   ]
  },
  {
   "cell_type": "markdown",
   "id": "880a4cdc-0f79-4844-a9e4-9b6ad0b8d882",
   "metadata": {},
   "source": [
    "#### [1] Brief Stat of rating"
   ]
  },
  {
   "cell_type": "code",
   "execution_count": 7,
   "id": "6a66848f-e8a1-48ab-baa0-e89c2e9b78eb",
   "metadata": {},
   "outputs": [
    {
     "name": "stdout",
     "output_type": "stream",
     "text": [
      "3.9904120058361703\n",
      "1\n",
      "5\n",
      "\n",
      "\n"
     ]
    }
   ],
   "source": [
    "# Brief stat of Review\n",
    "\n",
    "## Rating \n",
    "print(df['rating'].mean())\n",
    "print(df['rating'].min())\n",
    "print(df['rating'].max())\n",
    "\n",
    "## Review Type\n",
    "print()\n",
    "\n",
    "## Review Helpful Votes\n",
    "print()"
   ]
  },
  {
   "cell_type": "markdown",
   "id": "b3413054-4560-4c24-976f-47277ee2e8a4",
   "metadata": {},
   "source": [
    "#### [2] Promotion"
   ]
  },
  {
   "cell_type": "markdown",
   "id": "eea1daca-a9dd-4fbc-a121-f82cbdd23efc",
   "metadata": {},
   "source": [
    "> Promotion can stimulate more purchases and demand from customers who thought they would not need the products. It has an immediate positive effect on increasing sales. However, unplanned purchases can bring about unexpected customer satisfaction, which is harder to predict compared to customer statisfaction with planned purchases.\n",
    "\n",
    "\n",
    "> Therefore, I would like to exmaine how promotion affected customer satisfaction with Ratings and Reviews."
   ]
  },
  {
   "cell_type": "code",
   "execution_count": 9,
   "id": "4a9a336a-3748-4252-b1e1-1e29554273fd",
   "metadata": {},
   "outputs": [
    {
     "data": {
      "text/plain": [
       "No     19713\n",
       "Yes     9073\n",
       "Name: promotion_flag, dtype: int64"
      ]
     },
     "execution_count": 9,
     "metadata": {},
     "output_type": "execute_result"
    }
   ],
   "source": [
    "# Number of Reviews with & without Promotion \n",
    "df['promotion_flag'].value_counts()"
   ]
  },
  {
   "cell_type": "code",
   "execution_count": 10,
   "id": "8947bce5-3e11-4c0b-95d7-c8da2c1d867f",
   "metadata": {},
   "outputs": [
    {
     "name": "stdout",
     "output_type": "stream",
     "text": [
      "4.492560343877439\n",
      "1\n",
      "5\n"
     ]
    }
   ],
   "source": [
    "# Brief stat of Ratings with Promotion\n",
    "\n",
    "print(df.loc[df['promotion_flag'] == 'Yes', 'rating'].mean())\n"
   ]
  },
  {
   "cell_type": "code",
   "execution_count": 11,
   "id": "dc09dff2-1a99-4904-a1e6-f5d535ea5e1c",
   "metadata": {},
   "outputs": [
    {
     "name": "stdout",
     "output_type": "stream",
     "text": [
      "3.7592958961091667\n",
      "1\n",
      "5\n"
     ]
    }
   ],
   "source": [
    "# Brief stat of Ratings without Promotion\n",
    "\n",
    "print(df.loc[df['promotion_flag'] == 'No', 'rating'].mean())\n"
   ]
  }
 ],
 "metadata": {
  "kernelspec": {
   "display_name": "Python 3",
   "language": "python",
   "name": "python3"
  },
  "language_info": {
   "codemirror_mode": {
    "name": "ipython",
    "version": 3
   },
   "file_extension": ".py",
   "mimetype": "text/x-python",
   "name": "python",
   "nbconvert_exporter": "python",
   "pygments_lexer": "ipython3",
   "version": "3.8.8"
  }
 },
 "nbformat": 4,
 "nbformat_minor": 5
}
