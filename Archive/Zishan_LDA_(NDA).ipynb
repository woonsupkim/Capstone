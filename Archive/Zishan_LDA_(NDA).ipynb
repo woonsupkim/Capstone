{
  "cells": [
    {
      "cell_type": "code",
      "execution_count": null,
      "metadata": {
        "id": "OBqXcJzIYCgO"
      },
      "outputs": [],
      "source": [
        "import pandas as pd"
      ]
    },
    {
      "cell_type": "code",
      "execution_count": null,
      "metadata": {
        "id": "IEvbXf6sYdaw"
      },
      "outputs": [],
      "source": [
        "df = pd.read_json(\"/gardenData.json\")"
      ]
    },
    {
      "cell_type": "code",
      "execution_count": null,
      "metadata": {
        "id": "Oi3E39EoYuHU"
      },
      "outputs": [],
      "source": [
        "df_lowes=df[df.retailer =='Lowes']"
      ]
    },
    {
      "cell_type": "code",
      "execution_count": null,
      "metadata": {
        "colab": {
          "base_uri": "https://localhost:8080/"
        },
        "id": "sVsL2YPsYvgE",
        "outputId": "b0a1eaab-62ce-4798-80b1-20205f5f78b7"
      },
      "outputs": [
        {
          "name": "stdout",
          "output_type": "stream",
          "text": [
            "Looking in indexes: https://pypi.org/simple, https://us-python.pkg.dev/colab-wheels/public/simple/\n",
            "Requirement already satisfied: gensim in /usr/local/lib/python3.7/dist-packages (3.6.0)\n",
            "Requirement already satisfied: six>=1.5.0 in /usr/local/lib/python3.7/dist-packages (from gensim) (1.15.0)\n",
            "Requirement already satisfied: numpy>=1.11.3 in /usr/local/lib/python3.7/dist-packages (from gensim) (1.21.6)\n",
            "Requirement already satisfied: smart-open>=1.2.1 in /usr/local/lib/python3.7/dist-packages (from gensim) (5.2.1)\n",
            "Requirement already satisfied: scipy>=0.18.1 in /usr/local/lib/python3.7/dist-packages (from gensim) (1.7.3)\n"
          ]
        }
      ],
      "source": [
        "!pip install gensim"
      ]
    },
    {
      "cell_type": "code",
      "execution_count": null,
      "metadata": {
        "id": "yRbRVD5zY2RL"
      },
      "outputs": [],
      "source": [
        "import gensim\n",
        "from gensim.utils import simple_preprocess\n",
        "from gensim.parsing.preprocessing import STOPWORDS\n",
        "from nltk.stem import WordNetLemmatizer, SnowballStemmer\n",
        "from nltk.stem.porter import *\n",
        "import numpy as np"
      ]
    },
    {
      "cell_type": "code",
      "execution_count": null,
      "metadata": {
        "colab": {
          "base_uri": "https://localhost:8080/"
        },
        "id": "2zIvfpGtZ69_",
        "outputId": "c1a9809b-0ddf-4220-d9b0-2e6e393d28f4"
      },
      "outputs": [
        {
          "name": "stderr",
          "output_type": "stream",
          "text": [
            "[nltk_data] Downloading package wordnet to /root/nltk_data...\n",
            "[nltk_data]   Package wordnet is already up-to-date!\n",
            "[nltk_data] Downloading package omw-1.4 to /root/nltk_data...\n"
          ]
        },
        {
          "data": {
            "text/plain": [
              "True"
            ]
          },
          "execution_count": 16,
          "metadata": {},
          "output_type": "execute_result"
        }
      ],
      "source": [
        "import nltk\n",
        "nltk.download('wordnet')\n",
        "nltk.download('omw-1.4')"
      ]
    },
    {
      "cell_type": "code",
      "execution_count": null,
      "metadata": {
        "id": "MNKeyRoEa1Sa"
      },
      "outputs": [],
      "source": [
        "import pandas as pd\n",
        "stemmer = SnowballStemmer(\"english\")"
      ]
    },
    {
      "cell_type": "code",
      "execution_count": null,
      "metadata": {
        "id": "qzw-S4yJZGqx"
      },
      "outputs": [],
      "source": [
        "def lemmatize_stemming(text):\n",
        "    return stemmer.stem(WordNetLemmatizer().lemmatize(text, pos='v'))\n",
        "# Tokenize and lemmatize\n",
        "def preprocess(text):\n",
        "    result=[]\n",
        "    for token in gensim.utils.simple_preprocess(text) :\n",
        "        if token not in gensim.parsing.preprocessing.STOPWORDS:\n",
        "            result.append(lemmatize_stemming(token))\n",
        "            \n",
        "    return result"
      ]
    },
    {
      "cell_type": "code",
      "execution_count": null,
      "metadata": {
        "colab": {
          "base_uri": "https://localhost:8080/"
        },
        "id": "hbZD_AiAbW0R",
        "outputId": "1a3c9c5e-b7f8-4d07-8f9e-878e23a4fe9b"
      },
      "outputs": [
        {
          "name": "stdout",
          "output_type": "stream",
          "text": [
            "['disk', 'fail', 'time', 'like', 'replac']\n"
          ]
        }
      ],
      "source": [
        "doc_sample = 'This disk has failed many times. I would like to get it replaced.'\n",
        "print(preprocess(doc_sample))"
      ]
    },
    {
      "cell_type": "code",
      "execution_count": null,
      "metadata": {
        "id": "kfb2yOSkaq1q"
      },
      "outputs": [],
      "source": [
        "processed_reviews = []\n",
        "\n",
        "for i in list(df_lowes.review_text):\n",
        "    processed_reviews.append(preprocess(i))"
      ]
    },
    {
      "cell_type": "code",
      "execution_count": null,
      "metadata": {
        "id": "N7H1WbR3ZTOc"
      },
      "outputs": [],
      "source": [
        "'''\n",
        "Create a dictionary from 'processed_docs' containing the number of times a word appears \n",
        "in df using gensim.corpora.Dictionary and call it 'dictionary'\n",
        "'''\n",
        "dictionary = gensim.corpora.Dictionary(processed_reviews)"
      ]
    },
    {
      "cell_type": "code",
      "execution_count": null,
      "metadata": {
        "id": "-W2tFtuabtCg"
      },
      "outputs": [],
      "source": [
        "'''\n",
        "Create the Bag-of-words model for each review i.e for each review we create a dictionary reporting how many\n",
        "words and how many times those words appear. Save this to 'bow_corpus'\n",
        "'''\n",
        "bow_corpus = [dictionary.doc2bow(review) for review in processed_reviews]"
      ]
    },
    {
      "cell_type": "code",
      "execution_count": 46,
      "metadata": {
        "colab": {
          "base_uri": "https://localhost:8080/"
        },
        "id": "FJLTiylgb2im",
        "outputId": "79b93c70-3b6e-4f5a-b943-65cabccd1572"
      },
      "outputs": [
        {
          "output_type": "stream",
          "name": "stdout",
          "text": [
            "Word 0 (\"bad\") appears 1 time.\n",
            "Word 1 (\"constant\") appears 1 time.\n",
            "Word 2 (\"day\") appears 1 time.\n",
            "Word 3 (\"degre\") appears 1 time.\n",
            "Word 4 (\"germin\") appears 1 time.\n",
            "Word 5 (\"get\") appears 2 time.\n",
            "Word 6 (\"grow\") appears 1 time.\n",
            "Word 7 (\"home\") appears 1 time.\n",
            "Word 8 (\"miss\") appears 1 time.\n",
            "Word 9 (\"open\") appears 1 time.\n",
            "Word 10 (\"pick\") appears 1 time.\n",
            "Word 11 (\"plant\") appears 1 time.\n",
            "Word 12 (\"pound\") appears 1 time.\n",
            "Word 13 (\"saw\") appears 1 time.\n",
            "Word 14 (\"seed\") appears 3 time.\n",
            "Word 15 (\"store\") appears 1 time.\n",
            "Word 16 (\"wash\") appears 1 time.\n",
            "Word 17 (\"water\") appears 1 time.\n",
            "Word 18 (\"weather\") appears 1 time.\n",
            "Word 19 (\"week\") appears 1 time.\n"
          ]
        }
      ],
      "source": [
        "## for example....\n",
        "bow_doc_x = bow_corpus[0]\n",
        "\n",
        "for i in range(len(bow_doc_x)):\n",
        "    print(\"Word {} (\\\"{}\\\") appears {} time.\".format(bow_doc_x[i][0], \n",
        "                                                     dictionary[bow_doc_x[i][0]], \n",
        "                                                     bow_doc_x[i][1]))"
      ]
    },
    {
      "cell_type": "code",
      "execution_count": 47,
      "metadata": {
        "id": "4xJjHuKqdrR7"
      },
      "outputs": [],
      "source": [
        "lda_model =  gensim.models.LdaMulticore(bow_corpus, \n",
        "                                   num_topics = 8, \n",
        "                                   id2word = dictionary,                                    \n",
        "                                   passes = 10\n",
        "                                   )"
      ]
    },
    {
      "cell_type": "code",
      "execution_count": 48,
      "metadata": {
        "colab": {
          "base_uri": "https://localhost:8080/"
        },
        "id": "uWsRqBKMd2sy",
        "outputId": "4f3d9644-5796-456c-d438-06b47d3e2a27"
      },
      "outputs": [
        {
          "output_type": "stream",
          "name": "stdout",
          "text": [
            "Topic: 0 \n",
            "Words: 0.036*\"collect\" + 0.036*\"review\" + 0.036*\"promot\" + 0.028*\"plant\" + 0.028*\"product\" + 0.022*\"love\" + 0.019*\"use\" + 0.019*\"work\" + 0.016*\"bug\" + 0.011*\"like\"\n",
            "\n",
            "\n",
            "Topic: 1 \n",
            "Words: 0.054*\"spray\" + 0.035*\"use\" + 0.029*\"bug\" + 0.026*\"easi\" + 0.023*\"work\" + 0.020*\"review\" + 0.020*\"promot\" + 0.020*\"collect\" + 0.019*\"plant\" + 0.019*\"kill\"\n",
            "\n",
            "\n",
            "Topic: 2 \n",
            "Words: 0.034*\"ant\" + 0.022*\"product\" + 0.020*\"review\" + 0.020*\"collect\" + 0.020*\"promot\" + 0.018*\"use\" + 0.013*\"yard\" + 0.013*\"ironit\" + 0.011*\"spray\" + 0.011*\"appli\"\n",
            "\n",
            "\n",
            "Topic: 3 \n",
            "Words: 0.041*\"weed\" + 0.019*\"grass\" + 0.017*\"product\" + 0.017*\"review\" + 0.017*\"promot\" + 0.016*\"collect\" + 0.016*\"area\" + 0.015*\"tri\" + 0.014*\"rain\" + 0.013*\"ive\"\n",
            "\n",
            "\n",
            "Topic: 4 \n",
            "Words: 0.042*\"product\" + 0.040*\"review\" + 0.037*\"promot\" + 0.037*\"collect\" + 0.026*\"use\" + 0.023*\"work\" + 0.019*\"spray\" + 0.016*\"recommend\" + 0.015*\"bug\" + 0.012*\"like\"\n",
            "\n",
            "\n",
            "Topic: 5 \n",
            "Words: 0.041*\"review\" + 0.040*\"promot\" + 0.040*\"collect\" + 0.037*\"insect\" + 0.035*\"garden\" + 0.029*\"plant\" + 0.024*\"product\" + 0.022*\"work\" + 0.019*\"bug\" + 0.019*\"sevin\"\n",
            "\n",
            "\n",
            "Topic: 6 \n",
            "Words: 0.045*\"grass\" + 0.031*\"seed\" + 0.027*\"review\" + 0.026*\"promot\" + 0.026*\"collect\" + 0.023*\"grow\" + 0.021*\"patch\" + 0.020*\"spot\" + 0.018*\"area\" + 0.017*\"yard\"\n",
            "\n",
            "\n",
            "Topic: 7 \n",
            "Words: 0.045*\"review\" + 0.039*\"promot\" + 0.039*\"collect\" + 0.032*\"product\" + 0.025*\"grass\" + 0.020*\"work\" + 0.016*\"look\" + 0.014*\"seed\" + 0.013*\"time\" + 0.012*\"yard\"\n",
            "\n",
            "\n"
          ]
        }
      ],
      "source": [
        "'''\n",
        "For each topic, we will explore the words occuring in that topic and its relative weight\n",
        "'''\n",
        "for idx, topic in lda_model.print_topics(-1):\n",
        "    print(\"Topic: {} \\nWords: {}\".format(idx, topic ))\n",
        "    print(\"\\n\")"
      ]
    }
  ],
  "metadata": {
    "colab": {
      "provenance": []
    },
    "kernelspec": {
      "display_name": "Python 3",
      "name": "python3"
    },
    "language_info": {
      "name": "python"
    }
  },
  "nbformat": 4,
  "nbformat_minor": 0
}