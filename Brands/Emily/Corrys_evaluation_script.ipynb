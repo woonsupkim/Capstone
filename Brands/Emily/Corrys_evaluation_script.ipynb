{
  "cells": [
    {
      "cell_type": "code",
      "execution_count": 52,
      "metadata": {
        "id": "0Dwvrw4L-Fsi"
      },
      "outputs": [],
      "source": [
        "import pandas as pd\n",
        "import numpy as np\n",
        "import seaborn as sns\n",
        "import matplotlib.pyplot as plt\n",
        "\n",
        "from transformers import pipeline\n",
        "\n",
        "import warnings\n",
        "warnings.filterwarnings(\"ignore\")\n",
        "\n",
        "from IPython.core.interactiveshell import InteractiveShell\n",
        "InteractiveShell.ast_node_interactivity = 'all'\n",
        "\n",
        "pd.set_option('display.max_columns', None) "
      ]
    },
    {
      "cell_type": "code",
      "execution_count": 53,
      "metadata": {
        "id": "crSk_Rsw-Fsw"
      },
      "outputs": [],
      "source": [
        "df = pd.read_csv('Corrys_handlabled.csv', index_col = [0])"
      ]
    },
    {
      "cell_type": "code",
      "execution_count": 54,
      "metadata": {
        "id": "yYmur68I-Fsw"
      },
      "outputs": [],
      "source": [
        "#replace NaN in label columns with 0\n",
        "columns = ['cost','ease of use', 'effective', 'efficient']\n",
        "\n",
        "for column in columns:\n",
        "    df[column] = df[column].replace(np.nan, int(0))"
      ]
    },
    {
      "cell_type": "markdown",
      "metadata": {
        "id": "7ULpMsH1-Fsx"
      },
      "source": [
        "# Sentiment Analysis"
      ]
    },
    {
      "cell_type": "code",
      "execution_count": 55,
      "metadata": {
        "colab": {
          "base_uri": "https://localhost:8080/"
        },
        "id": "XonGY6aV-Fsy",
        "outputId": "372b98d5-0344-4911-b09f-08f6a889ce17"
      },
      "outputs": [
        {
          "output_type": "stream",
          "name": "stderr",
          "text": [
            "Some weights of the model checkpoint at cardiffnlp/twitter-roberta-base-sentiment-latest were not used when initializing RobertaForSequenceClassification: ['roberta.pooler.dense.weight', 'roberta.pooler.dense.bias']\n",
            "- This IS expected if you are initializing RobertaForSequenceClassification from the checkpoint of a model trained on another task or with another architecture (e.g. initializing a BertForSequenceClassification model from a BertForPreTraining model).\n",
            "- This IS NOT expected if you are initializing RobertaForSequenceClassification from the checkpoint of a model that you expect to be exactly identical (initializing a BertForSequenceClassification model from a BertForSequenceClassification model).\n"
          ]
        }
      ],
      "source": [
        "from transformers import pipeline\n",
        "sentiment_pipeline = pipeline(\"sentiment-analysis\", model=\"cardiffnlp/twitter-roberta-base-sentiment-latest\")"
      ]
    },
    {
      "cell_type": "code",
      "execution_count": 56,
      "metadata": {
        "colab": {
          "base_uri": "https://localhost:8080/"
        },
        "id": "wIie7w_b-Fsz",
        "outputId": "7cfe790c-2c2a-4919-c105-c9bbd1dd119a"
      },
      "outputs": [
        {
          "output_type": "stream",
          "name": "stderr",
          "text": [
            "Some weights of the model checkpoint at cardiffnlp/twitter-roberta-base-sentiment-latest were not used when initializing RobertaForSequenceClassification: ['roberta.pooler.dense.weight', 'roberta.pooler.dense.bias']\n",
            "- This IS expected if you are initializing RobertaForSequenceClassification from the checkpoint of a model trained on another task or with another architecture (e.g. initializing a BertForSequenceClassification model from a BertForPreTraining model).\n",
            "- This IS NOT expected if you are initializing RobertaForSequenceClassification from the checkpoint of a model that you expect to be exactly identical (initializing a BertForSequenceClassification model from a BertForSequenceClassification model).\n"
          ]
        },
        {
          "output_type": "stream",
          "name": "stdout",
          "text": [
            "0\n",
            "20\n",
            "40\n",
            "60\n",
            "80\n"
          ]
        }
      ],
      "source": [
        "from transformers import pipeline\n",
        "sentiment_pipeline = pipeline(\"sentiment-analysis\", model=\"cardiffnlp/twitter-roberta-base-sentiment-latest\")\n",
        "\n",
        "sentiment = [None] * len(df)\n",
        "index = -1\n",
        "for sentence in df['review_lower'][0:99]:\n",
        "    index+=1\n",
        "    if(index%20 == 0):\n",
        "        print(index)\n",
        "\n",
        "    result = sentiment_pipeline(sentence[:512])[0]\n",
        "    sentiment[index] = result['label']\n",
        "df['sentiment_m'] = sentiment"
      ]
    },
    {
      "cell_type": "markdown",
      "metadata": {
        "id": "KITCTIK1-Fs0"
      },
      "source": [
        "# Zero-Shot Classifier"
      ]
    },
    {
      "cell_type": "code",
      "execution_count": 57,
      "metadata": {
        "id": "SMVD0YAs-Fs1"
      },
      "outputs": [],
      "source": [
        "classifier  = pipeline(\"zero-shot-classification\",  model = \"facebook/bart-large-mnli\")"
      ]
    },
    {
      "cell_type": "code",
      "execution_count": 58,
      "metadata": {
        "id": "S0HHj_gg-Fs1"
      },
      "outputs": [],
      "source": [
        "# insert the labels you identified from above section\n",
        "type = ['cost', 'efficient', 'effective', 'ease of use']"
      ]
    },
    {
      "cell_type": "code",
      "execution_count": 59,
      "metadata": {
        "colab": {
          "base_uri": "https://localhost:8080/"
        },
        "id": "7QOAJdc3-Fs2",
        "outputId": "6e01e01c-67d5-4093-e08e-7aa2c2601394"
      },
      "outputs": [
        {
          "output_type": "stream",
          "name": "stdout",
          "text": [
            "0\n",
            "20\n",
            "40\n",
            "60\n",
            "80\n"
          ]
        }
      ],
      "source": [
        "#setting empty values for the columns\n",
        "index = -1\n",
        "for label in type:\n",
        "    df[label + '_m'] = -1\n",
        "\n",
        "for j in range(99):\n",
        "    #counter for progress/debugging\n",
        "    index+=1\n",
        "    if(index%20 == 0): \n",
        "        print(index)\n",
        "        \n",
        "    #running the classifier on the column    \n",
        "    res = classifier(\n",
        "        df.iloc[j]['review_lower'],\n",
        "        candidate_labels = type,\n",
        "        multi_label = True\n",
        "    )\n",
        "    #setting the column values according to the output from the classifier (\"_m\" = multiclass)\n",
        "    for i in range(len(res['labels'])):\n",
        "        df[res['labels'][i]+ '_m'].iloc[j] = res['scores'][i]"
      ]
    },
    {
      "cell_type": "markdown",
      "metadata": {
        "id": "CkKMimjg-Fs3"
      },
      "source": [
        "# Sentiment Evaluation"
      ]
    },
    {
      "cell_type": "code",
      "execution_count": 60,
      "metadata": {
        "id": "m6Kar9u_-Fs3"
      },
      "outputs": [],
      "source": [
        "def imputation1(list):\n",
        "    i = []\n",
        "    for prediction in list:\n",
        "        if prediction == \"Positive\":\n",
        "            i.append(1)\n",
        "        elif prediction == \"Neutral\":\n",
        "            i.append(0)\n",
        "        else:\n",
        "            i.append(-1)    \n",
        "    return(i)"
      ]
    },
    {
      "cell_type": "code",
      "execution_count": 61,
      "metadata": {
        "id": "R68fgl1E-Fs3"
      },
      "outputs": [],
      "source": [
        "df['sentiment'] = imputation1(df['sentiment'])\n",
        "df['sentiment_m'] = imputation1(df['sentiment_m'])"
      ]
    },
    {
      "cell_type": "code",
      "execution_count": 62,
      "metadata": {
        "id": "iM1OXCbC-Fs4"
      },
      "outputs": [],
      "source": [
        "from sklearn.metrics import classification_report"
      ]
    },
    {
      "cell_type": "code",
      "execution_count": 63,
      "metadata": {
        "colab": {
          "base_uri": "https://localhost:8080/"
        },
        "id": "uiaaJw1c-Fs4",
        "outputId": "f41feb02-40c3-4d0d-9cec-9f41c15245b3"
      },
      "outputs": [
        {
          "output_type": "stream",
          "name": "stdout",
          "text": [
            "              precision    recall  f1-score   support\n",
            "\n",
            "          -1       1.00      0.83      0.91       400\n",
            "           0       0.00      0.00      0.00         0\n",
            "           1       0.00      0.00      0.00         0\n",
            "\n",
            "    accuracy                           0.83       400\n",
            "   macro avg       0.33      0.28      0.30       400\n",
            "weighted avg       1.00      0.83      0.91       400\n",
            "\n"
          ]
        }
      ],
      "source": [
        "print(classification_report(df['sentiment'], df['sentiment_m']))"
      ]
    },
    {
      "cell_type": "code",
      "source": [
        "report_sentiment = classification_report(df['sentiment'], df['sentiment_m'], output_dict=True)"
      ],
      "metadata": {
        "id": "_rynba6TSXvv"
      },
      "execution_count": 64,
      "outputs": []
    },
    {
      "cell_type": "code",
      "source": [
        "# recall meaning: Out of all the sentiments that actually did get drafted, the model only predicted this outcome correctly for 83.25% of those.\n",
        "report_sentiment['accuracy']"
      ],
      "metadata": {
        "colab": {
          "base_uri": "https://localhost:8080/"
        },
        "id": "0-USXy06UXdM",
        "outputId": "6451068b-31ec-4962-b132-f6a98c1f00ce"
      },
      "execution_count": 65,
      "outputs": [
        {
          "output_type": "execute_result",
          "data": {
            "text/plain": [
              "0.8325"
            ]
          },
          "metadata": {},
          "execution_count": 65
        }
      ]
    },
    {
      "cell_type": "markdown",
      "metadata": {
        "id": "AXPyNoHt-Fs4"
      },
      "source": [
        "# Zero-Shot Evaluation"
      ]
    },
    {
      "cell_type": "code",
      "execution_count": 66,
      "metadata": {
        "id": "qK1QjgC6-Fs4"
      },
      "outputs": [],
      "source": [
        "def imputation(list):\n",
        "    i = []\n",
        "    for prediction in list:\n",
        "        if prediction < 0.7:\n",
        "            i.append(0)\n",
        "        else:\n",
        "            i.append(1)\n",
        "    \n",
        "    return(i)"
      ]
    },
    {
      "cell_type": "code",
      "execution_count": 68,
      "metadata": {
        "id": "RUXpZoBq-Fs5"
      },
      "outputs": [],
      "source": [
        "df['cost_m'] = imputation(df['cost_m'])\n",
        "df['efficient_m'] = imputation(df['efficient_m'])\n",
        "df['effective_m'] = imputation(df['effective_m'])\n",
        "df['ease of use_m'] = imputation(df['ease of use_m'])"
      ]
    },
    {
      "cell_type": "code",
      "execution_count": 69,
      "metadata": {
        "colab": {
          "base_uri": "https://localhost:8080/"
        },
        "id": "9nqzRRV9-Fs5",
        "outputId": "80c3013a-c253-4ce9-b7c5-1c6e283277e1"
      },
      "outputs": [
        {
          "output_type": "stream",
          "name": "stdout",
          "text": [
            "              precision    recall  f1-score   support\n",
            "\n",
            "         0.0       1.00      0.95      0.98       398\n",
            "         1.0       0.10      1.00      0.18         2\n",
            "\n",
            "    accuracy                           0.95       400\n",
            "   macro avg       0.55      0.98      0.58       400\n",
            "weighted avg       1.00      0.95      0.97       400\n",
            "\n"
          ]
        }
      ],
      "source": [
        "print(classification_report(df['cost'], df['cost_m']))"
      ]
    },
    {
      "cell_type": "code",
      "source": [
        "report_cost=classification_report(df['cost'], df['cost_m'],output_dict=True)"
      ],
      "metadata": {
        "id": "Gn1_VAY3VbXg"
      },
      "execution_count": 70,
      "outputs": []
    },
    {
      "cell_type": "code",
      "execution_count": 71,
      "metadata": {
        "colab": {
          "base_uri": "https://localhost:8080/"
        },
        "id": "KiofQmHj-Fs5",
        "outputId": "6c64d591-d386-47a7-d965-c397601d082d"
      },
      "outputs": [
        {
          "output_type": "stream",
          "name": "stdout",
          "text": [
            "ROC AUC : 0.9774\n"
          ]
        }
      ],
      "source": [
        "from sklearn.metrics import roc_auc_score\n",
        "ROC_AUC = roc_auc_score(df['cost'], df['cost_m'])\n",
        "print('ROC AUC : {:.4f}'.format(ROC_AUC))"
      ]
    },
    {
      "cell_type": "code",
      "execution_count": 72,
      "metadata": {
        "colab": {
          "base_uri": "https://localhost:8080/"
        },
        "id": "_ykis5kF-Fs6",
        "outputId": "c7422a43-33a8-4d65-dabd-1d5391100814"
      },
      "outputs": [
        {
          "output_type": "stream",
          "name": "stdout",
          "text": [
            "              precision    recall  f1-score   support\n",
            "\n",
            "         0.0       0.97      0.85      0.91       376\n",
            "         1.0       0.20      0.58      0.30        24\n",
            "\n",
            "    accuracy                           0.84       400\n",
            "   macro avg       0.59      0.72      0.60       400\n",
            "weighted avg       0.92      0.84      0.87       400\n",
            "\n"
          ]
        }
      ],
      "source": [
        "print(classification_report(df['efficient'], df['efficient_m']))"
      ]
    },
    {
      "cell_type": "code",
      "execution_count": 73,
      "metadata": {
        "colab": {
          "base_uri": "https://localhost:8080/"
        },
        "id": "BTt1-YmS-Fs6",
        "outputId": "cf453774-a0d6-4a1c-d3d5-0746e6dc667b"
      },
      "outputs": [
        {
          "output_type": "stream",
          "name": "stdout",
          "text": [
            "ROC AUC : 0.7185\n"
          ]
        }
      ],
      "source": [
        "ROC_AUC = roc_auc_score(df['efficient'], df['efficient_m'])\n",
        "print('ROC AUC : {:.4f}'.format(ROC_AUC))"
      ]
    },
    {
      "cell_type": "code",
      "execution_count": 74,
      "metadata": {
        "colab": {
          "base_uri": "https://localhost:8080/"
        },
        "id": "XbG57nyU-Fs6",
        "outputId": "e8aa1969-6920-47da-f788-7a2d14f7fbfe"
      },
      "outputs": [
        {
          "output_type": "stream",
          "name": "stdout",
          "text": [
            "              precision    recall  f1-score   support\n",
            "\n",
            "         0.0       0.96      0.99      0.97       310\n",
            "         1.0       0.96      0.86      0.91        90\n",
            "\n",
            "    accuracy                           0.96       400\n",
            "   macro avg       0.96      0.92      0.94       400\n",
            "weighted avg       0.96      0.96      0.96       400\n",
            "\n"
          ]
        }
      ],
      "source": [
        "print(classification_report(df['effective'], df['effective_m']))"
      ]
    },
    {
      "cell_type": "code",
      "execution_count": 75,
      "metadata": {
        "colab": {
          "base_uri": "https://localhost:8080/"
        },
        "id": "FB0zvX4k-Fs7",
        "outputId": "4a67ce50-2623-4dc1-8c4d-46609d75d68d"
      },
      "outputs": [
        {
          "output_type": "stream",
          "name": "stdout",
          "text": [
            "ROC AUC : 0.9229\n"
          ]
        }
      ],
      "source": [
        "ROC_AUC = roc_auc_score(df['effective'], df['effective_m'])\n",
        "print('ROC AUC : {:.4f}'.format(ROC_AUC))"
      ]
    },
    {
      "cell_type": "code",
      "execution_count": 76,
      "metadata": {
        "colab": {
          "base_uri": "https://localhost:8080/"
        },
        "id": "qILiYEEF-Fs7",
        "outputId": "e9b2e9eb-a721-41fe-ece9-7c6907c6133c"
      },
      "outputs": [
        {
          "output_type": "stream",
          "name": "stdout",
          "text": [
            "              precision    recall  f1-score   support\n",
            "\n",
            "         0.0       0.96      0.93      0.95       377\n",
            "         1.0       0.28      0.43      0.34        23\n",
            "\n",
            "    accuracy                           0.90       400\n",
            "   macro avg       0.62      0.68      0.64       400\n",
            "weighted avg       0.92      0.90      0.91       400\n",
            "\n"
          ]
        }
      ],
      "source": [
        "print(classification_report(df['ease of use'], df['ease of use_m']))"
      ]
    },
    {
      "cell_type": "code",
      "execution_count": 77,
      "metadata": {
        "colab": {
          "base_uri": "https://localhost:8080/"
        },
        "id": "xNFkEGZ7-Fs7",
        "outputId": "c871b70e-32c7-4abc-a20e-2c72c4d2bcb1"
      },
      "outputs": [
        {
          "output_type": "stream",
          "name": "stdout",
          "text": [
            "ROC AUC : 0.6829\n"
          ]
        }
      ],
      "source": [
        "ROC_AUC = roc_auc_score(df['ease of use'], df['ease of use_m'])\n",
        "print('ROC AUC : {:.4f}'.format(ROC_AUC))"
      ]
    },
    {
      "cell_type": "markdown",
      "metadata": {
        "id": "iSLjKtBm-Fs7"
      },
      "source": [
        "# Compare Zero-Shot against a Naive Classifier"
      ]
    },
    {
      "cell_type": "code",
      "execution_count": 78,
      "metadata": {
        "id": "C3YyVrK6-Fs7"
      },
      "outputs": [],
      "source": [
        "def naive(list):\n",
        "    avg  = np.mean(list)\n",
        "\n",
        "    if avg >= 0.5:\n",
        "        i = 1\n",
        "    else:\n",
        "        i = 0\n",
        "\n",
        "    return([i] * len(list))"
      ]
    },
    {
      "cell_type": "code",
      "execution_count": 79,
      "metadata": {
        "id": "5PWzOXAI-Fs7"
      },
      "outputs": [],
      "source": [
        "df['naive_cost'] = naive(df['cost'])\n",
        "df['naive_efficient'] = naive(df['efficient'])\n",
        "df['naive_effective'] = naive(df['effective'])\n",
        "df['naive_easeofuse'] = naive(df['ease of use'])"
      ]
    },
    {
      "cell_type": "code",
      "execution_count": 80,
      "metadata": {
        "colab": {
          "base_uri": "https://localhost:8080/"
        },
        "id": "r79hJ8od-Fs7",
        "outputId": "e4e85caa-1d32-459d-bcf2-2579481d1b19"
      },
      "outputs": [
        {
          "output_type": "stream",
          "name": "stdout",
          "text": [
            "              precision    recall  f1-score   support\n",
            "\n",
            "         0.0       0.99      1.00      1.00       398\n",
            "         1.0       0.00      0.00      0.00         2\n",
            "\n",
            "    accuracy                           0.99       400\n",
            "   macro avg       0.50      0.50      0.50       400\n",
            "weighted avg       0.99      0.99      0.99       400\n",
            "\n"
          ]
        }
      ],
      "source": [
        "print(classification_report(df['cost'], df['naive_cost']))"
      ]
    },
    {
      "cell_type": "code",
      "execution_count": 81,
      "metadata": {
        "colab": {
          "base_uri": "https://localhost:8080/"
        },
        "id": "NiYvKY7z-Fs8",
        "outputId": "5fd29dda-49c7-4623-e994-3584c63d8a6a"
      },
      "outputs": [
        {
          "output_type": "stream",
          "name": "stdout",
          "text": [
            "              precision    recall  f1-score   support\n",
            "\n",
            "         0.0       0.94      1.00      0.97       376\n",
            "         1.0       0.00      0.00      0.00        24\n",
            "\n",
            "    accuracy                           0.94       400\n",
            "   macro avg       0.47      0.50      0.48       400\n",
            "weighted avg       0.88      0.94      0.91       400\n",
            "\n"
          ]
        }
      ],
      "source": [
        "print(classification_report(df['efficient'], df['naive_efficient']))"
      ]
    },
    {
      "cell_type": "code",
      "execution_count": 82,
      "metadata": {
        "colab": {
          "base_uri": "https://localhost:8080/"
        },
        "id": "vjGCw2U_-Fs8",
        "outputId": "1f03fe3b-d523-472e-d8df-64d7b8002c61"
      },
      "outputs": [
        {
          "output_type": "stream",
          "name": "stdout",
          "text": [
            "              precision    recall  f1-score   support\n",
            "\n",
            "         0.0       0.78      1.00      0.87       310\n",
            "         1.0       0.00      0.00      0.00        90\n",
            "\n",
            "    accuracy                           0.78       400\n",
            "   macro avg       0.39      0.50      0.44       400\n",
            "weighted avg       0.60      0.78      0.68       400\n",
            "\n"
          ]
        }
      ],
      "source": [
        "print(classification_report(df['effective'], df['naive_effective']))"
      ]
    },
    {
      "cell_type": "code",
      "execution_count": 83,
      "metadata": {
        "colab": {
          "base_uri": "https://localhost:8080/"
        },
        "id": "FDFAh0KH-Fs8",
        "outputId": "95756b04-8920-4c66-fc10-d0d8b4836f1e"
      },
      "outputs": [
        {
          "output_type": "stream",
          "name": "stdout",
          "text": [
            "              precision    recall  f1-score   support\n",
            "\n",
            "         0.0       0.94      1.00      0.97       377\n",
            "         1.0       0.00      0.00      0.00        23\n",
            "\n",
            "    accuracy                           0.94       400\n",
            "   macro avg       0.47      0.50      0.49       400\n",
            "weighted avg       0.89      0.94      0.91       400\n",
            "\n"
          ]
        }
      ],
      "source": [
        "print(classification_report(df['ease of use'], df['naive_easeofuse']))"
      ]
    },
    {
      "cell_type": "code",
      "source": [
        "df.to_csv('Corrys_evaluation.csv')"
      ],
      "metadata": {
        "id": "CeNGT-RFBCSl"
      },
      "execution_count": 84,
      "outputs": []
    },
    {
      "cell_type": "code",
      "source": [
        "report_sentiment = classification_report(df['sentiment'], df['sentiment_m'], output_dict=True)"
      ],
      "metadata": {
        "id": "aF0y3ccHCJV2"
      },
      "execution_count": 85,
      "outputs": []
    },
    {
      "cell_type": "code",
      "source": [
        "def accuracy(type):\n",
        "  report = classification_report(df[type], df[type+'_m'], output_dict=True)\n",
        "  return (type, report['accuracy'])"
      ],
      "metadata": {
        "id": "gOFEYX9EJDeS"
      },
      "execution_count": 86,
      "outputs": []
    },
    {
      "cell_type": "code",
      "source": [
        "def accuracy_matrix(type):\n",
        "  report = classification_report(df[type], df[type+'_m'], output_dict=True)\n",
        "  data= np.ones((100, 100))\n",
        "  data[0:int(report_sentiment['accuracy']*100),0:int(report['accuracy']*100)] = 0.0 \n",
        "  return data"
      ],
      "metadata": {
        "id": "7ECc0h_cJEX3"
      },
      "execution_count": 87,
      "outputs": []
    },
    {
      "cell_type": "code",
      "source": [
        "%matplotlib inline\n",
        "%config InlineBackend.figure_format='retina'\n",
        "import numpy as np\n",
        "from matplotlib import pyplot as plt\n",
        "import matplotlib\n",
        "import matplotlib.ticker as mticker  \n",
        "import matplotlib.patches as mpatches"
      ],
      "metadata": {
        "id": "tUJmoYMhXAZx"
      },
      "execution_count": 88,
      "outputs": []
    },
    {
      "cell_type": "code",
      "source": [
        "#fig, ax = plt.subplots()\n",
        "fig, ((ax1, ax2), (ax3, ax4)) = plt.subplots(2, 2, sharex=True, sharey=True)\n",
        "\n",
        "fig.set_figheight(10)\n",
        "fig.set_figwidth(10)\n",
        "\n",
        "img1 = ax1.imshow(accuracy_matrix('cost'),cmap='coolwarm',origin='lower')\n",
        "img2 = ax2.imshow(accuracy_matrix('ease of use'),cmap='coolwarm',origin='lower')\n",
        "img3 = ax3.imshow(accuracy_matrix('effective'),cmap='coolwarm',origin='lower')\n",
        "img4 = ax4.imshow(accuracy_matrix('efficient'),cmap='coolwarm',origin='lower')\n",
        "\n",
        "img1=plt.gca().xaxis.set_major_formatter(mticker.PercentFormatter())\n",
        "img1=plt.gca().yaxis.set_major_formatter(mticker.PercentFormatter())\n",
        "\n",
        "\n",
        "ax1.set_xlabel('cost accuracy')\n",
        "ax1.set_ylabel('sentiment accuracy')\n",
        "ax3.set_ylabel('sentiment accuracy')\n",
        "ax2.set_xlabel('ease of use accuracy')\n",
        "ax3.set_xlabel('effective accuracy')\n",
        "ax4.set_xlabel('efficient accuracy')\n",
        "\n",
        "ax1.text(40, 50, 'sentiment: '+ str(report_sentiment['accuracy']), fontsize=13, c='white',ha='center')\n",
        "ax2.text(40, 50, 'sentiment: '+ str(report_sentiment['accuracy']), fontsize=13, c='white',ha='center')\n",
        "ax3.text(40, 50, 'sentiment: '+ str(report_sentiment['accuracy']), fontsize=13, c='white',ha='center')\n",
        "ax4.text(40, 50, 'sentiment: '+ str(report_sentiment['accuracy']), fontsize=13, c='white',ha='center')\n",
        "\n",
        "ax1.text(40, 40, accuracy('cost')[0] +': ' +str(accuracy('cost')[1]), fontsize=13, c='white',ha='center')\n",
        "ax2.text(40, 40, accuracy('ease of use')[0] +': ' +str(accuracy('ease of use')[1]), fontsize=13, c='white',ha='center')\n",
        "ax3.text(40, 40, accuracy('effective')[0] +': ' +str(accuracy('effective')[1]), fontsize=13,c='white', ha='center')\n",
        "ax4.text(40, 40, accuracy('efficient')[0] +': ' +str(accuracy('efficient')[1]), fontsize=13,c='white', ha='center')\n",
        "\n",
        "blue_patch = mpatches.Patch(color='blue', label='Accurate')\n",
        "red_patch = mpatches.Patch(color='red', label='Inaccurate')\n",
        "fig.legend(handles=[blue_patch, red_patch],loc='upper right',fontsize='x-large')\n"
      ],
      "metadata": {
        "colab": {
          "base_uri": "https://localhost:8080/",
          "height": 753
        },
        "id": "6ngsi2t0JJDE",
        "outputId": "bed160a8-a077-4d00-f71d-ac0e3a2ae7dd"
      },
      "execution_count": 89,
      "outputs": [
        {
          "output_type": "execute_result",
          "data": {
            "text/plain": [
              "Text(0.5, 0, 'cost accuracy')"
            ]
          },
          "metadata": {},
          "execution_count": 89
        },
        {
          "output_type": "execute_result",
          "data": {
            "text/plain": [
              "Text(0, 0.5, 'sentiment accuracy')"
            ]
          },
          "metadata": {},
          "execution_count": 89
        },
        {
          "output_type": "execute_result",
          "data": {
            "text/plain": [
              "Text(0, 0.5, 'sentiment accuracy')"
            ]
          },
          "metadata": {},
          "execution_count": 89
        },
        {
          "output_type": "execute_result",
          "data": {
            "text/plain": [
              "Text(0.5, 0, 'ease of use accuracy')"
            ]
          },
          "metadata": {},
          "execution_count": 89
        },
        {
          "output_type": "execute_result",
          "data": {
            "text/plain": [
              "Text(0.5, 0, 'effective accuracy')"
            ]
          },
          "metadata": {},
          "execution_count": 89
        },
        {
          "output_type": "execute_result",
          "data": {
            "text/plain": [
              "Text(0.5, 0, 'efficient accuracy')"
            ]
          },
          "metadata": {},
          "execution_count": 89
        },
        {
          "output_type": "execute_result",
          "data": {
            "text/plain": [
              "Text(40, 50, 'sentiment: 0.8325')"
            ]
          },
          "metadata": {},
          "execution_count": 89
        },
        {
          "output_type": "execute_result",
          "data": {
            "text/plain": [
              "Text(40, 50, 'sentiment: 0.8325')"
            ]
          },
          "metadata": {},
          "execution_count": 89
        },
        {
          "output_type": "execute_result",
          "data": {
            "text/plain": [
              "Text(40, 50, 'sentiment: 0.8325')"
            ]
          },
          "metadata": {},
          "execution_count": 89
        },
        {
          "output_type": "execute_result",
          "data": {
            "text/plain": [
              "Text(40, 50, 'sentiment: 0.8325')"
            ]
          },
          "metadata": {},
          "execution_count": 89
        },
        {
          "output_type": "execute_result",
          "data": {
            "text/plain": [
              "Text(40, 40, 'cost: 0.955')"
            ]
          },
          "metadata": {},
          "execution_count": 89
        },
        {
          "output_type": "execute_result",
          "data": {
            "text/plain": [
              "Text(40, 40, 'ease of use: 0.9025')"
            ]
          },
          "metadata": {},
          "execution_count": 89
        },
        {
          "output_type": "execute_result",
          "data": {
            "text/plain": [
              "Text(40, 40, 'effective: 0.96')"
            ]
          },
          "metadata": {},
          "execution_count": 89
        },
        {
          "output_type": "execute_result",
          "data": {
            "text/plain": [
              "Text(40, 40, 'efficient: 0.8375')"
            ]
          },
          "metadata": {},
          "execution_count": 89
        },
        {
          "output_type": "execute_result",
          "data": {
            "text/plain": [
              "<matplotlib.legend.Legend at 0x7f8e1d2cdad0>"
            ]
          },
          "metadata": {},
          "execution_count": 89
        },
        {
          "output_type": "display_data",
          "data": {
            "text/plain": [
              "<Figure size 720x720 with 4 Axes>"
            ],
            "image/png": "[encoded data removed]"
          },
          "metadata": {
            "image/png": {
              "width": 676,
              "height": 667
            },
            "needs_background": "light"
          }
        }
      ]
    }
  ],
  "metadata": {
    "kernelspec": {
      "display_name": "Python 3.10.1 64-bit",
      "language": "python",
      "name": "python3"
    },
    "language_info": {
      "codemirror_mode": {
        "name": "ipython",
        "version": 3
      },
      "file_extension": ".py",
      "mimetype": "text/x-python",
      "name": "python",
      "nbconvert_exporter": "python",
      "pygments_lexer": "ipython3",
      "version": "3.10.1"
    },
    "orig_nbformat": 4,
    "vscode": {
      "interpreter": {
        "hash": "998c911629ba937bcf1bf80465453e12e8c5c2c818cb936f93ef7cf495a937a9"
      }
    },
    "colab": {
      "provenance": []
    }
  },
  "nbformat": 4,
  "nbformat_minor": 0
}