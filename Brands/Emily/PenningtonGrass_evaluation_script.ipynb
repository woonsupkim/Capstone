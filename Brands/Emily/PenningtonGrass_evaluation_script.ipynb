{
  "cells": [
    {
      "cell_type": "code",
      "execution_count": 40,
      "metadata": {
        "id": "PdUPiDHP4-JV"
      },
      "outputs": [],
      "source": [
        "import pandas as pd\n",
        "import numpy as np\n",
        "import seaborn as sns\n",
        "import matplotlib.pyplot as plt\n",
        "\n",
        "from transformers import pipeline\n",
        "\n",
        "import warnings\n",
        "warnings.filterwarnings(\"ignore\")\n",
        "\n",
        "from IPython.core.interactiveshell import InteractiveShell\n",
        "InteractiveShell.ast_node_interactivity = 'all'\n",
        "\n",
        "pd.set_option('display.max_columns', None) "
      ]
    },
    {
      "cell_type": "code",
      "execution_count": 41,
      "metadata": {
        "id": "7-549bc14-JX"
      },
      "outputs": [],
      "source": [
        "df = pd.read_csv('PenningtonGrass_handlable.csv', index_col = [0])"
      ]
    },
    {
      "cell_type": "code",
      "execution_count": 42,
      "metadata": {
        "id": "oKjrWCSe4-JX"
      },
      "outputs": [],
      "source": [
        "#replace NaN in label columns with 0\n",
        "columns = ['cost','ease of use', 'effectiveness', 'efficiency']\n",
        "\n",
        "for column in columns:\n",
        "    df[column] = df[column].replace(np.nan, int(0))"
      ]
    },
    {
      "cell_type": "markdown",
      "metadata": {
        "id": "N77WsFSB4-JY"
      },
      "source": [
        "# Sentiment Analysis"
      ]
    },
    {
      "cell_type": "code",
      "execution_count": 43,
      "metadata": {
        "colab": {
          "base_uri": "https://localhost:8080/"
        },
        "id": "BQ4ZOB9H4-JZ",
        "outputId": "1928414f-3726-4b16-8f28-45a225c11852"
      },
      "outputs": [
        {
          "output_type": "stream",
          "name": "stderr",
          "text": [
            "Some weights of the model checkpoint at cardiffnlp/twitter-roberta-base-sentiment-latest were not used when initializing RobertaForSequenceClassification: ['roberta.pooler.dense.bias', 'roberta.pooler.dense.weight']\n",
            "- This IS expected if you are initializing RobertaForSequenceClassification from the checkpoint of a model trained on another task or with another architecture (e.g. initializing a BertForSequenceClassification model from a BertForPreTraining model).\n",
            "- This IS NOT expected if you are initializing RobertaForSequenceClassification from the checkpoint of a model that you expect to be exactly identical (initializing a BertForSequenceClassification model from a BertForSequenceClassification model).\n"
          ]
        }
      ],
      "source": [
        "from transformers import pipeline\n",
        "sentiment_pipeline = pipeline(\"sentiment-analysis\", model=\"cardiffnlp/twitter-roberta-base-sentiment-latest\")"
      ]
    },
    {
      "cell_type": "code",
      "execution_count": 44,
      "metadata": {
        "colab": {
          "base_uri": "https://localhost:8080/"
        },
        "id": "P4u9eMtc4-Ja",
        "outputId": "65f6f2aa-36b4-4574-ebb4-9b067db8dc28"
      },
      "outputs": [
        {
          "output_type": "stream",
          "name": "stderr",
          "text": [
            "Some weights of the model checkpoint at cardiffnlp/twitter-roberta-base-sentiment-latest were not used when initializing RobertaForSequenceClassification: ['roberta.pooler.dense.bias', 'roberta.pooler.dense.weight']\n",
            "- This IS expected if you are initializing RobertaForSequenceClassification from the checkpoint of a model trained on another task or with another architecture (e.g. initializing a BertForSequenceClassification model from a BertForPreTraining model).\n",
            "- This IS NOT expected if you are initializing RobertaForSequenceClassification from the checkpoint of a model that you expect to be exactly identical (initializing a BertForSequenceClassification model from a BertForSequenceClassification model).\n"
          ]
        },
        {
          "output_type": "stream",
          "name": "stdout",
          "text": [
            "0\n",
            "20\n",
            "40\n",
            "60\n",
            "80\n"
          ]
        }
      ],
      "source": [
        "from transformers import pipeline\n",
        "sentiment_pipeline = pipeline(\"sentiment-analysis\", model=\"cardiffnlp/twitter-roberta-base-sentiment-latest\")\n",
        "\n",
        "sentiment = [None] * len(df)\n",
        "index = -1\n",
        "for sentence in df['review_lower'][0:99]:\n",
        "    index+=1\n",
        "    if(index%20 == 0):\n",
        "        print(index)\n",
        "\n",
        "    result = sentiment_pipeline(sentence[:512])[0]\n",
        "    sentiment[index] = result['label']\n",
        "df['sentiment_m'] = sentiment"
      ]
    },
    {
      "cell_type": "markdown",
      "metadata": {
        "id": "0c59IbKx4-Jb"
      },
      "source": [
        "# Zero-Shot Classifier"
      ]
    },
    {
      "cell_type": "code",
      "execution_count": 46,
      "metadata": {
        "id": "m9IHCDQB4-Jc"
      },
      "outputs": [],
      "source": [
        "classifier  = pipeline(\"zero-shot-classification\",  model = \"facebook/bart-large-mnli\")"
      ]
    },
    {
      "cell_type": "code",
      "execution_count": 47,
      "metadata": {
        "id": "gfv7gXIJ4-Jc"
      },
      "outputs": [],
      "source": [
        "# insert the labels you identified from above section\n",
        "type = ['cost', 'efficiency', 'effectiveness', 'ease of use']"
      ]
    },
    {
      "cell_type": "code",
      "execution_count": 48,
      "metadata": {
        "colab": {
          "base_uri": "https://localhost:8080/"
        },
        "id": "mNjPdnTZ4-Jd",
        "outputId": "2bf3bfcd-5d81-46b7-eadc-a9c4f24e2caf"
      },
      "outputs": [
        {
          "output_type": "stream",
          "name": "stdout",
          "text": [
            "0\n",
            "20\n",
            "40\n",
            "60\n",
            "80\n"
          ]
        }
      ],
      "source": [
        "#setting empty values for the columns\n",
        "index = -1\n",
        "for label in type:\n",
        "    df[label + '_m'] = -1\n",
        "\n",
        "for j in range(99):\n",
        "    #counter for progress/debugging\n",
        "    index+=1\n",
        "    if(index%20 == 0): \n",
        "        print(index)\n",
        "        \n",
        "    #running the classifier on the column    \n",
        "    res = classifier(\n",
        "        df.iloc[j]['review_lower'],\n",
        "        candidate_labels = type,\n",
        "        multi_label = True\n",
        "    )\n",
        "    #setting the column values according to the output from the classifier (\"_m\" = multiclass)\n",
        "    for i in range(len(res['labels'])):\n",
        "        df[res['labels'][i]+ '_m'].iloc[j] = res['scores'][i]"
      ]
    },
    {
      "cell_type": "markdown",
      "metadata": {
        "id": "ty5M5B1N4-Je"
      },
      "source": [
        "# Sentiment Evaluation"
      ]
    },
    {
      "cell_type": "code",
      "execution_count": 49,
      "metadata": {
        "id": "_PWMoFTo4-Je"
      },
      "outputs": [],
      "source": [
        "def imputation1(list):\n",
        "    i = []\n",
        "    for prediction in list:\n",
        "        if prediction == \"Positive\":\n",
        "            i.append(1)\n",
        "        elif prediction == \"Neutral\":\n",
        "            i.append(0)\n",
        "        else:\n",
        "            i.append(-1)    \n",
        "    return(i)"
      ]
    },
    {
      "cell_type": "code",
      "execution_count": 50,
      "metadata": {
        "id": "diRs9Tpa4-Je"
      },
      "outputs": [],
      "source": [
        "df['sentiment'] = imputation1(df['sentiment'])\n",
        "df['sentiment_m'] = imputation1(df['sentiment_m'])"
      ]
    },
    {
      "cell_type": "code",
      "execution_count": 51,
      "metadata": {
        "id": "4L-4huw54-Jf"
      },
      "outputs": [],
      "source": [
        "from sklearn.metrics import classification_report"
      ]
    },
    {
      "cell_type": "code",
      "execution_count": 52,
      "metadata": {
        "colab": {
          "base_uri": "https://localhost:8080/"
        },
        "id": "8datB_K84-Jf",
        "outputId": "bcb8e516-e4b9-4b96-998a-583e5dcab20b"
      },
      "outputs": [
        {
          "output_type": "stream",
          "name": "stdout",
          "text": [
            "              precision    recall  f1-score   support\n",
            "\n",
            "          -1       1.00      0.81      0.90       400\n",
            "           0       0.00      0.00      0.00         0\n",
            "           1       0.00      0.00      0.00         0\n",
            "\n",
            "    accuracy                           0.81       400\n",
            "   macro avg       0.33      0.27      0.30       400\n",
            "weighted avg       1.00      0.81      0.90       400\n",
            "\n"
          ]
        }
      ],
      "source": [
        "print(classification_report(df['sentiment'], df['sentiment_m']))"
      ]
    },
    {
      "cell_type": "markdown",
      "metadata": {
        "id": "XuXYfIPS4-Jf"
      },
      "source": [
        "# Zero-Shot Evaluation"
      ]
    },
    {
      "cell_type": "code",
      "execution_count": 53,
      "metadata": {
        "id": "zPeDx6PF4-Jf"
      },
      "outputs": [],
      "source": [
        "def imputation(list):\n",
        "    i = []\n",
        "    for prediction in list:\n",
        "        if prediction < 0.7:\n",
        "            i.append(0)\n",
        "        else:\n",
        "            i.append(1)\n",
        "    \n",
        "    return(i)"
      ]
    },
    {
      "cell_type": "code",
      "execution_count": 54,
      "metadata": {
        "id": "VdLHr6H04-Jg"
      },
      "outputs": [],
      "source": [
        "df['cost_m'] = imputation(df['cost_m'])\n",
        "df['efficiency_m'] = imputation(df['efficiency_m'])\n",
        "df['effectiveness_m'] = imputation(df['effectiveness_m'])\n",
        "df['ease of use_m'] = imputation(df['ease of use_m'])"
      ]
    },
    {
      "cell_type": "code",
      "execution_count": 55,
      "metadata": {
        "colab": {
          "base_uri": "https://localhost:8080/"
        },
        "id": "GOEsfyo44-Jg",
        "outputId": "b9609d8c-907a-430c-af5f-328b83d3b7be"
      },
      "outputs": [
        {
          "output_type": "stream",
          "name": "stdout",
          "text": [
            "              precision    recall  f1-score   support\n",
            "\n",
            "         0.0       1.00      0.93      0.96       396\n",
            "         1.0       0.10      0.75      0.17         4\n",
            "\n",
            "    accuracy                           0.93       400\n",
            "   macro avg       0.55      0.84      0.57       400\n",
            "weighted avg       0.99      0.93      0.95       400\n",
            "\n"
          ]
        }
      ],
      "source": [
        "print(classification_report(df['cost'], df['cost_m']))"
      ]
    },
    {
      "cell_type": "code",
      "execution_count": 56,
      "metadata": {
        "colab": {
          "base_uri": "https://localhost:8080/"
        },
        "id": "JQBtV7X14-Jg",
        "outputId": "c8463086-9a53-4276-d5a4-ee7e6283289b"
      },
      "outputs": [
        {
          "output_type": "stream",
          "name": "stdout",
          "text": [
            "ROC AUC : 0.8396\n"
          ]
        }
      ],
      "source": [
        "from sklearn.metrics import roc_auc_score\n",
        "ROC_AUC = roc_auc_score(df['cost'], df['cost_m'])\n",
        "print('ROC AUC : {:.4f}'.format(ROC_AUC))"
      ]
    },
    {
      "cell_type": "code",
      "execution_count": 57,
      "metadata": {
        "colab": {
          "base_uri": "https://localhost:8080/"
        },
        "id": "McvCVwVk4-Jg",
        "outputId": "90fff331-0a23-4053-d4d9-5e2d5b594a5a"
      },
      "outputs": [
        {
          "output_type": "stream",
          "name": "stdout",
          "text": [
            "              precision    recall  f1-score   support\n",
            "\n",
            "         0.0       0.94      0.97      0.96       369\n",
            "         1.0       0.48      0.32      0.38        31\n",
            "\n",
            "    accuracy                           0.92       400\n",
            "   macro avg       0.71      0.65      0.67       400\n",
            "weighted avg       0.91      0.92      0.91       400\n",
            "\n"
          ]
        }
      ],
      "source": [
        "print(classification_report(df['efficiency'], df['efficiency_m']))"
      ]
    },
    {
      "cell_type": "code",
      "execution_count": 58,
      "metadata": {
        "colab": {
          "base_uri": "https://localhost:8080/"
        },
        "id": "qa1xffDS4-Jh",
        "outputId": "3165adf4-afd5-46b6-8264-fafa59a6c93c"
      },
      "outputs": [
        {
          "output_type": "stream",
          "name": "stdout",
          "text": [
            "ROC AUC : 0.6464\n"
          ]
        }
      ],
      "source": [
        "ROC_AUC = roc_auc_score(df['efficiency'], df['efficiency_m'])\n",
        "print('ROC AUC : {:.4f}'.format(ROC_AUC))"
      ]
    },
    {
      "cell_type": "code",
      "execution_count": 59,
      "metadata": {
        "colab": {
          "base_uri": "https://localhost:8080/"
        },
        "id": "eUOu9e1e4-Jh",
        "outputId": "92e861c4-9a35-4305-ad0b-4b7d482826cf"
      },
      "outputs": [
        {
          "output_type": "stream",
          "name": "stdout",
          "text": [
            "              precision    recall  f1-score   support\n",
            "\n",
            "         0.0       0.92      1.00      0.95       304\n",
            "         1.0       0.99      0.71      0.82        96\n",
            "\n",
            "    accuracy                           0.93       400\n",
            "   macro avg       0.95      0.85      0.89       400\n",
            "weighted avg       0.93      0.93      0.92       400\n",
            "\n"
          ]
        }
      ],
      "source": [
        "print(classification_report(df['effectiveness'], df['effectiveness_m']))"
      ]
    },
    {
      "cell_type": "code",
      "execution_count": 60,
      "metadata": {
        "colab": {
          "base_uri": "https://localhost:8080/"
        },
        "id": "aaVzrve34-Jh",
        "outputId": "d5c4c976-6a3c-48a1-82d9-515ebe64537d"
      },
      "outputs": [
        {
          "output_type": "stream",
          "name": "stdout",
          "text": [
            "ROC AUC : 0.8525\n"
          ]
        }
      ],
      "source": [
        "ROC_AUC = roc_auc_score(df['effectiveness'], df['effectiveness_m'])\n",
        "print('ROC AUC : {:.4f}'.format(ROC_AUC))"
      ]
    },
    {
      "cell_type": "code",
      "execution_count": 61,
      "metadata": {
        "colab": {
          "base_uri": "https://localhost:8080/"
        },
        "id": "-dKfPDU_4-Jh",
        "outputId": "d5259ff1-a43c-4631-b2cf-14505606bd2e"
      },
      "outputs": [
        {
          "output_type": "stream",
          "name": "stdout",
          "text": [
            "              precision    recall  f1-score   support\n",
            "\n",
            "         0.0       0.98      0.93      0.95       371\n",
            "         1.0       0.46      0.72      0.56        29\n",
            "\n",
            "    accuracy                           0.92       400\n",
            "   macro avg       0.72      0.83      0.76       400\n",
            "weighted avg       0.94      0.92      0.93       400\n",
            "\n"
          ]
        }
      ],
      "source": [
        "print(classification_report(df['ease of use'], df['ease of use_m']))"
      ]
    },
    {
      "cell_type": "code",
      "execution_count": 62,
      "metadata": {
        "colab": {
          "base_uri": "https://localhost:8080/"
        },
        "id": "HluYk9184-Ji",
        "outputId": "fd0d4b9d-d9b3-43b0-ce95-2f4831b27019"
      },
      "outputs": [
        {
          "output_type": "stream",
          "name": "stdout",
          "text": [
            "ROC AUC : 0.8284\n"
          ]
        }
      ],
      "source": [
        "ROC_AUC = roc_auc_score(df['ease of use'], df['ease of use_m'])\n",
        "print('ROC AUC : {:.4f}'.format(ROC_AUC))"
      ]
    },
    {
      "cell_type": "markdown",
      "metadata": {
        "id": "998eBEcp4-Ji"
      },
      "source": [
        "# Compare Zero-Shot against a Naive Classifier"
      ]
    },
    {
      "cell_type": "code",
      "execution_count": 63,
      "metadata": {
        "id": "El02foQI4-Ji"
      },
      "outputs": [],
      "source": [
        "def naive(list):\n",
        "    avg  = np.mean(list)\n",
        "\n",
        "    if avg >= 0.5:\n",
        "        i = 1\n",
        "    else:\n",
        "        i = 0\n",
        "\n",
        "    return([i] * len(list))"
      ]
    },
    {
      "cell_type": "code",
      "execution_count": 64,
      "metadata": {
        "id": "DvViqui74-Ji"
      },
      "outputs": [],
      "source": [
        "df['naive_cost'] = naive(df['cost'])\n",
        "df['naive_efficiency'] = naive(df['efficiency'])\n",
        "df['naive_effectiveness'] = naive(df['effectiveness'])\n",
        "df['naive_easeofuse'] = naive(df['ease of use'])"
      ]
    },
    {
      "cell_type": "code",
      "execution_count": 65,
      "metadata": {
        "colab": {
          "base_uri": "https://localhost:8080/"
        },
        "id": "frW-BYv84-Ji",
        "outputId": "e5695980-5b68-4bd2-d660-3b89ffa39eb5"
      },
      "outputs": [
        {
          "output_type": "stream",
          "name": "stdout",
          "text": [
            "              precision    recall  f1-score   support\n",
            "\n",
            "         0.0       0.99      1.00      0.99       396\n",
            "         1.0       0.00      0.00      0.00         4\n",
            "\n",
            "    accuracy                           0.99       400\n",
            "   macro avg       0.49      0.50      0.50       400\n",
            "weighted avg       0.98      0.99      0.99       400\n",
            "\n"
          ]
        }
      ],
      "source": [
        "print(classification_report(df['cost'], df['naive_cost']))"
      ]
    },
    {
      "cell_type": "code",
      "execution_count": 66,
      "metadata": {
        "colab": {
          "base_uri": "https://localhost:8080/"
        },
        "id": "q5DZ_KoD4-Ji",
        "outputId": "875cb3a9-8bc6-4fc7-b22b-a1d394e21285"
      },
      "outputs": [
        {
          "output_type": "stream",
          "name": "stdout",
          "text": [
            "              precision    recall  f1-score   support\n",
            "\n",
            "         0.0       0.92      1.00      0.96       369\n",
            "         1.0       0.00      0.00      0.00        31\n",
            "\n",
            "    accuracy                           0.92       400\n",
            "   macro avg       0.46      0.50      0.48       400\n",
            "weighted avg       0.85      0.92      0.89       400\n",
            "\n"
          ]
        }
      ],
      "source": [
        "print(classification_report(df['efficiency'], df['naive_efficiency']))"
      ]
    },
    {
      "cell_type": "code",
      "execution_count": 67,
      "metadata": {
        "colab": {
          "base_uri": "https://localhost:8080/"
        },
        "id": "o2EoQxQl4-Ji",
        "outputId": "36e95381-bb3d-4ab4-e2d6-2ea4f0e3343d"
      },
      "outputs": [
        {
          "output_type": "stream",
          "name": "stdout",
          "text": [
            "              precision    recall  f1-score   support\n",
            "\n",
            "         0.0       0.76      1.00      0.86       304\n",
            "         1.0       0.00      0.00      0.00        96\n",
            "\n",
            "    accuracy                           0.76       400\n",
            "   macro avg       0.38      0.50      0.43       400\n",
            "weighted avg       0.58      0.76      0.66       400\n",
            "\n"
          ]
        }
      ],
      "source": [
        "print(classification_report(df['effectiveness'], df['naive_effectiveness']))"
      ]
    },
    {
      "cell_type": "code",
      "execution_count": 68,
      "metadata": {
        "colab": {
          "base_uri": "https://localhost:8080/"
        },
        "id": "2OjDkov04-Ji",
        "outputId": "3b9a451f-ad0d-4a9b-c731-e57c0614141b"
      },
      "outputs": [
        {
          "output_type": "stream",
          "name": "stdout",
          "text": [
            "              precision    recall  f1-score   support\n",
            "\n",
            "         0.0       0.93      1.00      0.96       371\n",
            "         1.0       0.00      0.00      0.00        29\n",
            "\n",
            "    accuracy                           0.93       400\n",
            "   macro avg       0.46      0.50      0.48       400\n",
            "weighted avg       0.86      0.93      0.89       400\n",
            "\n"
          ]
        }
      ],
      "source": [
        "print(classification_report(df['ease of use'], df['naive_easeofuse']))"
      ]
    },
    {
      "cell_type": "code",
      "source": [
        "df.to_csv('PenningtonGrass_evaluation.csv')"
      ],
      "metadata": {
        "id": "WE4PPDip9sRz"
      },
      "execution_count": 31,
      "outputs": []
    },
    {
      "cell_type": "markdown",
      "metadata": {
        "id": "OlilsaYgI3jm"
      },
      "source": [
        "# Visulization"
      ]
    },
    {
      "cell_type": "code",
      "source": [
        "report_sentiment = classification_report(df['sentiment'], df['sentiment_m'], output_dict=True)"
      ],
      "metadata": {
        "id": "jVLXwCmOcrb6"
      },
      "execution_count": 69,
      "outputs": []
    },
    {
      "cell_type": "code",
      "source": [
        "def accuracy(type):\n",
        "  report = classification_report(df[type], df[type+'_m'], output_dict=True)\n",
        "  return (type, report['accuracy'])"
      ],
      "metadata": {
        "id": "HsBgni7X_eAH"
      },
      "execution_count": 110,
      "outputs": []
    },
    {
      "cell_type": "code",
      "source": [
        "def accuracy_matrix(type):\n",
        "  report = classification_report(df[type], df[type+'_m'], output_dict=True)\n",
        "  data= np.ones((100, 100))\n",
        "  data[0:int(report_sentiment['accuracy']*100),0:int(report['accuracy']*100)] = 0.0 \n",
        "  return data"
      ],
      "metadata": {
        "id": "AiTbU4jr4N-z"
      },
      "execution_count": 112,
      "outputs": []
    },
    {
      "cell_type": "code",
      "source": [
        "%matplotlib inline\n",
        "%config InlineBackend.figure_format='retina'\n",
        "import numpy as np\n",
        "from matplotlib import pyplot as plt\n",
        "import matplotlib\n",
        "import matplotlib.ticker as mticker  \n",
        "import matplotlib.patches as mpatches"
      ],
      "metadata": {
        "id": "ZYXhFSdKct0K"
      },
      "execution_count": 125,
      "outputs": []
    },
    {
      "cell_type": "code",
      "source": [
        "#fig, ax = plt.subplots()\n",
        "fig, ((ax1, ax2), (ax3, ax4)) = plt.subplots(2, 2, sharex=True, sharey=True)\n",
        "\n",
        "fig.set_figheight(10)\n",
        "fig.set_figwidth(10)\n",
        "\n",
        "img1 = ax1.imshow(accuracy_matrix('cost'),cmap='coolwarm',origin='lower')\n",
        "img2 = ax2.imshow(accuracy_matrix('ease of use'),cmap='coolwarm',origin='lower')\n",
        "img3 = ax3.imshow(accuracy_matrix('effectiveness'),cmap='coolwarm',origin='lower')\n",
        "img4 = ax4.imshow(accuracy_matrix('efficiency'),cmap='coolwarm',origin='lower')\n",
        "\n",
        "img1=plt.gca().xaxis.set_major_formatter(mticker.PercentFormatter())\n",
        "img1=plt.gca().yaxis.set_major_formatter(mticker.PercentFormatter())\n",
        "\n",
        "\n",
        "ax1.set_xlabel('cost accuracy')\n",
        "ax1.set_ylabel('sentiment accuracy')\n",
        "ax3.set_ylabel('sentiment accuracy')\n",
        "ax2.set_xlabel('ease of use accuracy')\n",
        "ax3.set_xlabel('effectiveness accuracy')\n",
        "ax4.set_xlabel('efficiency accuracy')\n",
        "\n",
        "ax1.text(40, 50, 'sentiment: '+ str(report_sentiment['accuracy']), fontsize=13, c='white',ha='center')\n",
        "ax2.text(40, 50, 'sentiment: '+ str(report_sentiment['accuracy']), fontsize=13, c='white',ha='center')\n",
        "ax3.text(40, 50, 'sentiment: '+ str(report_sentiment['accuracy']), fontsize=13, c='white',ha='center')\n",
        "ax4.text(40, 50, 'sentiment: '+ str(report_sentiment['accuracy']), fontsize=13, c='white',ha='center')\n",
        "\n",
        "ax1.text(40, 40, accuracy('cost')[0] +': ' +str(accuracy('cost')[1]), fontsize=13, c='white',ha='center')\n",
        "ax2.text(40, 40, accuracy('ease of use')[0] +': ' +str(accuracy('ease of use')[1]), fontsize=13, c='white',ha='center')\n",
        "ax3.text(40, 40, accuracy('effectiveness')[0] +': ' +str(accuracy('effectiveness')[1]), fontsize=13,c='white', ha='center')\n",
        "ax4.text(40, 40, accuracy('efficiency')[0] +': ' +str(accuracy('efficiency')[1]), fontsize=13,c='white', ha='center')\n",
        "\n",
        "blue_patch = mpatches.Patch(color='blue', label='Accurate')\n",
        "red_patch = mpatches.Patch(color='red', label='Inaccurate')\n",
        "fig.legend(handles=[blue_patch, red_patch],loc='upper right',fontsize='x-large')\n"
      ],
      "metadata": {
        "colab": {
          "base_uri": "https://localhost:8080/",
          "height": 753
        },
        "id": "MF3GLMEicvr2",
        "outputId": "dec56daa-3e2e-433c-ebda-551ee69ef572"
      },
      "execution_count": 147,
      "outputs": [
        {
          "output_type": "execute_result",
          "data": {
            "text/plain": [
              "Text(0.5, 0, 'cost accuracy')"
            ]
          },
          "metadata": {},
          "execution_count": 147
        },
        {
          "output_type": "execute_result",
          "data": {
            "text/plain": [
              "Text(0, 0.5, 'sentiment accuracy')"
            ]
          },
          "metadata": {},
          "execution_count": 147
        },
        {
          "output_type": "execute_result",
          "data": {
            "text/plain": [
              "Text(0, 0.5, 'sentiment accuracy')"
            ]
          },
          "metadata": {},
          "execution_count": 147
        },
        {
          "output_type": "execute_result",
          "data": {
            "text/plain": [
              "Text(0.5, 0, 'ease of use accuracy')"
            ]
          },
          "metadata": {},
          "execution_count": 147
        },
        {
          "output_type": "execute_result",
          "data": {
            "text/plain": [
              "Text(0.5, 0, 'effectiveness accuracy')"
            ]
          },
          "metadata": {},
          "execution_count": 147
        },
        {
          "output_type": "execute_result",
          "data": {
            "text/plain": [
              "Text(0.5, 0, 'efficiency accuracy')"
            ]
          },
          "metadata": {},
          "execution_count": 147
        },
        {
          "output_type": "execute_result",
          "data": {
            "text/plain": [
              "Text(40, 50, 'sentiment: 0.81')"
            ]
          },
          "metadata": {},
          "execution_count": 147
        },
        {
          "output_type": "execute_result",
          "data": {
            "text/plain": [
              "Text(40, 50, 'sentiment: 0.81')"
            ]
          },
          "metadata": {},
          "execution_count": 147
        },
        {
          "output_type": "execute_result",
          "data": {
            "text/plain": [
              "Text(40, 50, 'sentiment: 0.81')"
            ]
          },
          "metadata": {},
          "execution_count": 147
        },
        {
          "output_type": "execute_result",
          "data": {
            "text/plain": [
              "Text(40, 50, 'sentiment: 0.81')"
            ]
          },
          "metadata": {},
          "execution_count": 147
        },
        {
          "output_type": "execute_result",
          "data": {
            "text/plain": [
              "Text(40, 40, 'cost: 0.9275')"
            ]
          },
          "metadata": {},
          "execution_count": 147
        },
        {
          "output_type": "execute_result",
          "data": {
            "text/plain": [
              "Text(40, 40, 'ease of use: 0.9175')"
            ]
          },
          "metadata": {},
          "execution_count": 147
        },
        {
          "output_type": "execute_result",
          "data": {
            "text/plain": [
              "Text(40, 40, 'effectiveness: 0.9275')"
            ]
          },
          "metadata": {},
          "execution_count": 147
        },
        {
          "output_type": "execute_result",
          "data": {
            "text/plain": [
              "Text(40, 40, 'efficiency: 0.92')"
            ]
          },
          "metadata": {},
          "execution_count": 147
        },
        {
          "output_type": "execute_result",
          "data": {
            "text/plain": [
              "<matplotlib.legend.Legend at 0x7f37a5e1dd90>"
            ]
          },
          "metadata": {},
          "execution_count": 147
        },
        {
          "output_type": "display_data",
          "data": {
            "text/plain": [
              "<Figure size 720x720 with 4 Axes>"
            ],
            "image/png": "[encoded data removed]"
          },
          "metadata": {
            "image/png": {
              "width": 676,
              "height": 667
            },
            "needs_background": "light"
          }
        }
      ]
    },
    {
      "cell_type": "code",
      "source": [],
      "metadata": {
        "id": "5vFpl-F_c1Ps"
      },
      "execution_count": 145,
      "outputs": []
    }
  ],
  "metadata": {
    "kernelspec": {
      "display_name": "Python 3.10.1 64-bit",
      "language": "python",
      "name": "python3"
    },
    "language_info": {
      "codemirror_mode": {
        "name": "ipython",
        "version": 3
      },
      "file_extension": ".py",
      "mimetype": "text/x-python",
      "name": "python",
      "nbconvert_exporter": "python",
      "pygments_lexer": "ipython3",
      "version": "3.10.1"
    },
    "orig_nbformat": 4,
    "vscode": {
      "interpreter": {
        "hash": "998c911629ba937bcf1bf80465453e12e8c5c2c818cb936f93ef7cf495a937a9"
      }
    },
    "colab": {
      "provenance": []
    }
  },
  "nbformat": 4,
  "nbformat_minor": 0
}