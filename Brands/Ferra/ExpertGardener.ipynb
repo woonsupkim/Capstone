{
 "cells": [
  {
   "cell_type": "markdown",
   "metadata": {},
   "source": [
    "# Sentiment Analysis and Zero-Shot Classification"
   ]
  },
  {
   "cell_type": "code",
   "execution_count": 4,
   "metadata": {},
   "outputs": [
    {
     "name": "stdout",
     "output_type": "stream",
     "text": [
      "Collecting package metadata (current_repodata.json): done\n",
      "Solving environment: done\n",
      "\n",
      "\n",
      "==> WARNING: A newer version of conda exists. <==\n",
      "  current version: 4.12.0\n",
      "  latest version: 22.9.0\n",
      "\n",
      "Please update conda by running\n",
      "\n",
      "    $ conda update -n base -c defaults conda\n",
      "\n",
      "\n",
      "\n",
      "## Package Plan ##\n",
      "\n",
      "  environment location: /Users/ferratan/opt/anaconda3\n",
      "\n",
      "  added / updated specs:\n",
      "    - transformers\n",
      "\n",
      "\n",
      "The following packages will be downloaded:\n",
      "\n",
      "    package                    |            build\n",
      "    ---------------------------|-----------------\n",
      "    conda-22.9.0               |   py39h6e9494a_1         969 KB  conda-forge\n",
      "    huggingface_hub-0.10.1     |     pyhd8ed1ab_0         114 KB  conda-forge\n",
      "    ninja-1.10.2               |       hecd8cb5_5           9 KB\n",
      "    ninja-base-1.10.2          |       haf03e11_5         118 KB\n",
      "    python_abi-3.9             |           2_cp39           4 KB  conda-forge\n",
      "    pytorch-1.10.2             |cpu_py39h903acac_0        53.9 MB\n",
      "    sacremoses-0.0.53          |     pyhd8ed1ab_0         427 KB  conda-forge\n",
      "    tokenizers-0.11.4          |   py39h8776b5c_1         2.7 MB\n",
      "    transformers-4.18.0        |   py39hecd8cb5_0         2.9 MB\n",
      "    ------------------------------------------------------------\n",
      "                                           Total:        61.1 MB\n",
      "\n",
      "The following NEW packages will be INSTALLED:\n",
      "\n",
      "  huggingface_hub    conda-forge/noarch::huggingface_hub-0.10.1-pyhd8ed1ab_0\n",
      "  ninja              pkgs/main/osx-64::ninja-1.10.2-hecd8cb5_5\n",
      "  ninja-base         pkgs/main/osx-64::ninja-base-1.10.2-haf03e11_5\n",
      "  python_abi         conda-forge/osx-64::python_abi-3.9-2_cp39\n",
      "  pytorch            pkgs/main/osx-64::pytorch-1.10.2-cpu_py39h903acac_0\n",
      "  sacremoses         conda-forge/noarch::sacremoses-0.0.53-pyhd8ed1ab_0\n",
      "  tokenizers         pkgs/main/osx-64::tokenizers-0.11.4-py39h8776b5c_1\n",
      "  transformers       pkgs/main/osx-64::transformers-4.18.0-py39hecd8cb5_0\n",
      "\n",
      "The following packages will be UPDATED:\n",
      "\n",
      "  conda              pkgs/main::conda-4.12.0-py39hecd8cb5_0 --> conda-forge::conda-22.9.0-py39h6e9494a_1\n",
      "\n",
      "\n",
      "\n",
      "Downloading and Extracting Packages\n",
      "pytorch-1.10.2       | 53.9 MB   | ##################################### | 100% \n",
      "ninja-base-1.10.2    | 118 KB    | ##################################### | 100% \n",
      "ninja-1.10.2         | 9 KB      | ##################################### | 100% \n",
      "transformers-4.18.0  | 2.9 MB    | ##################################### | 100% \n",
      "conda-22.9.0         | 969 KB    | ##################################### | 100% \n",
      "tokenizers-0.11.4    | 2.7 MB    | ##################################### | 100% \n",
      "python_abi-3.9       | 4 KB      | ##################################### | 100% \n",
      "sacremoses-0.0.53    | 427 KB    | ##################################### | 100% \n",
      "huggingface_hub-0.10 | 114 KB    | ##################################### | 100% \n",
      "Preparing transaction: done\n",
      "Verifying transaction: done\n",
      "Executing transaction: done\n",
      "\n",
      "Note: you may need to restart the kernel to use updated packages.\n"
     ]
    }
   ],
   "source": [
    "# conda install -c conda-forge transformers"
   ]
  },
  {
   "cell_type": "code",
   "execution_count": 1,
   "metadata": {},
   "outputs": [],
   "source": [
    "import pandas as pd\n",
    "import numpy as np\n",
    "import seaborn as sns\n",
    "import matplotlib.pyplot as plt\n",
    "\n",
    "import warnings\n",
    "warnings.filterwarnings(\"ignore\")\n",
    "\n",
    "from IPython.core.interactiveshell import InteractiveShell\n",
    "InteractiveShell.ast_node_interactivity = 'all'\n",
    "\n",
    "pd.set_option('display.max_columns', None)"
   ]
  },
  {
   "cell_type": "code",
   "execution_count": 2,
   "metadata": {},
   "outputs": [],
   "source": [
    "df = pd.read_csv('/Users/ferratan/Downloads/ExpertGardener.csv', index_col = [0])"
   ]
  },
  {
   "cell_type": "markdown",
   "metadata": {},
   "source": [
    "# Sentiment Analysis"
   ]
  },
  {
   "cell_type": "code",
   "execution_count": 3,
   "metadata": {},
   "outputs": [
    {
     "name": "stderr",
     "output_type": "stream",
     "text": [
      "Some weights of the model checkpoint at cardiffnlp/twitter-roberta-base-sentiment-latest were not used when initializing RobertaForSequenceClassification: ['roberta.pooler.dense.bias', 'roberta.pooler.dense.weight']\n",
      "- This IS expected if you are initializing RobertaForSequenceClassification from the checkpoint of a model trained on another task or with another architecture (e.g. initializing a BertForSequenceClassification model from a BertForPreTraining model).\n",
      "- This IS NOT expected if you are initializing RobertaForSequenceClassification from the checkpoint of a model that you expect to be exactly identical (initializing a BertForSequenceClassification model from a BertForSequenceClassification model).\n"
     ]
    }
   ],
   "source": [
    "from transformers import pipeline\n",
    "sentiment_pipeline = pipeline(\"sentiment-analysis\", model=\"cardiffnlp/twitter-roberta-base-sentiment-latest\")"
   ]
  },
  {
   "cell_type": "code",
   "execution_count": 4,
   "metadata": {},
   "outputs": [
    {
     "data": {
      "text/plain": [
       "[{'label': 'Negative', 'score': 0.79079270362854}]"
      ]
     },
     "execution_count": 4,
     "metadata": {},
     "output_type": "execute_result"
    }
   ],
   "source": [
    "#sample sentiment analysis\n",
    "sample_review = list(df['review_text'])[1]\n",
    "result = sentiment_pipeline(sample_review)\n",
    "result"
   ]
  },
  {
   "cell_type": "code",
   "execution_count": 5,
   "metadata": {},
   "outputs": [
    {
     "name": "stderr",
     "output_type": "stream",
     "text": [
      "Some weights of the model checkpoint at cardiffnlp/twitter-roberta-base-sentiment-latest were not used when initializing RobertaForSequenceClassification: ['roberta.pooler.dense.bias', 'roberta.pooler.dense.weight']\n",
      "- This IS expected if you are initializing RobertaForSequenceClassification from the checkpoint of a model trained on another task or with another architecture (e.g. initializing a BertForSequenceClassification model from a BertForPreTraining model).\n",
      "- This IS NOT expected if you are initializing RobertaForSequenceClassification from the checkpoint of a model that you expect to be exactly identical (initializing a BertForSequenceClassification model from a BertForSequenceClassification model).\n"
     ]
    },
    {
     "name": "stdout",
     "output_type": "stream",
     "text": [
      "0\n",
      "20\n",
      "40\n",
      "60\n",
      "80\n",
      "100\n",
      "120\n",
      "140\n",
      "160\n",
      "180\n",
      "200\n",
      "220\n",
      "240\n",
      "260\n",
      "280\n",
      "300\n",
      "320\n",
      "340\n",
      "360\n",
      "380\n"
     ]
    }
   ],
   "source": [
    "from transformers import pipeline\n",
    "sentiment_pipeline = pipeline(\"sentiment-analysis\", model=\"cardiffnlp/twitter-roberta-base-sentiment-latest\")\n",
    "\n",
    "sentiment = []\n",
    "index = -1\n",
    "for sentence in df['review_lower']:\n",
    "    index+=1\n",
    "    if(index%20 == 0):\n",
    "        print(index)\n",
    "\n",
    "    result = sentiment_pipeline(sentence[:512])[0]\n",
    "    sentiment.append(result['label'])\n",
    "df['sentiment'] = sentiment"
   ]
  },
  {
   "cell_type": "markdown",
   "metadata": {},
   "source": [
    "## Zero Shot Classificaiton"
   ]
  },
  {
   "cell_type": "code",
   "execution_count": 6,
   "metadata": {},
   "outputs": [],
   "source": [
    "import transformers\n",
    "from transformers import pipeline"
   ]
  },
  {
   "cell_type": "code",
   "execution_count": 7,
   "metadata": {},
   "outputs": [],
   "source": [
    "classifier  = pipeline(\"zero-shot-classification\",  model = \"facebook/bart-large-mnli\")"
   ]
  },
  {
   "cell_type": "markdown",
   "metadata": {},
   "source": [
    "## Sample Classification"
   ]
  },
  {
   "cell_type": "markdown",
   "metadata": {},
   "source": [
    "this is where you can play around with the labels to see which ones would make sense"
   ]
  },
  {
   "cell_type": "code",
   "execution_count": 8,
   "metadata": {},
   "outputs": [
    {
     "data": {
      "text/plain": [
       "{'sequence': 'it did burn my grass quite a bit. this formula is not consistent, I used 2 bags and one of the bags did burn my lawn while the other worked just fine. i did follow all the instructions on the label. the only pro is its cheap.',\n",
       " 'labels': ['faulty',\n",
       "  'affordability',\n",
       "  'cheap',\n",
       "  'defective',\n",
       "  'cost',\n",
       "  'complaints',\n",
       "  'functionality',\n",
       "  'delivery',\n",
       "  'effective',\n",
       "  'satisfaction',\n",
       "  'quality',\n",
       "  'efficient',\n",
       "  'ease of use',\n",
       "  'expensive'],\n",
       " 'scores': [0.99429851770401,\n",
       "  0.9918051958084106,\n",
       "  0.9908004403114319,\n",
       "  0.9846618175506592,\n",
       "  0.9736759662628174,\n",
       "  0.7620783448219299,\n",
       "  0.2330140769481659,\n",
       "  0.06486840546131134,\n",
       "  0.03194758668541908,\n",
       "  0.025930991396307945,\n",
       "  0.00441941199824214,\n",
       "  0.0022613159380853176,\n",
       "  0.0016619866946712136,\n",
       "  0.001078824046999216]}"
      ]
     },
     "execution_count": 8,
     "metadata": {},
     "output_type": "execute_result"
    }
   ],
   "source": [
    "# play around with the \"candidate_labels\"\n",
    "sample_review = list(df['review_text'])[1]\n",
    "\n",
    "res = classifier(\n",
    "    sample_review,\n",
    "    candidate_labels = ['affordability', 'quality', 'complaints', 'satisfaction', 'delivery', 'ease of use', 'cost', 'efficient', 'functionality', 'cheap', 'expensive', 'effective', 'faulty', 'defective'], \n",
    "    multi_label = True\n",
    ")\n",
    "res"
   ]
  },
  {
   "cell_type": "code",
   "execution_count": 9,
   "metadata": {},
   "outputs": [
    {
     "data": {
      "text/plain": [
       "{'sequence': 'Delighted to have it germinate in our very shaded yards,4,200 ft elevation. Area planted last Fall wintered over in the snow and looked very nice this Spring, so we bought a second bag.',\n",
       " 'labels': ['effective',\n",
       "  'quality',\n",
       "  'satisfaction',\n",
       "  'efficient',\n",
       "  'functionality',\n",
       "  'cost',\n",
       "  'ease of use',\n",
       "  'affordability',\n",
       "  'cheap',\n",
       "  'delivery',\n",
       "  'expensive',\n",
       "  'faulty',\n",
       "  'defective',\n",
       "  'complaints'],\n",
       " 'scores': [0.9880972504615784,\n",
       "  0.975459098815918,\n",
       "  0.9638426899909973,\n",
       "  0.915681004524231,\n",
       "  0.41395077109336853,\n",
       "  0.2996121346950531,\n",
       "  0.28265148401260376,\n",
       "  0.16754747927188873,\n",
       "  0.13265830278396606,\n",
       "  0.06653182208538055,\n",
       "  0.0572749488055706,\n",
       "  0.0076195490546524525,\n",
       "  0.0013537924969568849,\n",
       "  0.0005482065607793629]}"
      ]
     },
     "execution_count": 9,
     "metadata": {},
     "output_type": "execute_result"
    }
   ],
   "source": [
    "# play around with the \"candidate_labels\"\n",
    "sample_review = list(df['review_text'])[2]\n",
    "\n",
    "res = classifier(\n",
    "    sample_review,\n",
    "    candidate_labels = ['affordability', 'quality', 'complaints', 'satisfaction', 'delivery', 'ease of use', 'cost', 'efficient', 'functionality', 'cheap', 'expensive', 'effective', 'faulty', 'defective'], \n",
    "    multi_label = True\n",
    ")\n",
    "res"
   ]
  },
  {
   "cell_type": "code",
   "execution_count": 10,
   "metadata": {},
   "outputs": [
    {
     "data": {
      "text/plain": [
       "{'sequence': 'I found Expert All-Purpose plant food to have a nice consistency of the various graduals. I like that I can use the same product for my flowers as I do my fruits and vegetables. This review was collected as part of a promotion, and the opinions are my own.',\n",
       " 'labels': ['ease of use',\n",
       "  'effective',\n",
       "  'efficient',\n",
       "  'quality',\n",
       "  'functionality',\n",
       "  'satisfaction',\n",
       "  'cost',\n",
       "  'affordability',\n",
       "  'cheap',\n",
       "  'delivery',\n",
       "  'expensive',\n",
       "  'faulty',\n",
       "  'defective',\n",
       "  'complaints'],\n",
       " 'scores': [0.9940300583839417,\n",
       "  0.9855122566223145,\n",
       "  0.9823166131973267,\n",
       "  0.9713661670684814,\n",
       "  0.85272616147995,\n",
       "  0.7544671297073364,\n",
       "  0.23447763919830322,\n",
       "  0.17408035695552826,\n",
       "  0.13615822792053223,\n",
       "  0.04971696436405182,\n",
       "  0.019843466579914093,\n",
       "  0.019330238923430443,\n",
       "  0.006459509022533894,\n",
       "  0.004106045234948397]}"
      ]
     },
     "execution_count": 10,
     "metadata": {},
     "output_type": "execute_result"
    }
   ],
   "source": [
    "# play around with the \"candidate_labels\"\n",
    "sample_review = list(df['review_text'])[3]\n",
    "\n",
    "res = classifier(\n",
    "    sample_review,\n",
    "    candidate_labels = ['affordability', 'quality', 'complaints', 'satisfaction', 'delivery', 'ease of use', 'cost', 'efficient', 'functionality', 'cheap', 'expensive', 'effective', 'faulty', 'defective'], \n",
    "    multi_label = True\n",
    ")\n",
    "res"
   ]
  },
  {
   "cell_type": "code",
   "execution_count": 11,
   "metadata": {},
   "outputs": [
    {
     "data": {
      "text/plain": [
       "{'sequence': 'This potting soil seems to be a nice mix with nutrients for my plants. this bag will fill a 12 inch pot nicely. thos miz contains compost, forest products, sphagnum peat moss and pearlite. i like the texture and weight of the mix. I cant wait to see how large and beautiful my plant will grow using this soil.I received product reimbursement in exchange for my honest review',\n",
       " 'labels': ['effective',\n",
       "  'quality',\n",
       "  'efficient',\n",
       "  'cost',\n",
       "  'satisfaction',\n",
       "  'delivery',\n",
       "  'functionality',\n",
       "  'ease of use',\n",
       "  'affordability',\n",
       "  'cheap',\n",
       "  'complaints',\n",
       "  'faulty',\n",
       "  'expensive',\n",
       "  'defective'],\n",
       " 'scores': [0.9778822064399719,\n",
       "  0.9746807813644409,\n",
       "  0.8209338188171387,\n",
       "  0.6819387674331665,\n",
       "  0.653386652469635,\n",
       "  0.6415681838989258,\n",
       "  0.5980527997016907,\n",
       "  0.4061949551105499,\n",
       "  0.23072226345539093,\n",
       "  0.08910791575908661,\n",
       "  0.01089621614664793,\n",
       "  0.003031096188351512,\n",
       "  0.001594751374796033,\n",
       "  0.00044307735515758395]}"
      ]
     },
     "execution_count": 11,
     "metadata": {},
     "output_type": "execute_result"
    }
   ],
   "source": [
    "# play around with the \"candidate_labels\"\n",
    "sample_review = list(df['review_text'])[4]\n",
    "\n",
    "res = classifier(\n",
    "    sample_review,\n",
    "    candidate_labels = ['affordability', 'quality', 'complaints', 'satisfaction', 'delivery', 'ease of use', 'cost', 'efficient', 'functionality', 'cheap', 'expensive', 'effective', 'faulty', 'defective'], \n",
    "    multi_label = True\n",
    ")\n",
    "res"
   ]
  },
  {
   "cell_type": "markdown",
   "metadata": {},
   "source": [
    "# Zero Shot Classification (Entire data)"
   ]
  },
  {
   "cell_type": "markdown",
   "metadata": {},
   "source": [
    "Using the labels you identified above, you want to now run it through the entire data"
   ]
  },
  {
   "cell_type": "code",
   "execution_count": 12,
   "metadata": {},
   "outputs": [],
   "source": [
    "classifier  = pipeline(\"zero-shot-classification\",  model = \"facebook/bart-large-mnli\")"
   ]
  },
  {
   "cell_type": "code",
   "execution_count": 13,
   "metadata": {},
   "outputs": [],
   "source": [
    "# insert the labels you identified from above section\n",
    "type = ['affordability', 'quality', 'complaints', 'satisfaction', 'delivery', 'ease of use', 'cost', 'efficient', 'functionality', 'cheap', 'expensive', 'effective', 'faulty', 'defective']"
   ]
  },
  {
   "cell_type": "code",
   "execution_count": 14,
   "metadata": {},
   "outputs": [
    {
     "name": "stdout",
     "output_type": "stream",
     "text": [
      "0\n",
      "20\n",
      "40\n",
      "60\n",
      "80\n",
      "100\n",
      "120\n",
      "140\n",
      "160\n",
      "180\n",
      "200\n",
      "220\n",
      "240\n",
      "260\n",
      "280\n",
      "300\n",
      "320\n",
      "340\n",
      "360\n",
      "380\n"
     ]
    }
   ],
   "source": [
    "#setting empty values for the columns\n",
    "index = -1\n",
    "for label in type:\n",
    "    df[label + '_m'] = -1\n",
    "\n",
    "for j in range(len(df)):\n",
    "    #counter for progress/debugging\n",
    "    index+=1\n",
    "    if(index%20 == 0): \n",
    "        print(index)\n",
    "        \n",
    "    #running the classifier on the column    \n",
    "    res = classifier(\n",
    "        df.iloc[j]['review_lower'],\n",
    "        candidate_labels = type,\n",
    "        multi_label = True\n",
    "    )\n",
    "    #setting the column values according to the output from the classifier (\"_m\" = multiclass)\n",
    "    for i in range(len(res['labels'])):\n",
    "        df[res['labels'][i]+ '_m'].iloc[j] = res['scores'][i]"
   ]
  },
  {
   "cell_type": "code",
   "execution_count": 15,
   "metadata": {},
   "outputs": [
    {
     "data": {
      "text/html": [
       "<div>\n",
       "<style scoped>\n",
       "    .dataframe tbody tr th:only-of-type {\n",
       "        vertical-align: middle;\n",
       "    }\n",
       "\n",
       "    .dataframe tbody tr th {\n",
       "        vertical-align: top;\n",
       "    }\n",
       "\n",
       "    .dataframe thead th {\n",
       "        text-align: right;\n",
       "    }\n",
       "</style>\n",
       "<table border=\"1\" class=\"dataframe\">\n",
       "  <thead>\n",
       "    <tr style=\"text-align: right;\">\n",
       "      <th></th>\n",
       "      <th>segment</th>\n",
       "      <th>review_id</th>\n",
       "      <th>product_name</th>\n",
       "      <th>producturl</th>\n",
       "      <th>retailer</th>\n",
       "      <th>brand</th>\n",
       "      <th>retailer_product_id</th>\n",
       "      <th>base_id</th>\n",
       "      <th>variants_flag</th>\n",
       "      <th>review_creation_date</th>\n",
       "      <th>year</th>\n",
       "      <th>month</th>\n",
       "      <th>week</th>\n",
       "      <th>review_title</th>\n",
       "      <th>review_text</th>\n",
       "      <th>review_type</th>\n",
       "      <th>price</th>\n",
       "      <th>rating</th>\n",
       "      <th>images</th>\n",
       "      <th>videos</th>\n",
       "      <th>helpful_votes</th>\n",
       "      <th>promotion_flag</th>\n",
       "      <th>review_lower</th>\n",
       "      <th>date</th>\n",
       "      <th>sentiment</th>\n",
       "      <th>affordability_m</th>\n",
       "      <th>quality_m</th>\n",
       "      <th>complaints_m</th>\n",
       "      <th>satisfaction_m</th>\n",
       "      <th>delivery_m</th>\n",
       "      <th>ease of use_m</th>\n",
       "      <th>cost_m</th>\n",
       "      <th>efficient_m</th>\n",
       "      <th>functionality_m</th>\n",
       "      <th>cheap_m</th>\n",
       "      <th>expensive_m</th>\n",
       "      <th>effective_m</th>\n",
       "      <th>faulty_m</th>\n",
       "      <th>defective_m</th>\n",
       "      <th>max</th>\n",
       "    </tr>\n",
       "  </thead>\n",
       "  <tbody>\n",
       "    <tr>\n",
       "      <th>11128</th>\n",
       "      <td>Garden</td>\n",
       "      <td>72720</td>\n",
       "      <td>Expert Gardener Citrus Plant Food Fertilizer 6...</td>\n",
       "      <td>https://www.walmart.com//ip/Expert-Gardener-Ci...</td>\n",
       "      <td>Walmart</td>\n",
       "      <td>ExpertGardener</td>\n",
       "      <td>587336041</td>\n",
       "      <td>870632402</td>\n",
       "      <td>Yes</td>\n",
       "      <td>2022-01-29T00:00:00</td>\n",
       "      <td>2022</td>\n",
       "      <td>1</td>\n",
       "      <td>4</td>\n",
       "      <td>NaN</td>\n",
       "      <td>this is a great fertilizer. I used it on my Fl...</td>\n",
       "      <td>organic reviews</td>\n",
       "      <td>9.26</td>\n",
       "      <td>5</td>\n",
       "      <td>0</td>\n",
       "      <td>0</td>\n",
       "      <td>0</td>\n",
       "      <td>No</td>\n",
       "      <td>this is a great fertilizer. i used it on my fl...</td>\n",
       "      <td>2022-01-29</td>\n",
       "      <td>Positive</td>\n",
       "      <td>0.203181</td>\n",
       "      <td>0.976304</td>\n",
       "      <td>0.001477</td>\n",
       "      <td>0.477199</td>\n",
       "      <td>0.156387</td>\n",
       "      <td>0.169117</td>\n",
       "      <td>0.631661</td>\n",
       "      <td>0.925835</td>\n",
       "      <td>0.410857</td>\n",
       "      <td>0.114190</td>\n",
       "      <td>0.025476</td>\n",
       "      <td>0.997971</td>\n",
       "      <td>0.000326</td>\n",
       "      <td>0.000114</td>\n",
       "      <td>0.997971</td>\n",
       "    </tr>\n",
       "    <tr>\n",
       "      <th>8005</th>\n",
       "      <td>Garden</td>\n",
       "      <td>67877</td>\n",
       "      <td>Expert Gardener Weed &amp; Feed Lawn Fertilizer &amp; ...</td>\n",
       "      <td>https://www.walmart.com//ip/Expert-Gardener-We...</td>\n",
       "      <td>Walmart</td>\n",
       "      <td>ExpertGardener</td>\n",
       "      <td>935904830</td>\n",
       "      <td>603561302</td>\n",
       "      <td>No</td>\n",
       "      <td>2021-08-30T00:00:00</td>\n",
       "      <td>2021</td>\n",
       "      <td>8</td>\n",
       "      <td>35</td>\n",
       "      <td>inconsistent and does burn the lawn</td>\n",
       "      <td>it did burn my grass quite a bit. this formula...</td>\n",
       "      <td>organic reviews</td>\n",
       "      <td>38.74</td>\n",
       "      <td>2</td>\n",
       "      <td>0</td>\n",
       "      <td>0</td>\n",
       "      <td>0</td>\n",
       "      <td>No</td>\n",
       "      <td>it did burn my grass quite a bit. this formula...</td>\n",
       "      <td>2021-08-30</td>\n",
       "      <td>Negative</td>\n",
       "      <td>0.991699</td>\n",
       "      <td>0.004573</td>\n",
       "      <td>0.738085</td>\n",
       "      <td>0.026369</td>\n",
       "      <td>0.073312</td>\n",
       "      <td>0.001626</td>\n",
       "      <td>0.973189</td>\n",
       "      <td>0.002565</td>\n",
       "      <td>0.239017</td>\n",
       "      <td>0.990821</td>\n",
       "      <td>0.001119</td>\n",
       "      <td>0.035779</td>\n",
       "      <td>0.994203</td>\n",
       "      <td>0.983910</td>\n",
       "      <td>0.994203</td>\n",
       "    </tr>\n",
       "    <tr>\n",
       "      <th>8255</th>\n",
       "      <td>Garden</td>\n",
       "      <td>68127</td>\n",
       "      <td>Expert Gardener Sun &amp; Shade Grass Seed Norther...</td>\n",
       "      <td>https://www.walmart.com//ip/Expert-Gardener-Su...</td>\n",
       "      <td>Walmart</td>\n",
       "      <td>ExpertGardener</td>\n",
       "      <td>108037091</td>\n",
       "      <td>660854953</td>\n",
       "      <td>No</td>\n",
       "      <td>2021-07-07T00:00:00</td>\n",
       "      <td>2021</td>\n",
       "      <td>7</td>\n",
       "      <td>27</td>\n",
       "      <td>Good Sun and shade grass mix</td>\n",
       "      <td>Delighted to have it germinate in our very sha...</td>\n",
       "      <td>organic reviews</td>\n",
       "      <td>39.92</td>\n",
       "      <td>5</td>\n",
       "      <td>0</td>\n",
       "      <td>0</td>\n",
       "      <td>0</td>\n",
       "      <td>No</td>\n",
       "      <td>delighted to have it germinate in our very sha...</td>\n",
       "      <td>2021-07-07</td>\n",
       "      <td>Positive</td>\n",
       "      <td>0.163184</td>\n",
       "      <td>0.975453</td>\n",
       "      <td>0.000577</td>\n",
       "      <td>0.959377</td>\n",
       "      <td>0.084828</td>\n",
       "      <td>0.262179</td>\n",
       "      <td>0.313958</td>\n",
       "      <td>0.884429</td>\n",
       "      <td>0.382133</td>\n",
       "      <td>0.176899</td>\n",
       "      <td>0.105138</td>\n",
       "      <td>0.985876</td>\n",
       "      <td>0.008299</td>\n",
       "      <td>0.002043</td>\n",
       "      <td>0.985876</td>\n",
       "    </tr>\n",
       "  </tbody>\n",
       "</table>\n",
       "</div>"
      ],
      "text/plain": [
       "      segment  review_id                                       product_name  \\\n",
       "11128  Garden      72720  Expert Gardener Citrus Plant Food Fertilizer 6...   \n",
       "8005   Garden      67877  Expert Gardener Weed & Feed Lawn Fertilizer & ...   \n",
       "8255   Garden      68127  Expert Gardener Sun & Shade Grass Seed Norther...   \n",
       "\n",
       "                                              producturl retailer  \\\n",
       "11128  https://www.walmart.com//ip/Expert-Gardener-Ci...  Walmart   \n",
       "8005   https://www.walmart.com//ip/Expert-Gardener-We...  Walmart   \n",
       "8255   https://www.walmart.com//ip/Expert-Gardener-Su...  Walmart   \n",
       "\n",
       "                brand  retailer_product_id    base_id variants_flag  \\\n",
       "11128  ExpertGardener            587336041  870632402           Yes   \n",
       "8005   ExpertGardener            935904830  603561302            No   \n",
       "8255   ExpertGardener            108037091  660854953            No   \n",
       "\n",
       "      review_creation_date  year  month  week  \\\n",
       "11128  2022-01-29T00:00:00  2022      1     4   \n",
       "8005   2021-08-30T00:00:00  2021      8    35   \n",
       "8255   2021-07-07T00:00:00  2021      7    27   \n",
       "\n",
       "                              review_title  \\\n",
       "11128                                  NaN   \n",
       "8005   inconsistent and does burn the lawn   \n",
       "8255          Good Sun and shade grass mix   \n",
       "\n",
       "                                             review_text      review_type  \\\n",
       "11128  this is a great fertilizer. I used it on my Fl...  organic reviews   \n",
       "8005   it did burn my grass quite a bit. this formula...  organic reviews   \n",
       "8255   Delighted to have it germinate in our very sha...  organic reviews   \n",
       "\n",
       "       price  rating  images  videos  helpful_votes promotion_flag  \\\n",
       "11128   9.26       5       0       0              0             No   \n",
       "8005   38.74       2       0       0              0             No   \n",
       "8255   39.92       5       0       0              0             No   \n",
       "\n",
       "                                            review_lower        date  \\\n",
       "11128  this is a great fertilizer. i used it on my fl...  2022-01-29   \n",
       "8005   it did burn my grass quite a bit. this formula...  2021-08-30   \n",
       "8255   delighted to have it germinate in our very sha...  2021-07-07   \n",
       "\n",
       "      sentiment  affordability_m  quality_m  complaints_m  satisfaction_m  \\\n",
       "11128  Positive         0.203181   0.976304      0.001477        0.477199   \n",
       "8005   Negative         0.991699   0.004573      0.738085        0.026369   \n",
       "8255   Positive         0.163184   0.975453      0.000577        0.959377   \n",
       "\n",
       "       delivery_m  ease of use_m    cost_m  efficient_m  functionality_m  \\\n",
       "11128    0.156387       0.169117  0.631661     0.925835         0.410857   \n",
       "8005     0.073312       0.001626  0.973189     0.002565         0.239017   \n",
       "8255     0.084828       0.262179  0.313958     0.884429         0.382133   \n",
       "\n",
       "        cheap_m  expensive_m  effective_m  faulty_m  defective_m       max  \n",
       "11128  0.114190     0.025476     0.997971  0.000326     0.000114  0.997971  \n",
       "8005   0.990821     0.001119     0.035779  0.994203     0.983910  0.994203  \n",
       "8255   0.176899     0.105138     0.985876  0.008299     0.002043  0.985876  "
      ]
     },
     "execution_count": 15,
     "metadata": {},
     "output_type": "execute_result"
    }
   ],
   "source": [
    "# create a \"max\" column for metric purposes\n",
    "df['max'] = df[['affordability_m', 'quality_m', 'complaints_m', 'satisfaction_m', 'delivery_m', 'ease of use_m', 'cost_m', 'efficient_m', 'functionality_m', 'cheap_m', 'expensive_m', 'effective_m', 'faulty_m', 'defective_m']].max(axis=1)\n",
    "df.head(3)"
   ]
  },
  {
   "cell_type": "code",
   "execution_count": 16,
   "metadata": {},
   "outputs": [],
   "source": [
    "#assign the max to its aligned type\n",
    "align_list=[]\n",
    "for i in range(len(df)):\n",
    "  for t in type:\n",
    "    if df[t+'_m'].iloc[i] == df['max'].iloc[i]:\n",
    "      align_list.append(t)\n",
    "      \n",
    "df['align_type']=align_list"
   ]
  },
  {
   "cell_type": "code",
   "execution_count": 17,
   "metadata": {},
   "outputs": [],
   "source": [
    "import seaborn as sns"
   ]
  },
  {
   "cell_type": "code",
   "execution_count": 18,
   "metadata": {},
   "outputs": [
    {
     "data": {
      "text/html": [
       "<div>\n",
       "<style scoped>\n",
       "    .dataframe tbody tr th:only-of-type {\n",
       "        vertical-align: middle;\n",
       "    }\n",
       "\n",
       "    .dataframe tbody tr th {\n",
       "        vertical-align: top;\n",
       "    }\n",
       "\n",
       "    .dataframe thead th {\n",
       "        text-align: right;\n",
       "    }\n",
       "</style>\n",
       "<table border=\"1\" class=\"dataframe\">\n",
       "  <thead>\n",
       "    <tr style=\"text-align: right;\">\n",
       "      <th>align_type</th>\n",
       "      <th>affordability</th>\n",
       "      <th>cheap</th>\n",
       "      <th>complaints</th>\n",
       "      <th>cost</th>\n",
       "      <th>defective</th>\n",
       "      <th>delivery</th>\n",
       "      <th>ease of use</th>\n",
       "      <th>effective</th>\n",
       "      <th>efficient</th>\n",
       "      <th>expensive</th>\n",
       "      <th>faulty</th>\n",
       "      <th>functionality</th>\n",
       "      <th>quality</th>\n",
       "      <th>satisfaction</th>\n",
       "    </tr>\n",
       "    <tr>\n",
       "      <th>sentiment</th>\n",
       "      <th></th>\n",
       "      <th></th>\n",
       "      <th></th>\n",
       "      <th></th>\n",
       "      <th></th>\n",
       "      <th></th>\n",
       "      <th></th>\n",
       "      <th></th>\n",
       "      <th></th>\n",
       "      <th></th>\n",
       "      <th></th>\n",
       "      <th></th>\n",
       "      <th></th>\n",
       "      <th></th>\n",
       "    </tr>\n",
       "  </thead>\n",
       "  <tbody>\n",
       "    <tr>\n",
       "      <th>Negative</th>\n",
       "      <td>0.000000</td>\n",
       "      <td>0.995938</td>\n",
       "      <td>0.968516</td>\n",
       "      <td>0.735759</td>\n",
       "      <td>0.970160</td>\n",
       "      <td>0.945446</td>\n",
       "      <td>0.824368</td>\n",
       "      <td>0.876464</td>\n",
       "      <td>0.000000</td>\n",
       "      <td>0.996261</td>\n",
       "      <td>0.959886</td>\n",
       "      <td>0.000000</td>\n",
       "      <td>0.000000</td>\n",
       "      <td>0.000000</td>\n",
       "    </tr>\n",
       "    <tr>\n",
       "      <th>Neutral</th>\n",
       "      <td>0.994104</td>\n",
       "      <td>0.993398</td>\n",
       "      <td>0.000000</td>\n",
       "      <td>0.878563</td>\n",
       "      <td>0.959458</td>\n",
       "      <td>0.959316</td>\n",
       "      <td>0.000000</td>\n",
       "      <td>0.969948</td>\n",
       "      <td>0.991640</td>\n",
       "      <td>0.992426</td>\n",
       "      <td>0.853098</td>\n",
       "      <td>0.000000</td>\n",
       "      <td>0.000000</td>\n",
       "      <td>0.000000</td>\n",
       "    </tr>\n",
       "    <tr>\n",
       "      <th>Positive</th>\n",
       "      <td>0.989586</td>\n",
       "      <td>0.992978</td>\n",
       "      <td>0.000000</td>\n",
       "      <td>0.961467</td>\n",
       "      <td>0.000000</td>\n",
       "      <td>0.992075</td>\n",
       "      <td>0.996191</td>\n",
       "      <td>0.992179</td>\n",
       "      <td>0.927096</td>\n",
       "      <td>0.000000</td>\n",
       "      <td>0.993093</td>\n",
       "      <td>0.830062</td>\n",
       "      <td>0.979215</td>\n",
       "      <td>0.997693</td>\n",
       "    </tr>\n",
       "  </tbody>\n",
       "</table>\n",
       "</div>"
      ],
      "text/plain": [
       "align_type  affordability     cheap  complaints      cost  defective  \\\n",
       "sentiment                                                              \n",
       "Negative         0.000000  0.995938    0.968516  0.735759   0.970160   \n",
       "Neutral          0.994104  0.993398    0.000000  0.878563   0.959458   \n",
       "Positive         0.989586  0.992978    0.000000  0.961467   0.000000   \n",
       "\n",
       "align_type  delivery  ease of use  effective  efficient  expensive    faulty  \\\n",
       "sentiment                                                                      \n",
       "Negative    0.945446     0.824368   0.876464   0.000000   0.996261  0.959886   \n",
       "Neutral     0.959316     0.000000   0.969948   0.991640   0.992426  0.853098   \n",
       "Positive    0.992075     0.996191   0.992179   0.927096   0.000000  0.993093   \n",
       "\n",
       "align_type  functionality   quality  satisfaction  \n",
       "sentiment                                          \n",
       "Negative         0.000000  0.000000      0.000000  \n",
       "Neutral          0.000000  0.000000      0.000000  \n",
       "Positive         0.830062  0.979215      0.997693  "
      ]
     },
     "execution_count": 18,
     "metadata": {},
     "output_type": "execute_result"
    }
   ],
   "source": [
    "# Create Pivot table for the Heatmap\n",
    "table = pd.pivot_table(df, values='max', index=['sentiment'], columns=['align_type'], aggfunc=np.mean,fill_value=0)\n",
    "table"
   ]
  },
  {
   "cell_type": "code",
   "execution_count": 19,
   "metadata": {},
   "outputs": [
    {
     "data": {
      "text/plain": [
       "<Figure size 864x360 with 0 Axes>"
      ]
     },
     "execution_count": 19,
     "metadata": {},
     "output_type": "execute_result"
    },
    {
     "data": {
      "text/plain": [
       "[Text(0.5, 17.5, ''), Text(80.5, 0.5, '')]"
      ]
     },
     "execution_count": 19,
     "metadata": {},
     "output_type": "execute_result"
    },
    {
     "data": {
      "text/plain": [
       "[Text(0.5, -49.875, ''), Text(80.5, 0.5, '')]"
      ]
     },
     "execution_count": 19,
     "metadata": {},
     "output_type": "execute_result"
    },
    {
     "data": {
      "text/plain": [
       "[Text(0.5, -49.875, ''), Text(80.5, 0.5, '')]"
      ]
     },
     "execution_count": 19,
     "metadata": {},
     "output_type": "execute_result"
    },
    {
     "data": {
      "image/png": "[encoded data removed]",
      "text/plain": [
       "<Figure size 864x360 with 1 Axes>"
      ]
     },
     "metadata": {
      "needs_background": "light"
     },
     "output_type": "display_data"
    }
   ],
   "source": [
    "# Heatmap\n",
    "\n",
    "plt.figure(figsize=(12, 5))\n",
    "sns.set(font_scale=1.4)\n",
    "# Reds\n",
    "data1 = table.copy()\n",
    "data1.loc['Negative'] = float('nan')\n",
    "data1.loc['Neutral'] = float('nan')\n",
    "ax=sns.heatmap(data1, annot=True, cmap=\"Greens\", alpha=0.75,fmt=\".3\",annot_kws={\"fontsize\":15},linewidth=0.1,cbar=False)\n",
    "ax.set(xlabel=\"\", ylabel=\"\")\n",
    "\n",
    "# Blue\n",
    "data2 = table.copy()\n",
    "data2.loc['Negative'] = float('nan')\n",
    "data2.loc['Positive'] = float('nan')\n",
    "ax=sns.heatmap(data2, annot=True, cmap=\"Blues\", alpha=0.75,fmt=\".3\",annot_kws={\"fontsize\":15},linewidth=0.1,cbar=False)\n",
    "ax.set(xlabel=\"\", ylabel=\"\")\n",
    "# Greens\n",
    "data3 = table.copy()\n",
    "data3.loc['Positive'] = float('nan')\n",
    "data3.loc['Neutral'] = float('nan')\n",
    "ax=sns.heatmap(data3, annot=True, cmap=\"Reds\", alpha=0.75,fmt=\".3\",annot_kws={\"fontsize\":15},linewidth=0.1,cbar=False)\n",
    "ax.set(xlabel=\"\", ylabel=\"\")"
   ]
  },
  {
   "cell_type": "markdown",
   "metadata": {},
   "source": [
    "# Metric and Sanity Check"
   ]
  },
  {
   "cell_type": "code",
   "execution_count": 20,
   "metadata": {},
   "outputs": [
    {
     "data": {
      "text/plain": [
       "<matplotlib.lines.Line2D at 0x7f9f61482040>"
      ]
     },
     "execution_count": 20,
     "metadata": {},
     "output_type": "execute_result"
    },
    {
     "data": {
      "text/plain": [
       "[Text(0, 0, '1'),\n",
       " Text(0, 0, '0'),\n",
       " Text(0, 0, '0'),\n",
       " Text(0, 0, '0'),\n",
       " Text(0, 0, '0'),\n",
       " Text(0, 0, '0'),\n",
       " Text(0, 0, '0'),\n",
       " Text(0, 0, '0'),\n",
       " Text(0, 0, '0'),\n",
       " Text(0, 0, '0'),\n",
       " Text(0, 0, '0'),\n",
       " Text(0, 0, '0'),\n",
       " Text(0, 0, '0'),\n",
       " Text(0, 0, '0'),\n",
       " Text(0, 0, '0'),\n",
       " Text(0, 0, '0'),\n",
       " Text(0, 0, '0'),\n",
       " Text(0, 0, '0'),\n",
       " Text(0, 0, '0'),\n",
       " Text(0, 0, '0'),\n",
       " Text(0, 0, '0'),\n",
       " Text(0, 0, '0'),\n",
       " Text(0, 0, '0'),\n",
       " Text(0, 0, '0'),\n",
       " Text(0, 0, '0'),\n",
       " Text(0, 0, '0'),\n",
       " Text(0, 0, '0'),\n",
       " Text(0, 0, '0'),\n",
       " Text(0, 0, '0'),\n",
       " Text(0, 0, '0'),\n",
       " Text(0, 0, '0'),\n",
       " Text(0, 0, '0'),\n",
       " Text(0, 0, '0'),\n",
       " Text(0, 0, '0'),\n",
       " Text(0, 0, '0'),\n",
       " Text(0, 0, '0'),\n",
       " Text(0, 0, '0'),\n",
       " Text(0, 0, '0'),\n",
       " Text(0, 0, '0'),\n",
       " Text(0, 0, '0'),\n",
       " Text(0, 0, '0'),\n",
       " Text(0, 0, '0'),\n",
       " Text(0, 0, '0'),\n",
       " Text(0, 0, '0'),\n",
       " Text(0, 0, '0'),\n",
       " Text(0, 0, '0'),\n",
       " Text(0, 0, '0'),\n",
       " Text(0, 0, '0'),\n",
       " Text(0, 0, '0'),\n",
       " Text(0, 0, '0'),\n",
       " Text(0, 0, '0'),\n",
       " Text(0, 0, '0'),\n",
       " Text(0, 0, '0'),\n",
       " Text(0, 0, '0'),\n",
       " Text(0, 0, '0'),\n",
       " Text(0, 0, '0'),\n",
       " Text(0, 0, '0'),\n",
       " Text(0, 0, '1'),\n",
       " Text(0, 0, '0'),\n",
       " Text(0, 0, '0'),\n",
       " Text(0, 0, '0'),\n",
       " Text(0, 0, '1'),\n",
       " Text(0, 0, '0'),\n",
       " Text(0, 0, '0'),\n",
       " Text(0, 0, '0'),\n",
       " Text(0, 0, '0'),\n",
       " Text(0, 0, '1'),\n",
       " Text(0, 0, '1'),\n",
       " Text(0, 0, '0'),\n",
       " Text(0, 0, '0'),\n",
       " Text(0, 0, '0'),\n",
       " Text(0, 0, '0'),\n",
       " Text(0, 0, '0'),\n",
       " Text(0, 0, '0'),\n",
       " Text(0, 0, '0'),\n",
       " Text(0, 0, '0'),\n",
       " Text(0, 0, '0'),\n",
       " Text(0, 0, '0'),\n",
       " Text(0, 0, '0'),\n",
       " Text(0, 0, '0'),\n",
       " Text(0, 0, '0'),\n",
       " Text(0, 0, '0'),\n",
       " Text(0, 0, '2'),\n",
       " Text(0, 0, '0'),\n",
       " Text(0, 0, '0'),\n",
       " Text(0, 0, '0'),\n",
       " Text(0, 0, '1'),\n",
       " Text(0, 0, '0'),\n",
       " Text(0, 0, '0'),\n",
       " Text(0, 0, '0'),\n",
       " Text(0, 0, '0'),\n",
       " Text(0, 0, '0'),\n",
       " Text(0, 0, '0'),\n",
       " Text(0, 0, '0'),\n",
       " Text(0, 0, '0'),\n",
       " Text(0, 0, '0'),\n",
       " Text(0, 0, '0'),\n",
       " Text(0, 0, '1'),\n",
       " Text(0, 0, '0'),\n",
       " Text(0, 0, '0'),\n",
       " Text(0, 0, '0'),\n",
       " Text(0, 0, '0'),\n",
       " Text(0, 0, '0'),\n",
       " Text(0, 0, '0'),\n",
       " Text(0, 0, '0'),\n",
       " Text(0, 0, '0'),\n",
       " Text(0, 0, '0'),\n",
       " Text(0, 0, '0'),\n",
       " Text(0, 0, '0'),\n",
       " Text(0, 0, '1'),\n",
       " Text(0, 0, '1'),\n",
       " Text(0, 0, '0'),\n",
       " Text(0, 0, '0'),\n",
       " Text(0, 0, '0'),\n",
       " Text(0, 0, '0'),\n",
       " Text(0, 0, '0'),\n",
       " Text(0, 0, '2'),\n",
       " Text(0, 0, '1'),\n",
       " Text(0, 0, '0'),\n",
       " Text(0, 0, '0'),\n",
       " Text(0, 0, '0'),\n",
       " Text(0, 0, '1'),\n",
       " Text(0, 0, '0'),\n",
       " Text(0, 0, '0'),\n",
       " Text(0, 0, '0'),\n",
       " Text(0, 0, '0'),\n",
       " Text(0, 0, '0'),\n",
       " Text(0, 0, '0'),\n",
       " Text(0, 0, '1'),\n",
       " Text(0, 0, '1'),\n",
       " Text(0, 0, '0'),\n",
       " Text(0, 0, '1'),\n",
       " Text(0, 0, '1'),\n",
       " Text(0, 0, '3'),\n",
       " Text(0, 0, '0'),\n",
       " Text(0, 0, '0'),\n",
       " Text(0, 0, '1'),\n",
       " Text(0, 0, '1'),\n",
       " Text(0, 0, '0'),\n",
       " Text(0, 0, '4'),\n",
       " Text(0, 0, '0'),\n",
       " Text(0, 0, '3'),\n",
       " Text(0, 0, '5'),\n",
       " Text(0, 0, '4'),\n",
       " Text(0, 0, '1'),\n",
       " Text(0, 0, '1'),\n",
       " Text(0, 0, '4'),\n",
       " Text(0, 0, '1'),\n",
       " Text(0, 0, '6'),\n",
       " Text(0, 0, '8'),\n",
       " Text(0, 0, '4'),\n",
       " Text(0, 0, '8'),\n",
       " Text(0, 0, '6'),\n",
       " Text(0, 0, '7'),\n",
       " Text(0, 0, '10'),\n",
       " Text(0, 0, '11'),\n",
       " Text(0, 0, '15'),\n",
       " Text(0, 0, '42'),\n",
       " Text(0, 0, '65'),\n",
       " Text(0, 0, '171')]"
      ]
     },
     "execution_count": 20,
     "metadata": {},
     "output_type": "execute_result"
    },
    {
     "data": {
      "text/plain": [
       "0.9875"
      ]
     },
     "execution_count": 20,
     "metadata": {},
     "output_type": "execute_result"
    },
    {
     "data": {
      "text/plain": [
       "['it did burn my grass quite a bit. this formula is not consistent, i used 2 bags and one of the bags did burn my lawn while the other worked just fine. i did follow all the instructions on the label. the only pro is its cheap.']"
      ]
     },
     "execution_count": 20,
     "metadata": {},
     "output_type": "execute_result"
    },
    {
     "data": {
      "image/png": "[encoded data removed]",
      "text/plain": [
       "<Figure size 432x288 with 1 Axes>"
      ]
     },
     "metadata": {},
     "output_type": "display_data"
    }
   ],
   "source": [
    "sns.set_style('ticks');\n",
    "fig, ax = plt.subplots();\n",
    "ax = sns.histplot(x = 'max', data = df);\n",
    "plt.axvline(0.7, 0,700, c = 'r', ls = '--');\n",
    "for container in ax.containers:\n",
    "    ax.bar_label(container);\n",
    "\n",
    "len(df[df['max'] > 0.7])/len(df['max'])\n",
    "#subcategories of quality. may be too broad\n",
    "\n",
    "\n",
    "list(df[df['max'] > 0.7]['review_lower'][1:2])"
   ]
  },
  {
   "cell_type": "code",
   "execution_count": 21,
   "metadata": {},
   "outputs": [
    {
     "name": "stdout",
     "output_type": "stream",
     "text": [
      "<class 'pandas.core.frame.DataFrame'>\n",
      "Int64Index: 37 entries, 18596 to 10267\n",
      "Data columns (total 41 columns):\n",
      " #   Column                Non-Null Count  Dtype  \n",
      "---  ------                --------------  -----  \n",
      " 0   segment               37 non-null     object \n",
      " 1   review_id             37 non-null     int64  \n",
      " 2   product_name          37 non-null     object \n",
      " 3   producturl            37 non-null     object \n",
      " 4   retailer              37 non-null     object \n",
      " 5   brand                 37 non-null     object \n",
      " 6   retailer_product_id   37 non-null     int64  \n",
      " 7   base_id               37 non-null     int64  \n",
      " 8   variants_flag         37 non-null     object \n",
      " 9   review_creation_date  37 non-null     object \n",
      " 10  year                  37 non-null     int64  \n",
      " 11  month                 37 non-null     int64  \n",
      " 12  week                  37 non-null     int64  \n",
      " 13  review_title          27 non-null     object \n",
      " 14  review_text           37 non-null     object \n",
      " 15  review_type           37 non-null     object \n",
      " 16  price                 37 non-null     float64\n",
      " 17  rating                37 non-null     int64  \n",
      " 18  images                37 non-null     int64  \n",
      " 19  videos                37 non-null     int64  \n",
      " 20  helpful_votes         37 non-null     int64  \n",
      " 21  promotion_flag        37 non-null     object \n",
      " 22  review_lower          37 non-null     object \n",
      " 23  date                  37 non-null     object \n",
      " 24  sentiment             37 non-null     object \n",
      " 25  affordability_m       37 non-null     float64\n",
      " 26  quality_m             37 non-null     float64\n",
      " 27  complaints_m          37 non-null     float64\n",
      " 28  satisfaction_m        37 non-null     float64\n",
      " 29  delivery_m            37 non-null     float64\n",
      " 30  ease of use_m         37 non-null     float64\n",
      " 31  cost_m                37 non-null     float64\n",
      " 32  efficient_m           37 non-null     float64\n",
      " 33  functionality_m       37 non-null     float64\n",
      " 34  cheap_m               37 non-null     float64\n",
      " 35  expensive_m           37 non-null     float64\n",
      " 36  effective_m           37 non-null     float64\n",
      " 37  faulty_m              37 non-null     float64\n",
      " 38  defective_m           37 non-null     float64\n",
      " 39  max                   37 non-null     float64\n",
      " 40  align_type            37 non-null     object \n",
      "dtypes: float64(16), int64(10), object(15)\n",
      "memory usage: 12.1+ KB\n"
     ]
    }
   ],
   "source": [
    "# to see how many uncategorized data remains\n",
    "df_uncat = df[df['cost_m'] < 0.7]\n",
    "df_uncat = df_uncat[df_uncat['efficient_m'] < 0.7]\n",
    "df_uncat = df_uncat[df_uncat['effective_m'] < 0.7]\n",
    "df_uncat = df_uncat[df_uncat['ease of use_m'] < 0.7]\n",
    "df_uncat.info()"
   ]
  },
  {
   "cell_type": "code",
   "execution_count": 22,
   "metadata": {},
   "outputs": [
    {
     "data": {
      "text/plain": [
       "37"
      ]
     },
     "execution_count": 22,
     "metadata": {},
     "output_type": "execute_result"
    }
   ],
   "source": [
    "len(df_uncat)"
   ]
  },
  {
   "cell_type": "code",
   "execution_count": 24,
   "metadata": {},
   "outputs": [],
   "source": [
    "df_uncat.to_csv('unlabeled_data_expertgardener.csv')"
   ]
  }
 ],
 "metadata": {
  "kernelspec": {
   "display_name": "Python [conda env:anaconda3]",
   "language": "python",
   "name": "conda-env-anaconda3-py"
  },
  "language_info": {
   "codemirror_mode": {
    "name": "ipython",
    "version": 3
   },
   "file_extension": ".py",
   "mimetype": "text/x-python",
   "name": "python",
   "nbconvert_exporter": "python",
   "pygments_lexer": "ipython3",
   "version": "3.9.12"
  },
  "vscode": {
   "interpreter": {
    "hash": "998c911629ba937bcf1bf80465453e12e8c5c2c818cb936f93ef7cf495a937a9"
   }
  }
 },
 "nbformat": 4,
 "nbformat_minor": 2
}
