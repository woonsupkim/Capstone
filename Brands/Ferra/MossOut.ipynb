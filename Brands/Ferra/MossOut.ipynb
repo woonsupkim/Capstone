{
 "cells": [
  {
   "cell_type": "markdown",
   "metadata": {},
   "source": [
    "# Sentiment Analysis and Zero-Shot Classification"
   ]
  },
  {
   "cell_type": "code",
   "execution_count": 4,
   "metadata": {},
   "outputs": [
    {
     "name": "stdout",
     "output_type": "stream",
     "text": [
      "Collecting package metadata (current_repodata.json): done\n",
      "Solving environment: done\n",
      "\n",
      "\n",
      "==> WARNING: A newer version of conda exists. <==\n",
      "  current version: 4.12.0\n",
      "  latest version: 22.9.0\n",
      "\n",
      "Please update conda by running\n",
      "\n",
      "    $ conda update -n base -c defaults conda\n",
      "\n",
      "\n",
      "\n",
      "## Package Plan ##\n",
      "\n",
      "  environment location: /Users/ferratan/opt/anaconda3\n",
      "\n",
      "  added / updated specs:\n",
      "    - transformers\n",
      "\n",
      "\n",
      "The following packages will be downloaded:\n",
      "\n",
      "    package                    |            build\n",
      "    ---------------------------|-----------------\n",
      "    conda-22.9.0               |   py39h6e9494a_1         969 KB  conda-forge\n",
      "    huggingface_hub-0.10.1     |     pyhd8ed1ab_0         114 KB  conda-forge\n",
      "    ninja-1.10.2               |       hecd8cb5_5           9 KB\n",
      "    ninja-base-1.10.2          |       haf03e11_5         118 KB\n",
      "    python_abi-3.9             |           2_cp39           4 KB  conda-forge\n",
      "    pytorch-1.10.2             |cpu_py39h903acac_0        53.9 MB\n",
      "    sacremoses-0.0.53          |     pyhd8ed1ab_0         427 KB  conda-forge\n",
      "    tokenizers-0.11.4          |   py39h8776b5c_1         2.7 MB\n",
      "    transformers-4.18.0        |   py39hecd8cb5_0         2.9 MB\n",
      "    ------------------------------------------------------------\n",
      "                                           Total:        61.1 MB\n",
      "\n",
      "The following NEW packages will be INSTALLED:\n",
      "\n",
      "  huggingface_hub    conda-forge/noarch::huggingface_hub-0.10.1-pyhd8ed1ab_0\n",
      "  ninja              pkgs/main/osx-64::ninja-1.10.2-hecd8cb5_5\n",
      "  ninja-base         pkgs/main/osx-64::ninja-base-1.10.2-haf03e11_5\n",
      "  python_abi         conda-forge/osx-64::python_abi-3.9-2_cp39\n",
      "  pytorch            pkgs/main/osx-64::pytorch-1.10.2-cpu_py39h903acac_0\n",
      "  sacremoses         conda-forge/noarch::sacremoses-0.0.53-pyhd8ed1ab_0\n",
      "  tokenizers         pkgs/main/osx-64::tokenizers-0.11.4-py39h8776b5c_1\n",
      "  transformers       pkgs/main/osx-64::transformers-4.18.0-py39hecd8cb5_0\n",
      "\n",
      "The following packages will be UPDATED:\n",
      "\n",
      "  conda              pkgs/main::conda-4.12.0-py39hecd8cb5_0 --> conda-forge::conda-22.9.0-py39h6e9494a_1\n",
      "\n",
      "\n",
      "\n",
      "Downloading and Extracting Packages\n",
      "pytorch-1.10.2       | 53.9 MB   | ##################################### | 100% \n",
      "ninja-base-1.10.2    | 118 KB    | ##################################### | 100% \n",
      "ninja-1.10.2         | 9 KB      | ##################################### | 100% \n",
      "transformers-4.18.0  | 2.9 MB    | ##################################### | 100% \n",
      "conda-22.9.0         | 969 KB    | ##################################### | 100% \n",
      "tokenizers-0.11.4    | 2.7 MB    | ##################################### | 100% \n",
      "python_abi-3.9       | 4 KB      | ##################################### | 100% \n",
      "sacremoses-0.0.53    | 427 KB    | ##################################### | 100% \n",
      "huggingface_hub-0.10 | 114 KB    | ##################################### | 100% \n",
      "Preparing transaction: done\n",
      "Verifying transaction: done\n",
      "Executing transaction: done\n",
      "\n",
      "Note: you may need to restart the kernel to use updated packages.\n"
     ]
    }
   ],
   "source": [
    "# conda install -c conda-forge transformers"
   ]
  },
  {
   "cell_type": "code",
   "execution_count": 1,
   "metadata": {},
   "outputs": [],
   "source": [
    "import pandas as pd\n",
    "import numpy as np\n",
    "import seaborn as sns\n",
    "import matplotlib.pyplot as plt\n",
    "\n",
    "import warnings\n",
    "warnings.filterwarnings(\"ignore\")\n",
    "\n",
    "from IPython.core.interactiveshell import InteractiveShell\n",
    "InteractiveShell.ast_node_interactivity = 'all'\n",
    "\n",
    "pd.set_option('display.max_columns', None)"
   ]
  },
  {
   "cell_type": "code",
   "execution_count": 2,
   "metadata": {},
   "outputs": [],
   "source": [
    "df = pd.read_csv('/Users/ferratan/Downloads/MossOut.csv', index_col = [0])"
   ]
  },
  {
   "cell_type": "markdown",
   "metadata": {},
   "source": [
    "# Sentiment Analysis"
   ]
  },
  {
   "cell_type": "code",
   "execution_count": 3,
   "metadata": {},
   "outputs": [
    {
     "name": "stderr",
     "output_type": "stream",
     "text": [
      "Some weights of the model checkpoint at cardiffnlp/twitter-roberta-base-sentiment-latest were not used when initializing RobertaForSequenceClassification: ['roberta.pooler.dense.weight', 'roberta.pooler.dense.bias']\n",
      "- This IS expected if you are initializing RobertaForSequenceClassification from the checkpoint of a model trained on another task or with another architecture (e.g. initializing a BertForSequenceClassification model from a BertForPreTraining model).\n",
      "- This IS NOT expected if you are initializing RobertaForSequenceClassification from the checkpoint of a model that you expect to be exactly identical (initializing a BertForSequenceClassification model from a BertForSequenceClassification model).\n"
     ]
    }
   ],
   "source": [
    "from transformers import pipeline\n",
    "sentiment_pipeline = pipeline(\"sentiment-analysis\", model=\"cardiffnlp/twitter-roberta-base-sentiment-latest\")"
   ]
  },
  {
   "cell_type": "code",
   "execution_count": 4,
   "metadata": {},
   "outputs": [
    {
     "data": {
      "text/plain": [
       "[{'label': 'Positive', 'score': 0.9649670124053955}]"
      ]
     },
     "execution_count": 4,
     "metadata": {},
     "output_type": "execute_result"
    }
   ],
   "source": [
    "#sample sentiment analysis\n",
    "sample_review = list(df['review_text'])[1]\n",
    "result = sentiment_pipeline(sample_review)\n",
    "result"
   ]
  },
  {
   "cell_type": "code",
   "execution_count": 5,
   "metadata": {},
   "outputs": [
    {
     "name": "stderr",
     "output_type": "stream",
     "text": [
      "Some weights of the model checkpoint at cardiffnlp/twitter-roberta-base-sentiment-latest were not used when initializing RobertaForSequenceClassification: ['roberta.pooler.dense.weight', 'roberta.pooler.dense.bias']\n",
      "- This IS expected if you are initializing RobertaForSequenceClassification from the checkpoint of a model trained on another task or with another architecture (e.g. initializing a BertForSequenceClassification model from a BertForPreTraining model).\n",
      "- This IS NOT expected if you are initializing RobertaForSequenceClassification from the checkpoint of a model that you expect to be exactly identical (initializing a BertForSequenceClassification model from a BertForSequenceClassification model).\n"
     ]
    },
    {
     "name": "stdout",
     "output_type": "stream",
     "text": [
      "0\n",
      "20\n",
      "40\n",
      "60\n",
      "80\n",
      "100\n",
      "120\n",
      "140\n",
      "160\n",
      "180\n",
      "200\n",
      "220\n",
      "240\n",
      "260\n",
      "280\n",
      "300\n",
      "320\n",
      "340\n",
      "360\n",
      "380\n"
     ]
    }
   ],
   "source": [
    "from transformers import pipeline\n",
    "sentiment_pipeline = pipeline(\"sentiment-analysis\", model=\"cardiffnlp/twitter-roberta-base-sentiment-latest\")\n",
    "\n",
    "sentiment = []\n",
    "index = -1\n",
    "for sentence in df['review_lower']:\n",
    "    index+=1\n",
    "    if(index%20 == 0):\n",
    "        print(index)\n",
    "\n",
    "    result = sentiment_pipeline(sentence[:512])[0]\n",
    "    sentiment.append(result['label'])\n",
    "df['sentiment'] = sentiment"
   ]
  },
  {
   "cell_type": "markdown",
   "metadata": {},
   "source": [
    "## Zero Shot Classificaiton"
   ]
  },
  {
   "cell_type": "code",
   "execution_count": 6,
   "metadata": {},
   "outputs": [],
   "source": [
    "import transformers\n",
    "from transformers import pipeline"
   ]
  },
  {
   "cell_type": "code",
   "execution_count": 7,
   "metadata": {},
   "outputs": [],
   "source": [
    "classifier  = pipeline(\"zero-shot-classification\",  model = \"facebook/bart-large-mnli\")"
   ]
  },
  {
   "cell_type": "markdown",
   "metadata": {},
   "source": [
    "## Sample Classification"
   ]
  },
  {
   "cell_type": "markdown",
   "metadata": {},
   "source": [
    "this is where you can play around with the labels to see which ones would make sense"
   ]
  },
  {
   "cell_type": "code",
   "execution_count": 15,
   "metadata": {},
   "outputs": [
    {
     "data": {
      "text/plain": [
       "{'sequence': '[This review was collected as part of a promotion.] This is a grear product. We have used different brands earlier but this one was great. It helped in changing out backyard. Highly recommended.',\n",
       " 'labels': ['effective',\n",
       "  'quality',\n",
       "  'cheap',\n",
       "  'efficient',\n",
       "  'affordability',\n",
       "  'ease of use',\n",
       "  'cost',\n",
       "  'functionality',\n",
       "  'satisfaction',\n",
       "  'delivery',\n",
       "  'expensive',\n",
       "  'complaints',\n",
       "  'faulty',\n",
       "  'defective'],\n",
       " 'scores': [0.9982118010520935,\n",
       "  0.9970576167106628,\n",
       "  0.9797047972679138,\n",
       "  0.9723241329193115,\n",
       "  0.915959358215332,\n",
       "  0.9100281596183777,\n",
       "  0.8241082429885864,\n",
       "  0.6835179328918457,\n",
       "  0.661558985710144,\n",
       "  0.44441667199134827,\n",
       "  0.054540641605854034,\n",
       "  0.004163677804172039,\n",
       "  0.0008530390332452953,\n",
       "  0.00026743949274532497]}"
      ]
     },
     "execution_count": 15,
     "metadata": {},
     "output_type": "execute_result"
    }
   ],
   "source": [
    "# play around with the \"candidate_labels\"\n",
    "sample_review = list(df['review_text'])[1]\n",
    "\n",
    "res = classifier(\n",
    "    sample_review,\n",
    "    candidate_labels = ['affordability', 'quality', 'complaints', 'satisfaction', 'delivery', 'ease of use', 'cost', 'efficient', 'functionality', 'cheap', 'expensive', 'effective', 'faulty', 'defective'], \n",
    "    multi_label = True\n",
    ")\n",
    "res"
   ]
  },
  {
   "cell_type": "code",
   "execution_count": 16,
   "metadata": {},
   "outputs": [
    {
     "data": {
      "text/plain": [
       "{'sequence': '[This review was collected as part of a promotion.] I dont know how long it should take to work but it doesnt seem to be working. We have a moss problem on the south side of our home. I had my partner apply this to the effected area last week per the instructions on the bottle but it actually seems like there is more moss than before. Or its greener. Were gonna give it another week before we try something more high powered.',\n",
       " 'labels': ['faulty',\n",
       "  'cost',\n",
       "  'quality',\n",
       "  'complaints',\n",
       "  'cheap',\n",
       "  'functionality',\n",
       "  'defective',\n",
       "  'expensive',\n",
       "  'ease of use',\n",
       "  'delivery',\n",
       "  'satisfaction',\n",
       "  'efficient',\n",
       "  'affordability',\n",
       "  'effective'],\n",
       " 'scores': [0.9802309274673462,\n",
       "  0.8941304087638855,\n",
       "  0.8865416049957275,\n",
       "  0.8290219306945801,\n",
       "  0.7636889219284058,\n",
       "  0.716784656047821,\n",
       "  0.6248000264167786,\n",
       "  0.515829861164093,\n",
       "  0.4121343195438385,\n",
       "  0.3196192979812622,\n",
       "  0.2847721576690674,\n",
       "  0.2702045142650604,\n",
       "  0.1995008885860443,\n",
       "  0.1372622400522232]}"
      ]
     },
     "execution_count": 16,
     "metadata": {},
     "output_type": "execute_result"
    }
   ],
   "source": [
    "# play around with the \"candidate_labels\"\n",
    "sample_review = list(df['review_text'])[2]\n",
    "\n",
    "res = classifier(\n",
    "    sample_review,\n",
    "    candidate_labels = ['affordability', 'quality', 'complaints', 'satisfaction', 'delivery', 'ease of use', 'cost', 'efficient', 'functionality', 'cheap', 'expensive', 'effective', 'faulty', 'defective'], \n",
    "    multi_label = True\n",
    ")\n",
    "res"
   ]
  },
  {
   "cell_type": "code",
   "execution_count": 17,
   "metadata": {},
   "outputs": [
    {
     "data": {
      "text/plain": [
       "{'sequence': '[This review was collected as part of a promotion.] I was skeptical about using this because nothing works on my grass, but this did. It took the moss away and grass is growing now!',\n",
       " 'labels': ['effective',\n",
       "  'efficient',\n",
       "  'quality',\n",
       "  'functionality',\n",
       "  'satisfaction',\n",
       "  'cheap',\n",
       "  'cost',\n",
       "  'delivery',\n",
       "  'affordability',\n",
       "  'expensive',\n",
       "  'ease of use',\n",
       "  'complaints',\n",
       "  'faulty',\n",
       "  'defective'],\n",
       " 'scores': [0.998035192489624,\n",
       "  0.95330810546875,\n",
       "  0.9405019283294678,\n",
       "  0.7023308277130127,\n",
       "  0.5737557411193848,\n",
       "  0.5560637712478638,\n",
       "  0.4771696925163269,\n",
       "  0.2209593504667282,\n",
       "  0.2150791734457016,\n",
       "  0.21433117985725403,\n",
       "  0.12254331260919571,\n",
       "  0.10696989297866821,\n",
       "  0.05356576293706894,\n",
       "  0.011253343895077705]}"
      ]
     },
     "execution_count": 17,
     "metadata": {},
     "output_type": "execute_result"
    }
   ],
   "source": [
    "# play around with the \"candidate_labels\"\n",
    "sample_review = list(df['review_text'])[3]\n",
    "\n",
    "res = classifier(\n",
    "    sample_review,\n",
    "    candidate_labels = ['affordability', 'quality', 'complaints', 'satisfaction', 'delivery', 'ease of use', 'cost', 'efficient', 'functionality', 'cheap', 'expensive', 'effective', 'faulty', 'defective'], \n",
    "    multi_label = True\n",
    ")\n",
    "res"
   ]
  },
  {
   "cell_type": "code",
   "execution_count": 18,
   "metadata": {},
   "outputs": [
    {
     "data": {
      "text/plain": [
       "{'sequence': 'killed a little bit but no where near all of it',\n",
       " 'labels': ['cost',\n",
       "  'defective',\n",
       "  'faulty',\n",
       "  'functionality',\n",
       "  'effective',\n",
       "  'affordability',\n",
       "  'efficient',\n",
       "  'delivery',\n",
       "  'expensive',\n",
       "  'complaints',\n",
       "  'quality',\n",
       "  'cheap',\n",
       "  'ease of use',\n",
       "  'satisfaction'],\n",
       " 'scores': [0.7659798860549927,\n",
       "  0.568946361541748,\n",
       "  0.5396653413772583,\n",
       "  0.39302143454551697,\n",
       "  0.36093369126319885,\n",
       "  0.3574143052101135,\n",
       "  0.3192466199398041,\n",
       "  0.2990844249725342,\n",
       "  0.2776084542274475,\n",
       "  0.2255634218454361,\n",
       "  0.12636873126029968,\n",
       "  0.07338748127222061,\n",
       "  0.06977254897356033,\n",
       "  0.051340654492378235]}"
      ]
     },
     "execution_count": 18,
     "metadata": {},
     "output_type": "execute_result"
    }
   ],
   "source": [
    "# play around with the \"candidate_labels\"\n",
    "sample_review = list(df['review_text'])[4]\n",
    "\n",
    "res = classifier(\n",
    "    sample_review,\n",
    "    candidate_labels = ['affordability', 'quality', 'complaints', 'satisfaction', 'delivery', 'ease of use', 'cost', 'efficient', 'functionality', 'cheap', 'expensive', 'effective', 'faulty', 'defective'], \n",
    "    multi_label = True\n",
    ")\n",
    "res"
   ]
  },
  {
   "cell_type": "markdown",
   "metadata": {},
   "source": [
    "# Zero Shot Classification (Entire data)"
   ]
  },
  {
   "cell_type": "markdown",
   "metadata": {},
   "source": [
    "Using the labels you identified above, you want to now run it through the entire data"
   ]
  },
  {
   "cell_type": "code",
   "execution_count": 19,
   "metadata": {},
   "outputs": [],
   "source": [
    "classifier  = pipeline(\"zero-shot-classification\",  model = \"facebook/bart-large-mnli\")"
   ]
  },
  {
   "cell_type": "code",
   "execution_count": 20,
   "metadata": {},
   "outputs": [],
   "source": [
    "# insert the labels you identified from above section\n",
    "type = ['affordability', 'quality', 'complaints', 'satisfaction', 'delivery', 'ease of use', 'cost', 'efficient', 'functionality', 'cheap', 'expensive', 'effective', 'faulty', 'defective']"
   ]
  },
  {
   "cell_type": "code",
   "execution_count": 21,
   "metadata": {},
   "outputs": [
    {
     "name": "stdout",
     "output_type": "stream",
     "text": [
      "0\n",
      "20\n",
      "40\n",
      "60\n",
      "80\n",
      "100\n",
      "120\n",
      "140\n",
      "160\n",
      "180\n",
      "200\n",
      "220\n",
      "240\n",
      "260\n",
      "280\n",
      "300\n",
      "320\n",
      "340\n",
      "360\n",
      "380\n"
     ]
    }
   ],
   "source": [
    "#setting empty values for the columns\n",
    "index = -1\n",
    "for label in type:\n",
    "    df[label + '_m'] = -1\n",
    "\n",
    "for j in range(len(df)):\n",
    "    #counter for progress/debugging\n",
    "    index+=1\n",
    "    if(index%20 == 0): \n",
    "        print(index)\n",
    "        \n",
    "    #running the classifier on the column    \n",
    "    res = classifier(\n",
    "        df.iloc[j]['review_lower'],\n",
    "        candidate_labels = type,\n",
    "        multi_label = True\n",
    "    )\n",
    "    #setting the column values according to the output from the classifier (\"_m\" = multiclass)\n",
    "    for i in range(len(res['labels'])):\n",
    "        df[res['labels'][i]+ '_m'].iloc[j] = res['scores'][i]"
   ]
  },
  {
   "cell_type": "code",
   "execution_count": 22,
   "metadata": {},
   "outputs": [
    {
     "data": {
      "text/html": [
       "<div>\n",
       "<style scoped>\n",
       "    .dataframe tbody tr th:only-of-type {\n",
       "        vertical-align: middle;\n",
       "    }\n",
       "\n",
       "    .dataframe tbody tr th {\n",
       "        vertical-align: top;\n",
       "    }\n",
       "\n",
       "    .dataframe thead th {\n",
       "        text-align: right;\n",
       "    }\n",
       "</style>\n",
       "<table border=\"1\" class=\"dataframe\">\n",
       "  <thead>\n",
       "    <tr style=\"text-align: right;\">\n",
       "      <th></th>\n",
       "      <th>segment</th>\n",
       "      <th>review_id</th>\n",
       "      <th>product_name</th>\n",
       "      <th>producturl</th>\n",
       "      <th>retailer</th>\n",
       "      <th>brand</th>\n",
       "      <th>retailer_product_id</th>\n",
       "      <th>base_id</th>\n",
       "      <th>variants_flag</th>\n",
       "      <th>review_creation_date</th>\n",
       "      <th>year</th>\n",
       "      <th>month</th>\n",
       "      <th>week</th>\n",
       "      <th>review_title</th>\n",
       "      <th>review_text</th>\n",
       "      <th>review_type</th>\n",
       "      <th>price</th>\n",
       "      <th>rating</th>\n",
       "      <th>images</th>\n",
       "      <th>videos</th>\n",
       "      <th>helpful_votes</th>\n",
       "      <th>promotion_flag</th>\n",
       "      <th>review_lower</th>\n",
       "      <th>date</th>\n",
       "      <th>sentiment</th>\n",
       "      <th>affordability_m</th>\n",
       "      <th>quality_m</th>\n",
       "      <th>complaints_m</th>\n",
       "      <th>satisfaction_m</th>\n",
       "      <th>delivery_m</th>\n",
       "      <th>ease of use_m</th>\n",
       "      <th>cost_m</th>\n",
       "      <th>efficient_m</th>\n",
       "      <th>functionality_m</th>\n",
       "      <th>cheap_m</th>\n",
       "      <th>expensive_m</th>\n",
       "      <th>effective_m</th>\n",
       "      <th>faulty_m</th>\n",
       "      <th>defective_m</th>\n",
       "      <th>max</th>\n",
       "    </tr>\n",
       "  </thead>\n",
       "  <tbody>\n",
       "    <tr>\n",
       "      <th>9484</th>\n",
       "      <td>Garden</td>\n",
       "      <td>70181</td>\n",
       "      <td>MOSS OUT! For Roofs &amp; Walks 27 oz. Ready To Spray</td>\n",
       "      <td>http://www.homedepot.com/p/100598513</td>\n",
       "      <td>Homedepot</td>\n",
       "      <td>MossOut</td>\n",
       "      <td>100598513</td>\n",
       "      <td>100598513</td>\n",
       "      <td>No</td>\n",
       "      <td>2021-12-30T00:00:00</td>\n",
       "      <td>2021</td>\n",
       "      <td>12</td>\n",
       "      <td>52</td>\n",
       "      <td>Does the job</td>\n",
       "      <td>[This review was collected as part of a promot...</td>\n",
       "      <td>syndicated reviews</td>\n",
       "      <td>0.00</td>\n",
       "      <td>3</td>\n",
       "      <td>0</td>\n",
       "      <td>0</td>\n",
       "      <td>0</td>\n",
       "      <td>Yes</td>\n",
       "      <td>[this review was collected as part of a promot...</td>\n",
       "      <td>2021-12-30</td>\n",
       "      <td>Neutral</td>\n",
       "      <td>0.287298</td>\n",
       "      <td>0.801785</td>\n",
       "      <td>0.102907</td>\n",
       "      <td>0.327620</td>\n",
       "      <td>0.187908</td>\n",
       "      <td>0.663477</td>\n",
       "      <td>0.489835</td>\n",
       "      <td>0.522202</td>\n",
       "      <td>0.714873</td>\n",
       "      <td>0.321070</td>\n",
       "      <td>0.104820</td>\n",
       "      <td>0.939498</td>\n",
       "      <td>0.023604</td>\n",
       "      <td>0.005137</td>\n",
       "      <td>0.939498</td>\n",
       "    </tr>\n",
       "    <tr>\n",
       "      <th>1733</th>\n",
       "      <td>Garden</td>\n",
       "      <td>13763</td>\n",
       "      <td>MOSS OUT! Plus Fertilizer For Lawns 20-0-5 20 ...</td>\n",
       "      <td>http://www.homedepot.com/p/t/203419243</td>\n",
       "      <td>Homedepot</td>\n",
       "      <td>MossOut</td>\n",
       "      <td>203419243</td>\n",
       "      <td>203419243</td>\n",
       "      <td>No</td>\n",
       "      <td>2021-06-01T00:00:00</td>\n",
       "      <td>2021</td>\n",
       "      <td>6</td>\n",
       "      <td>22</td>\n",
       "      <td>great product</td>\n",
       "      <td>[This review was collected as part of a promot...</td>\n",
       "      <td>syndicated reviews</td>\n",
       "      <td>18.48</td>\n",
       "      <td>4</td>\n",
       "      <td>0</td>\n",
       "      <td>0</td>\n",
       "      <td>0</td>\n",
       "      <td>Yes</td>\n",
       "      <td>[this review was collected as part of a promot...</td>\n",
       "      <td>2021-06-01</td>\n",
       "      <td>Positive</td>\n",
       "      <td>0.962197</td>\n",
       "      <td>0.996654</td>\n",
       "      <td>0.002285</td>\n",
       "      <td>0.638618</td>\n",
       "      <td>0.407897</td>\n",
       "      <td>0.870549</td>\n",
       "      <td>0.796816</td>\n",
       "      <td>0.952581</td>\n",
       "      <td>0.592192</td>\n",
       "      <td>0.986001</td>\n",
       "      <td>0.069175</td>\n",
       "      <td>0.997696</td>\n",
       "      <td>0.001042</td>\n",
       "      <td>0.000259</td>\n",
       "      <td>0.997696</td>\n",
       "    </tr>\n",
       "    <tr>\n",
       "      <th>9984</th>\n",
       "      <td>Garden</td>\n",
       "      <td>70681</td>\n",
       "      <td>MOSS OUT! For Roofs &amp; Walks 27 oz. Liquid Conc...</td>\n",
       "      <td>https://www.lowes.com/pd/Moss-Out-27-oz-Concen...</td>\n",
       "      <td>Lowes</td>\n",
       "      <td>MossOut</td>\n",
       "      <td>3804581</td>\n",
       "      <td>3804581</td>\n",
       "      <td>No</td>\n",
       "      <td>2021-12-02T00:00:00</td>\n",
       "      <td>2021</td>\n",
       "      <td>12</td>\n",
       "      <td>48</td>\n",
       "      <td>Not sure about this</td>\n",
       "      <td>[This review was collected as part of a promot...</td>\n",
       "      <td>syndicated reviews</td>\n",
       "      <td>15.78</td>\n",
       "      <td>3</td>\n",
       "      <td>0</td>\n",
       "      <td>0</td>\n",
       "      <td>0</td>\n",
       "      <td>Yes</td>\n",
       "      <td>[this review was collected as part of a promot...</td>\n",
       "      <td>2021-12-02</td>\n",
       "      <td>Negative</td>\n",
       "      <td>0.183240</td>\n",
       "      <td>0.869463</td>\n",
       "      <td>0.880110</td>\n",
       "      <td>0.346412</td>\n",
       "      <td>0.303530</td>\n",
       "      <td>0.360083</td>\n",
       "      <td>0.901363</td>\n",
       "      <td>0.212513</td>\n",
       "      <td>0.697171</td>\n",
       "      <td>0.747386</td>\n",
       "      <td>0.462476</td>\n",
       "      <td>0.118492</td>\n",
       "      <td>0.976775</td>\n",
       "      <td>0.710727</td>\n",
       "      <td>0.976775</td>\n",
       "    </tr>\n",
       "  </tbody>\n",
       "</table>\n",
       "</div>"
      ],
      "text/plain": [
       "     segment  review_id                                       product_name  \\\n",
       "9484  Garden      70181  MOSS OUT! For Roofs & Walks 27 oz. Ready To Spray   \n",
       "1733  Garden      13763  MOSS OUT! Plus Fertilizer For Lawns 20-0-5 20 ...   \n",
       "9984  Garden      70681  MOSS OUT! For Roofs & Walks 27 oz. Liquid Conc...   \n",
       "\n",
       "                                             producturl   retailer    brand  \\\n",
       "9484               http://www.homedepot.com/p/100598513  Homedepot  MossOut   \n",
       "1733             http://www.homedepot.com/p/t/203419243  Homedepot  MossOut   \n",
       "9984  https://www.lowes.com/pd/Moss-Out-27-oz-Concen...      Lowes  MossOut   \n",
       "\n",
       "     retailer_product_id    base_id variants_flag review_creation_date  year  \\\n",
       "9484           100598513  100598513            No  2021-12-30T00:00:00  2021   \n",
       "1733           203419243  203419243            No  2021-06-01T00:00:00  2021   \n",
       "9984             3804581    3804581            No  2021-12-02T00:00:00  2021   \n",
       "\n",
       "      month  week         review_title  \\\n",
       "9484     12    52         Does the job   \n",
       "1733      6    22        great product   \n",
       "9984     12    48  Not sure about this   \n",
       "\n",
       "                                            review_text         review_type  \\\n",
       "9484  [This review was collected as part of a promot...  syndicated reviews   \n",
       "1733  [This review was collected as part of a promot...  syndicated reviews   \n",
       "9984  [This review was collected as part of a promot...  syndicated reviews   \n",
       "\n",
       "      price  rating  images  videos  helpful_votes promotion_flag  \\\n",
       "9484   0.00       3       0       0              0            Yes   \n",
       "1733  18.48       4       0       0              0            Yes   \n",
       "9984  15.78       3       0       0              0            Yes   \n",
       "\n",
       "                                           review_lower        date sentiment  \\\n",
       "9484  [this review was collected as part of a promot...  2021-12-30   Neutral   \n",
       "1733  [this review was collected as part of a promot...  2021-06-01  Positive   \n",
       "9984  [this review was collected as part of a promot...  2021-12-02  Negative   \n",
       "\n",
       "      affordability_m  quality_m  complaints_m  satisfaction_m  delivery_m  \\\n",
       "9484         0.287298   0.801785      0.102907        0.327620    0.187908   \n",
       "1733         0.962197   0.996654      0.002285        0.638618    0.407897   \n",
       "9984         0.183240   0.869463      0.880110        0.346412    0.303530   \n",
       "\n",
       "      ease of use_m    cost_m  efficient_m  functionality_m   cheap_m  \\\n",
       "9484       0.663477  0.489835     0.522202         0.714873  0.321070   \n",
       "1733       0.870549  0.796816     0.952581         0.592192  0.986001   \n",
       "9984       0.360083  0.901363     0.212513         0.697171  0.747386   \n",
       "\n",
       "      expensive_m  effective_m  faulty_m  defective_m       max  \n",
       "9484     0.104820     0.939498  0.023604     0.005137  0.939498  \n",
       "1733     0.069175     0.997696  0.001042     0.000259  0.997696  \n",
       "9984     0.462476     0.118492  0.976775     0.710727  0.976775  "
      ]
     },
     "execution_count": 22,
     "metadata": {},
     "output_type": "execute_result"
    }
   ],
   "source": [
    "# create a \"max\" column for metric purposes\n",
    "df['max'] = df[['affordability_m', 'quality_m', 'complaints_m', 'satisfaction_m', 'delivery_m', 'ease of use_m', 'cost_m', 'efficient_m', 'functionality_m', 'cheap_m', 'expensive_m', 'effective_m', 'faulty_m', 'defective_m']].max(axis=1)\n",
    "df.head(3)"
   ]
  },
  {
   "cell_type": "code",
   "execution_count": 26,
   "metadata": {},
   "outputs": [],
   "source": [
    "#assign the max to its aligned type\n",
    "align_list=[]\n",
    "for i in range(len(df)):\n",
    "  for t in type:\n",
    "    if df[t+'_m'].iloc[i] == df['max'].iloc[i]:\n",
    "      align_list.append(t)\n",
    "      \n",
    "df['align_type']=align_list"
   ]
  },
  {
   "cell_type": "code",
   "execution_count": 24,
   "metadata": {},
   "outputs": [],
   "source": [
    "import seaborn as sns"
   ]
  },
  {
   "cell_type": "code",
   "execution_count": 27,
   "metadata": {},
   "outputs": [
    {
     "data": {
      "text/html": [
       "<div>\n",
       "<style scoped>\n",
       "    .dataframe tbody tr th:only-of-type {\n",
       "        vertical-align: middle;\n",
       "    }\n",
       "\n",
       "    .dataframe tbody tr th {\n",
       "        vertical-align: top;\n",
       "    }\n",
       "\n",
       "    .dataframe thead th {\n",
       "        text-align: right;\n",
       "    }\n",
       "</style>\n",
       "<table border=\"1\" class=\"dataframe\">\n",
       "  <thead>\n",
       "    <tr style=\"text-align: right;\">\n",
       "      <th>align_type</th>\n",
       "      <th>cheap</th>\n",
       "      <th>complaints</th>\n",
       "      <th>cost</th>\n",
       "      <th>defective</th>\n",
       "      <th>delivery</th>\n",
       "      <th>ease of use</th>\n",
       "      <th>effective</th>\n",
       "      <th>efficient</th>\n",
       "      <th>expensive</th>\n",
       "      <th>faulty</th>\n",
       "      <th>functionality</th>\n",
       "      <th>quality</th>\n",
       "    </tr>\n",
       "    <tr>\n",
       "      <th>sentiment</th>\n",
       "      <th></th>\n",
       "      <th></th>\n",
       "      <th></th>\n",
       "      <th></th>\n",
       "      <th></th>\n",
       "      <th></th>\n",
       "      <th></th>\n",
       "      <th></th>\n",
       "      <th></th>\n",
       "      <th></th>\n",
       "      <th></th>\n",
       "      <th></th>\n",
       "    </tr>\n",
       "  </thead>\n",
       "  <tbody>\n",
       "    <tr>\n",
       "      <th>Negative</th>\n",
       "      <td>0.000000</td>\n",
       "      <td>0.549757</td>\n",
       "      <td>0.627366</td>\n",
       "      <td>0.969578</td>\n",
       "      <td>0.000000</td>\n",
       "      <td>0.998128</td>\n",
       "      <td>0.964155</td>\n",
       "      <td>0.983710</td>\n",
       "      <td>0.914770</td>\n",
       "      <td>0.956529</td>\n",
       "      <td>0.832035</td>\n",
       "      <td>0.920809</td>\n",
       "    </tr>\n",
       "    <tr>\n",
       "      <th>Neutral</th>\n",
       "      <td>0.984835</td>\n",
       "      <td>0.000000</td>\n",
       "      <td>0.000000</td>\n",
       "      <td>0.972001</td>\n",
       "      <td>0.960847</td>\n",
       "      <td>0.928641</td>\n",
       "      <td>0.974952</td>\n",
       "      <td>0.983645</td>\n",
       "      <td>0.700817</td>\n",
       "      <td>0.836986</td>\n",
       "      <td>0.693917</td>\n",
       "      <td>0.919542</td>\n",
       "    </tr>\n",
       "    <tr>\n",
       "      <th>Positive</th>\n",
       "      <td>0.996584</td>\n",
       "      <td>0.000000</td>\n",
       "      <td>0.000000</td>\n",
       "      <td>0.000000</td>\n",
       "      <td>0.000000</td>\n",
       "      <td>0.997408</td>\n",
       "      <td>0.994220</td>\n",
       "      <td>0.997336</td>\n",
       "      <td>0.000000</td>\n",
       "      <td>0.901774</td>\n",
       "      <td>0.000000</td>\n",
       "      <td>0.978980</td>\n",
       "    </tr>\n",
       "  </tbody>\n",
       "</table>\n",
       "</div>"
      ],
      "text/plain": [
       "align_type     cheap  complaints      cost  defective  delivery  ease of use  \\\n",
       "sentiment                                                                      \n",
       "Negative    0.000000    0.549757  0.627366   0.969578  0.000000     0.998128   \n",
       "Neutral     0.984835    0.000000  0.000000   0.972001  0.960847     0.928641   \n",
       "Positive    0.996584    0.000000  0.000000   0.000000  0.000000     0.997408   \n",
       "\n",
       "align_type  effective  efficient  expensive    faulty  functionality   quality  \n",
       "sentiment                                                                       \n",
       "Negative     0.964155   0.983710   0.914770  0.956529       0.832035  0.920809  \n",
       "Neutral      0.974952   0.983645   0.700817  0.836986       0.693917  0.919542  \n",
       "Positive     0.994220   0.997336   0.000000  0.901774       0.000000  0.978980  "
      ]
     },
     "execution_count": 27,
     "metadata": {},
     "output_type": "execute_result"
    }
   ],
   "source": [
    "# Create Pivot table for the Heatmap\n",
    "table = pd.pivot_table(df, values='max', index=['sentiment'], columns=['align_type'], aggfunc=np.mean,fill_value=0)\n",
    "table"
   ]
  },
  {
   "cell_type": "code",
   "execution_count": 28,
   "metadata": {},
   "outputs": [
    {
     "data": {
      "text/plain": [
       "<Figure size 864x360 with 0 Axes>"
      ]
     },
     "execution_count": 28,
     "metadata": {},
     "output_type": "execute_result"
    },
    {
     "data": {
      "text/plain": [
       "[Text(0.5, 17.5, ''), Text(80.5, 0.5, '')]"
      ]
     },
     "execution_count": 28,
     "metadata": {},
     "output_type": "execute_result"
    },
    {
     "data": {
      "text/plain": [
       "[Text(0.5, -49.875, ''), Text(80.5, 0.5, '')]"
      ]
     },
     "execution_count": 28,
     "metadata": {},
     "output_type": "execute_result"
    },
    {
     "data": {
      "text/plain": [
       "[Text(0.5, -49.875, ''), Text(80.5, 0.5, '')]"
      ]
     },
     "execution_count": 28,
     "metadata": {},
     "output_type": "execute_result"
    },
    {
     "data": {
      "image/png": "[encoded data removed]",
      "text/plain": [
       "<Figure size 864x360 with 1 Axes>"
      ]
     },
     "metadata": {
      "needs_background": "light"
     },
     "output_type": "display_data"
    }
   ],
   "source": [
    "# Heatmap\n",
    "\n",
    "plt.figure(figsize=(12, 5))\n",
    "sns.set(font_scale=1.4)\n",
    "# Reds\n",
    "data1 = table.copy()\n",
    "data1.loc['Negative'] = float('nan')\n",
    "data1.loc['Neutral'] = float('nan')\n",
    "ax=sns.heatmap(data1, annot=True, cmap=\"Greens\", alpha=0.75,fmt=\".3\",annot_kws={\"fontsize\":15},linewidth=0.1,cbar=False)\n",
    "ax.set(xlabel=\"\", ylabel=\"\")\n",
    "\n",
    "# Blue\n",
    "data2 = table.copy()\n",
    "data2.loc['Negative'] = float('nan')\n",
    "data2.loc['Positive'] = float('nan')\n",
    "ax=sns.heatmap(data2, annot=True, cmap=\"Blues\", alpha=0.75,fmt=\".3\",annot_kws={\"fontsize\":15},linewidth=0.1,cbar=False)\n",
    "ax.set(xlabel=\"\", ylabel=\"\")\n",
    "# Greens\n",
    "data3 = table.copy()\n",
    "data3.loc['Positive'] = float('nan')\n",
    "data3.loc['Neutral'] = float('nan')\n",
    "ax=sns.heatmap(data3, annot=True, cmap=\"Reds\", alpha=0.75,fmt=\".3\",annot_kws={\"fontsize\":15},linewidth=0.1,cbar=False)\n",
    "ax.set(xlabel=\"\", ylabel=\"\")"
   ]
  },
  {
   "cell_type": "markdown",
   "metadata": {},
   "source": [
    "# Metric and Sanity Check"
   ]
  },
  {
   "cell_type": "code",
   "execution_count": 29,
   "metadata": {},
   "outputs": [
    {
     "data": {
      "text/plain": [
       "<matplotlib.lines.Line2D at 0x7fa87d75a430>"
      ]
     },
     "execution_count": 29,
     "metadata": {},
     "output_type": "execute_result"
    },
    {
     "data": {
      "text/plain": [
       "[Text(0, 0, '1'),\n",
       " Text(0, 0, '0'),\n",
       " Text(0, 0, '0'),\n",
       " Text(0, 0, '0'),\n",
       " Text(0, 0, '0'),\n",
       " Text(0, 0, '0'),\n",
       " Text(0, 0, '0'),\n",
       " Text(0, 0, '0'),\n",
       " Text(0, 0, '0'),\n",
       " Text(0, 0, '0'),\n",
       " Text(0, 0, '0'),\n",
       " Text(0, 0, '0'),\n",
       " Text(0, 0, '1'),\n",
       " Text(0, 0, '1'),\n",
       " Text(0, 0, '0'),\n",
       " Text(0, 0, '0'),\n",
       " Text(0, 0, '0'),\n",
       " Text(0, 0, '0'),\n",
       " Text(0, 0, '0'),\n",
       " Text(0, 0, '0'),\n",
       " Text(0, 0, '0'),\n",
       " Text(0, 0, '0'),\n",
       " Text(0, 0, '0'),\n",
       " Text(0, 0, '0'),\n",
       " Text(0, 0, '0'),\n",
       " Text(0, 0, '0'),\n",
       " Text(0, 0, '0'),\n",
       " Text(0, 0, '0'),\n",
       " Text(0, 0, '0'),\n",
       " Text(0, 0, '3'),\n",
       " Text(0, 0, '0'),\n",
       " Text(0, 0, '0'),\n",
       " Text(0, 0, '0'),\n",
       " Text(0, 0, '0'),\n",
       " Text(0, 0, '0'),\n",
       " Text(0, 0, '0'),\n",
       " Text(0, 0, '0'),\n",
       " Text(0, 0, '0'),\n",
       " Text(0, 0, '0'),\n",
       " Text(0, 0, '0'),\n",
       " Text(0, 0, '0'),\n",
       " Text(0, 0, '0'),\n",
       " Text(0, 0, '0'),\n",
       " Text(0, 0, '0'),\n",
       " Text(0, 0, '0'),\n",
       " Text(0, 0, '0'),\n",
       " Text(0, 0, '0'),\n",
       " Text(0, 0, '1'),\n",
       " Text(0, 0, '0'),\n",
       " Text(0, 0, '0'),\n",
       " Text(0, 0, '0'),\n",
       " Text(0, 0, '0'),\n",
       " Text(0, 0, '0'),\n",
       " Text(0, 0, '0'),\n",
       " Text(0, 0, '0'),\n",
       " Text(0, 0, '0'),\n",
       " Text(0, 0, '0'),\n",
       " Text(0, 0, '0'),\n",
       " Text(0, 0, '0'),\n",
       " Text(0, 0, '0'),\n",
       " Text(0, 0, '0'),\n",
       " Text(0, 0, '0'),\n",
       " Text(0, 0, '0'),\n",
       " Text(0, 0, '0'),\n",
       " Text(0, 0, '0'),\n",
       " Text(0, 0, '1'),\n",
       " Text(0, 0, '0'),\n",
       " Text(0, 0, '0'),\n",
       " Text(0, 0, '0'),\n",
       " Text(0, 0, '0'),\n",
       " Text(0, 0, '0'),\n",
       " Text(0, 0, '0'),\n",
       " Text(0, 0, '0'),\n",
       " Text(0, 0, '0'),\n",
       " Text(0, 0, '1'),\n",
       " Text(0, 0, '0'),\n",
       " Text(0, 0, '0'),\n",
       " Text(0, 0, '1'),\n",
       " Text(0, 0, '0'),\n",
       " Text(0, 0, '0'),\n",
       " Text(0, 0, '0'),\n",
       " Text(0, 0, '2'),\n",
       " Text(0, 0, '0'),\n",
       " Text(0, 0, '0'),\n",
       " Text(0, 0, '0'),\n",
       " Text(0, 0, '0'),\n",
       " Text(0, 0, '0'),\n",
       " Text(0, 0, '0'),\n",
       " Text(0, 0, '1'),\n",
       " Text(0, 0, '0'),\n",
       " Text(0, 0, '1'),\n",
       " Text(0, 0, '0'),\n",
       " Text(0, 0, '0'),\n",
       " Text(0, 0, '0'),\n",
       " Text(0, 0, '1'),\n",
       " Text(0, 0, '0'),\n",
       " Text(0, 0, '0'),\n",
       " Text(0, 0, '1'),\n",
       " Text(0, 0, '0'),\n",
       " Text(0, 0, '0'),\n",
       " Text(0, 0, '1'),\n",
       " Text(0, 0, '0'),\n",
       " Text(0, 0, '0'),\n",
       " Text(0, 0, '0'),\n",
       " Text(0, 0, '0'),\n",
       " Text(0, 0, '0'),\n",
       " Text(0, 0, '0'),\n",
       " Text(0, 0, '2'),\n",
       " Text(0, 0, '0'),\n",
       " Text(0, 0, '0'),\n",
       " Text(0, 0, '0'),\n",
       " Text(0, 0, '1'),\n",
       " Text(0, 0, '0'),\n",
       " Text(0, 0, '0'),\n",
       " Text(0, 0, '0'),\n",
       " Text(0, 0, '0'),\n",
       " Text(0, 0, '1'),\n",
       " Text(0, 0, '0'),\n",
       " Text(0, 0, '0'),\n",
       " Text(0, 0, '0'),\n",
       " Text(0, 0, '0'),\n",
       " Text(0, 0, '2'),\n",
       " Text(0, 0, '1'),\n",
       " Text(0, 0, '0'),\n",
       " Text(0, 0, '0'),\n",
       " Text(0, 0, '0'),\n",
       " Text(0, 0, '0'),\n",
       " Text(0, 0, '0'),\n",
       " Text(0, 0, '1'),\n",
       " Text(0, 0, '0'),\n",
       " Text(0, 0, '0'),\n",
       " Text(0, 0, '0'),\n",
       " Text(0, 0, '0'),\n",
       " Text(0, 0, '1'),\n",
       " Text(0, 0, '1'),\n",
       " Text(0, 0, '0'),\n",
       " Text(0, 0, '1'),\n",
       " Text(0, 0, '0'),\n",
       " Text(0, 0, '0'),\n",
       " Text(0, 0, '0'),\n",
       " Text(0, 0, '1'),\n",
       " Text(0, 0, '1'),\n",
       " Text(0, 0, '0'),\n",
       " Text(0, 0, '1'),\n",
       " Text(0, 0, '1'),\n",
       " Text(0, 0, '2'),\n",
       " Text(0, 0, '0'),\n",
       " Text(0, 0, '2'),\n",
       " Text(0, 0, '0'),\n",
       " Text(0, 0, '0'),\n",
       " Text(0, 0, '2'),\n",
       " Text(0, 0, '3'),\n",
       " Text(0, 0, '0'),\n",
       " Text(0, 0, '1'),\n",
       " Text(0, 0, '1'),\n",
       " Text(0, 0, '3'),\n",
       " Text(0, 0, '1'),\n",
       " Text(0, 0, '0'),\n",
       " Text(0, 0, '5'),\n",
       " Text(0, 0, '0'),\n",
       " Text(0, 0, '2'),\n",
       " Text(0, 0, '0'),\n",
       " Text(0, 0, '0'),\n",
       " Text(0, 0, '3'),\n",
       " Text(0, 0, '2'),\n",
       " Text(0, 0, '3'),\n",
       " Text(0, 0, '0'),\n",
       " Text(0, 0, '4'),\n",
       " Text(0, 0, '1'),\n",
       " Text(0, 0, '6'),\n",
       " Text(0, 0, '8'),\n",
       " Text(0, 0, '4'),\n",
       " Text(0, 0, '11'),\n",
       " Text(0, 0, '5'),\n",
       " Text(0, 0, '17'),\n",
       " Text(0, 0, '21'),\n",
       " Text(0, 0, '46'),\n",
       " Text(0, 0, '215')]"
      ]
     },
     "execution_count": 29,
     "metadata": {},
     "output_type": "execute_result"
    },
    {
     "data": {
      "text/plain": [
       "0.975"
      ]
     },
     "execution_count": 29,
     "metadata": {},
     "output_type": "execute_result"
    },
    {
     "data": {
      "text/plain": [
       "['[this review was collected as part of a promotion.] this is a grear product. we have used different brands earlier but this one was great. it helped in changing out backyard. highly recommended.']"
      ]
     },
     "execution_count": 29,
     "metadata": {},
     "output_type": "execute_result"
    },
    {
     "data": {
      "image/png": "[encoded data removed]",
      "text/plain": [
       "<Figure size 432x288 with 1 Axes>"
      ]
     },
     "metadata": {},
     "output_type": "display_data"
    }
   ],
   "source": [
    "sns.set_style('ticks');\n",
    "fig, ax = plt.subplots();\n",
    "ax = sns.histplot(x = 'max', data = df);\n",
    "plt.axvline(0.7, 0,700, c = 'r', ls = '--');\n",
    "for container in ax.containers:\n",
    "    ax.bar_label(container);\n",
    "\n",
    "len(df[df['max'] > 0.7])/len(df['max'])\n",
    "#subcategories of quality. may be too broad\n",
    "\n",
    "\n",
    "list(df[df['max'] > 0.7]['review_lower'][1:2])"
   ]
  },
  {
   "cell_type": "code",
   "execution_count": 30,
   "metadata": {},
   "outputs": [
    {
     "name": "stdout",
     "output_type": "stream",
     "text": [
      "<class 'pandas.core.frame.DataFrame'>\n",
      "Int64Index: 36 entries, 1558 to 24093\n",
      "Data columns (total 41 columns):\n",
      " #   Column                Non-Null Count  Dtype  \n",
      "---  ------                --------------  -----  \n",
      " 0   segment               36 non-null     object \n",
      " 1   review_id             36 non-null     int64  \n",
      " 2   product_name          36 non-null     object \n",
      " 3   producturl            36 non-null     object \n",
      " 4   retailer              36 non-null     object \n",
      " 5   brand                 36 non-null     object \n",
      " 6   retailer_product_id   36 non-null     object \n",
      " 7   base_id               36 non-null     object \n",
      " 8   variants_flag         36 non-null     object \n",
      " 9   review_creation_date  36 non-null     object \n",
      " 10  year                  36 non-null     int64  \n",
      " 11  month                 36 non-null     int64  \n",
      " 12  week                  36 non-null     int64  \n",
      " 13  review_title          36 non-null     object \n",
      " 14  review_text           36 non-null     object \n",
      " 15  review_type           36 non-null     object \n",
      " 16  price                 36 non-null     float64\n",
      " 17  rating                36 non-null     int64  \n",
      " 18  images                36 non-null     int64  \n",
      " 19  videos                36 non-null     int64  \n",
      " 20  helpful_votes         36 non-null     int64  \n",
      " 21  promotion_flag        36 non-null     object \n",
      " 22  review_lower          36 non-null     object \n",
      " 23  date                  36 non-null     object \n",
      " 24  sentiment             36 non-null     object \n",
      " 25  affordability_m       36 non-null     float64\n",
      " 26  quality_m             36 non-null     float64\n",
      " 27  complaints_m          36 non-null     float64\n",
      " 28  satisfaction_m        36 non-null     float64\n",
      " 29  delivery_m            36 non-null     float64\n",
      " 30  ease of use_m         36 non-null     float64\n",
      " 31  cost_m                36 non-null     float64\n",
      " 32  efficient_m           36 non-null     float64\n",
      " 33  functionality_m       36 non-null     float64\n",
      " 34  cheap_m               36 non-null     float64\n",
      " 35  expensive_m           36 non-null     float64\n",
      " 36  effective_m           36 non-null     float64\n",
      " 37  faulty_m              36 non-null     float64\n",
      " 38  defective_m           36 non-null     float64\n",
      " 39  max                   36 non-null     float64\n",
      " 40  align_type            36 non-null     object \n",
      "dtypes: float64(16), int64(8), object(17)\n",
      "memory usage: 11.8+ KB\n"
     ]
    }
   ],
   "source": [
    "# to see how many uncategorized data remains\n",
    "df_uncat = df[df['cost_m'] < 0.7]\n",
    "df_uncat = df_uncat[df_uncat['efficient_m'] < 0.7]\n",
    "df_uncat = df_uncat[df_uncat['effective_m'] < 0.7]\n",
    "df_uncat = df_uncat[df_uncat['ease of use_m'] < 0.7]\n",
    "df_uncat.info()"
   ]
  },
  {
   "cell_type": "code",
   "execution_count": 31,
   "metadata": {},
   "outputs": [
    {
     "data": {
      "text/plain": [
       "36"
      ]
     },
     "execution_count": 31,
     "metadata": {},
     "output_type": "execute_result"
    }
   ],
   "source": [
    "len(df_uncat)"
   ]
  },
  {
   "cell_type": "code",
   "execution_count": null,
   "metadata": {},
   "outputs": [],
   "source": [
    "#df_uncat.to_csv('data/unlabeld_data.csv')"
   ]
  }
 ],
 "metadata": {
  "kernelspec": {
   "display_name": "Python [conda env:anaconda3]",
   "language": "python",
   "name": "conda-env-anaconda3-py"
  },
  "language_info": {
   "codemirror_mode": {
    "name": "ipython",
    "version": 3
   },
   "file_extension": ".py",
   "mimetype": "text/x-python",
   "name": "python",
   "nbconvert_exporter": "python",
   "pygments_lexer": "ipython3",
   "version": "3.9.12"
  },
  "vscode": {
   "interpreter": {
    "hash": "998c911629ba937bcf1bf80465453e12e8c5c2c818cb936f93ef7cf495a937a9"
   }
  }
 },
 "nbformat": 4,
 "nbformat_minor": 2
}
