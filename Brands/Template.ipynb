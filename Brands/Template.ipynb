{
 "cells": [
  {
   "cell_type": "markdown",
   "metadata": {},
   "source": [
    "# Sentiment Analysis and Zero-Shot Classification"
   ]
  },
  {
   "cell_type": "code",
   "execution_count": 1,
   "metadata": {},
   "outputs": [],
   "source": [
    "import pandas as pd\n",
    "import numpy as np\n",
    "import seaborn as sns\n",
    "import matplotlib.pyplot as plt\n",
    "\n",
    "import warnings\n",
    "warnings.filterwarnings(\"ignore\")\n",
    "\n",
    "from IPython.core.interactiveshell import InteractiveShell\n",
    "InteractiveShell.ast_node_interactivity = 'all'\n",
    "\n",
    "pd.set_option('display.max_columns', None) "
   ]
  },
  {
   "cell_type": "code",
   "execution_count": 2,
   "metadata": {},
   "outputs": [],
   "source": [
    "df = pd.read_csv('Amdro.csv', index_col = [0])"
   ]
  },
  {
   "cell_type": "markdown",
   "metadata": {},
   "source": [
    "# Sentiment Analysis"
   ]
  },
  {
   "cell_type": "code",
   "execution_count": 3,
   "metadata": {},
   "outputs": [
    {
     "name": "stderr",
     "output_type": "stream",
     "text": [
      "Some weights of the model checkpoint at cardiffnlp/twitter-roberta-base-sentiment-latest were not used when initializing RobertaForSequenceClassification: ['roberta.pooler.dense.weight', 'roberta.pooler.dense.bias']\n",
      "- This IS expected if you are initializing RobertaForSequenceClassification from the checkpoint of a model trained on another task or with another architecture (e.g. initializing a BertForSequenceClassification model from a BertForPreTraining model).\n",
      "- This IS NOT expected if you are initializing RobertaForSequenceClassification from the checkpoint of a model that you expect to be exactly identical (initializing a BertForSequenceClassification model from a BertForSequenceClassification model).\n"
     ]
    }
   ],
   "source": [
    "from transformers import pipeline\n",
    "sentiment_pipeline = pipeline(\"sentiment-analysis\", model=\"cardiffnlp/twitter-roberta-base-sentiment-latest\")"
   ]
  },
  {
   "cell_type": "code",
   "execution_count": 4,
   "metadata": {},
   "outputs": [
    {
     "data": {
      "text/plain": [
       "[{'label': 'Neutral', 'score': 0.6701036095619202}]"
      ]
     },
     "execution_count": 4,
     "metadata": {},
     "output_type": "execute_result"
    }
   ],
   "source": [
    "#sample sentiment analysis\n",
    "sample_review = list(df['review_text'])[1]\n",
    "result = sentiment_pipeline(sample_review)\n",
    "result"
   ]
  },
  {
   "cell_type": "code",
   "execution_count": 5,
   "metadata": {},
   "outputs": [
    {
     "name": "stderr",
     "output_type": "stream",
     "text": [
      "Some weights of the model checkpoint at cardiffnlp/twitter-roberta-base-sentiment-latest were not used when initializing RobertaForSequenceClassification: ['roberta.pooler.dense.weight', 'roberta.pooler.dense.bias']\n",
      "- This IS expected if you are initializing RobertaForSequenceClassification from the checkpoint of a model trained on another task or with another architecture (e.g. initializing a BertForSequenceClassification model from a BertForPreTraining model).\n",
      "- This IS NOT expected if you are initializing RobertaForSequenceClassification from the checkpoint of a model that you expect to be exactly identical (initializing a BertForSequenceClassification model from a BertForSequenceClassification model).\n"
     ]
    },
    {
     "name": "stdout",
     "output_type": "stream",
     "text": [
      "0\n",
      "20\n",
      "40\n",
      "60\n",
      "80\n",
      "100\n",
      "120\n",
      "140\n",
      "160\n",
      "180\n",
      "200\n",
      "220\n",
      "240\n",
      "260\n",
      "280\n",
      "300\n",
      "320\n",
      "340\n",
      "360\n",
      "380\n"
     ]
    }
   ],
   "source": [
    "from transformers import pipeline\n",
    "sentiment_pipeline = pipeline(\"sentiment-analysis\", model=\"cardiffnlp/twitter-roberta-base-sentiment-latest\")\n",
    "\n",
    "sentiment = []\n",
    "index = -1\n",
    "for sentence in df['review_lower']:\n",
    "    index+=1\n",
    "    if(index%20 == 0):\n",
    "        print(index)\n",
    "\n",
    "    result = sentiment_pipeline(sentence[:512])[0]\n",
    "    sentiment.append(result['label'])\n",
    "df['sentiment'] = sentiment"
   ]
  },
  {
   "cell_type": "markdown",
   "metadata": {},
   "source": [
    "## Zero Shot Classificaiton"
   ]
  },
  {
   "cell_type": "code",
   "execution_count": 6,
   "metadata": {},
   "outputs": [],
   "source": [
    "import transformers\n",
    "from transformers import pipeline"
   ]
  },
  {
   "cell_type": "code",
   "execution_count": 7,
   "metadata": {},
   "outputs": [],
   "source": [
    "classifier  = pipeline(\"zero-shot-classification\",  model = \"facebook/bart-large-mnli\")"
   ]
  },
  {
   "cell_type": "markdown",
   "metadata": {},
   "source": [
    "## Sample Classification"
   ]
  },
  {
   "cell_type": "markdown",
   "metadata": {},
   "source": [
    "this is where you can play around with the labels to see which ones would make sense"
   ]
  },
  {
   "cell_type": "code",
   "execution_count": 8,
   "metadata": {},
   "outputs": [
    {
     "data": {
      "text/plain": [
       "{'sequence': 'It did not germinate.',\n",
       " 'labels': ['complaints', 'affordability', 'quality', 'satisfaction'],\n",
       " 'scores': [0.34906914830207825,\n",
       "  0.33437272906303406,\n",
       "  0.2683006227016449,\n",
       "  0.011717596091330051]}"
      ]
     },
     "execution_count": 8,
     "metadata": {},
     "output_type": "execute_result"
    }
   ],
   "source": [
    "# play around with the \"candidate_labels\"\n",
    "sample_review = list(df['review_text'])[1]\n",
    "\n",
    "res = classifier(\n",
    "    sample_review,\n",
    "    candidate_labels = ['affordability', 'quality', 'satisfaction', 'complaints'], \n",
    "    multi_label = True\n",
    ")\n",
    "res"
   ]
  },
  {
   "cell_type": "code",
   "execution_count": 9,
   "metadata": {},
   "outputs": [
    {
     "data": {
      "text/plain": [
       "{'sequence': 'this product is worthless despite following the instructions no sign of growth even after a month not 5 days as they claimed',\n",
       " 'labels': ['complaints', 'affordability', 'satisfaction', 'quality'],\n",
       " 'scores': [0.6898075342178345,\n",
       "  0.14308561384677887,\n",
       "  0.017286362126469612,\n",
       "  0.009484479203820229]}"
      ]
     },
     "execution_count": 9,
     "metadata": {},
     "output_type": "execute_result"
    }
   ],
   "source": [
    "# play around with the \"candidate_labels\"\n",
    "sample_review = list(df['review_text'])[2]\n",
    "\n",
    "res = classifier(\n",
    "    sample_review,\n",
    "    candidate_labels = ['affordability', 'quality', 'satisfaction', 'complaints'], \n",
    "    multi_label = True\n",
    ")\n",
    "res"
   ]
  },
  {
   "cell_type": "code",
   "execution_count": 10,
   "metadata": {},
   "outputs": [
    {
     "data": {
      "text/plain": [
       "{'sequence': 'I dont see any improvement in my grass.I will observe for another week.',\n",
       " 'labels': ['complaints', 'quality', 'affordability', 'satisfaction'],\n",
       " 'scores': [0.6314849853515625,\n",
       "  0.5986040830612183,\n",
       "  0.25864359736442566,\n",
       "  0.0643094927072525]}"
      ]
     },
     "execution_count": 10,
     "metadata": {},
     "output_type": "execute_result"
    }
   ],
   "source": [
    "# play around with the \"candidate_labels\"\n",
    "sample_review = list(df['review_text'])[3]\n",
    "\n",
    "res = classifier(\n",
    "    sample_review,\n",
    "    candidate_labels = ['affordability', 'quality', 'satisfaction', 'complaints'], \n",
    "    multi_label = True\n",
    ")\n",
    "res"
   ]
  },
  {
   "cell_type": "code",
   "execution_count": 11,
   "metadata": {},
   "outputs": [
    {
     "data": {
      "text/plain": [
       "{'sequence': '[This review was collected as part of a promotion.] This seems to do a good job of keeping bugs at bay with the plants on my porch. Price is good. Would recommend.',\n",
       " 'labels': ['quality', 'affordability', 'satisfaction', 'complaints'],\n",
       " 'scores': [0.9985098838806152,\n",
       "  0.9899678826332092,\n",
       "  0.7128213047981262,\n",
       "  0.0022773724049329758]}"
      ]
     },
     "execution_count": 11,
     "metadata": {},
     "output_type": "execute_result"
    }
   ],
   "source": [
    "# play around with the \"candidate_labels\"\n",
    "sample_review = list(df['review_text'])[4]\n",
    "\n",
    "res = classifier(\n",
    "    sample_review,\n",
    "    candidate_labels = ['affordability', 'quality', 'satisfaction', 'complaints'], \n",
    "    multi_label = True\n",
    ")\n",
    "res"
   ]
  },
  {
   "cell_type": "markdown",
   "metadata": {},
   "source": [
    "# Zero Shot Classification (Entire data)"
   ]
  },
  {
   "cell_type": "markdown",
   "metadata": {},
   "source": [
    "Using the labels you identified above, you want to now run it through the entire data"
   ]
  },
  {
   "cell_type": "code",
   "execution_count": 12,
   "metadata": {},
   "outputs": [],
   "source": [
    "classifier  = pipeline(\"zero-shot-classification\",  model = \"facebook/bart-large-mnli\")"
   ]
  },
  {
   "cell_type": "code",
   "execution_count": 13,
   "metadata": {},
   "outputs": [],
   "source": [
    "# insert the labels you identified from above section\n",
    "type = ['cost', 'efficient', 'effective', 'ease of use']"
   ]
  },
  {
   "cell_type": "code",
   "execution_count": 14,
   "metadata": {},
   "outputs": [
    {
     "name": "stdout",
     "output_type": "stream",
     "text": [
      "0\n",
      "20\n",
      "40\n",
      "60\n",
      "80\n",
      "100\n",
      "120\n",
      "140\n",
      "160\n",
      "180\n",
      "200\n",
      "220\n",
      "240\n",
      "260\n",
      "280\n",
      "300\n",
      "320\n",
      "340\n",
      "360\n",
      "380\n"
     ]
    }
   ],
   "source": [
    "#setting empty values for the columns\n",
    "index = -1\n",
    "for label in type:\n",
    "    df[label + '_m'] = -1\n",
    "\n",
    "for j in range(len(df)):\n",
    "    #counter for progress/debugging\n",
    "    index+=1\n",
    "    if(index%20 == 0): \n",
    "        print(index)\n",
    "        \n",
    "    #running the classifier on the column    \n",
    "    res = classifier(\n",
    "        df.iloc[j]['review_lower'],\n",
    "        candidate_labels = type,\n",
    "        multi_label = True\n",
    "    )\n",
    "    #setting the column values according to the output from the classifier (\"_m\" = multiclass)\n",
    "    for i in range(len(res['labels'])):\n",
    "        df[res['labels'][i]+ '_m'].iloc[j] = res['scores'][i]"
   ]
  },
  {
   "cell_type": "code",
   "execution_count": 17,
   "metadata": {},
   "outputs": [
    {
     "data": {
      "text/html": [
       "<div>\n",
       "<style scoped>\n",
       "    .dataframe tbody tr th:only-of-type {\n",
       "        vertical-align: middle;\n",
       "    }\n",
       "\n",
       "    .dataframe tbody tr th {\n",
       "        vertical-align: top;\n",
       "    }\n",
       "\n",
       "    .dataframe thead th {\n",
       "        text-align: right;\n",
       "    }\n",
       "</style>\n",
       "<table border=\"1\" class=\"dataframe\">\n",
       "  <thead>\n",
       "    <tr style=\"text-align: right;\">\n",
       "      <th></th>\n",
       "      <th>segment</th>\n",
       "      <th>review_id</th>\n",
       "      <th>product_name</th>\n",
       "      <th>producturl</th>\n",
       "      <th>retailer</th>\n",
       "      <th>brand</th>\n",
       "      <th>retailer_product_id</th>\n",
       "      <th>base_id</th>\n",
       "      <th>variants_flag</th>\n",
       "      <th>review_creation_date</th>\n",
       "      <th>year</th>\n",
       "      <th>month</th>\n",
       "      <th>week</th>\n",
       "      <th>review_title</th>\n",
       "      <th>review_text</th>\n",
       "      <th>review_type</th>\n",
       "      <th>price</th>\n",
       "      <th>rating</th>\n",
       "      <th>images</th>\n",
       "      <th>videos</th>\n",
       "      <th>helpful_votes</th>\n",
       "      <th>promotion_flag</th>\n",
       "      <th>review_lower</th>\n",
       "      <th>date</th>\n",
       "      <th>word_count</th>\n",
       "      <th>sentiment</th>\n",
       "      <th>cost_m</th>\n",
       "      <th>efficient_m</th>\n",
       "      <th>effective_m</th>\n",
       "      <th>ease of use_m</th>\n",
       "      <th>max</th>\n",
       "    </tr>\n",
       "  </thead>\n",
       "  <tbody>\n",
       "    <tr>\n",
       "      <th>2238</th>\n",
       "      <td>Garden</td>\n",
       "      <td>18746</td>\n",
       "      <td>AMDRO Quick Kill Carpenter Bee, Ant &amp; Termite ...</td>\n",
       "      <td>http://www.homedepot.com/p/t/305448910</td>\n",
       "      <td>Homedepot</td>\n",
       "      <td>Amdro</td>\n",
       "      <td>305448910</td>\n",
       "      <td>305448729</td>\n",
       "      <td>Yes</td>\n",
       "      <td>2021-06-09T00:00:00</td>\n",
       "      <td>2021</td>\n",
       "      <td>6</td>\n",
       "      <td>23</td>\n",
       "      <td>Amdro works!  We had never heard of carpenter ...</td>\n",
       "      <td>Amdro works!  We had never heard of carpenter ...</td>\n",
       "      <td>organic reviews</td>\n",
       "      <td>8.96</td>\n",
       "      <td>5</td>\n",
       "      <td>0</td>\n",
       "      <td>0</td>\n",
       "      <td>0</td>\n",
       "      <td>No</td>\n",
       "      <td>amdro works!  we had never heard of carpenter ...</td>\n",
       "      <td>2021-06-09</td>\n",
       "      <td>61</td>\n",
       "      <td>Neutral</td>\n",
       "      <td>0.700651</td>\n",
       "      <td>0.989641</td>\n",
       "      <td>0.996710</td>\n",
       "      <td>0.794774</td>\n",
       "      <td>0.996710</td>\n",
       "    </tr>\n",
       "    <tr>\n",
       "      <th>15196</th>\n",
       "      <td>Garden</td>\n",
       "      <td>90480</td>\n",
       "      <td>Smart Seed Sun &amp; Shade Mixture 7lb bag</td>\n",
       "      <td>http://www.homedepot.com/p/314933321</td>\n",
       "      <td>Homedepot</td>\n",
       "      <td>PenningtonGrass</td>\n",
       "      <td>314933320</td>\n",
       "      <td>314933321</td>\n",
       "      <td>Yes</td>\n",
       "      <td>2022-04-13T00:00:00</td>\n",
       "      <td>2022</td>\n",
       "      <td>4</td>\n",
       "      <td>15</td>\n",
       "      <td>It did not germinate....</td>\n",
       "      <td>It did not germinate.</td>\n",
       "      <td>organic reviews</td>\n",
       "      <td>26.91</td>\n",
       "      <td>1</td>\n",
       "      <td>0</td>\n",
       "      <td>0</td>\n",
       "      <td>0</td>\n",
       "      <td>No</td>\n",
       "      <td>it did not germinate.</td>\n",
       "      <td>2022-04-13</td>\n",
       "      <td>4</td>\n",
       "      <td>Neutral</td>\n",
       "      <td>0.471956</td>\n",
       "      <td>0.027914</td>\n",
       "      <td>0.012979</td>\n",
       "      <td>0.071711</td>\n",
       "      <td>0.471956</td>\n",
       "    </tr>\n",
       "    <tr>\n",
       "      <th>19601</th>\n",
       "      <td>Garden</td>\n",
       "      <td>131125</td>\n",
       "      <td>Pennington Smart Patch Sun &amp; Shade Mix, 30 lb</td>\n",
       "      <td>http://www.homedepot.com/p/317713416</td>\n",
       "      <td>Homedepot</td>\n",
       "      <td>PenningtonGrass</td>\n",
       "      <td>317713419</td>\n",
       "      <td>317713416</td>\n",
       "      <td>Yes</td>\n",
       "      <td>2022-05-22T00:00:00</td>\n",
       "      <td>2022</td>\n",
       "      <td>5</td>\n",
       "      <td>20</td>\n",
       "      <td>nothing happened</td>\n",
       "      <td>this product is worthless despite following th...</td>\n",
       "      <td>organic reviews</td>\n",
       "      <td>28.98</td>\n",
       "      <td>1</td>\n",
       "      <td>0</td>\n",
       "      <td>0</td>\n",
       "      <td>0</td>\n",
       "      <td>No</td>\n",
       "      <td>this product is worthless despite following th...</td>\n",
       "      <td>2022-05-22</td>\n",
       "      <td>22</td>\n",
       "      <td>Negative</td>\n",
       "      <td>0.892627</td>\n",
       "      <td>0.001217</td>\n",
       "      <td>0.001102</td>\n",
       "      <td>0.007974</td>\n",
       "      <td>0.892627</td>\n",
       "    </tr>\n",
       "  </tbody>\n",
       "</table>\n",
       "</div>"
      ],
      "text/plain": [
       "      segment  review_id                                       product_name  \\\n",
       "2238   Garden      18746  AMDRO Quick Kill Carpenter Bee, Ant & Termite ...   \n",
       "15196  Garden      90480             Smart Seed Sun & Shade Mixture 7lb bag   \n",
       "19601  Garden     131125      Pennington Smart Patch Sun & Shade Mix, 30 lb   \n",
       "\n",
       "                                   producturl   retailer            brand  \\\n",
       "2238   http://www.homedepot.com/p/t/305448910  Homedepot            Amdro   \n",
       "15196    http://www.homedepot.com/p/314933321  Homedepot  PenningtonGrass   \n",
       "19601    http://www.homedepot.com/p/317713416  Homedepot  PenningtonGrass   \n",
       "\n",
       "      retailer_product_id    base_id variants_flag review_creation_date  year  \\\n",
       "2238            305448910  305448729           Yes  2021-06-09T00:00:00  2021   \n",
       "15196           314933320  314933321           Yes  2022-04-13T00:00:00  2022   \n",
       "19601           317713419  317713416           Yes  2022-05-22T00:00:00  2022   \n",
       "\n",
       "       month  week                                       review_title  \\\n",
       "2238       6    23  Amdro works!  We had never heard of carpenter ...   \n",
       "15196      4    15                           It did not germinate....   \n",
       "19601      5    20                                   nothing happened   \n",
       "\n",
       "                                             review_text      review_type  \\\n",
       "2238   Amdro works!  We had never heard of carpenter ...  organic reviews   \n",
       "15196                              It did not germinate.  organic reviews   \n",
       "19601  this product is worthless despite following th...  organic reviews   \n",
       "\n",
       "       price  rating  images  videos  helpful_votes promotion_flag  \\\n",
       "2238    8.96       5       0       0              0             No   \n",
       "15196  26.91       1       0       0              0             No   \n",
       "19601  28.98       1       0       0              0             No   \n",
       "\n",
       "                                            review_lower        date  \\\n",
       "2238   amdro works!  we had never heard of carpenter ...  2021-06-09   \n",
       "15196                              it did not germinate.  2022-04-13   \n",
       "19601  this product is worthless despite following th...  2022-05-22   \n",
       "\n",
       "       word_count sentiment    cost_m  efficient_m  effective_m  \\\n",
       "2238           61   Neutral  0.700651     0.989641     0.996710   \n",
       "15196           4   Neutral  0.471956     0.027914     0.012979   \n",
       "19601          22  Negative  0.892627     0.001217     0.001102   \n",
       "\n",
       "       ease of use_m       max  \n",
       "2238        0.794774  0.996710  \n",
       "15196       0.071711  0.471956  \n",
       "19601       0.007974  0.892627  "
      ]
     },
     "execution_count": 17,
     "metadata": {},
     "output_type": "execute_result"
    }
   ],
   "source": [
    "# create a \"max\" column for metric purposes\n",
    "df['max'] = df[['cost_m', 'efficient_m', 'effective_m', 'ease of use_m']].max(axis=1)\n",
    "df.head(3)"
   ]
  },
  {
   "cell_type": "markdown",
   "metadata": {},
   "source": [
    "# Metric and Sanity Check"
   ]
  },
  {
   "cell_type": "code",
   "execution_count": 18,
   "metadata": {},
   "outputs": [
    {
     "data": {
      "text/plain": [
       "<matplotlib.lines.Line2D at 0x1a79550ec20>"
      ]
     },
     "execution_count": 18,
     "metadata": {},
     "output_type": "execute_result"
    },
    {
     "data": {
      "text/plain": [
       "[Text(0, 0, '3'),\n",
       " Text(0, 0, '0'),\n",
       " Text(0, 0, '0'),\n",
       " Text(0, 0, '2'),\n",
       " Text(0, 0, '0'),\n",
       " Text(0, 0, '0'),\n",
       " Text(0, 0, '1'),\n",
       " Text(0, 0, '0'),\n",
       " Text(0, 0, '2'),\n",
       " Text(0, 0, '0'),\n",
       " Text(0, 0, '1'),\n",
       " Text(0, 0, '0'),\n",
       " Text(0, 0, '0'),\n",
       " Text(0, 0, '1'),\n",
       " Text(0, 0, '1'),\n",
       " Text(0, 0, '1'),\n",
       " Text(0, 0, '1'),\n",
       " Text(0, 0, '1'),\n",
       " Text(0, 0, '0'),\n",
       " Text(0, 0, '0'),\n",
       " Text(0, 0, '2'),\n",
       " Text(0, 0, '3'),\n",
       " Text(0, 0, '2'),\n",
       " Text(0, 0, '1'),\n",
       " Text(0, 0, '3'),\n",
       " Text(0, 0, '2'),\n",
       " Text(0, 0, '1'),\n",
       " Text(0, 0, '0'),\n",
       " Text(0, 0, '4'),\n",
       " Text(0, 0, '4'),\n",
       " Text(0, 0, '1'),\n",
       " Text(0, 0, '0'),\n",
       " Text(0, 0, '5'),\n",
       " Text(0, 0, '4'),\n",
       " Text(0, 0, '2'),\n",
       " Text(0, 0, '3'),\n",
       " Text(0, 0, '1'),\n",
       " Text(0, 0, '2'),\n",
       " Text(0, 0, '7'),\n",
       " Text(0, 0, '1'),\n",
       " Text(0, 0, '3'),\n",
       " Text(0, 0, '4'),\n",
       " Text(0, 0, '1'),\n",
       " Text(0, 0, '5'),\n",
       " Text(0, 0, '6'),\n",
       " Text(0, 0, '3'),\n",
       " Text(0, 0, '4'),\n",
       " Text(0, 0, '9'),\n",
       " Text(0, 0, '10'),\n",
       " Text(0, 0, '11'),\n",
       " Text(0, 0, '23'),\n",
       " Text(0, 0, '259')]"
      ]
     },
     "execution_count": 18,
     "metadata": {},
     "output_type": "execute_result"
    },
    {
     "data": {
      "text/plain": [
       "0.8825"
      ]
     },
     "execution_count": 18,
     "metadata": {},
     "output_type": "execute_result"
    },
    {
     "data": {
      "text/plain": [
       "['this product is worthless despite following the instructions no sign of growth even after a month not 5 days as they claimed']"
      ]
     },
     "execution_count": 18,
     "metadata": {},
     "output_type": "execute_result"
    },
    {
     "data": {
      "image/png": "[encoded data removed]",
      "text/plain": [
       "<Figure size 432x288 with 1 Axes>"
      ]
     },
     "metadata": {},
     "output_type": "display_data"
    }
   ],
   "source": [
    "sns.set_style('ticks');\n",
    "fig, ax = plt.subplots();\n",
    "ax = sns.histplot(x = 'max', data = df);\n",
    "plt.axvline(0.7, 0,700, c = 'r', ls = '--');\n",
    "for container in ax.containers:\n",
    "    ax.bar_label(container);\n",
    "\n",
    "len(df[df['max'] > 0.7])/len(df['max'])\n",
    "#subcategories of quality. may be too broad\n",
    "\n",
    "\n",
    "list(df[df['max'] > 0.7]['review_lower'][1:2])"
   ]
  },
  {
   "cell_type": "code",
   "execution_count": 19,
   "metadata": {},
   "outputs": [
    {
     "name": "stdout",
     "output_type": "stream",
     "text": [
      "<class 'pandas.core.frame.DataFrame'>\n",
      "Int64Index: 47 entries, 15196 to 11816\n",
      "Data columns (total 31 columns):\n",
      " #   Column                Non-Null Count  Dtype  \n",
      "---  ------                --------------  -----  \n",
      " 0   segment               47 non-null     object \n",
      " 1   review_id             47 non-null     int64  \n",
      " 2   product_name          47 non-null     object \n",
      " 3   producturl            47 non-null     object \n",
      " 4   retailer              47 non-null     object \n",
      " 5   brand                 47 non-null     object \n",
      " 6   retailer_product_id   47 non-null     object \n",
      " 7   base_id               47 non-null     object \n",
      " 8   variants_flag         47 non-null     object \n",
      " 9   review_creation_date  47 non-null     object \n",
      " 10  year                  47 non-null     int64  \n",
      " 11  month                 47 non-null     int64  \n",
      " 12  week                  47 non-null     int64  \n",
      " 13  review_title          45 non-null     object \n",
      " 14  review_text           47 non-null     object \n",
      " 15  review_type           47 non-null     object \n",
      " 16  price                 47 non-null     float64\n",
      " 17  rating                47 non-null     int64  \n",
      " 18  images                47 non-null     int64  \n",
      " 19  videos                47 non-null     int64  \n",
      " 20  helpful_votes         47 non-null     int64  \n",
      " 21  promotion_flag        47 non-null     object \n",
      " 22  review_lower          47 non-null     object \n",
      " 23  date                  47 non-null     object \n",
      " 24  word_count            47 non-null     int64  \n",
      " 25  sentiment             47 non-null     object \n",
      " 26  cost_m                47 non-null     float64\n",
      " 27  efficient_m           47 non-null     float64\n",
      " 28  effective_m           47 non-null     float64\n",
      " 29  ease of use_m         47 non-null     float64\n",
      " 30  max                   47 non-null     float64\n",
      "dtypes: float64(6), int64(9), object(16)\n",
      "memory usage: 11.8+ KB\n"
     ]
    }
   ],
   "source": [
    "# to see how many uncategorized data remains\n",
    "df_uncat = df[df['cost_m'] < 0.7]\n",
    "df_uncat = df_uncat[df_uncat['efficient_m'] < 0.7]\n",
    "df_uncat = df_uncat[df_uncat['effective_m'] < 0.7]\n",
    "df_uncat = df_uncat[df_uncat['ease of use_m'] < 0.7]\n",
    "df_uncat.info()"
   ]
  },
  {
   "cell_type": "code",
   "execution_count": null,
   "metadata": {},
   "outputs": [],
   "source": [
    "#df_uncat.to_csv('data/unlabeld_data.csv')"
   ]
  }
 ],
 "metadata": {
  "kernelspec": {
   "display_name": "Python 3.10.1 64-bit",
   "language": "python",
   "name": "python3"
  },
  "language_info": {
   "codemirror_mode": {
    "name": "ipython",
    "version": 3
   },
   "file_extension": ".py",
   "mimetype": "text/x-python",
   "name": "python",
   "nbconvert_exporter": "python",
   "pygments_lexer": "ipython3",
   "version": "3.10.1"
  },
  "orig_nbformat": 4,
  "vscode": {
   "interpreter": {
    "hash": "998c911629ba937bcf1bf80465453e12e8c5c2c818cb936f93ef7cf495a937a9"
   }
  }
 },
 "nbformat": 4,
 "nbformat_minor": 2
}
