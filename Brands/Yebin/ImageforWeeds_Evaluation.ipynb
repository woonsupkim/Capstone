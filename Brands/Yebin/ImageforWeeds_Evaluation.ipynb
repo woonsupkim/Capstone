{
 "cells": [
  {
   "cell_type": "markdown",
   "id": "26f72325",
   "metadata": {},
   "source": [
    "# ImageforWeeds_Evaluation"
   ]
  },
  {
   "cell_type": "code",
   "execution_count": 1,
   "id": "2aac19c5",
   "metadata": {},
   "outputs": [],
   "source": [
    "import pandas as pd\n",
    "import numpy as np\n",
    "import seaborn as sns\n",
    "import matplotlib.pyplot as plt\n",
    "\n",
    "from transformers import pipeline\n",
    "\n",
    "import warnings\n",
    "warnings.filterwarnings(\"ignore\")\n",
    "\n",
    "from IPython.core.interactiveshell import InteractiveShell\n",
    "InteractiveShell.ast_node_interactivity = 'all'\n",
    "\n",
    "pd.set_option('display.max_columns', None)"
   ]
  },
  {
   "cell_type": "code",
   "execution_count": 2,
   "id": "b3f4eae6",
   "metadata": {},
   "outputs": [],
   "source": [
    "df = pd.read_csv('ImageforWeeds.csv', index_col = [0])"
   ]
  },
  {
   "cell_type": "code",
   "execution_count": 3,
   "id": "7fee8e2f",
   "metadata": {},
   "outputs": [],
   "source": [
    "#replace NaN in label columns with 0\n",
    "columns = ['cost','ease of use', 'effective', 'efficient']\n",
    "\n",
    "for column in columns:\n",
    "    df[column] = df[column].replace(np.nan, int(0))"
   ]
  },
  {
   "cell_type": "markdown",
   "id": "02d999a0",
   "metadata": {},
   "source": [
    "## Sentiment Analysis"
   ]
  },
  {
   "cell_type": "code",
   "execution_count": 4,
   "id": "84110e9a",
   "metadata": {},
   "outputs": [
    {
     "name": "stderr",
     "output_type": "stream",
     "text": [
      "Some weights of the model checkpoint at cardiffnlp/twitter-roberta-base-sentiment-latest were not used when initializing RobertaForSequenceClassification: ['roberta.pooler.dense.weight', 'roberta.pooler.dense.bias']\n",
      "- This IS expected if you are initializing RobertaForSequenceClassification from the checkpoint of a model trained on another task or with another architecture (e.g. initializing a BertForSequenceClassification model from a BertForPreTraining model).\n",
      "- This IS NOT expected if you are initializing RobertaForSequenceClassification from the checkpoint of a model that you expect to be exactly identical (initializing a BertForSequenceClassification model from a BertForSequenceClassification model).\n"
     ]
    },
    {
     "name": "stdout",
     "output_type": "stream",
     "text": [
      "0\n",
      "20\n",
      "40\n",
      "60\n",
      "80\n"
     ]
    }
   ],
   "source": [
    "from transformers import pipeline\n",
    "sentiment_pipeline = pipeline(\"sentiment-analysis\", model=\"cardiffnlp/twitter-roberta-base-sentiment-latest\")\n",
    "\n",
    "sentiment = [None] * len(df)\n",
    "index = -1\n",
    "for sentence in df['review_lower'][0:99]:\n",
    "    index+=1\n",
    "    if(index%20 == 0):\n",
    "        print(index)\n",
    "\n",
    "    result = sentiment_pipeline(sentence[:512])[0]\n",
    "    sentiment[index] = result['label']\n",
    "df['sentiment_m'] = sentiment"
   ]
  },
  {
   "cell_type": "markdown",
   "id": "8ed59bf2",
   "metadata": {},
   "source": [
    "## Zero-Shot classifier"
   ]
  },
  {
   "cell_type": "code",
   "execution_count": 5,
   "id": "88151720",
   "metadata": {},
   "outputs": [],
   "source": [
    "classifier  = pipeline(\"zero-shot-classification\",  model = \"facebook/bart-large-mnli\")"
   ]
  },
  {
   "cell_type": "code",
   "execution_count": 6,
   "id": "14577fe2",
   "metadata": {},
   "outputs": [],
   "source": [
    "# insert the labels you identified from above section\n",
    "type = ['cost', 'efficient', 'effective', 'ease of use']"
   ]
  },
  {
   "cell_type": "code",
   "execution_count": 7,
   "id": "0b1b67d8",
   "metadata": {},
   "outputs": [
    {
     "name": "stdout",
     "output_type": "stream",
     "text": [
      "0\n",
      "20\n",
      "40\n",
      "60\n",
      "80\n"
     ]
    }
   ],
   "source": [
    "#setting empty values for the columns\n",
    "index = -1\n",
    "for label in type:\n",
    "    df[label + '_m'] = -1\n",
    "\n",
    "for j in range(99):\n",
    "    #counter for progress/debugging\n",
    "    index+=1\n",
    "    if(index%20 == 0): \n",
    "        print(index)\n",
    "        \n",
    "    #running the classifier on the column    \n",
    "    res = classifier(\n",
    "        df.iloc[j]['review_lower'],\n",
    "        candidate_labels = type,\n",
    "        multi_label = True\n",
    "    )\n",
    "    #setting the column values according to the output from the classifier (\"_m\" = multiclass)\n",
    "    for i in range(len(res['labels'])):\n",
    "        df[res['labels'][i]+ '_m'].iloc[j] = res['scores'][i]"
   ]
  },
  {
   "cell_type": "markdown",
   "id": "f2256d3e",
   "metadata": {},
   "source": [
    "## 1. Evaluate Sentiment"
   ]
  },
  {
   "cell_type": "code",
   "execution_count": 8,
   "id": "afb1d36f",
   "metadata": {},
   "outputs": [],
   "source": [
    "from sklearn.metrics import classification_report\n",
    "from sklearn.metrics import roc_auc_score"
   ]
  },
  {
   "cell_type": "code",
   "execution_count": 9,
   "id": "9c85504f",
   "metadata": {},
   "outputs": [],
   "source": [
    "def imputation1(list):\n",
    "    i = []\n",
    "    for prediction in list:\n",
    "        if prediction == \"Positive\":\n",
    "            i.append(1)\n",
    "        elif prediction == \"Neutral\":\n",
    "            i.append(0)\n",
    "        else:\n",
    "            i.append(-1)    \n",
    "    return(i)"
   ]
  },
  {
   "cell_type": "code",
   "execution_count": 10,
   "id": "05124a75",
   "metadata": {},
   "outputs": [],
   "source": [
    "df['sentiment'] = imputation1(df['sentiment'])\n",
    "df['sentiment_m'] = imputation1(df['sentiment_m'])"
   ]
  },
  {
   "cell_type": "code",
   "execution_count": 11,
   "id": "536a372b",
   "metadata": {},
   "outputs": [
    {
     "name": "stdout",
     "output_type": "stream",
     "text": [
      "              precision    recall  f1-score   support\n",
      "\n",
      "          -1       1.00      0.81      0.90       400\n",
      "           0       0.00      0.00      0.00         0\n",
      "           1       0.00      0.00      0.00         0\n",
      "\n",
      "    accuracy                           0.81       400\n",
      "   macro avg       0.33      0.27      0.30       400\n",
      "weighted avg       1.00      0.81      0.90       400\n",
      "\n"
     ]
    }
   ],
   "source": [
    "print(classification_report(df['sentiment'], df['sentiment_m']))"
   ]
  },
  {
   "cell_type": "markdown",
   "id": "73b10cb9",
   "metadata": {},
   "source": [
    "## 2. Evaluate Zero-shot"
   ]
  },
  {
   "cell_type": "code",
   "execution_count": 12,
   "id": "35da6f8f",
   "metadata": {},
   "outputs": [],
   "source": [
    "def imputation(list):\n",
    "    i = []\n",
    "    for prediction in list:\n",
    "        if prediction < 0.7:\n",
    "            i.append(0)\n",
    "        else:\n",
    "            i.append(1)\n",
    "    \n",
    "    return(i)"
   ]
  },
  {
   "cell_type": "code",
   "execution_count": 13,
   "id": "ae72ebc1",
   "metadata": {},
   "outputs": [],
   "source": [
    "df['cost_m'] = imputation(df['cost_m'])\n",
    "df['efficient_m'] = imputation(df['efficient_m'])\n",
    "df['effective_m'] = imputation(df['effective_m'])\n",
    "df['ease of use_m'] = imputation(df['ease of use_m'])"
   ]
  },
  {
   "cell_type": "markdown",
   "id": "7308a813",
   "metadata": {},
   "source": [
    "### i) cost"
   ]
  },
  {
   "cell_type": "code",
   "execution_count": 14,
   "id": "8e6c8ab9",
   "metadata": {},
   "outputs": [
    {
     "name": "stdout",
     "output_type": "stream",
     "text": [
      "              precision    recall  f1-score   support\n",
      "\n",
      "         0.0       1.00      0.97      0.98       394\n",
      "         1.0       0.31      0.83      0.45         6\n",
      "\n",
      "    accuracy                           0.97       400\n",
      "   macro avg       0.65      0.90      0.72       400\n",
      "weighted avg       0.99      0.97      0.98       400\n",
      "\n"
     ]
    }
   ],
   "source": [
    "print(classification_report(df['cost'], df['cost_m']))"
   ]
  },
  {
   "cell_type": "code",
   "execution_count": 15,
   "id": "db48f4a6",
   "metadata": {},
   "outputs": [
    {
     "name": "stdout",
     "output_type": "stream",
     "text": [
      "ROC AUC : 0.9027\n"
     ]
    }
   ],
   "source": [
    "ROC_AUC = roc_auc_score(df['cost'], df['cost_m'])\n",
    "print('ROC AUC : {:.4f}'.format(ROC_AUC))"
   ]
  },
  {
   "cell_type": "markdown",
   "id": "363266fe",
   "metadata": {},
   "source": [
    "### ii) efficient"
   ]
  },
  {
   "cell_type": "code",
   "execution_count": 16,
   "id": "d2232757",
   "metadata": {},
   "outputs": [
    {
     "name": "stdout",
     "output_type": "stream",
     "text": [
      "              precision    recall  f1-score   support\n",
      "\n",
      "         0.0       0.96      0.90      0.93       359\n",
      "         1.0       0.44      0.71      0.54        41\n",
      "\n",
      "    accuracy                           0.88       400\n",
      "   macro avg       0.70      0.80      0.74       400\n",
      "weighted avg       0.91      0.88      0.89       400\n",
      "\n"
     ]
    }
   ],
   "source": [
    "print(classification_report(df['efficient'], df['efficient_m']))"
   ]
  },
  {
   "cell_type": "code",
   "execution_count": 17,
   "id": "a519f93d",
   "metadata": {},
   "outputs": [
    {
     "name": "stdout",
     "output_type": "stream",
     "text": [
      "ROC AUC : 0.8021\n"
     ]
    }
   ],
   "source": [
    "ROC_AUC = roc_auc_score(df['efficient'], df['efficient_m'])\n",
    "print('ROC AUC : {:.4f}'.format(ROC_AUC))"
   ]
  },
  {
   "cell_type": "markdown",
   "id": "9c942f7f",
   "metadata": {},
   "source": [
    "### iii) effective"
   ]
  },
  {
   "cell_type": "code",
   "execution_count": 18,
   "id": "71b3d4eb",
   "metadata": {},
   "outputs": [
    {
     "name": "stdout",
     "output_type": "stream",
     "text": [
      "              precision    recall  f1-score   support\n",
      "\n",
      "         0.0       0.93      0.98      0.96       309\n",
      "         1.0       0.93      0.76      0.84        91\n",
      "\n",
      "    accuracy                           0.93       400\n",
      "   macro avg       0.93      0.87      0.90       400\n",
      "weighted avg       0.93      0.93      0.93       400\n",
      "\n"
     ]
    }
   ],
   "source": [
    "print(classification_report(df['effective'], df['effective_m']))"
   ]
  },
  {
   "cell_type": "code",
   "execution_count": 19,
   "id": "f65edf5e",
   "metadata": {},
   "outputs": [
    {
     "name": "stdout",
     "output_type": "stream",
     "text": [
      "ROC AUC : 0.8710\n"
     ]
    }
   ],
   "source": [
    "ROC_AUC = roc_auc_score(df['effective'], df['effective_m'])\n",
    "print('ROC AUC : {:.4f}'.format(ROC_AUC))"
   ]
  },
  {
   "cell_type": "markdown",
   "id": "939ad845",
   "metadata": {},
   "source": [
    "### iv) ease of use"
   ]
  },
  {
   "cell_type": "code",
   "execution_count": 20,
   "id": "2b58974a",
   "metadata": {},
   "outputs": [
    {
     "name": "stdout",
     "output_type": "stream",
     "text": [
      "              precision    recall  f1-score   support\n",
      "\n",
      "         0.0       0.98      0.93      0.95       361\n",
      "         1.0       0.55      0.79      0.65        39\n",
      "\n",
      "    accuracy                           0.92       400\n",
      "   macro avg       0.77      0.86      0.80       400\n",
      "weighted avg       0.94      0.92      0.92       400\n",
      "\n"
     ]
    }
   ],
   "source": [
    "print(classification_report(df['ease of use'], df['ease of use_m']))"
   ]
  },
  {
   "cell_type": "code",
   "execution_count": 21,
   "id": "cbd498d1",
   "metadata": {},
   "outputs": [
    {
     "name": "stdout",
     "output_type": "stream",
     "text": [
      "ROC AUC : 0.8628\n"
     ]
    }
   ],
   "source": [
    "ROC_AUC = roc_auc_score(df['ease of use'], df['ease of use_m'])\n",
    "print('ROC AUC : {:.4f}'.format(ROC_AUC))"
   ]
  },
  {
   "cell_type": "markdown",
   "id": "69a9800b",
   "metadata": {},
   "source": [
    "## 3. Compare Zero-Shot against a Naive Classifier"
   ]
  },
  {
   "cell_type": "code",
   "execution_count": 22,
   "id": "315a9a5e",
   "metadata": {},
   "outputs": [],
   "source": [
    "def naive(list):\n",
    "    avg  = np.mean(list)\n",
    "\n",
    "    if avg >= 0.5:\n",
    "        i = 1\n",
    "    else:\n",
    "        i = 0\n",
    "\n",
    "    return([i] * len(list))"
   ]
  },
  {
   "cell_type": "code",
   "execution_count": 23,
   "id": "f5d71d08",
   "metadata": {},
   "outputs": [],
   "source": [
    "df['naive_cost'] = naive(df['cost'])\n",
    "df['naive_efficient'] = naive(df['efficient'])\n",
    "df['naive_effective'] = naive(df['effective'])\n",
    "df['naive_easeofuse'] = naive(df['ease of use'])"
   ]
  },
  {
   "cell_type": "code",
   "execution_count": 24,
   "id": "05f81839",
   "metadata": {},
   "outputs": [
    {
     "name": "stdout",
     "output_type": "stream",
     "text": [
      "              precision    recall  f1-score   support\n",
      "\n",
      "         0.0       0.98      1.00      0.99       394\n",
      "         1.0       0.00      0.00      0.00         6\n",
      "\n",
      "    accuracy                           0.98       400\n",
      "   macro avg       0.49      0.50      0.50       400\n",
      "weighted avg       0.97      0.98      0.98       400\n",
      "\n"
     ]
    }
   ],
   "source": [
    "# cost\n",
    "print(classification_report(df['cost'], df['naive_cost']))"
   ]
  },
  {
   "cell_type": "code",
   "execution_count": 25,
   "id": "92058561",
   "metadata": {},
   "outputs": [
    {
     "name": "stdout",
     "output_type": "stream",
     "text": [
      "              precision    recall  f1-score   support\n",
      "\n",
      "         0.0       0.90      1.00      0.95       359\n",
      "         1.0       0.00      0.00      0.00        41\n",
      "\n",
      "    accuracy                           0.90       400\n",
      "   macro avg       0.45      0.50      0.47       400\n",
      "weighted avg       0.81      0.90      0.85       400\n",
      "\n"
     ]
    }
   ],
   "source": [
    "# efficient\n",
    "print(classification_report(df['efficient'], df['naive_efficient']))"
   ]
  },
  {
   "cell_type": "code",
   "execution_count": 26,
   "id": "1de33cad",
   "metadata": {},
   "outputs": [
    {
     "name": "stdout",
     "output_type": "stream",
     "text": [
      "              precision    recall  f1-score   support\n",
      "\n",
      "         0.0       0.77      1.00      0.87       309\n",
      "         1.0       0.00      0.00      0.00        91\n",
      "\n",
      "    accuracy                           0.77       400\n",
      "   macro avg       0.39      0.50      0.44       400\n",
      "weighted avg       0.60      0.77      0.67       400\n",
      "\n"
     ]
    }
   ],
   "source": [
    "# effective\n",
    "print(classification_report(df['effective'], df['naive_effective']))"
   ]
  },
  {
   "cell_type": "code",
   "execution_count": 27,
   "id": "3b0e43e5",
   "metadata": {},
   "outputs": [
    {
     "name": "stdout",
     "output_type": "stream",
     "text": [
      "              precision    recall  f1-score   support\n",
      "\n",
      "         0.0       0.90      1.00      0.95       361\n",
      "         1.0       0.00      0.00      0.00        39\n",
      "\n",
      "    accuracy                           0.90       400\n",
      "   macro avg       0.45      0.50      0.47       400\n",
      "weighted avg       0.81      0.90      0.86       400\n",
      "\n"
     ]
    }
   ],
   "source": [
    "# ease of use\n",
    "print(classification_report(df['ease of use'], df['naive_easeofuse']))"
   ]
  },
  {
   "cell_type": "code",
   "execution_count": 28,
   "id": "d78c56bd",
   "metadata": {},
   "outputs": [],
   "source": [
    "df.to_csv('ImageforWeeds_evaluation.csv')"
   ]
  }
 ],
 "metadata": {
  "kernelspec": {
   "display_name": "Python 3 (ipykernel)",
   "language": "python",
   "name": "python3"
  },
  "language_info": {
   "codemirror_mode": {
    "name": "ipython",
    "version": 3
   },
   "file_extension": ".py",
   "mimetype": "text/x-python",
   "name": "python",
   "nbconvert_exporter": "python",
   "pygments_lexer": "ipython3",
   "version": "3.9.13"
  }
 },
 "nbformat": 4,
 "nbformat_minor": 5
}
