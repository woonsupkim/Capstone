{
 "cells": [
  {
   "cell_type": "code",
   "execution_count": 1,
   "metadata": {},
   "outputs": [
    {
     "name": "stderr",
     "output_type": "stream",
     "text": [
      "The cache for model files in Transformers v4.22.0 has been updated. Migrating your old cache. This is a one-time only operation. You can interrupt this and resume the migration later on by calling `transformers.utils.move_cache()`.\n"
     ]
    },
    {
     "name": "stdout",
     "output_type": "stream",
     "text": [
      "Moving 0 files to the new cache system\n"
     ]
    },
    {
     "data": {
      "application/vnd.jupyter.widget-view+json": {
       "model_id": "82b37353e6e54703af7db21269387075",
       "version_major": 2,
       "version_minor": 0
      },
      "text/plain": [
       "0it [00:00, ?it/s]"
      ]
     },
     "metadata": {},
     "output_type": "display_data"
    }
   ],
   "source": [
    "import pandas as pd\n",
    "import numpy as np\n",
    "import seaborn as sns\n",
    "import matplotlib.pyplot as plt\n",
    "\n",
    "from transformers import pipeline\n",
    "\n",
    "import warnings\n",
    "warnings.filterwarnings(\"ignore\")\n",
    "\n",
    "from IPython.core.interactiveshell import InteractiveShell\n",
    "InteractiveShell.ast_node_interactivity = 'all'\n",
    "\n",
    "pd.set_option('display.max_columns', None) "
   ]
  },
  {
   "cell_type": "code",
   "execution_count": 5,
   "metadata": {},
   "outputs": [],
   "source": [
    "df = pd.read_csv('HandLabel_fixed.csv', index_col = [0])"
   ]
  },
  {
   "cell_type": "code",
   "execution_count": 7,
   "metadata": {},
   "outputs": [
    {
     "data": {
      "text/html": [
       "<div>\n",
       "<style scoped>\n",
       "    .dataframe tbody tr th:only-of-type {\n",
       "        vertical-align: middle;\n",
       "    }\n",
       "\n",
       "    .dataframe tbody tr th {\n",
       "        vertical-align: top;\n",
       "    }\n",
       "\n",
       "    .dataframe thead th {\n",
       "        text-align: right;\n",
       "    }\n",
       "</style>\n",
       "<table border=\"1\" class=\"dataframe\">\n",
       "  <thead>\n",
       "    <tr style=\"text-align: right;\">\n",
       "      <th></th>\n",
       "      <th>segment</th>\n",
       "      <th>review_id</th>\n",
       "      <th>product_name</th>\n",
       "      <th>producturl</th>\n",
       "      <th>retailer</th>\n",
       "      <th>brand</th>\n",
       "      <th>retailer_product_id</th>\n",
       "      <th>base_id</th>\n",
       "      <th>variants_flag</th>\n",
       "      <th>review_creation_date</th>\n",
       "      <th>year</th>\n",
       "      <th>month</th>\n",
       "      <th>week</th>\n",
       "      <th>review_title</th>\n",
       "      <th>review_text</th>\n",
       "      <th>review_type</th>\n",
       "      <th>price</th>\n",
       "      <th>rating</th>\n",
       "      <th>images</th>\n",
       "      <th>videos</th>\n",
       "      <th>helpful_votes</th>\n",
       "      <th>promotion_flag</th>\n",
       "      <th>review_lower</th>\n",
       "      <th>date</th>\n",
       "      <th>word_count</th>\n",
       "      <th>sentiment</th>\n",
       "      <th>cost</th>\n",
       "      <th>ease of use</th>\n",
       "      <th>effectiveness</th>\n",
       "      <th>efficiency</th>\n",
       "      <th>Unnamed: 31</th>\n",
       "    </tr>\n",
       "  </thead>\n",
       "  <tbody>\n",
       "    <tr>\n",
       "      <th>0</th>\n",
       "      <td>Garden</td>\n",
       "      <td>52479</td>\n",
       "      <td>AMDRO Fire Ant Bait 1lb</td>\n",
       "      <td>https://www.lowes.com/pd/AMDRO-1-lb-Fire-Ant-B...</td>\n",
       "      <td>Lowes</td>\n",
       "      <td>Amdro</td>\n",
       "      <td>4573846</td>\n",
       "      <td>3006355</td>\n",
       "      <td>Yes</td>\n",
       "      <td>2021-08-31T00:00:00</td>\n",
       "      <td>2021</td>\n",
       "      <td>8</td>\n",
       "      <td>35</td>\n",
       "      <td>Try a little before you use the entire thing</td>\n",
       "      <td>It didnt work. The ants didnt even bother eati...</td>\n",
       "      <td>organic reviews</td>\n",
       "      <td>10.07</td>\n",
       "      <td>1</td>\n",
       "      <td>0</td>\n",
       "      <td>0</td>\n",
       "      <td>0</td>\n",
       "      <td>No</td>\n",
       "      <td>it didnt work. the ants didnt even bother eati...</td>\n",
       "      <td>2021-08-31</td>\n",
       "      <td>10</td>\n",
       "      <td>NaN</td>\n",
       "      <td>0.0</td>\n",
       "      <td>0.0</td>\n",
       "      <td>NaN</td>\n",
       "      <td>NaN</td>\n",
       "      <td>NaN</td>\n",
       "    </tr>\n",
       "    <tr>\n",
       "      <th>1</th>\n",
       "      <td>Garden</td>\n",
       "      <td>24208</td>\n",
       "      <td>AMDRO Mouse Trap</td>\n",
       "      <td>https://www.homedepot.com/p/AMDRO-Mouse-Trap-1...</td>\n",
       "      <td>Homedepot</td>\n",
       "      <td>Amdro</td>\n",
       "      <td>306335043</td>\n",
       "      <td>306335043</td>\n",
       "      <td>No</td>\n",
       "      <td>2021-09-08T00:00:00</td>\n",
       "      <td>2021</td>\n",
       "      <td>9</td>\n",
       "      <td>36</td>\n",
       "      <td>Only one reason for not giving five stars</td>\n",
       "      <td>This mouse trap works phenomenally! I had trie...</td>\n",
       "      <td>syndicated reviews</td>\n",
       "      <td>6.98</td>\n",
       "      <td>4</td>\n",
       "      <td>0</td>\n",
       "      <td>0</td>\n",
       "      <td>0</td>\n",
       "      <td>No</td>\n",
       "      <td>this mouse trap works phenomenally! i had trie...</td>\n",
       "      <td>2021-09-08</td>\n",
       "      <td>92</td>\n",
       "      <td>positive</td>\n",
       "      <td>0.0</td>\n",
       "      <td>0.0</td>\n",
       "      <td>1.0</td>\n",
       "      <td>1.0</td>\n",
       "      <td>NaN</td>\n",
       "    </tr>\n",
       "    <tr>\n",
       "      <th>2</th>\n",
       "      <td>Garden</td>\n",
       "      <td>141806</td>\n",
       "      <td>AMDRO Quick Kill Carpenter Bee, Ant &amp; Termite ...</td>\n",
       "      <td>http://www.homedepot.com/p/305448729</td>\n",
       "      <td>Homedepot</td>\n",
       "      <td>Amdro</td>\n",
       "      <td>305448910</td>\n",
       "      <td>305448729</td>\n",
       "      <td>Yes</td>\n",
       "      <td>2022-06-10T00:00:00</td>\n",
       "      <td>2022</td>\n",
       "      <td>6</td>\n",
       "      <td>23</td>\n",
       "      <td>Excellent product! I normally have to battle k...</td>\n",
       "      <td>Excellent product! I normally have to battle k...</td>\n",
       "      <td>organic reviews</td>\n",
       "      <td>10.46</td>\n",
       "      <td>5</td>\n",
       "      <td>0</td>\n",
       "      <td>0</td>\n",
       "      <td>0</td>\n",
       "      <td>No</td>\n",
       "      <td>excellent product! i normally have to battle k...</td>\n",
       "      <td>2022-06-10</td>\n",
       "      <td>62</td>\n",
       "      <td>positive</td>\n",
       "      <td>0.0</td>\n",
       "      <td>0.0</td>\n",
       "      <td>1.0</td>\n",
       "      <td>NaN</td>\n",
       "      <td>NaN</td>\n",
       "    </tr>\n",
       "    <tr>\n",
       "      <th>3</th>\n",
       "      <td>Garden</td>\n",
       "      <td>130119</td>\n",
       "      <td>AMDRO Quick Kill Mosquito Bombs</td>\n",
       "      <td>https://www.amazon.com/dp/B07G1YXZ9Y</td>\n",
       "      <td>Amazon</td>\n",
       "      <td>Amdro</td>\n",
       "      <td>B07G1YXZ9Y</td>\n",
       "      <td>B07G1YXZ9Y</td>\n",
       "      <td>No</td>\n",
       "      <td>2022-05-27T00:00:00</td>\n",
       "      <td>2022</td>\n",
       "      <td>5</td>\n",
       "      <td>21</td>\n",
       "      <td>Not killing larvae</td>\n",
       "      <td>Ive purchased these before and they have worke...</td>\n",
       "      <td>organic reviews</td>\n",
       "      <td>9.93</td>\n",
       "      <td>1</td>\n",
       "      <td>0</td>\n",
       "      <td>0</td>\n",
       "      <td>0</td>\n",
       "      <td>No</td>\n",
       "      <td>ive purchased these before and they have worke...</td>\n",
       "      <td>2022-05-27</td>\n",
       "      <td>16</td>\n",
       "      <td>negative</td>\n",
       "      <td>0.0</td>\n",
       "      <td>0.0</td>\n",
       "      <td>1.0</td>\n",
       "      <td>NaN</td>\n",
       "      <td>NaN</td>\n",
       "    </tr>\n",
       "    <tr>\n",
       "      <th>4</th>\n",
       "      <td>Garden</td>\n",
       "      <td>68528</td>\n",
       "      <td>AMDRO Ant Block Home Perimeter Ant Bait</td>\n",
       "      <td>https://www.homedepot.com/p/AMDRO-12-oz-Ant-Bl...</td>\n",
       "      <td>Homedepot</td>\n",
       "      <td>Amdro</td>\n",
       "      <td>305448482</td>\n",
       "      <td>100598633</td>\n",
       "      <td>Yes</td>\n",
       "      <td>2021-07-09T00:00:00</td>\n",
       "      <td>2021</td>\n",
       "      <td>7</td>\n",
       "      <td>27</td>\n",
       "      <td>Works great on all kinds of ants. Even takes o...</td>\n",
       "      <td>Works great on all kinds of ants. Even takes o...</td>\n",
       "      <td>organic reviews</td>\n",
       "      <td>8.62</td>\n",
       "      <td>5</td>\n",
       "      <td>0</td>\n",
       "      <td>0</td>\n",
       "      <td>1</td>\n",
       "      <td>No</td>\n",
       "      <td>works great on all kinds of ants. even takes o...</td>\n",
       "      <td>2021-07-09</td>\n",
       "      <td>12</td>\n",
       "      <td>positive</td>\n",
       "      <td>0.0</td>\n",
       "      <td>0.0</td>\n",
       "      <td>1.0</td>\n",
       "      <td>NaN</td>\n",
       "      <td>NaN</td>\n",
       "    </tr>\n",
       "  </tbody>\n",
       "</table>\n",
       "</div>"
      ],
      "text/plain": [
       "  segment  review_id                                       product_name  \\\n",
       "0  Garden      52479                            AMDRO Fire Ant Bait 1lb   \n",
       "1  Garden      24208                                  AMDRO Mouse Trap    \n",
       "2  Garden     141806  AMDRO Quick Kill Carpenter Bee, Ant & Termite ...   \n",
       "3  Garden     130119                    AMDRO Quick Kill Mosquito Bombs   \n",
       "4  Garden      68528            AMDRO Ant Block Home Perimeter Ant Bait   \n",
       "\n",
       "                                          producturl   retailer  brand  \\\n",
       "0  https://www.lowes.com/pd/AMDRO-1-lb-Fire-Ant-B...      Lowes  Amdro   \n",
       "1  https://www.homedepot.com/p/AMDRO-Mouse-Trap-1...  Homedepot  Amdro   \n",
       "2               http://www.homedepot.com/p/305448729  Homedepot  Amdro   \n",
       "3               https://www.amazon.com/dp/B07G1YXZ9Y     Amazon  Amdro   \n",
       "4  https://www.homedepot.com/p/AMDRO-12-oz-Ant-Bl...  Homedepot  Amdro   \n",
       "\n",
       "  retailer_product_id     base_id variants_flag review_creation_date  year  \\\n",
       "0             4573846     3006355           Yes  2021-08-31T00:00:00  2021   \n",
       "1           306335043   306335043            No  2021-09-08T00:00:00  2021   \n",
       "2           305448910   305448729           Yes  2022-06-10T00:00:00  2022   \n",
       "3          B07G1YXZ9Y  B07G1YXZ9Y            No  2022-05-27T00:00:00  2022   \n",
       "4           305448482   100598633           Yes  2021-07-09T00:00:00  2021   \n",
       "\n",
       "   month  week                                       review_title  \\\n",
       "0      8    35       Try a little before you use the entire thing   \n",
       "1      9    36          Only one reason for not giving five stars   \n",
       "2      6    23  Excellent product! I normally have to battle k...   \n",
       "3      5    21                                 Not killing larvae   \n",
       "4      7    27  Works great on all kinds of ants. Even takes o...   \n",
       "\n",
       "                                         review_text         review_type  \\\n",
       "0  It didnt work. The ants didnt even bother eati...     organic reviews   \n",
       "1  This mouse trap works phenomenally! I had trie...  syndicated reviews   \n",
       "2  Excellent product! I normally have to battle k...     organic reviews   \n",
       "3  Ive purchased these before and they have worke...     organic reviews   \n",
       "4  Works great on all kinds of ants. Even takes o...     organic reviews   \n",
       "\n",
       "   price  rating  images  videos  helpful_votes promotion_flag  \\\n",
       "0  10.07       1       0       0              0             No   \n",
       "1   6.98       4       0       0              0             No   \n",
       "2  10.46       5       0       0              0             No   \n",
       "3   9.93       1       0       0              0             No   \n",
       "4   8.62       5       0       0              1             No   \n",
       "\n",
       "                                        review_lower        date  word_count  \\\n",
       "0  it didnt work. the ants didnt even bother eati...  2021-08-31          10   \n",
       "1  this mouse trap works phenomenally! i had trie...  2021-09-08          92   \n",
       "2  excellent product! i normally have to battle k...  2022-06-10          62   \n",
       "3  ive purchased these before and they have worke...  2022-05-27          16   \n",
       "4  works great on all kinds of ants. even takes o...  2021-07-09          12   \n",
       "\n",
       "  sentiment  cost  ease of use  effectiveness  efficiency  Unnamed: 31  \n",
       "0       NaN   0.0          0.0            NaN         NaN          NaN  \n",
       "1  positive   0.0          0.0            1.0         1.0          NaN  \n",
       "2  positive   0.0          0.0            1.0         NaN          NaN  \n",
       "3  negative   0.0          0.0            1.0         NaN          NaN  \n",
       "4  positive   0.0          0.0            1.0         NaN          NaN  "
      ]
     },
     "execution_count": 7,
     "metadata": {},
     "output_type": "execute_result"
    }
   ],
   "source": [
    "df.head()"
   ]
  },
  {
   "cell_type": "code",
   "execution_count": 8,
   "metadata": {},
   "outputs": [],
   "source": [
    "#replace NaN in label columns with 0\n",
    "columns = ['cost','ease of use', 'effectiveness', 'efficiency']\n",
    "\n",
    "for column in columns:\n",
    "    df[column] = df[column].replace(np.nan, int(0))"
   ]
  },
  {
   "cell_type": "code",
   "execution_count": 9,
   "metadata": {},
   "outputs": [
    {
     "ename": "ValueError",
     "evalue": "Could not load model facebook/bart-large-mnli with any of the following classes: (<class 'transformers.models.auto.modeling_tf_auto.TFAutoModelForSequenceClassification'>,).",
     "output_type": "error",
     "traceback": [
      "\u001b[0;31m---------------------------------------------------------------------------\u001b[0m",
      "\u001b[0;31mValueError\u001b[0m                                Traceback (most recent call last)",
      "\u001b[0;32m/var/folders/r7/ypx43dkj7m52fqtd1v_0m6j00000gn/T/ipykernel_38114/1503777327.py\u001b[0m in \u001b[0;36m<module>\u001b[0;34m\u001b[0m\n\u001b[0;32m----> 1\u001b[0;31m \u001b[0mclassifier\u001b[0m  \u001b[0;34m=\u001b[0m \u001b[0mpipeline\u001b[0m\u001b[0;34m(\u001b[0m\u001b[0;34m\"zero-shot-classification\"\u001b[0m\u001b[0;34m,\u001b[0m  \u001b[0mmodel\u001b[0m \u001b[0;34m=\u001b[0m \u001b[0;34m\"facebook/bart-large-mnli\"\u001b[0m\u001b[0;34m)\u001b[0m\u001b[0;34m\u001b[0m\u001b[0;34m\u001b[0m\u001b[0m\n\u001b[0m",
      "\u001b[0;32m~/opt/anaconda3/lib/python3.9/site-packages/transformers/pipelines/__init__.py\u001b[0m in \u001b[0;36mpipeline\u001b[0;34m(task, model, config, tokenizer, feature_extractor, framework, revision, use_fast, use_auth_token, device, device_map, torch_dtype, trust_remote_code, model_kwargs, pipeline_class, **kwargs)\u001b[0m\n\u001b[1;32m    709\u001b[0m     \u001b[0;31m# Will load the correct model if possible\u001b[0m\u001b[0;34m\u001b[0m\u001b[0;34m\u001b[0m\u001b[0m\n\u001b[1;32m    710\u001b[0m     \u001b[0mmodel_classes\u001b[0m \u001b[0;34m=\u001b[0m \u001b[0;34m{\u001b[0m\u001b[0;34m\"tf\"\u001b[0m\u001b[0;34m:\u001b[0m \u001b[0mtargeted_task\u001b[0m\u001b[0;34m[\u001b[0m\u001b[0;34m\"tf\"\u001b[0m\u001b[0;34m]\u001b[0m\u001b[0;34m,\u001b[0m \u001b[0;34m\"pt\"\u001b[0m\u001b[0;34m:\u001b[0m \u001b[0mtargeted_task\u001b[0m\u001b[0;34m[\u001b[0m\u001b[0;34m\"pt\"\u001b[0m\u001b[0;34m]\u001b[0m\u001b[0;34m}\u001b[0m\u001b[0;34m\u001b[0m\u001b[0;34m\u001b[0m\u001b[0m\n\u001b[0;32m--> 711\u001b[0;31m     framework, model = infer_framework_load_model(\n\u001b[0m\u001b[1;32m    712\u001b[0m         \u001b[0mmodel\u001b[0m\u001b[0;34m,\u001b[0m\u001b[0;34m\u001b[0m\u001b[0;34m\u001b[0m\u001b[0m\n\u001b[1;32m    713\u001b[0m         \u001b[0mmodel_classes\u001b[0m\u001b[0;34m=\u001b[0m\u001b[0mmodel_classes\u001b[0m\u001b[0;34m,\u001b[0m\u001b[0;34m\u001b[0m\u001b[0;34m\u001b[0m\u001b[0m\n",
      "\u001b[0;32m~/opt/anaconda3/lib/python3.9/site-packages/transformers/pipelines/base.py\u001b[0m in \u001b[0;36minfer_framework_load_model\u001b[0;34m(model, config, model_classes, task, framework, **model_kwargs)\u001b[0m\n\u001b[1;32m    264\u001b[0m \u001b[0;34m\u001b[0m\u001b[0m\n\u001b[1;32m    265\u001b[0m         \u001b[0;32mif\u001b[0m \u001b[0misinstance\u001b[0m\u001b[0;34m(\u001b[0m\u001b[0mmodel\u001b[0m\u001b[0;34m,\u001b[0m \u001b[0mstr\u001b[0m\u001b[0;34m)\u001b[0m\u001b[0;34m:\u001b[0m\u001b[0;34m\u001b[0m\u001b[0;34m\u001b[0m\u001b[0m\n\u001b[0;32m--> 266\u001b[0;31m             \u001b[0;32mraise\u001b[0m \u001b[0mValueError\u001b[0m\u001b[0;34m(\u001b[0m\u001b[0;34mf\"Could not load model {model} with any of the following classes: {class_tuple}.\"\u001b[0m\u001b[0;34m)\u001b[0m\u001b[0;34m\u001b[0m\u001b[0;34m\u001b[0m\u001b[0m\n\u001b[0m\u001b[1;32m    267\u001b[0m \u001b[0;34m\u001b[0m\u001b[0m\n\u001b[1;32m    268\u001b[0m     \u001b[0mframework\u001b[0m \u001b[0;34m=\u001b[0m \u001b[0;34m\"tf\"\u001b[0m \u001b[0;32mif\u001b[0m \u001b[0mmodel\u001b[0m\u001b[0;34m.\u001b[0m\u001b[0m__class__\u001b[0m\u001b[0;34m.\u001b[0m\u001b[0m__name__\u001b[0m\u001b[0;34m.\u001b[0m\u001b[0mstartswith\u001b[0m\u001b[0;34m(\u001b[0m\u001b[0;34m\"TF\"\u001b[0m\u001b[0;34m)\u001b[0m \u001b[0;32melse\u001b[0m \u001b[0;34m\"pt\"\u001b[0m\u001b[0;34m\u001b[0m\u001b[0;34m\u001b[0m\u001b[0m\n",
      "\u001b[0;31mValueError\u001b[0m: Could not load model facebook/bart-large-mnli with any of the following classes: (<class 'transformers.models.auto.modeling_tf_auto.TFAutoModelForSequenceClassification'>,)."
     ]
    }
   ],
   "source": [
    "classifier  = pipeline(\"zero-shot-classification\",  model = \"facebook/bart-large-mnli\")"
   ]
  },
  {
   "cell_type": "code",
   "execution_count": 13,
   "metadata": {},
   "outputs": [],
   "source": [
    "# insert the labels you identified from above section\n",
    "type = ['cost', 'efficient', 'effective', 'ease of use']"
   ]
  },
  {
   "cell_type": "code",
   "execution_count": 14,
   "metadata": {},
   "outputs": [
    {
     "name": "stdout",
     "output_type": "stream",
     "text": [
      "0\n",
      "20\n",
      "40\n",
      "60\n",
      "80\n"
     ]
    }
   ],
   "source": [
    "#setting empty values for the columns\n",
    "index = -1\n",
    "for label in type:\n",
    "    df[label + '_m'] = -1\n",
    "\n",
    "for j in range(99):\n",
    "    #counter for progress/debugging\n",
    "    index+=1\n",
    "    if(index%20 == 0): \n",
    "        print(index)\n",
    "        \n",
    "    #running the classifier on the column    \n",
    "    res = classifier(\n",
    "        df.iloc[j]['review_lower'],\n",
    "        candidate_labels = type,\n",
    "        multi_label = True\n",
    "    )\n",
    "    #setting the column values according to the output from the classifier (\"_m\" = multiclass)\n",
    "    for i in range(len(res['labels'])):\n",
    "        df[res['labels'][i]+ '_m'].iloc[j] = res['scores'][i]"
   ]
  },
  {
   "cell_type": "code",
   "execution_count": 15,
   "metadata": {},
   "outputs": [],
   "source": [
    "from sklearn.metrics import classification_report"
   ]
  },
  {
   "cell_type": "code",
   "execution_count": 30,
   "metadata": {},
   "outputs": [],
   "source": [
    "def imputation(list):\n",
    "    i = []\n",
    "    for prediction in list:\n",
    "        if prediction < 0.7:\n",
    "            i.append(0)\n",
    "        else:\n",
    "            i.append(1)\n",
    "    \n",
    "    return(i)"
   ]
  },
  {
   "cell_type": "code",
   "execution_count": 32,
   "metadata": {},
   "outputs": [],
   "source": [
    "df['cost_m'] = imputation(df['cost_m'])\n",
    "df['efficient_m'] = imputation(df['efficient_m'])\n",
    "df['effective_m'] = imputation(df['effective_m'])\n",
    "df['ease of use_m'] = imputation(df['ease of use_m'])"
   ]
  },
  {
   "cell_type": "code",
   "execution_count": 70,
   "metadata": {},
   "outputs": [
    {
     "name": "stdout",
     "output_type": "stream",
     "text": [
      "              precision    recall  f1-score   support\n",
      "\n",
      "         0.0       1.00      0.97      0.99       395\n",
      "         1.0       0.31      1.00      0.48         5\n",
      "\n",
      "    accuracy                           0.97       400\n",
      "   macro avg       0.66      0.99      0.73       400\n",
      "weighted avg       0.99      0.97      0.98       400\n",
      "\n"
     ]
    }
   ],
   "source": [
    "print(classification_report(df['cost'], df['cost_m']))"
   ]
  },
  {
   "cell_type": "code",
   "execution_count": 53,
   "metadata": {},
   "outputs": [
    {
     "name": "stdout",
     "output_type": "stream",
     "text": [
      "ROC AUC : 0.9861\n"
     ]
    }
   ],
   "source": [
    "from sklearn.metrics import roc_auc_score\n",
    "ROC_AUC = roc_auc_score(df['cost'], df['cost_m'])\n",
    "print('ROC AUC : {:.4f}'.format(ROC_AUC))"
   ]
  },
  {
   "cell_type": "code",
   "execution_count": 71,
   "metadata": {},
   "outputs": [
    {
     "name": "stdout",
     "output_type": "stream",
     "text": [
      "              precision    recall  f1-score   support\n",
      "\n",
      "         0.0       0.98      0.86      0.92       375\n",
      "         1.0       0.28      0.80      0.41        25\n",
      "\n",
      "    accuracy                           0.86       400\n",
      "   macro avg       0.63      0.83      0.67       400\n",
      "weighted avg       0.94      0.86      0.89       400\n",
      "\n"
     ]
    }
   ],
   "source": [
    "print(classification_report(df['efficient'], df['efficient_m']))"
   ]
  },
  {
   "cell_type": "code",
   "execution_count": 54,
   "metadata": {},
   "outputs": [
    {
     "name": "stdout",
     "output_type": "stream",
     "text": [
      "ROC AUC : 0.8307\n"
     ]
    }
   ],
   "source": [
    "from sklearn.metrics import roc_auc_score\n",
    "ROC_AUC = roc_auc_score(df['efficient'], df['efficient_m'])\n",
    "print('ROC AUC : {:.4f}'.format(ROC_AUC))"
   ]
  },
  {
   "cell_type": "code",
   "execution_count": 72,
   "metadata": {},
   "outputs": [
    {
     "name": "stdout",
     "output_type": "stream",
     "text": [
      "              precision    recall  f1-score   support\n",
      "\n",
      "         0.0       0.96      0.96      0.96       316\n",
      "         1.0       0.85      0.83      0.84        84\n",
      "\n",
      "    accuracy                           0.94       400\n",
      "   macro avg       0.90      0.90      0.90       400\n",
      "weighted avg       0.93      0.94      0.93       400\n",
      "\n"
     ]
    }
   ],
   "source": [
    "print(classification_report(df['effective'], df['effective_m']))"
   ]
  },
  {
   "cell_type": "code",
   "execution_count": 55,
   "metadata": {},
   "outputs": [
    {
     "name": "stdout",
     "output_type": "stream",
     "text": [
      "ROC AUC : 0.8977\n"
     ]
    }
   ],
   "source": [
    "from sklearn.metrics import roc_auc_score\n",
    "ROC_AUC = roc_auc_score(df['effective'], df['effective_m'])\n",
    "print('ROC AUC : {:.4f}'.format(ROC_AUC))"
   ]
  },
  {
   "cell_type": "code",
   "execution_count": 73,
   "metadata": {},
   "outputs": [
    {
     "name": "stdout",
     "output_type": "stream",
     "text": [
      "              precision    recall  f1-score   support\n",
      "\n",
      "         0.0       0.97      0.95      0.96       376\n",
      "         1.0       0.41      0.58      0.48        24\n",
      "\n",
      "    accuracy                           0.93       400\n",
      "   macro avg       0.69      0.77      0.72       400\n",
      "weighted avg       0.94      0.93      0.93       400\n",
      "\n"
     ]
    }
   ],
   "source": [
    "print(classification_report(df['ease of use'], df['ease of use_m']))"
   ]
  },
  {
   "cell_type": "code",
   "execution_count": 56,
   "metadata": {},
   "outputs": [
    {
     "name": "stdout",
     "output_type": "stream",
     "text": [
      "ROC AUC : 0.7651\n"
     ]
    }
   ],
   "source": [
    "from sklearn.metrics import roc_auc_score\n",
    "ROC_AUC = roc_auc_score(df['ease of use'], df['ease of use_m'])\n",
    "print('ROC AUC : {:.4f}'.format(ROC_AUC))"
   ]
  },
  {
   "cell_type": "code",
   "execution_count": 68,
   "metadata": {},
   "outputs": [],
   "source": [
    "#df.to_csv('testing_evaluation.csv')"
   ]
  },
  {
   "cell_type": "code",
   "execution_count": 59,
   "metadata": {},
   "outputs": [],
   "source": [
    "#df2 = pd.read_csv('testing_evaluation.csv', index_col = [0])"
   ]
  },
  {
   "cell_type": "code",
   "execution_count": 60,
   "metadata": {},
   "outputs": [
    {
     "name": "stdout",
     "output_type": "stream",
     "text": [
      "              precision    recall  f1-score   support\n",
      "\n",
      "           0       0.99      1.00      0.99       395\n",
      "           1       0.00      0.00      0.00         5\n",
      "\n",
      "    accuracy                           0.99       400\n",
      "   macro avg       0.49      0.50      0.50       400\n",
      "weighted avg       0.98      0.99      0.98       400\n",
      "\n"
     ]
    }
   ],
   "source": [
    "#evaluation(df2['cost'], df2['naive_cost'])"
   ]
  },
  {
   "cell_type": "code",
   "execution_count": 61,
   "metadata": {},
   "outputs": [
    {
     "name": "stdout",
     "output_type": "stream",
     "text": [
      "ROC AUC : 0.5000\n"
     ]
    }
   ],
   "source": [
    "# from sklearn.metrics import roc_auc_score\n",
    "# ROC_AUC = roc_auc_score(df2['cost'], df2['naive_cost'])\n",
    "# print('ROC AUC : {:.4f}'.format(ROC_AUC))"
   ]
  },
  {
   "cell_type": "code",
   "execution_count": 62,
   "metadata": {},
   "outputs": [
    {
     "name": "stdout",
     "output_type": "stream",
     "text": [
      "              precision    recall  f1-score   support\n",
      "\n",
      "           0       0.94      1.00      0.97       375\n",
      "           1       0.00      0.00      0.00        25\n",
      "\n",
      "    accuracy                           0.94       400\n",
      "   macro avg       0.47      0.50      0.48       400\n",
      "weighted avg       0.88      0.94      0.91       400\n",
      "\n"
     ]
    }
   ],
   "source": [
    "#evaluation(df2['efficient'], df2['naive_efficient'])"
   ]
  },
  {
   "cell_type": "code",
   "execution_count": 63,
   "metadata": {},
   "outputs": [
    {
     "name": "stdout",
     "output_type": "stream",
     "text": [
      "ROC AUC : 0.5000\n"
     ]
    }
   ],
   "source": [
    "# from sklearn.metrics import roc_auc_score\n",
    "# ROC_AUC = roc_auc_score(df2['efficient'], df2['naive_efficient'])\n",
    "# print('ROC AUC : {:.4f}'.format(ROC_AUC))"
   ]
  },
  {
   "cell_type": "code",
   "execution_count": 64,
   "metadata": {},
   "outputs": [
    {
     "name": "stdout",
     "output_type": "stream",
     "text": [
      "              precision    recall  f1-score   support\n",
      "\n",
      "           0       0.00      0.00      0.00       316\n",
      "           1       0.21      1.00      0.35        84\n",
      "\n",
      "    accuracy                           0.21       400\n",
      "   macro avg       0.10      0.50      0.17       400\n",
      "weighted avg       0.04      0.21      0.07       400\n",
      "\n"
     ]
    }
   ],
   "source": [
    "#evaluation(df2['effective'], df2['naive_effective'])"
   ]
  },
  {
   "cell_type": "code",
   "execution_count": 65,
   "metadata": {},
   "outputs": [
    {
     "name": "stdout",
     "output_type": "stream",
     "text": [
      "ROC AUC : 0.5000\n"
     ]
    }
   ],
   "source": [
    "# from sklearn.metrics import roc_auc_score\n",
    "# ROC_AUC = roc_auc_score(df2['effective'], df2['naive_effective'])\n",
    "# print('ROC AUC : {:.4f}'.format(ROC_AUC))"
   ]
  },
  {
   "cell_type": "code",
   "execution_count": 66,
   "metadata": {},
   "outputs": [
    {
     "name": "stdout",
     "output_type": "stream",
     "text": [
      "              precision    recall  f1-score   support\n",
      "\n",
      "           0       0.94      1.00      0.97       376\n",
      "           1       0.00      0.00      0.00        24\n",
      "\n",
      "    accuracy                           0.94       400\n",
      "   macro avg       0.47      0.50      0.48       400\n",
      "weighted avg       0.88      0.94      0.91       400\n",
      "\n"
     ]
    }
   ],
   "source": [
    "#evaluation(df2['ease of use'], df2['naive_easeofuse'])"
   ]
  },
  {
   "cell_type": "code",
   "execution_count": 67,
   "metadata": {},
   "outputs": [
    {
     "name": "stdout",
     "output_type": "stream",
     "text": [
      "ROC AUC : 0.5000\n"
     ]
    }
   ],
   "source": [
    "# from sklearn.metrics import roc_auc_score\n",
    "# ROC_AUC = roc_auc_score(df2['ease of use'], df2['naive_easeofuse'])\n",
    "# print('ROC AUC : {:.4f}'.format(ROC_AUC))"
   ]
  }
 ],
 "metadata": {
  "kernelspec": {
   "display_name": "Python 3 (ipykernel)",
   "language": "python",
   "name": "python3"
  },
  "language_info": {
   "codemirror_mode": {
    "name": "ipython",
    "version": 3
   },
   "file_extension": ".py",
   "mimetype": "text/x-python",
   "name": "python",
   "nbconvert_exporter": "python",
   "pygments_lexer": "ipython3",
   "version": "3.9.7"
  },
  "vscode": {
   "interpreter": {
    "hash": "998c911629ba937bcf1bf80465453e12e8c5c2c818cb936f93ef7cf495a937a9"
   }
  }
 },
 "nbformat": 4,
 "nbformat_minor": 2
}
