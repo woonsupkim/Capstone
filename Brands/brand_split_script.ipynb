{
 "cells": [
  {
   "cell_type": "code",
   "execution_count": 7,
   "metadata": {},
   "outputs": [],
   "source": [
    "import sys\n",
    "sys.path.insert(1, 'C:/Users/Woon/Desktop/Columbia/Applied Analytics/Term3/Capstone/lib')\n",
    "\n",
    "import helper_functions\n",
    "\n",
    "import pandas as pd\n",
    "import numpy as np\n",
    "import seaborn as sns\n",
    "import matplotlib.pyplot as plt\n",
    "from helper_functions import *\n",
    "\n",
    "import warnings\n",
    "warnings.filterwarnings(\"ignore\")\n",
    "\n",
    "from IPython.core.interactiveshell import InteractiveShell\n",
    "InteractiveShell.ast_node_interactivity = 'all'\n",
    "\n",
    "pd.set_option('display.max_columns', None) "
   ]
  },
  {
   "cell_type": "code",
   "execution_count": 8,
   "metadata": {},
   "outputs": [],
   "source": [
    "df = pd.read_json('../data/gardenData.json')"
   ]
  },
  {
   "cell_type": "code",
   "execution_count": 9,
   "metadata": {},
   "outputs": [],
   "source": [
    "df['review_lower'] = df['review_text'].str.lower()\n",
    "df['review_type'] = df['review_type'].str.lower()"
   ]
  },
  {
   "cell_type": "code",
   "execution_count": 10,
   "metadata": {},
   "outputs": [],
   "source": [
    "date = []\n",
    "\n",
    "for i in range(len(df['review_creation_date'])):\n",
    "    date.append(df['review_creation_date'][i][0:10])\n",
    "\n",
    "df['date'] = date"
   ]
  },
  {
   "cell_type": "code",
   "execution_count": 11,
   "metadata": {},
   "outputs": [],
   "source": [
    "i = []\n",
    "\n",
    "for string in df['review_lower']:\n",
    "    i.append(count_words(string))\n",
    "\n",
    "df['word_count'] = i"
   ]
  },
  {
   "cell_type": "code",
   "execution_count": 12,
   "metadata": {},
   "outputs": [],
   "source": [
    "df_agg = df.sample(400)\n",
    "df_agg.to_csv('aggregated.csv')\n"
   ]
  },
  {
   "cell_type": "markdown",
   "metadata": {},
   "source": [
    "Pennington Grass         9769   370\n",
    "Pennington Bird          6439   363\n",
    "GardenTech               4912   357\n",
    "Amdro                    2091   325\n",
    "Pennington Fertilizer    1941   321\n",
    "Image for Weeds          1183   291\n",
    "Moss Out                  881\n",
    "Expert Gardener           736\n",
    "Corry's                   478\n",
    "Eliminator                279\n",
    "Earth Juice                77"
   ]
  },
  {
   "cell_type": "code",
   "execution_count": 16,
   "metadata": {},
   "outputs": [],
   "source": [
    "df['brand'] = df['brand'].str.replace(' ', '')\n",
    "df['brand'] = df['brand'].str.replace('[^\\w\\s]','')"
   ]
  },
  {
   "cell_type": "code",
   "execution_count": 17,
   "metadata": {},
   "outputs": [
    {
     "data": {
      "text/plain": [
       "array(['PenningtonFertilizer', 'Amdro', 'MossOut', 'ImageforWeeds',\n",
       "       'PenningtonBird', 'Corrys', 'GardenTech', 'PenningtonGrass',\n",
       "       'ExpertGardener'], dtype=object)"
      ]
     },
     "execution_count": 17,
     "metadata": {},
     "output_type": "execute_result"
    }
   ],
   "source": [
    "lst = df['brand'].unique()\n",
    "lst = np.delete(lst, [4,10])\n",
    "#lst.remove('Eliminator')\n",
    "lst"
   ]
  },
  {
   "cell_type": "markdown",
   "metadata": {},
   "source": [
    "# Sample 400 from each brand (Except Eliminator and Earth Juice)"
   ]
  },
  {
   "cell_type": "code",
   "execution_count": 10,
   "metadata": {},
   "outputs": [],
   "source": [
    "df_PenningtonFertilizer = df[df['brand'] == 'PenningtonFertilizer']\n",
    "df_PenningtonFertilizer = df_PenningtonFertilizer.sample(400)\n",
    "df_PenningtonFertilizer.to_csv('PenningtonFertilizer.csv')\n",
    "\n",
    "df_Amdro = df[df['brand'] == 'Amdro']\n",
    "df_Amdro = df_Amdro.sample(400)\n",
    "df_Amdro.to_csv('Amdro.csv')\n",
    "\n",
    "df_MossOut = df[df['brand'] == 'MossOut']\n",
    "df_MossOut = df_MossOut.sample(400)\n",
    "df_MossOut.to_csv('MossOut.csv')\n",
    "\n",
    "df_ImageforWeeds = df[df['brand'] == 'ImageforWeeds']\n",
    "df_ImageforWeeds = df_ImageforWeeds.sample(400)\n",
    "df_ImageforWeeds.to_csv('ImageforWeeds.csv')\n",
    "\n",
    "df_PenningtonBird = df[df['brand'] == 'PenningtonBird']\n",
    "df_PenningtonBird = df_PenningtonBird.sample(400)\n",
    "df_PenningtonBird.to_csv('PenningtonBird.csv')\n",
    "\n",
    "df_Corrys = df[df['brand'] == 'Corrys']\n",
    "df_Corrys = df_Corrys.sample(400)\n",
    "df_Corrys.to_csv('Corrys.csv')\n",
    "\n",
    "df_GardenTech = df[df['brand'] == 'GardenTech']\n",
    "df_GardenTech = df_GardenTech.sample(400)\n",
    "df_GardenTech.to_csv('GardenTech.csv')\n",
    "\n",
    "df_PenningtonGrass = df[df['brand'] == 'PenningtonGrass']\n",
    "df_PenningtonGrass = df_PenningtonGrass.sample(400)\n",
    "df_PenningtonGrass.to_csv('PenningtonGrass.csv')\n",
    "\n",
    "df_ExpertGardener = df[df['brand'] == 'ExpertGardener']\n",
    "df_ExpertGardener = df_ExpertGardener.sample(400)\n",
    "df_ExpertGardener.to_csv('ExpertGardener.csv')\n",
    "\n",
    "df_Eliminator = df[df['brand'] == 'Eliminator']\n",
    "df_Eliminator.to_csv('Eliminator.csv')\n",
    "\n",
    "df_EarthJuice = df[df['brand'] == 'EarthJuice']\n",
    "df_EarthJuice.to_csv('EarthJuice.csv')"
   ]
  },
  {
   "cell_type": "code",
   "execution_count": 9,
   "metadata": {},
   "outputs": [],
   "source": [
    "# for brand, df in df.groupby('brand'):\n",
    "#    globals()['df_' + brand] = df\n",
    "#    globals()['df_' + brand] = globals()['df_' + brand].sample(400)\n",
    "#    globals()['df_' + brand].to_csv('{}.csv'.format(brand))"
   ]
  },
  {
   "cell_type": "code",
   "execution_count": 18,
   "metadata": {},
   "outputs": [],
   "source": [
    "df_EarthJuice = df[df['brand'] == 'EarthJuice']\n",
    "df_EarthJuice.to_csv('EarthJuice.csv')"
   ]
  }
 ],
 "metadata": {
  "kernelspec": {
   "display_name": "Python 3.10.1 64-bit",
   "language": "python",
   "name": "python3"
  },
  "language_info": {
   "codemirror_mode": {
    "name": "ipython",
    "version": 3
   },
   "file_extension": ".py",
   "mimetype": "text/x-python",
   "name": "python",
   "nbconvert_exporter": "python",
   "pygments_lexer": "ipython3",
   "version": "3.10.1"
  },
  "orig_nbformat": 4,
  "vscode": {
   "interpreter": {
    "hash": "998c911629ba937bcf1bf80465453e12e8c5c2c818cb936f93ef7cf495a937a9"
   }
  }
 },
 "nbformat": 4,
 "nbformat_minor": 2
}
